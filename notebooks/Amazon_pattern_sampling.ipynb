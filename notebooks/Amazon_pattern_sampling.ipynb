{
  "cells": [
    {
      "cell_type": "markdown",
      "metadata": {
        "id": "F488eXJ1X10G"
      },
      "source": [
        "# Pattern sampling on Amazon reviews"
      ]
    },
    {
      "cell_type": "code",
      "execution_count": null,
      "metadata": {
        "id": "6IUpkQWa8y1K"
      },
      "outputs": [],
      "source": [
        "import numpy as np\n",
        "import pandas as pd\n",
        "import random\n",
        "from tqdm import tqdm\n",
        "import matplotlib.pyplot as plt\n",
        "import json\n",
        "from decimal import Decimal"
      ]
    },
    {
      "cell_type": "code",
      "execution_count": null,
      "metadata": {
        "colab": {
          "base_uri": "https://localhost:8080/"
        },
        "id": "7EpvbYX4HnPX",
        "outputId": "39980b60-8732-4466-e283-2216a9f53628"
      },
      "outputs": [
        {
          "output_type": "stream",
          "name": "stdout",
          "text": [
            "Drive already mounted at /content/drive; to attempt to forcibly remount, call drive.mount(\"/content/drive\", force_remount=True).\n"
          ]
        }
      ],
      "source": [
        "from google.colab import drive\n",
        "drive.mount('/content/drive')"
      ]
    },
    {
      "cell_type": "markdown",
      "metadata": {
        "id": "_7DF4O-S8yk1"
      },
      "source": [
        "We only load data that have been pre-treated. To find the pre-treatment we used, read the report and go to our github page: [Amazaon EDA](https://github.com/ElouanV/amazon_eda)"
      ]
    },
    {
      "cell_type": "markdown",
      "metadata": {
        "id": "wRYenrUaavzg"
      },
      "source": [
        "To manipulate very large numbers, we will use the Decimal object when we are dealing with weigth."
      ]
    },
    {
      "cell_type": "code",
      "execution_count": null,
      "metadata": {
        "colab": {
          "base_uri": "https://localhost:8080/",
          "height": 424
        },
        "id": "B97VRqjQro5I",
        "outputId": "1931e794-3e4c-419e-c2a9-512ae457f28a"
      },
      "outputs": [
        {
          "output_type": "execute_result",
          "data": {
            "text/plain": [
              "                  reviewerID  \\\n",
              "0       A0001528BGUBOEVR6T5U   \n",
              "1       A0024836TBQJ1WBE4VDY   \n",
              "2       A0029274J35Q1MYNKUWO   \n",
              "3       A0036244LFNO78OM4135   \n",
              "4       A0065811S4ANKB4TYHII   \n",
              "...                      ...   \n",
              "262046         AZZW780H8VJ8N   \n",
              "262047         AZZYI1EW1WY3M   \n",
              "262048         AZZYVIRS854I7   \n",
              "262049         AZZYW4YOE1B6E   \n",
              "262050         AZZZJJPHNUQ1T   \n",
              "\n",
              "                                                    items  \n",
              "0                                            [B012ZIGVXE]  \n",
              "1       [B001GH4WD2, B001CXFHKC, B01AISP1KW, B0179XHY3...  \n",
              "2       [B00HTN4R6O, B000PD6QJ6, B00162POP2, B00162LR6...  \n",
              "3       [B003BLP0I2, B00R7AGTKG, B01BE07ZKW, B001N3MKT...  \n",
              "4                    [B004R5V47C, B0002IMP94, B00OHJDDPY]  \n",
              "...                                                   ...  \n",
              "262046  [B001O2PKGM, B01E4YVCOA, B01AAGVWJG, B000P431B...  \n",
              "262047  [B000YXBC5U, B000MBNPHC, B00LUMKP34, B00CPJ546...  \n",
              "262048   [B0159JSKYE, B00318CLTG, B00ZK4ZU1U, B006NZ65L4]  \n",
              "262049   [B002WN91Q2, B00HN47G1M, B005YPK9SY, B013CVSXF2]  \n",
              "262050  [B003BR96CC, B00AGZEOT2, B004LY6LL8, B005N7Y81...  \n",
              "\n",
              "[262051 rows x 2 columns]"
            ],
            "text/html": [
              "\n",
              "  <div id=\"df-81bc64ac-fdfe-451f-99ce-a169a7ca209a\" class=\"colab-df-container\">\n",
              "    <div>\n",
              "<style scoped>\n",
              "    .dataframe tbody tr th:only-of-type {\n",
              "        vertical-align: middle;\n",
              "    }\n",
              "\n",
              "    .dataframe tbody tr th {\n",
              "        vertical-align: top;\n",
              "    }\n",
              "\n",
              "    .dataframe thead th {\n",
              "        text-align: right;\n",
              "    }\n",
              "</style>\n",
              "<table border=\"1\" class=\"dataframe\">\n",
              "  <thead>\n",
              "    <tr style=\"text-align: right;\">\n",
              "      <th></th>\n",
              "      <th>reviewerID</th>\n",
              "      <th>items</th>\n",
              "    </tr>\n",
              "  </thead>\n",
              "  <tbody>\n",
              "    <tr>\n",
              "      <th>0</th>\n",
              "      <td>A0001528BGUBOEVR6T5U</td>\n",
              "      <td>[B012ZIGVXE]</td>\n",
              "    </tr>\n",
              "    <tr>\n",
              "      <th>1</th>\n",
              "      <td>A0024836TBQJ1WBE4VDY</td>\n",
              "      <td>[B001GH4WD2, B001CXFHKC, B01AISP1KW, B0179XHY3...</td>\n",
              "    </tr>\n",
              "    <tr>\n",
              "      <th>2</th>\n",
              "      <td>A0029274J35Q1MYNKUWO</td>\n",
              "      <td>[B00HTN4R6O, B000PD6QJ6, B00162POP2, B00162LR6...</td>\n",
              "    </tr>\n",
              "    <tr>\n",
              "      <th>3</th>\n",
              "      <td>A0036244LFNO78OM4135</td>\n",
              "      <td>[B003BLP0I2, B00R7AGTKG, B01BE07ZKW, B001N3MKT...</td>\n",
              "    </tr>\n",
              "    <tr>\n",
              "      <th>4</th>\n",
              "      <td>A0065811S4ANKB4TYHII</td>\n",
              "      <td>[B004R5V47C, B0002IMP94, B00OHJDDPY]</td>\n",
              "    </tr>\n",
              "    <tr>\n",
              "      <th>...</th>\n",
              "      <td>...</td>\n",
              "      <td>...</td>\n",
              "    </tr>\n",
              "    <tr>\n",
              "      <th>262046</th>\n",
              "      <td>AZZW780H8VJ8N</td>\n",
              "      <td>[B001O2PKGM, B01E4YVCOA, B01AAGVWJG, B000P431B...</td>\n",
              "    </tr>\n",
              "    <tr>\n",
              "      <th>262047</th>\n",
              "      <td>AZZYI1EW1WY3M</td>\n",
              "      <td>[B000YXBC5U, B000MBNPHC, B00LUMKP34, B00CPJ546...</td>\n",
              "    </tr>\n",
              "    <tr>\n",
              "      <th>262048</th>\n",
              "      <td>AZZYVIRS854I7</td>\n",
              "      <td>[B0159JSKYE, B00318CLTG, B00ZK4ZU1U, B006NZ65L4]</td>\n",
              "    </tr>\n",
              "    <tr>\n",
              "      <th>262049</th>\n",
              "      <td>AZZYW4YOE1B6E</td>\n",
              "      <td>[B002WN91Q2, B00HN47G1M, B005YPK9SY, B013CVSXF2]</td>\n",
              "    </tr>\n",
              "    <tr>\n",
              "      <th>262050</th>\n",
              "      <td>AZZZJJPHNUQ1T</td>\n",
              "      <td>[B003BR96CC, B00AGZEOT2, B004LY6LL8, B005N7Y81...</td>\n",
              "    </tr>\n",
              "  </tbody>\n",
              "</table>\n",
              "<p>262051 rows × 2 columns</p>\n",
              "</div>\n",
              "    <div class=\"colab-df-buttons\">\n",
              "\n",
              "  <div class=\"colab-df-container\">\n",
              "    <button class=\"colab-df-convert\" onclick=\"convertToInteractive('df-81bc64ac-fdfe-451f-99ce-a169a7ca209a')\"\n",
              "            title=\"Convert this dataframe to an interactive table.\"\n",
              "            style=\"display:none;\">\n",
              "\n",
              "  <svg xmlns=\"http://www.w3.org/2000/svg\" height=\"24px\" viewBox=\"0 -960 960 960\">\n",
              "    <path d=\"M120-120v-720h720v720H120Zm60-500h600v-160H180v160Zm220 220h160v-160H400v160Zm0 220h160v-160H400v160ZM180-400h160v-160H180v160Zm440 0h160v-160H620v160ZM180-180h160v-160H180v160Zm440 0h160v-160H620v160Z\"/>\n",
              "  </svg>\n",
              "    </button>\n",
              "\n",
              "  <style>\n",
              "    .colab-df-container {\n",
              "      display:flex;\n",
              "      gap: 12px;\n",
              "    }\n",
              "\n",
              "    .colab-df-convert {\n",
              "      background-color: #E8F0FE;\n",
              "      border: none;\n",
              "      border-radius: 50%;\n",
              "      cursor: pointer;\n",
              "      display: none;\n",
              "      fill: #1967D2;\n",
              "      height: 32px;\n",
              "      padding: 0 0 0 0;\n",
              "      width: 32px;\n",
              "    }\n",
              "\n",
              "    .colab-df-convert:hover {\n",
              "      background-color: #E2EBFA;\n",
              "      box-shadow: 0px 1px 2px rgba(60, 64, 67, 0.3), 0px 1px 3px 1px rgba(60, 64, 67, 0.15);\n",
              "      fill: #174EA6;\n",
              "    }\n",
              "\n",
              "    .colab-df-buttons div {\n",
              "      margin-bottom: 4px;\n",
              "    }\n",
              "\n",
              "    [theme=dark] .colab-df-convert {\n",
              "      background-color: #3B4455;\n",
              "      fill: #D2E3FC;\n",
              "    }\n",
              "\n",
              "    [theme=dark] .colab-df-convert:hover {\n",
              "      background-color: #434B5C;\n",
              "      box-shadow: 0px 1px 3px 1px rgba(0, 0, 0, 0.15);\n",
              "      filter: drop-shadow(0px 1px 2px rgba(0, 0, 0, 0.3));\n",
              "      fill: #FFFFFF;\n",
              "    }\n",
              "  </style>\n",
              "\n",
              "    <script>\n",
              "      const buttonEl =\n",
              "        document.querySelector('#df-81bc64ac-fdfe-451f-99ce-a169a7ca209a button.colab-df-convert');\n",
              "      buttonEl.style.display =\n",
              "        google.colab.kernel.accessAllowed ? 'block' : 'none';\n",
              "\n",
              "      async function convertToInteractive(key) {\n",
              "        const element = document.querySelector('#df-81bc64ac-fdfe-451f-99ce-a169a7ca209a');\n",
              "        const dataTable =\n",
              "          await google.colab.kernel.invokeFunction('convertToInteractive',\n",
              "                                                    [key], {});\n",
              "        if (!dataTable) return;\n",
              "\n",
              "        const docLinkHtml = 'Like what you see? Visit the ' +\n",
              "          '<a target=\"_blank\" href=https://colab.research.google.com/notebooks/data_table.ipynb>data table notebook</a>'\n",
              "          + ' to learn more about interactive tables.';\n",
              "        element.innerHTML = '';\n",
              "        dataTable['output_type'] = 'display_data';\n",
              "        await google.colab.output.renderOutput(dataTable, element);\n",
              "        const docLink = document.createElement('div');\n",
              "        docLink.innerHTML = docLinkHtml;\n",
              "        element.appendChild(docLink);\n",
              "      }\n",
              "    </script>\n",
              "  </div>\n",
              "\n",
              "\n",
              "<div id=\"df-548f07e3-0cd6-4805-9d4d-54b7207c3bb4\">\n",
              "  <button class=\"colab-df-quickchart\" onclick=\"quickchart('df-548f07e3-0cd6-4805-9d4d-54b7207c3bb4')\"\n",
              "            title=\"Suggest charts.\"\n",
              "            style=\"display:none;\">\n",
              "\n",
              "<svg xmlns=\"http://www.w3.org/2000/svg\" height=\"24px\"viewBox=\"0 0 24 24\"\n",
              "     width=\"24px\">\n",
              "    <g>\n",
              "        <path d=\"M19 3H5c-1.1 0-2 .9-2 2v14c0 1.1.9 2 2 2h14c1.1 0 2-.9 2-2V5c0-1.1-.9-2-2-2zM9 17H7v-7h2v7zm4 0h-2V7h2v10zm4 0h-2v-4h2v4z\"/>\n",
              "    </g>\n",
              "</svg>\n",
              "  </button>\n",
              "\n",
              "<style>\n",
              "  .colab-df-quickchart {\n",
              "      --bg-color: #E8F0FE;\n",
              "      --fill-color: #1967D2;\n",
              "      --hover-bg-color: #E2EBFA;\n",
              "      --hover-fill-color: #174EA6;\n",
              "      --disabled-fill-color: #AAA;\n",
              "      --disabled-bg-color: #DDD;\n",
              "  }\n",
              "\n",
              "  [theme=dark] .colab-df-quickchart {\n",
              "      --bg-color: #3B4455;\n",
              "      --fill-color: #D2E3FC;\n",
              "      --hover-bg-color: #434B5C;\n",
              "      --hover-fill-color: #FFFFFF;\n",
              "      --disabled-bg-color: #3B4455;\n",
              "      --disabled-fill-color: #666;\n",
              "  }\n",
              "\n",
              "  .colab-df-quickchart {\n",
              "    background-color: var(--bg-color);\n",
              "    border: none;\n",
              "    border-radius: 50%;\n",
              "    cursor: pointer;\n",
              "    display: none;\n",
              "    fill: var(--fill-color);\n",
              "    height: 32px;\n",
              "    padding: 0;\n",
              "    width: 32px;\n",
              "  }\n",
              "\n",
              "  .colab-df-quickchart:hover {\n",
              "    background-color: var(--hover-bg-color);\n",
              "    box-shadow: 0 1px 2px rgba(60, 64, 67, 0.3), 0 1px 3px 1px rgba(60, 64, 67, 0.15);\n",
              "    fill: var(--button-hover-fill-color);\n",
              "  }\n",
              "\n",
              "  .colab-df-quickchart-complete:disabled,\n",
              "  .colab-df-quickchart-complete:disabled:hover {\n",
              "    background-color: var(--disabled-bg-color);\n",
              "    fill: var(--disabled-fill-color);\n",
              "    box-shadow: none;\n",
              "  }\n",
              "\n",
              "  .colab-df-spinner {\n",
              "    border: 2px solid var(--fill-color);\n",
              "    border-color: transparent;\n",
              "    border-bottom-color: var(--fill-color);\n",
              "    animation:\n",
              "      spin 1s steps(1) infinite;\n",
              "  }\n",
              "\n",
              "  @keyframes spin {\n",
              "    0% {\n",
              "      border-color: transparent;\n",
              "      border-bottom-color: var(--fill-color);\n",
              "      border-left-color: var(--fill-color);\n",
              "    }\n",
              "    20% {\n",
              "      border-color: transparent;\n",
              "      border-left-color: var(--fill-color);\n",
              "      border-top-color: var(--fill-color);\n",
              "    }\n",
              "    30% {\n",
              "      border-color: transparent;\n",
              "      border-left-color: var(--fill-color);\n",
              "      border-top-color: var(--fill-color);\n",
              "      border-right-color: var(--fill-color);\n",
              "    }\n",
              "    40% {\n",
              "      border-color: transparent;\n",
              "      border-right-color: var(--fill-color);\n",
              "      border-top-color: var(--fill-color);\n",
              "    }\n",
              "    60% {\n",
              "      border-color: transparent;\n",
              "      border-right-color: var(--fill-color);\n",
              "    }\n",
              "    80% {\n",
              "      border-color: transparent;\n",
              "      border-right-color: var(--fill-color);\n",
              "      border-bottom-color: var(--fill-color);\n",
              "    }\n",
              "    90% {\n",
              "      border-color: transparent;\n",
              "      border-bottom-color: var(--fill-color);\n",
              "    }\n",
              "  }\n",
              "</style>\n",
              "\n",
              "  <script>\n",
              "    async function quickchart(key) {\n",
              "      const quickchartButtonEl =\n",
              "        document.querySelector('#' + key + ' button');\n",
              "      quickchartButtonEl.disabled = true;  // To prevent multiple clicks.\n",
              "      quickchartButtonEl.classList.add('colab-df-spinner');\n",
              "      try {\n",
              "        const charts = await google.colab.kernel.invokeFunction(\n",
              "            'suggestCharts', [key], {});\n",
              "      } catch (error) {\n",
              "        console.error('Error during call to suggestCharts:', error);\n",
              "      }\n",
              "      quickchartButtonEl.classList.remove('colab-df-spinner');\n",
              "      quickchartButtonEl.classList.add('colab-df-quickchart-complete');\n",
              "    }\n",
              "    (() => {\n",
              "      let quickchartButtonEl =\n",
              "        document.querySelector('#df-548f07e3-0cd6-4805-9d4d-54b7207c3bb4 button');\n",
              "      quickchartButtonEl.style.display =\n",
              "        google.colab.kernel.accessAllowed ? 'block' : 'none';\n",
              "    })();\n",
              "  </script>\n",
              "</div>\n",
              "    </div>\n",
              "  </div>\n"
            ]
          },
          "metadata": {},
          "execution_count": 67
        }
      ],
      "source": [
        "# Load data between 2026 and 2018\n",
        "df = pd.read_csv('drive/MyDrive/Sports_and_Outdoors_5_2016_2018.csv')\n",
        "df = df.dropna()\n",
        "df = df[['reviewerID', 'asin']]\n",
        "df = df.drop_duplicates()\n",
        "df = df.groupby('reviewerID')['asin'].apply(list).reset_index(name='items')\n",
        "df['items'] = df['items'].apply(lambda x: list(set(x)))\n",
        "df"
      ]
    },
    {
      "cell_type": "markdown",
      "metadata": {
        "id": "1jTTGRICYZCg"
      },
      "source": [
        "Here we compute the preprocessing step of the method, computing the weights of transactions"
      ]
    },
    {
      "cell_type": "code",
      "execution_count": null,
      "metadata": {
        "colab": {
          "base_uri": "https://localhost:8080/"
        },
        "id": "_yOBbtHHtS1a",
        "outputId": "3e1876d0-a7fc-4a5c-baa7-349833bc978d"
      },
      "outputs": [
        {
          "output_type": "execute_result",
          "data": {
            "text/plain": [
              "Decimal('1.197262141301475670592458615E+52')"
            ]
          },
          "metadata": {},
          "execution_count": 68
        }
      ],
      "source": [
        "df['len'] = df['items'].apply(lambda x: len(x))\n",
        "# Add weight to rows according to the number of combinations in the items list (2** len(items))\n",
        "weight = df['len'].apply(lambda x: Decimal(2)**Decimal(x))\n",
        "max(weight)"
      ]
    },
    {
      "cell_type": "code",
      "execution_count": null,
      "metadata": {
        "colab": {
          "base_uri": "https://localhost:8080/"
        },
        "id": "7iUcyQWdtYgB",
        "outputId": "090cc318-8030-4580-fac0-5e604a469801"
      },
      "outputs": [
        {
          "output_type": "execute_result",
          "data": {
            "text/plain": [
              "Decimal('1.197262161372147454742507159E+52')"
            ]
          },
          "metadata": {},
          "execution_count": 69
        }
      ],
      "source": [
        "cumweight = weight.cumsum()\n",
        "cumweight.iloc[-1]"
      ]
    },
    {
      "cell_type": "code",
      "execution_count": null,
      "metadata": {
        "colab": {
          "base_uri": "https://localhost:8080/"
        },
        "id": "-ZBNMuvku0yS",
        "outputId": "3696147c-1fe1-4bb7-93d9-8b5f01014ec6"
      },
      "outputs": [
        {
          "output_type": "execute_result",
          "data": {
            "text/plain": [
              "5.015893852723325"
            ]
          },
          "metadata": {},
          "execution_count": 70
        }
      ],
      "source": [
        "np.mean(df['len'])"
      ]
    },
    {
      "cell_type": "code",
      "execution_count": null,
      "metadata": {
        "colab": {
          "base_uri": "https://localhost:8080/",
          "height": 430
        },
        "id": "48L7jgzWucA3",
        "outputId": "b58f2e82-3d21-4212-ce2b-38ffacb80a86"
      },
      "outputs": [
        {
          "output_type": "display_data",
          "data": {
            "text/plain": [
              "<Figure size 640x480 with 1 Axes>"
            ],
            "image/png": "[encoded data removed]"
          },
          "metadata": {}
        }
      ],
      "source": [
        "plt.hist(df['len'])\n",
        "plt.yscale('log')"
      ]
    },
    {
      "cell_type": "markdown",
      "metadata": {
        "id": "GwfAUH0MYiqM"
      },
      "source": [
        "We can observe a long tail distribution for the length of transactions in our dataset."
      ]
    },
    {
      "cell_type": "markdown",
      "metadata": {
        "id": "GxqL2KmfYs14"
      },
      "source": [
        "We define then the sampling function, without length restriction:"
      ]
    },
    {
      "cell_type": "code",
      "execution_count": null,
      "metadata": {
        "id": "txFVNqdltc7O"
      },
      "outputs": [],
      "source": [
        "import random as rd\n",
        "\n",
        "def binary_search(list, element, first=0, last=None):\n",
        "    if last is None:\n",
        "        last = len(list) - 1\n",
        "    while first <= last:\n",
        "        mid = (first + last) // 2\n",
        "        if list[mid] == element:\n",
        "            return mid  # Element found, return its index\n",
        "        elif element < list[mid]:\n",
        "            last = mid - 1\n",
        "        else:\n",
        "            first = mid + 1\n",
        "    return first  # Element not found, return the index where it should be inserted\n",
        "\n",
        "\n",
        "def sample(transactions, weight, cumsum_weight):\n",
        "    \"\"\"\n",
        "    Sample a pattern from the transactional database according to its frequency\n",
        "    :param transactions: transactional database\n",
        "    :return: a pattern\n",
        "    \"\"\"\n",
        "    # Generate a random number between 0 and the sum of the weights\n",
        "    r = Decimal(np.random.random()) * cumsum_weight.iloc[-1]\n",
        "    # Find the index of the element in the cumulative weight list using a binary search\n",
        "    index = binary_search(cumweight.tolist(), r)\n",
        "    # Sample item in the transaction to create a pattern\n",
        "    pattern = []\n",
        "    for item in df['items'][index]:\n",
        "        if rd.Random().random() <= 0.5:\n",
        "            pattern.append(item)\n",
        "    return pattern"
      ]
    },
    {
      "cell_type": "markdown",
      "metadata": {
        "id": "7MuPJ6JOY_pg"
      },
      "source": [
        "We sample 1000 patterns with this method:"
      ]
    },
    {
      "cell_type": "code",
      "source": [
        "import time"
      ],
      "metadata": {
        "id": "mQ_Gp-j9hpFy"
      },
      "execution_count": null,
      "outputs": []
    },
    {
      "cell_type": "code",
      "execution_count": null,
      "metadata": {
        "id": "s6BIBg5ltlfX",
        "colab": {
          "base_uri": "https://localhost:8080/"
        },
        "outputId": "de9089f0-be68-4682-a02c-0f4fdb4df579"
      },
      "outputs": [
        {
          "output_type": "stream",
          "name": "stdout",
          "text": [
            "Took 1476.3289139270782 seconds for 100 000 itertations\n"
          ]
        }
      ],
      "source": [
        "# Generate 1000 patterns\n",
        "patterns = []\n",
        "start = time.time()\n",
        "for i in range(100_000):\n",
        "    patterns.append(sample(df, weight, cumweight))\n",
        "end = time.time()\n",
        "print(f'Took {end-start} seconds for 100 000 itertations')"
      ]
    },
    {
      "cell_type": "code",
      "execution_count": null,
      "metadata": {
        "colab": {
          "base_uri": "https://localhost:8080/",
          "height": 588
        },
        "id": "sAw2940Ztn1X",
        "outputId": "c87db225-585a-43ce-d5a8-be6347c45234"
      },
      "outputs": [
        {
          "output_type": "execute_result",
          "data": {
            "text/plain": [
              "(array([9.0000e+00, 2.7000e+01, 1.4100e+02, 2.8800e+02, 1.1680e+03,\n",
              "        3.1400e+03, 6.3800e+03, 6.9110e+03, 1.4251e+04, 1.7600e+04,\n",
              "        1.7717e+04, 1.0126e+04, 1.1116e+04, 6.5810e+03, 2.9500e+03,\n",
              "        8.7200e+02, 5.3900e+02, 1.4600e+02, 3.2000e+01, 6.0000e+00]),\n",
              " array([ 59.  ,  61.75,  64.5 ,  67.25,  70.  ,  72.75,  75.5 ,  78.25,\n",
              "         81.  ,  83.75,  86.5 ,  89.25,  92.  ,  94.75,  97.5 , 100.25,\n",
              "        103.  , 105.75, 108.5 , 111.25, 114.  ]),\n",
              " <BarContainer object of 20 artists>)"
            ]
          },
          "metadata": {},
          "execution_count": 12
        },
        {
          "output_type": "display_data",
          "data": {
            "text/plain": [
              "<Figure size 640x480 with 1 Axes>"
            ],
            "image/png": "[encoded data removed]"
          },
          "metadata": {}
        }
      ],
      "source": [
        "pattern_len = [len(pattern) for pattern in patterns]\n",
        "plt.xlabel('Pattern length')\n",
        "plt.ylabel('Frequency')\n",
        "plt.axvline(np.mean(df['len']), color='red')\n",
        "plt.hist(pattern_len, bins=20)"
      ]
    },
    {
      "cell_type": "markdown",
      "metadata": {
        "id": "FCq9n8pRZTv6"
      },
      "source": [
        "This plot show the length distribution of patterns that have been sampled, with the mean transaction length in red."
      ]
    },
    {
      "cell_type": "markdown",
      "metadata": {
        "id": "esqvI82EZe72"
      },
      "source": [
        "We now want to observe the support of sampled patterns:"
      ]
    },
    {
      "cell_type": "code",
      "execution_count": null,
      "metadata": {
        "colab": {
          "base_uri": "https://localhost:8080/"
        },
        "id": "L1a_Y043wDjT",
        "outputId": "5f1de432-e359-47ec-cc61-c4a0a208893f"
      },
      "outputs": [
        {
          "output_type": "stream",
          "name": "stderr",
          "text": [
            "100%|██████████| 100/100 [01:34<00:00,  1.06it/s]"
          ]
        },
        {
          "output_type": "stream",
          "name": "stdout",
          "text": [
            "1.0\n"
          ]
        },
        {
          "output_type": "stream",
          "name": "stderr",
          "text": [
            "\n"
          ]
        }
      ],
      "source": [
        "# Compute and plot support of 100 patterns\n",
        "supports = []\n",
        "for pattern in tqdm(patterns[:100]):\n",
        "    support = df['items'].apply(lambda x: set(pattern).issubset(set(x))).sum()\n",
        "    supports.append(support)\n",
        "print(np.mean(supports))\n"
      ]
    },
    {
      "cell_type": "code",
      "execution_count": null,
      "metadata": {
        "colab": {
          "base_uri": "https://localhost:8080/"
        },
        "id": "qi6a1NBWL4Dz",
        "outputId": "e083566d-b0d0-4d75-df8c-5672a26b53e1"
      },
      "outputs": [
        {
          "output_type": "stream",
          "name": "stdout",
          "text": [
            "1.0\n"
          ]
        }
      ],
      "source": [
        "print(np.mean(supports))"
      ]
    },
    {
      "cell_type": "markdown",
      "metadata": {
        "id": "85ZzNmXiZkZr"
      },
      "source": [
        "But the mean support is 1 (occurrence), it means that the pattern we extracted is only present in the transaction we draw."
      ]
    },
    {
      "cell_type": "code",
      "execution_count": null,
      "metadata": {
        "colab": {
          "base_uri": "https://localhost:8080/"
        },
        "id": "gfFTolX4turB",
        "outputId": "51414ffa-6395-48d2-c3b3-d738abc4ee9b"
      },
      "outputs": [
        {
          "output_type": "stream",
          "name": "stdout",
          "text": [
            "13.4 ms ± 712 µs per loop (mean ± std. dev. of 7 runs, 100 loops each)\n"
          ]
        }
      ],
      "source": [
        "%timeit sample(df, weight, cumweight)"
      ]
    },
    {
      "cell_type": "markdown",
      "metadata": {
        "id": "ky2ojqC6vouI"
      },
      "source": [
        "To sample one frequent pattern, this method took 15.7ms"
      ]
    },
    {
      "cell_type": "markdown",
      "metadata": {
        "id": "4jX9FUBrWRNr"
      },
      "source": [
        "# Frequent pattern mining with length restriction"
      ]
    },
    {
      "cell_type": "markdown",
      "metadata": {
        "id": "srMM834YZ4Ff"
      },
      "source": [
        "Now, we will try to use a similar method, but with length restriction"
      ]
    },
    {
      "cell_type": "markdown",
      "metadata": {
        "id": "4p37p8ZzZ9C7"
      },
      "source": [
        "We will use the mean transaction length to define our length restriction"
      ]
    },
    {
      "cell_type": "code",
      "execution_count": null,
      "metadata": {
        "id": "hWhJWOcWSoDG"
      },
      "outputs": [],
      "source": [
        "MAX_LEN = 5\n",
        "MIN_LEN = 1"
      ]
    },
    {
      "cell_type": "code",
      "execution_count": null,
      "metadata": {
        "id": "8o7e81ZlOYoF"
      },
      "outputs": [],
      "source": [
        "def factorial(n):\n",
        "    if n < 0:\n",
        "        raise ValueError('n must be positive')\n",
        "    if n == 0:\n",
        "        return Decimal(1)\n",
        "    else:\n",
        "        return n * factorial(n - 1)\n",
        "\n",
        "def combination(n, k):\n",
        "    if n <0 or k<0 or k>n:\n",
        "        return 0\n",
        "    return factorial(Decimal(n)) / (factorial(Decimal(k)) * factorial(Decimal(n) - Decimal(k)))"
      ]
    },
    {
      "cell_type": "code",
      "execution_count": null,
      "metadata": {
        "id": "g8dD_WjoOa7_"
      },
      "outputs": [],
      "source": [
        "# Add weight to df\n",
        "def add_weight(df, min_len, max_len):\n",
        "    df['weight'] = df['len'].apply(lambda x: np.array([combination(x, k) for k in range(min_len, max_len)]).sum())\n",
        "    df['cumweight'] = df['weight'].cumsum()\n",
        "    return df"
      ]
    },
    {
      "cell_type": "code",
      "execution_count": null,
      "metadata": {
        "id": "BmLF6WvGOhDn"
      },
      "outputs": [],
      "source": [
        "df = add_weight(df, MIN_LEN, MAX_LEN)\n",
        "sum_weight = df['weight'].sum()"
      ]
    },
    {
      "cell_type": "code",
      "execution_count": null,
      "metadata": {
        "id": "XMcHpV-TUrvC"
      },
      "outputs": [],
      "source": [
        "def len_restricted_sampling(df, sum_weight, MIN_LEN, MAX_LEN):\n",
        "    random_transaction = Decimal(rd.random()) * sum_weight\n",
        "    transaction_index = binary_search(df['cumweight'], random_transaction)\n",
        "    transaction = df.iloc[transaction_index]\n",
        "    # Generate weights array for each combination size\n",
        "    weights = np.array([combination(len(transaction), k) for k in range(MIN_LEN, MAX_LEN+1)])\n",
        "    # Get a random index from the weights array\n",
        "    random_size = Decimal(rd.random()) * weights.sum()\n",
        "    for i in range(1,len(weights)):\n",
        "        weights[i] += weights[i-1]\n",
        "    index = binary_search(weights, random_size)\n",
        "\n",
        "    # Get the size of the pattern\n",
        "    size = index + MIN_LEN\n",
        "\n",
        "\n",
        "    # Draw 'size' random elements from the transaction which is a dataframe row\n",
        "    if size > transaction['len']:\n",
        "        if transaction['len'] > MIN_LEN:\n",
        "            return transaction['items']\n",
        "        else:\n",
        "            # If the size of the transaction is to small, retry\n",
        "            return len_restricted_sampling(df, sum_weight, MIN_LEN, MAX_LEN)\n",
        "    pattern = rd.sample(transaction['items'], size)\n",
        "    return pattern"
      ]
    },
    {
      "cell_type": "code",
      "execution_count": null,
      "metadata": {
        "colab": {
          "base_uri": "https://localhost:8080/"
        },
        "id": "pXSQVtWYZ3hG",
        "outputId": "44cadbf5-3085-41a1-e637-8248cb3d8c92"
      },
      "outputs": [
        {
          "output_type": "stream",
          "name": "stdout",
          "text": [
            "['B00579GNBE', 'B003V0KHBS', 'B00HTN6F32', 'B000N8JZ0U'] \n",
            " 4\n"
          ]
        }
      ],
      "source": [
        "pattern = len_restricted_sampling(df, sum_weight, MIN_LEN=MIN_LEN, MAX_LEN=MAX_LEN)\n",
        "print(pattern, '\\n', len(pattern))"
      ]
    },
    {
      "cell_type": "code",
      "execution_count": null,
      "metadata": {
        "colab": {
          "base_uri": "https://localhost:8080/"
        },
        "id": "tQ2HZVYqZz20",
        "outputId": "88bca22e-cd36-434a-a2ba-35c95f20411e"
      },
      "outputs": [
        {
          "output_type": "stream",
          "name": "stderr",
          "text": [
            "100%|██████████| 100000/100000 [00:41<00:00, 2397.69it/s]"
          ]
        },
        {
          "output_type": "stream",
          "name": "stdout",
          "text": [
            "Took 41.71341037750244 seconds for 100 000 iterations\n"
          ]
        },
        {
          "output_type": "stream",
          "name": "stderr",
          "text": [
            "\n"
          ]
        }
      ],
      "source": [
        "from tqdm import tqdm\n",
        "# Sample 100000 patterns\n",
        "patterns = []\n",
        "patterns_len = []\n",
        "start = time.time()\n",
        "for i in tqdm(range(0, 100_000)):\n",
        "    pattern = len_restricted_sampling(df, sum_weight, MIN_LEN=MIN_LEN, MAX_LEN=MAX_LEN)\n",
        "    patterns.append(pattern)\n",
        "    patterns_len.append(len(pattern))\n",
        "end= time.time()\n",
        "print(f'Took {end-start} seconds for 100 000 iterations')"
      ]
    },
    {
      "cell_type": "code",
      "execution_count": null,
      "metadata": {
        "colab": {
          "base_uri": "https://localhost:8080/",
          "height": 430
        },
        "id": "LzvmZvXhZ6mv",
        "outputId": "cae302ec-801f-4825-9b5b-6cca8fe05cbe"
      },
      "outputs": [
        {
          "output_type": "display_data",
          "data": {
            "text/plain": [
              "<Figure size 640x480 with 1 Axes>"
            ],
            "image/png": "[encoded data removed]"
          },
          "metadata": {}
        }
      ],
      "source": [
        "# Plot the distribution of the pattern length\n",
        "import matplotlib.pyplot as plt\n",
        "plt.hist(patterns_len, bins=100)\n",
        "# Add a vertcal line at the mean\n",
        "plt.axvline(np.mean(df['len']), color='r', linewidth=2)\n",
        "plt.show()"
      ]
    },
    {
      "cell_type": "markdown",
      "metadata": {
        "id": "bgWEoxe2agFQ"
      },
      "source": [
        "Again, we want to see the support of extracted patterns"
      ]
    },
    {
      "cell_type": "code",
      "execution_count": null,
      "metadata": {
        "colab": {
          "base_uri": "https://localhost:8080/"
        },
        "id": "_a5VVxAtaWv_",
        "outputId": "e3c87128-d579-4f72-8726-ebe62ba58fd9"
      },
      "outputs": [
        {
          "output_type": "stream",
          "name": "stderr",
          "text": [
            "100%|██████████| 100/100 [00:32<00:00,  3.11it/s]"
          ]
        },
        {
          "output_type": "stream",
          "name": "stdout",
          "text": [
            "29.54\n"
          ]
        },
        {
          "output_type": "stream",
          "name": "stderr",
          "text": [
            "\n"
          ]
        }
      ],
      "source": [
        "# Compute and plot support of 1000 patterns\n",
        "supports = []\n",
        "for pattern in tqdm(patterns[:100]):\n",
        "    support = df['items'].apply(lambda x: set(pattern).issubset(set(x))).sum()\n",
        "    supports.append(support)\n",
        "print(np.mean(supports))"
      ]
    },
    {
      "cell_type": "code",
      "execution_count": null,
      "metadata": {
        "colab": {
          "base_uri": "https://localhost:8080/"
        },
        "id": "_0Yi7KfGEE5_",
        "outputId": "dcad41b3-7da6-4c16-d87b-c60e563ef5a8"
      },
      "outputs": [
        {
          "output_type": "stream",
          "name": "stdout",
          "text": [
            "29.54\n"
          ]
        }
      ],
      "source": [
        "print(np.mean(supports))"
      ]
    },
    {
      "cell_type": "code",
      "execution_count": null,
      "metadata": {
        "colab": {
          "base_uri": "https://localhost:8080/"
        },
        "id": "niA8lUF4D7nz",
        "outputId": "1e836b78-faef-4cbe-d122-97f6c82792c4"
      },
      "outputs": [
        {
          "name": "stdout",
          "output_type": "stream",
          "text": [
            "335 µs ± 14.4 µs per loop (mean ± std. dev. of 7 runs, 1000 loops each)\n"
          ]
        }
      ],
      "source": [
        "%timeit len_restricted_sampling(df, sum_weight, MIN_LEN=MIN_LEN, MAX_LEN=MAX_LEN)"
      ]
    },
    {
      "cell_type": "markdown",
      "metadata": {
        "id": "j-1HJ5fxXD2g"
      },
      "source": [
        "# High utility pattern mining"
      ]
    },
    {
      "cell_type": "code",
      "execution_count": null,
      "metadata": {
        "colab": {
          "base_uri": "https://localhost:8080/",
          "height": 424
        },
        "id": "8ZPe8r7CXGmE",
        "outputId": "7df3e573-f22b-4d7b-f0e6-33565eb4ebf0"
      },
      "outputs": [
        {
          "output_type": "execute_result",
          "data": {
            "text/plain": [
              "                  reviewerID  \\\n",
              "0       A0001528BGUBOEVR6T5U   \n",
              "1       A0024836TBQJ1WBE4VDY   \n",
              "2       A0029274J35Q1MYNKUWO   \n",
              "3       A0036244LFNO78OM4135   \n",
              "4       A0065811S4ANKB4TYHII   \n",
              "...                      ...   \n",
              "262046         AZZW780H8VJ8N   \n",
              "262047         AZZYI1EW1WY3M   \n",
              "262048         AZZYVIRS854I7   \n",
              "262049         AZZYW4YOE1B6E   \n",
              "262050         AZZZJJPHNUQ1T   \n",
              "\n",
              "                                                    items  \n",
              "0                                     [(B012ZIGVXE, 3.0)]  \n",
              "1       [(B00AU67NEA, 4.0), (B00E2217I6, 5.0), (B00PRV...  \n",
              "2       [(B00162POP2, 5.0), (B000PD6QJ6, 5.0), (B0018E...  \n",
              "3       [(B001N3MKT2, 5.0), (B003BLP0I2, 4.0), (B00R7A...  \n",
              "4       [(B00OHJDDPY, 5.0), (B0002IMP94, 5.0), (B004R5...  \n",
              "...                                                   ...  \n",
              "262046  [(B000O57MPW, 5.0), (B000P431BG, 5.0), (B00XJ5...  \n",
              "262047  [(B00DDZGCOW, 5.0), (B01489QOOO, 5.0), (B000MB...  \n",
              "262048  [(B00318CLTG, 1.0), (B0159JSKYE, 5.0), (B00ZK4...  \n",
              "262049  [(B002WN91Q2, 4.0), (B013CVSXF2, 5.0), (B00HN4...  \n",
              "262050  [(B004LSBBS2, 5.0), (B00AGZEOT2, 2.0), (B005N7...  \n",
              "\n",
              "[262051 rows x 2 columns]"
            ],
            "text/html": [
              "\n",
              "  <div id=\"df-e879ac11-eadf-4b8e-86ee-4882a8511f22\" class=\"colab-df-container\">\n",
              "    <div>\n",
              "<style scoped>\n",
              "    .dataframe tbody tr th:only-of-type {\n",
              "        vertical-align: middle;\n",
              "    }\n",
              "\n",
              "    .dataframe tbody tr th {\n",
              "        vertical-align: top;\n",
              "    }\n",
              "\n",
              "    .dataframe thead th {\n",
              "        text-align: right;\n",
              "    }\n",
              "</style>\n",
              "<table border=\"1\" class=\"dataframe\">\n",
              "  <thead>\n",
              "    <tr style=\"text-align: right;\">\n",
              "      <th></th>\n",
              "      <th>reviewerID</th>\n",
              "      <th>items</th>\n",
              "    </tr>\n",
              "  </thead>\n",
              "  <tbody>\n",
              "    <tr>\n",
              "      <th>0</th>\n",
              "      <td>A0001528BGUBOEVR6T5U</td>\n",
              "      <td>[(B012ZIGVXE, 3.0)]</td>\n",
              "    </tr>\n",
              "    <tr>\n",
              "      <th>1</th>\n",
              "      <td>A0024836TBQJ1WBE4VDY</td>\n",
              "      <td>[(B00AU67NEA, 4.0), (B00E2217I6, 5.0), (B00PRV...</td>\n",
              "    </tr>\n",
              "    <tr>\n",
              "      <th>2</th>\n",
              "      <td>A0029274J35Q1MYNKUWO</td>\n",
              "      <td>[(B00162POP2, 5.0), (B000PD6QJ6, 5.0), (B0018E...</td>\n",
              "    </tr>\n",
              "    <tr>\n",
              "      <th>3</th>\n",
              "      <td>A0036244LFNO78OM4135</td>\n",
              "      <td>[(B001N3MKT2, 5.0), (B003BLP0I2, 4.0), (B00R7A...</td>\n",
              "    </tr>\n",
              "    <tr>\n",
              "      <th>4</th>\n",
              "      <td>A0065811S4ANKB4TYHII</td>\n",
              "      <td>[(B00OHJDDPY, 5.0), (B0002IMP94, 5.0), (B004R5...</td>\n",
              "    </tr>\n",
              "    <tr>\n",
              "      <th>...</th>\n",
              "      <td>...</td>\n",
              "      <td>...</td>\n",
              "    </tr>\n",
              "    <tr>\n",
              "      <th>262046</th>\n",
              "      <td>AZZW780H8VJ8N</td>\n",
              "      <td>[(B000O57MPW, 5.0), (B000P431BG, 5.0), (B00XJ5...</td>\n",
              "    </tr>\n",
              "    <tr>\n",
              "      <th>262047</th>\n",
              "      <td>AZZYI1EW1WY3M</td>\n",
              "      <td>[(B00DDZGCOW, 5.0), (B01489QOOO, 5.0), (B000MB...</td>\n",
              "    </tr>\n",
              "    <tr>\n",
              "      <th>262048</th>\n",
              "      <td>AZZYVIRS854I7</td>\n",
              "      <td>[(B00318CLTG, 1.0), (B0159JSKYE, 5.0), (B00ZK4...</td>\n",
              "    </tr>\n",
              "    <tr>\n",
              "      <th>262049</th>\n",
              "      <td>AZZYW4YOE1B6E</td>\n",
              "      <td>[(B002WN91Q2, 4.0), (B013CVSXF2, 5.0), (B00HN4...</td>\n",
              "    </tr>\n",
              "    <tr>\n",
              "      <th>262050</th>\n",
              "      <td>AZZZJJPHNUQ1T</td>\n",
              "      <td>[(B004LSBBS2, 5.0), (B00AGZEOT2, 2.0), (B005N7...</td>\n",
              "    </tr>\n",
              "  </tbody>\n",
              "</table>\n",
              "<p>262051 rows × 2 columns</p>\n",
              "</div>\n",
              "    <div class=\"colab-df-buttons\">\n",
              "\n",
              "  <div class=\"colab-df-container\">\n",
              "    <button class=\"colab-df-convert\" onclick=\"convertToInteractive('df-e879ac11-eadf-4b8e-86ee-4882a8511f22')\"\n",
              "            title=\"Convert this dataframe to an interactive table.\"\n",
              "            style=\"display:none;\">\n",
              "\n",
              "  <svg xmlns=\"http://www.w3.org/2000/svg\" height=\"24px\" viewBox=\"0 -960 960 960\">\n",
              "    <path d=\"M120-120v-720h720v720H120Zm60-500h600v-160H180v160Zm220 220h160v-160H400v160Zm0 220h160v-160H400v160ZM180-400h160v-160H180v160Zm440 0h160v-160H620v160ZM180-180h160v-160H180v160Zm440 0h160v-160H620v160Z\"/>\n",
              "  </svg>\n",
              "    </button>\n",
              "\n",
              "  <style>\n",
              "    .colab-df-container {\n",
              "      display:flex;\n",
              "      gap: 12px;\n",
              "    }\n",
              "\n",
              "    .colab-df-convert {\n",
              "      background-color: #E8F0FE;\n",
              "      border: none;\n",
              "      border-radius: 50%;\n",
              "      cursor: pointer;\n",
              "      display: none;\n",
              "      fill: #1967D2;\n",
              "      height: 32px;\n",
              "      padding: 0 0 0 0;\n",
              "      width: 32px;\n",
              "    }\n",
              "\n",
              "    .colab-df-convert:hover {\n",
              "      background-color: #E2EBFA;\n",
              "      box-shadow: 0px 1px 2px rgba(60, 64, 67, 0.3), 0px 1px 3px 1px rgba(60, 64, 67, 0.15);\n",
              "      fill: #174EA6;\n",
              "    }\n",
              "\n",
              "    .colab-df-buttons div {\n",
              "      margin-bottom: 4px;\n",
              "    }\n",
              "\n",
              "    [theme=dark] .colab-df-convert {\n",
              "      background-color: #3B4455;\n",
              "      fill: #D2E3FC;\n",
              "    }\n",
              "\n",
              "    [theme=dark] .colab-df-convert:hover {\n",
              "      background-color: #434B5C;\n",
              "      box-shadow: 0px 1px 3px 1px rgba(0, 0, 0, 0.15);\n",
              "      filter: drop-shadow(0px 1px 2px rgba(0, 0, 0, 0.3));\n",
              "      fill: #FFFFFF;\n",
              "    }\n",
              "  </style>\n",
              "\n",
              "    <script>\n",
              "      const buttonEl =\n",
              "        document.querySelector('#df-e879ac11-eadf-4b8e-86ee-4882a8511f22 button.colab-df-convert');\n",
              "      buttonEl.style.display =\n",
              "        google.colab.kernel.accessAllowed ? 'block' : 'none';\n",
              "\n",
              "      async function convertToInteractive(key) {\n",
              "        const element = document.querySelector('#df-e879ac11-eadf-4b8e-86ee-4882a8511f22');\n",
              "        const dataTable =\n",
              "          await google.colab.kernel.invokeFunction('convertToInteractive',\n",
              "                                                    [key], {});\n",
              "        if (!dataTable) return;\n",
              "\n",
              "        const docLinkHtml = 'Like what you see? Visit the ' +\n",
              "          '<a target=\"_blank\" href=https://colab.research.google.com/notebooks/data_table.ipynb>data table notebook</a>'\n",
              "          + ' to learn more about interactive tables.';\n",
              "        element.innerHTML = '';\n",
              "        dataTable['output_type'] = 'display_data';\n",
              "        await google.colab.output.renderOutput(dataTable, element);\n",
              "        const docLink = document.createElement('div');\n",
              "        docLink.innerHTML = docLinkHtml;\n",
              "        element.appendChild(docLink);\n",
              "      }\n",
              "    </script>\n",
              "  </div>\n",
              "\n",
              "\n",
              "<div id=\"df-94f4e9b0-1b5f-4213-ad73-378e293bbe4c\">\n",
              "  <button class=\"colab-df-quickchart\" onclick=\"quickchart('df-94f4e9b0-1b5f-4213-ad73-378e293bbe4c')\"\n",
              "            title=\"Suggest charts.\"\n",
              "            style=\"display:none;\">\n",
              "\n",
              "<svg xmlns=\"http://www.w3.org/2000/svg\" height=\"24px\"viewBox=\"0 0 24 24\"\n",
              "     width=\"24px\">\n",
              "    <g>\n",
              "        <path d=\"M19 3H5c-1.1 0-2 .9-2 2v14c0 1.1.9 2 2 2h14c1.1 0 2-.9 2-2V5c0-1.1-.9-2-2-2zM9 17H7v-7h2v7zm4 0h-2V7h2v10zm4 0h-2v-4h2v4z\"/>\n",
              "    </g>\n",
              "</svg>\n",
              "  </button>\n",
              "\n",
              "<style>\n",
              "  .colab-df-quickchart {\n",
              "      --bg-color: #E8F0FE;\n",
              "      --fill-color: #1967D2;\n",
              "      --hover-bg-color: #E2EBFA;\n",
              "      --hover-fill-color: #174EA6;\n",
              "      --disabled-fill-color: #AAA;\n",
              "      --disabled-bg-color: #DDD;\n",
              "  }\n",
              "\n",
              "  [theme=dark] .colab-df-quickchart {\n",
              "      --bg-color: #3B4455;\n",
              "      --fill-color: #D2E3FC;\n",
              "      --hover-bg-color: #434B5C;\n",
              "      --hover-fill-color: #FFFFFF;\n",
              "      --disabled-bg-color: #3B4455;\n",
              "      --disabled-fill-color: #666;\n",
              "  }\n",
              "\n",
              "  .colab-df-quickchart {\n",
              "    background-color: var(--bg-color);\n",
              "    border: none;\n",
              "    border-radius: 50%;\n",
              "    cursor: pointer;\n",
              "    display: none;\n",
              "    fill: var(--fill-color);\n",
              "    height: 32px;\n",
              "    padding: 0;\n",
              "    width: 32px;\n",
              "  }\n",
              "\n",
              "  .colab-df-quickchart:hover {\n",
              "    background-color: var(--hover-bg-color);\n",
              "    box-shadow: 0 1px 2px rgba(60, 64, 67, 0.3), 0 1px 3px 1px rgba(60, 64, 67, 0.15);\n",
              "    fill: var(--button-hover-fill-color);\n",
              "  }\n",
              "\n",
              "  .colab-df-quickchart-complete:disabled,\n",
              "  .colab-df-quickchart-complete:disabled:hover {\n",
              "    background-color: var(--disabled-bg-color);\n",
              "    fill: var(--disabled-fill-color);\n",
              "    box-shadow: none;\n",
              "  }\n",
              "\n",
              "  .colab-df-spinner {\n",
              "    border: 2px solid var(--fill-color);\n",
              "    border-color: transparent;\n",
              "    border-bottom-color: var(--fill-color);\n",
              "    animation:\n",
              "      spin 1s steps(1) infinite;\n",
              "  }\n",
              "\n",
              "  @keyframes spin {\n",
              "    0% {\n",
              "      border-color: transparent;\n",
              "      border-bottom-color: var(--fill-color);\n",
              "      border-left-color: var(--fill-color);\n",
              "    }\n",
              "    20% {\n",
              "      border-color: transparent;\n",
              "      border-left-color: var(--fill-color);\n",
              "      border-top-color: var(--fill-color);\n",
              "    }\n",
              "    30% {\n",
              "      border-color: transparent;\n",
              "      border-left-color: var(--fill-color);\n",
              "      border-top-color: var(--fill-color);\n",
              "      border-right-color: var(--fill-color);\n",
              "    }\n",
              "    40% {\n",
              "      border-color: transparent;\n",
              "      border-right-color: var(--fill-color);\n",
              "      border-top-color: var(--fill-color);\n",
              "    }\n",
              "    60% {\n",
              "      border-color: transparent;\n",
              "      border-right-color: var(--fill-color);\n",
              "    }\n",
              "    80% {\n",
              "      border-color: transparent;\n",
              "      border-right-color: var(--fill-color);\n",
              "      border-bottom-color: var(--fill-color);\n",
              "    }\n",
              "    90% {\n",
              "      border-color: transparent;\n",
              "      border-bottom-color: var(--fill-color);\n",
              "    }\n",
              "  }\n",
              "</style>\n",
              "\n",
              "  <script>\n",
              "    async function quickchart(key) {\n",
              "      const quickchartButtonEl =\n",
              "        document.querySelector('#' + key + ' button');\n",
              "      quickchartButtonEl.disabled = true;  // To prevent multiple clicks.\n",
              "      quickchartButtonEl.classList.add('colab-df-spinner');\n",
              "      try {\n",
              "        const charts = await google.colab.kernel.invokeFunction(\n",
              "            'suggestCharts', [key], {});\n",
              "      } catch (error) {\n",
              "        console.error('Error during call to suggestCharts:', error);\n",
              "      }\n",
              "      quickchartButtonEl.classList.remove('colab-df-spinner');\n",
              "      quickchartButtonEl.classList.add('colab-df-quickchart-complete');\n",
              "    }\n",
              "    (() => {\n",
              "      let quickchartButtonEl =\n",
              "        document.querySelector('#df-94f4e9b0-1b5f-4213-ad73-378e293bbe4c button');\n",
              "      quickchartButtonEl.style.display =\n",
              "        google.colab.kernel.accessAllowed ? 'block' : 'none';\n",
              "    })();\n",
              "  </script>\n",
              "</div>\n",
              "    </div>\n",
              "  </div>\n"
            ]
          },
          "metadata": {},
          "execution_count": 76
        }
      ],
      "source": [
        "from tqdm import tqdm\n",
        "\n",
        "# Load data\n",
        "df = pd.read_csv('drive/MyDrive/Sports_and_Outdoors_5_2016_2018.csv')\n",
        "df = df.dropna()\n",
        "df = df[['reviewerID', 'asin', 'overall']]\n",
        "df = df.drop_duplicates()\n",
        "# Group by reviewerID and build a list of (asin, overall) tuples\n",
        "df = df.groupby('reviewerID')[['asin', 'overall']].apply(lambda x: list(zip(x['asin'], x['overall']))).reset_index(name='items')\n",
        "df['items'] = df['items'].apply(lambda x: list(set(x)))\n",
        "df"
      ]
    },
    {
      "cell_type": "code",
      "execution_count": null,
      "metadata": {
        "colab": {
          "base_uri": "https://localhost:8080/"
        },
        "id": "UHxgOvSraq1b",
        "outputId": "2dec7891-c860-41e4-853e-aa01abd1fd7a"
      },
      "outputs": [
        {
          "output_type": "stream",
          "name": "stdout",
          "text": [
            "Index(['asin', 'title', 'price', 'salesRank'], dtype='object')\n",
            "Number of 0 in price column: 0\n"
          ]
        }
      ],
      "source": [
        "# Load metadata\n",
        "df_meta = pd.read_csv('drive/MyDrive/meta_Sports_and_Outdoors.csv')\n",
        "print(df_meta.columns)\n",
        "df_meta = df_meta[['asin', 'price']]\n",
        "df_meta = df_meta.dropna()\n",
        "df_meta = df_meta.drop_duplicates()\n",
        "# Remove $ sign\n",
        "def is_price(x):\n",
        "    try:\n",
        "        float(x)\n",
        "        return True\n",
        "    except:\n",
        "        return False\n",
        "def remove_dollar(x):\n",
        "    \"\"\"\n",
        "    Parse price column to float\n",
        "    :param x:\n",
        "    :return:\n",
        "    \"\"\"\n",
        "    x = x.replace('$', '')\n",
        "    # Remove space\n",
        "    x = x.replace(' ', '')\n",
        "    x = x.replace(',','')\n",
        "    # If x contains a range, take the mean\n",
        "    try:\n",
        "        if '-' in x:\n",
        "            x = x.split('-')\n",
        "\n",
        "            return (float(x[0]) + float(x[1])) / 2\n",
        "        return float(x)\n",
        "    except:\n",
        "        return 0\n",
        "df_meta['price'] = df_meta['price'].apply(remove_dollar)\n",
        "# Count number of 0\n",
        "\n",
        "mean_price = df_meta[df_meta['price'] != 0]['price'].mean()\n",
        "df_meta['price'] = df_meta['price'].apply(lambda x: mean_price if x == 0 else x)\n",
        "\n",
        "print('Number of 0 in price column: {}'.format(df_meta['price'].apply(lambda x: x == 0).sum()))\n"
      ]
    },
    {
      "cell_type": "code",
      "execution_count": null,
      "metadata": {
        "id": "YoQbGZUGNSvu"
      },
      "outputs": [],
      "source": [
        "found = [0,0]\n",
        "def get_profit(item, profit_db):\n",
        "    \"\"\"\n",
        "    Get the profit of an item\n",
        "    :param item:\n",
        "    :param profit_db: dictionary of profit\n",
        "    :return:\n",
        "    \"\"\"\n",
        "    if item in profit_db:\n",
        "        found[0] += 1\n",
        "        return Decimal(profit_db[item])\n",
        "    else:\n",
        "        found[1] +=1\n",
        "        return Decimal(0)"
      ]
    },
    {
      "cell_type": "code",
      "execution_count": null,
      "metadata": {
        "id": "Yn85iyLWXPNC"
      },
      "outputs": [],
      "source": [
        "def u(pattern, transaction, profit_db):\n",
        "    \"\"\"\n",
        "    Compute the utility of a pattern in a transaction\n",
        "    :param pattern:\n",
        "    :param transaction:\n",
        "    :return:\n",
        "    \"\"\"\n",
        "    utility = 0\n",
        "    for item in pattern:\n",
        "        for i in range(len(transaction)):\n",
        "            #print('transaciton_u: ', transaction)\n",
        "            #print('trannsaction_u[i]: ',transaction[i])\n",
        "            # print(\"item: \", item)\n",
        "            if item[0] == transaction[i][0]:\n",
        "                profit = get_profit(item[0], profit_db)\n",
        "                quantity = Decimal(transaction[i][1])\n",
        "                utility += quantity * profit\n",
        "    return utility"
      ]
    },
    {
      "cell_type": "code",
      "execution_count": null,
      "metadata": {
        "id": "NU3j6k2fXX4n"
      },
      "outputs": [],
      "source": [
        "def U(pattern, transactions, profit_db):\n",
        "    \"\"\"\n",
        "    Compute the utility of a pattern in a transaction\n",
        "    :param pattern:\n",
        "    :param transaction:\n",
        "    :return:\n",
        "    \"\"\"\n",
        "    utility = 0\n",
        "    for transaction in transactions:\n",
        "        utility += u(pattern, transaction, profit_db)\n",
        "    return utility"
      ]
    },
    {
      "cell_type": "code",
      "execution_count": null,
      "metadata": {
        "id": "aHriQc2sXZdc"
      },
      "outputs": [],
      "source": [
        "def v(l, i, transaction, profit_db, verbose=False):\n",
        "    if l == 1:\n",
        "        res = Decimal(0.)\n",
        "        for j in range(min(i, len(transaction))):\n",
        "            w = Decimal(transaction[j][1]) * get_profit(transaction[j][0], profit_db)\n",
        "            if verbose:\n",
        "                print('q: ', transaction[j])\n",
        "                print('p: ',get_profit(transaction[j][0], profit_db) )\n",
        "                print(\"w: \", w)\n",
        "            res+= w\n",
        "        return res\n",
        "    else:\n",
        "        if verbose:\n",
        "            print(\"Cobination: \",combination(i-1, l-1))\n",
        "            print('v: ', v(1,i,transaction, profit_db))\n",
        "        return combination(i-1, l-1) * v(1, i, transaction, profit_db)\n",
        "\n",
        "def f(l, nu, M):\n",
        "    return Decimal(1/l) if nu <= l <= M else Decimal(0)"
      ]
    },
    {
      "cell_type": "code",
      "execution_count": null,
      "metadata": {
        "colab": {
          "base_uri": "https://localhost:8080/"
        },
        "id": "c6FBol2WbRIx",
        "outputId": "0b6b5e2e-8c8e-4086-8cf0-e4fb588d4755"
      },
      "outputs": [
        {
          "output_type": "stream",
          "name": "stderr",
          "text": [
            "403027it [02:34, 2614.56it/s]\n"
          ]
        }
      ],
      "source": [
        "# Build a profit dictionary\n",
        "profit_db = {}\n",
        "for id, row in tqdm(df_meta.iterrows()):\n",
        "    profit_db[row['asin']] = row['price']"
      ]
    },
    {
      "cell_type": "code",
      "execution_count": null,
      "metadata": {
        "id": "Qev893FHaeqj"
      },
      "outputs": [],
      "source": [
        "def jump_dichotomic_search(alpha, l, pattern_utility, transaction, profit_db):\n",
        "    \"\"\"\n",
        "    Find i so that alpha is between binf and bsup\n",
        "    :param alpha:\n",
        "    :param l:\n",
        "    :param pattern_utility:\n",
        "    :param transaction:\n",
        "    :param profit_db:\n",
        "    :param binf:\n",
        "    :param bsup:\n",
        "\n",
        "    :return:\n",
        "    \"\"\"\n",
        "    i = len(transaction) // 2\n",
        "    i_inf = 0\n",
        "    i_sup = len(transaction) - 1\n",
        "    while True:\n",
        "        if i == i_inf or i == i_sup or i_sup - i_inf == 1:\n",
        "            return i\n",
        "        if alpha < v(l, i, transaction, profit_db) + combination(i, l) * pattern_utility:\n",
        "            i_sup = i\n",
        "            i = i_inf + (i_sup - i_inf) // 2\n",
        "        elif alpha > v(l, i, transaction, profit_db) + combination(i, l) * pattern_utility:\n",
        "            i_inf = i\n",
        "            i = i_inf + (i_sup - i_inf) // 2\n",
        "        else:\n",
        "            return i"
      ]
    },
    {
      "cell_type": "code",
      "execution_count": null,
      "metadata": {
        "colab": {
          "base_uri": "https://localhost:8080/"
        },
        "id": "L3CZU1kUmX93",
        "outputId": "e9464cf0-8294-41a1-d35c-e678c2c4b696"
      },
      "outputs": [
        {
          "output_type": "stream",
          "name": "stderr",
          "text": [
            "100%|██████████| 262051/262051 [01:14<00:00, 3519.54it/s]\n"
          ]
        },
        {
          "output_type": "stream",
          "name": "stdout",
          "text": [
            "Preprocessing took: 75.15898299217224 seconds\n",
            "Found: 1109512\n",
            "Notfound:  205449\n"
          ]
        }
      ],
      "source": [
        "# Preprocessing of QPlus, assigning weight to transaction, once it's done we can perform as sampling as we need\n",
        "import time\n",
        "def preprocessing(transaction, nu,M, profit_db):\n",
        "    w = 0\n",
        "        # if l is inf\n",
        "    if M == np.inf:\n",
        "        return 2**(len(transaction)-1) * sum([item[1]* profit_db[item[0]] for item in transaction])\n",
        "    else:\n",
        "        v_1_i = v(1, len(transaction), transaction, profit_db)\n",
        "        for l in range(nu, M):\n",
        "            v_l_i = combination(len(transaction)-1, l-1) * v_1_i\n",
        "            w += v_l_i * f(l , nu, M)\n",
        "        return w\n",
        "\n",
        "start = time.time()\n",
        "weights = []\n",
        "for transaction in tqdm(df['items']):\n",
        "    weights.append(preprocessing(transaction, 1, 3, profit_db))\n",
        "df['weight'] = weights\n",
        "end = time.time()\n",
        "print('Preprocessing took: {} seconds'.format(end - start))\n",
        "df['cumweight'] = df['weight'].cumsum()\n",
        "print('Found:', found[0])\n",
        "print('Notfound: ', found[1])"
      ]
    },
    {
      "cell_type": "code",
      "execution_count": null,
      "metadata": {
        "colab": {
          "base_uri": "https://localhost:8080/"
        },
        "id": "4mGXWav1iNqT",
        "outputId": "42ac997d-e658-4a78-fbfd-9adcfc3e5b79"
      },
      "outputs": [
        {
          "output_type": "stream",
          "name": "stdout",
          "text": [
            "3520041.286427845606397113439\n"
          ]
        }
      ],
      "source": [
        "print(np.max(df['weight']))"
      ]
    },
    {
      "cell_type": "code",
      "execution_count": null,
      "metadata": {
        "id": "oPp0jRnHXbz-"
      },
      "outputs": [],
      "source": [
        "def qplus(df, nu, M, profit_db):\n",
        "    \"\"\"\n",
        "    Sample a pattern from the transactional database according to its utility\n",
        "    :param df:\n",
        "    :param nu:\n",
        "    :param M:\n",
        "    :return:\n",
        "    \"\"\"\n",
        "\n",
        "    # Sample pattern\n",
        "    # Draw a transaction t from df proportionally to its weight\n",
        "    random = Decimal(np.random.random()) * df['weight'].sum()\n",
        "    index = binary_search(df['cumweight'].tolist(), random)\n",
        "    transaction = df['items'][index]\n",
        "    # print('Transaction weight:', df['weight'][index])\n",
        "    # Draw integer l from nu to M<with a probaility equals to\n",
        "    length_weight = [v(l, len(transaction), transaction, profit_db) * f(l , nu, M) / df['weight'][index] for l in range(nu, M)]\n",
        "    # print('len weight: ', length_weight)\n",
        "    # print('v: ',v(3, len(transaction), transaction, profit_db))\n",
        "    # print('f: ', f(3, nu, M))\n",
        "    # print(len(transaction))\n",
        "    # Normalize length_weightµ\n",
        "    # print(sum(length_weight))\n",
        "    length_weight = [w / sum(length_weight) for w in length_weight]\n",
        "    l = int(np.random.choice(range(nu, M), p=length_weight))\n",
        "    pattern = []\n",
        "    j = len(transaction)\n",
        "    while l > 0:\n",
        "        #print(\"l: \", l)\n",
        "        # print('Transaction:', transaction)\n",
        "        pattern_utility = U(pattern, df['items'], profit_db)\n",
        "        # print(type(j))\n",
        "        # print(type(l))\n",
        "        alpha = Decimal(np.random.random()) * v(l,j, transaction, profit_db) +combination(j-1, l-1) * pattern_utility\n",
        "        i = 1\n",
        "        # print(\"l: \", l)\n",
        "        # print(\"Pattern utility: \", pattern_utility)\n",
        "        # print(\"v___: \", v(l, i-1, transaction, profit_db))\n",
        "        # print('Binf')\n",
        "        binf = v(l, i-1, transaction, profit_db, verbose=False) + combination(i-1, l) * pattern_utility\n",
        "        # print('Bsup:')\n",
        "        bsup = v(l, i, transaction, profit_db, verbose=False) + combination(i, l) * pattern_utility\n",
        "        i = int(jump_dichotomic_search(alpha, l, pattern_utility, transaction, profit_db))\n",
        "        # print(binf, bsup)\n",
        "        # print(\"i: \",i)\n",
        "        # print(transaction[i])\n",
        "        pattern.append(transaction[i])\n",
        "        l -= 1\n",
        "        j = i\n",
        "    return pattern"
      ]
    },
    {
      "cell_type": "code",
      "source": [
        "utility = U(pattern, df['items'],profit_db)"
      ],
      "metadata": {
        "id": "Y0a8mPsjPOMe"
      },
      "execution_count": null,
      "outputs": []
    },
    {
      "cell_type": "code",
      "source": [
        "print(utility)"
      ],
      "metadata": {
        "colab": {
          "base_uri": "https://localhost:8080/"
        },
        "id": "cWliWweSPCy1",
        "outputId": "6d0529ad-70f6-48b4-8403-9456f9126f61"
      },
      "execution_count": null,
      "outputs": [
        {
          "output_type": "stream",
          "name": "stdout",
          "text": [
            "10701.27999999999958902208164\n"
          ]
        }
      ]
    },
    {
      "cell_type": "code",
      "execution_count": null,
      "metadata": {
        "id": "s6S99I0IajPV",
        "colab": {
          "base_uri": "https://localhost:8080/"
        },
        "outputId": "0272e346-f683-4252-e633-a23bf1dd23fd"
      },
      "outputs": [
        {
          "output_type": "stream",
          "name": "stderr",
          "text": [
            "100%|██████████| 100/100 [05:50<00:00,  3.51s/it]"
          ]
        },
        {
          "output_type": "stream",
          "name": "stdout",
          "text": [
            "Took 350.80177092552185 seconds for 100 calls\n"
          ]
        },
        {
          "output_type": "stream",
          "name": "stderr",
          "text": [
            "\n"
          ]
        }
      ],
      "source": [
        "patterns=[]\n",
        "start = time.time()\n",
        "for _ in tqdm(range(100)):\n",
        "    patterns.append(qplus(df, 3,7, profit_db))\n",
        "end = time.time()\n",
        "print(f'Took {end-start} seconds for 100 calls')"
      ]
    },
    {
      "cell_type": "code",
      "execution_count": null,
      "metadata": {
        "id": "WdC0s0s0aoVI",
        "colab": {
          "base_uri": "https://localhost:8080/"
        },
        "outputId": "ed181d7f-004b-4015-ebf1-855226cc6608"
      },
      "outputs": [
        {
          "output_type": "stream",
          "name": "stderr",
          "text": [
            "100%|██████████| 100/100 [02:22<00:00,  1.42s/it]"
          ]
        },
        {
          "output_type": "stream",
          "name": "stdout",
          "text": [
            "Mean utility: 133514.0305627134971437719424\n"
          ]
        },
        {
          "output_type": "stream",
          "name": "stderr",
          "text": [
            "\n"
          ]
        }
      ],
      "source": [
        "Us = []\n",
        "for pattern in tqdm(patterns):\n",
        "    Us.append(U(pattern, df['items'], profit_db))\n",
        "print(f'Mean utility: {np.mean(Us)}')"
      ]
    },
    {
      "cell_type": "code",
      "source": [
        "print(f'Mean utility: {np.mean(Us)}')"
      ],
      "metadata": {
        "colab": {
          "base_uri": "https://localhost:8080/"
        },
        "id": "aLy82911LzDZ",
        "outputId": "b83074af-2667-49c0-94b6-46882af300d2"
      },
      "execution_count": null,
      "outputs": [
        {
          "output_type": "stream",
          "name": "stdout",
          "text": [
            "Mean utility: 133514.0305627134971437719424\n"
          ]
        }
      ]
    },
    {
      "cell_type": "code",
      "source": [
        "profit_db['B00IJP4HGG']"
      ],
      "metadata": {
        "colab": {
          "base_uri": "https://localhost:8080/"
        },
        "id": "HYw7awZ2F_hH",
        "outputId": "bf3e3f1e-7675-4fa8-8f43-3951a12e226f"
      },
      "execution_count": null,
      "outputs": [
        {
          "output_type": "execute_result",
          "data": {
            "text/plain": [
              "39.95"
            ]
          },
          "metadata": {},
          "execution_count": 155
        }
      ]
    },
    {
      "cell_type": "code",
      "source": [
        "# Plot the distribution of the pattern length\n",
        "import matplotlib.pyplot as plt\n",
        "patterns_len = [len(pattern) for pattern in patterns]\n",
        "plt.hist(patterns_len)\n",
        "plt.title('Length distribution on sampled pattern')\n",
        "plt.xlabel('Length')\n",
        "plt.ylabel('Number of pattern')\n",
        "plt.show()"
      ],
      "metadata": {
        "colab": {
          "base_uri": "https://localhost:8080/",
          "height": 472
        },
        "id": "pljdudjbGEbS",
        "outputId": "68e7a5e0-797e-4353-c33c-cdcf46fe11f8"
      },
      "execution_count": null,
      "outputs": [
        {
          "output_type": "display_data",
          "data": {
            "text/plain": [
              "<Figure size 640x480 with 1 Axes>"
            ],
            "image/png": "[encoded data removed]"
          },
          "metadata": {}
        }
      ]
    },
    {
      "cell_type": "code",
      "source": [
        "\n",
        "plt.xlabel('Pattern utility')\n",
        "plt.ylabel('Frequency')\n",
        "# Add the mean len of transaction to the plot\n",
        "plt.axvline(np.mean(Us), color='red', linestyle='dashed', linewidth=1)\n",
        "plt.hist(Us, bins=20)\n",
        "plt.title('Pattern utility distribution')\n",
        "plt.savefig('pattern_utility_distribution.png')"
      ],
      "metadata": {
        "colab": {
          "base_uri": "https://localhost:8080/",
          "height": 472
        },
        "id": "z5Uhj8vFMyql",
        "outputId": "85131470-f44a-4364-f07e-80ffde1c7692"
      },
      "execution_count": null,
      "outputs": [
        {
          "output_type": "display_data",
          "data": {
            "text/plain": [
              "<Figure size 640x480 with 1 Axes>"
            ],
            "image/png": "[encoded data removed]"
          },
          "metadata": {}
        }
      ]
    },
    {
      "cell_type": "code",
      "source": [],
      "metadata": {
        "id": "qzt4YHwFOBc3"
      },
      "execution_count": null,
      "outputs": []
    }
  ],
  "metadata": {
    "colab": {
      "provenance": []
    },
    "kernelspec": {
      "display_name": "Python 3",
      "name": "python3"
    },
    "language_info": {
      "name": "python"
    }
  },
  "nbformat": 4,
  "nbformat_minor": 0
}