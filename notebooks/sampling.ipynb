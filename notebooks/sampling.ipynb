{
 "cells": [
  {
   "cell_type": "code",
   "execution_count": 11,
   "id": "initial_id",
   "metadata": {
    "ExecuteTime": {
     "end_time": "2023-10-30T19:41:16.262781718Z",
     "start_time": "2023-10-30T19:41:16.215612179Z"
    }
   },
   "outputs": [],
   "source": [
    "import pandas as pd\n",
    "import numpy as np\n",
    "import matplotlib.pyplot as plt\n"
   ]
  },
  {
   "cell_type": "code",
   "execution_count": 12,
   "id": "68be336b3264be13",
   "metadata": {
    "collapsed": false,
    "ExecuteTime": {
     "end_time": "2023-10-30T19:41:23.235865167Z",
     "start_time": "2023-10-30T19:41:16.625295628Z"
    }
   },
   "outputs": [],
   "source": [
    "# Load data between 2026 and 2018\n",
    "\n",
    "df = pd.read_csv('../data/Sports_and_Outdoors_5_2016_2018.csv')\n",
    "df = df.dropna()\n",
    "df = df[['reviewerID', 'asin']]\n",
    "df = df.drop_duplicates()\n",
    "df = df.groupby('reviewerID')['asin'].apply(list).reset_index(name='items')\n",
    "df['items'] = df['items'].apply(lambda x: list(set(x)))\n",
    "df = df.head(100000)"
   ]
  },
  {
   "cell_type": "code",
   "execution_count": null,
   "id": "3d375f2f8afb98cf",
   "metadata": {
    "collapsed": false,
    "is_executing": true
   },
   "outputs": [],
   "source": [
    "# Add a columns for the len of items list\n",
    "df['len'] = df['items'].apply(lambda x: len(x))\n",
    "df.head()"
   ]
  },
  {
   "cell_type": "code",
   "execution_count": 20,
   "id": "d49f7c57dfd83abd",
   "metadata": {
    "collapsed": false,
    "ExecuteTime": {
     "end_time": "2023-10-30T19:47:43.616608010Z",
     "start_time": "2023-10-30T19:47:43.614654133Z"
    }
   },
   "outputs": [
    {
     "data": {
      "text/plain": "Decimal('5.192296858534827628530496329E+33')"
     },
     "execution_count": 14,
     "metadata": {},
     "output_type": "execute_result"
    },
    {
     "data": {
      "text/plain": "100000"
     },
     "execution_count": 20,
     "metadata": {},
     "output_type": "execute_result"
    }
   ],
   "source": [
    "# Add weight to rows according to the number of combinations in the items list (2** len(items))\n",
    "df['weight'] = df['len'].apply(lambda x: 2**x)\n",
    "df.head()"
   ]
  },
  {
   "cell_type": "code",
   "execution_count": 15,
   "id": "99688b81e4e211a2",
   "metadata": {
    "collapsed": false,
    "ExecuteTime": {
     "end_time": "2023-10-30T19:41:23.385969585Z",
     "start_time": "2023-10-30T19:41:23.312537655Z"
    }
   },
   "outputs": [
    {
     "data": {
      "text/plain": "Decimal('5.192301818663394343626532155E+33')"
     },
     "execution_count": 15,
     "metadata": {},
     "output_type": "execute_result"
    }
   ],
   "source": [
    "# Add a column cumweight to calculate the cumulative weight\n",
    "df['cumweight'] = df['weight'].cumsum()\n",
    "sum_weight = df['weight'].sum()\n"
   ]
  },
  {
   "cell_type": "code",
   "execution_count": 16,
   "id": "6e284ceb53f71338",
   "metadata": {
    "collapsed": false,
    "ExecuteTime": {
     "end_time": "2023-10-30T19:41:23.386661303Z",
     "start_time": "2023-10-30T19:41:23.325138771Z"
    }
   },
   "outputs": [],
   "source": [
    "print(np.max(df['len']))\n",
    "print(np.sort(df['len'])[-10:])"
   ]
  },
  {
   "cell_type": "code",
   "execution_count": 18,
   "id": "f6ee22fdec931eb8",
   "metadata": {
    "collapsed": false,
    "ExecuteTime": {
     "end_time": "2023-10-30T19:41:44.423911518Z",
     "start_time": "2023-10-30T19:41:44.391429813Z"
    }
   },
   "outputs": [
    {
     "ename": "ValueError",
     "evalue": "high is out of bounds for int64",
     "output_type": "error",
     "traceback": [
      "\u001B[0;31m---------------------------------------------------------------------------\u001B[0m",
      "\u001B[0;31mValueError\u001B[0m                                Traceback (most recent call last)",
      "Cell \u001B[0;32mIn[18], line 4\u001B[0m\n\u001B[1;32m      2\u001B[0m patterns \u001B[38;5;241m=\u001B[39m []\n\u001B[1;32m      3\u001B[0m \u001B[38;5;28;01mfor\u001B[39;00m i \u001B[38;5;129;01min\u001B[39;00m \u001B[38;5;28mrange\u001B[39m(\u001B[38;5;241m1000\u001B[39m):\n\u001B[0;32m----> 4\u001B[0m     patterns\u001B[38;5;241m.\u001B[39mappend(\u001B[43msample\u001B[49m\u001B[43m(\u001B[49m\u001B[43mdf\u001B[49m\u001B[43m,\u001B[49m\u001B[43m \u001B[49m\u001B[43mweight\u001B[49m\u001B[43m,\u001B[49m\u001B[43m \u001B[49m\u001B[43mcumweight\u001B[49m\u001B[43m)\u001B[49m)\n",
      "Cell \u001B[0;32mIn[16], line 24\u001B[0m, in \u001B[0;36msample\u001B[0;34m(transactions, weight, cumsum_weight)\u001B[0m\n\u001B[1;32m     18\u001B[0m \u001B[38;5;250m\u001B[39m\u001B[38;5;124;03m\"\"\"\u001B[39;00m\n\u001B[1;32m     19\u001B[0m \u001B[38;5;124;03mSample a pattern from the transactional database according to its frequency\u001B[39;00m\n\u001B[1;32m     20\u001B[0m \u001B[38;5;124;03m:param transactions: transactional database\u001B[39;00m\n\u001B[1;32m     21\u001B[0m \u001B[38;5;124;03m:return: a pattern\u001B[39;00m\n\u001B[1;32m     22\u001B[0m \u001B[38;5;124;03m\"\"\"\u001B[39;00m\n\u001B[1;32m     23\u001B[0m \u001B[38;5;66;03m# Generate a random number between 0 and the sum of the weights\u001B[39;00m\n\u001B[0;32m---> 24\u001B[0m r \u001B[38;5;241m=\u001B[39m \u001B[43mnp\u001B[49m\u001B[38;5;241;43m.\u001B[39;49m\u001B[43mrandom\u001B[49m\u001B[38;5;241;43m.\u001B[39;49m\u001B[43mrandint\u001B[49m\u001B[43m(\u001B[49m\u001B[38;5;241;43m0\u001B[39;49m\u001B[43m,\u001B[49m\u001B[43m \u001B[49m\u001B[43mcumsum_weight\u001B[49m\u001B[38;5;241;43m.\u001B[39;49m\u001B[43miloc\u001B[49m\u001B[43m[\u001B[49m\u001B[38;5;241;43m-\u001B[39;49m\u001B[38;5;241;43m1\u001B[39;49m\u001B[43m]\u001B[49m\u001B[43m)\u001B[49m\n\u001B[1;32m     25\u001B[0m \u001B[38;5;66;03m# Find the index of the element in the cumulative weight list using a binary search\u001B[39;00m\n\u001B[1;32m     26\u001B[0m index \u001B[38;5;241m=\u001B[39m binary_search(cumweight\u001B[38;5;241m.\u001B[39mtolist(), r)\n",
      "File \u001B[0;32mmtrand.pyx:781\u001B[0m, in \u001B[0;36mnumpy.random.mtrand.RandomState.randint\u001B[0;34m()\u001B[0m\n",
      "File \u001B[0;32m_bounded_integers.pyx:1332\u001B[0m, in \u001B[0;36mnumpy.random._bounded_integers._rand_int64\u001B[0;34m()\u001B[0m\n",
      "\u001B[0;31mValueError\u001B[0m: high is out of bounds for int64"
     ]
    }
   ],
   "source": [
    "import random as rd\n",
    "\n",
    "def binary_search(list, element):\n",
    "    first = 0\n",
    "    last = len(list) - 1\n",
    "    while first <= last:\n",
    "        mid = (first + last) // 2\n",
    "        if list[mid] == element:\n",
    "            return mid  # Element found, return its index\n",
    "        elif element < list[mid]:\n",
    "            last = mid - 1\n",
    "        else:\n",
    "            first = mid + 1\n",
    "    return first  # Element not found, return the index where it should be inserted\n",
    "\n",
    "\n",
    "def sample(transactions):\n",
    "    \"\"\"\n",
    "    Sample a pattern from the transactional database according to its frequency\n",
    "    :param transactions: transactional database\n",
    "    :return: a pattern\n",
    "    \"\"\"\n",
    "    # Generate a random number between 0 and the sum of the weights\n",
    "    r = np.random.randint(0, sum_weight)\n",
    "    # Find the index of the element in the cumulative weight list using a binary search\n",
    "    index = binary_search(df['cumweight'].tolist(), r)\n",
    "    # Sample item in the transaction to create a pattern\n",
    "    pattern = []\n",
    "    for item in df['items'][index]:\n",
    "        if rd.Random().random() <= 0.5:\n",
    "            pattern.append(item)\n",
    "    return pattern"
   ]
  },
  {
   "cell_type": "code",
   "execution_count": 13,
   "id": "a7fa94d6542513eb",
   "metadata": {
    "collapsed": false
   },
   "outputs": [
    {
     "ename": "ValueError",
     "evalue": "high is out of bounds for int64",
     "output_type": "error",
     "traceback": [
      "\u001B[0;31m---------------------------------------------------------------------------\u001B[0m",
      "\u001B[0;31mValueError\u001B[0m                                Traceback (most recent call last)",
      "Cell \u001B[0;32mIn[13], line 4\u001B[0m\n\u001B[1;32m      2\u001B[0m patterns \u001B[38;5;241m=\u001B[39m []\n\u001B[1;32m      3\u001B[0m \u001B[38;5;28;01mfor\u001B[39;00m i \u001B[38;5;129;01min\u001B[39;00m \u001B[38;5;28mrange\u001B[39m(\u001B[38;5;241m1000\u001B[39m):\n\u001B[0;32m----> 4\u001B[0m     patterns\u001B[38;5;241m.\u001B[39mappend(\u001B[43msample\u001B[49m\u001B[43m(\u001B[49m\u001B[43mdf\u001B[49m\u001B[43m)\u001B[49m)\n",
      "Cell \u001B[0;32mIn[12], line 24\u001B[0m, in \u001B[0;36msample\u001B[0;34m(transactions)\u001B[0m\n\u001B[1;32m     18\u001B[0m \u001B[38;5;250m\u001B[39m\u001B[38;5;124;03m\"\"\"\u001B[39;00m\n\u001B[1;32m     19\u001B[0m \u001B[38;5;124;03mSample a pattern from the transactional database according to its frequency\u001B[39;00m\n\u001B[1;32m     20\u001B[0m \u001B[38;5;124;03m:param transactions: transactional database\u001B[39;00m\n\u001B[1;32m     21\u001B[0m \u001B[38;5;124;03m:return: a pattern\u001B[39;00m\n\u001B[1;32m     22\u001B[0m \u001B[38;5;124;03m\"\"\"\u001B[39;00m\n\u001B[1;32m     23\u001B[0m \u001B[38;5;66;03m# Generate a random number between 0 and the sum of the weights\u001B[39;00m\n\u001B[0;32m---> 24\u001B[0m r \u001B[38;5;241m=\u001B[39m \u001B[43mnp\u001B[49m\u001B[38;5;241;43m.\u001B[39;49m\u001B[43mrandom\u001B[49m\u001B[38;5;241;43m.\u001B[39;49m\u001B[43mrandint\u001B[49m\u001B[43m(\u001B[49m\u001B[38;5;241;43m0\u001B[39;49m\u001B[43m,\u001B[49m\u001B[43m \u001B[49m\u001B[43msum_weight\u001B[49m\u001B[43m)\u001B[49m\n\u001B[1;32m     25\u001B[0m \u001B[38;5;66;03m# Find the index of the element in the cumulative weight list using a binary search\u001B[39;00m\n\u001B[1;32m     26\u001B[0m index \u001B[38;5;241m=\u001B[39m binary_search(df[\u001B[38;5;124m'\u001B[39m\u001B[38;5;124mcumweight\u001B[39m\u001B[38;5;124m'\u001B[39m]\u001B[38;5;241m.\u001B[39mtolist(), r)\n",
      "File \u001B[0;32mmtrand.pyx:781\u001B[0m, in \u001B[0;36mnumpy.random.mtrand.RandomState.randint\u001B[0;34m()\u001B[0m\n",
      "File \u001B[0;32m_bounded_integers.pyx:1332\u001B[0m, in \u001B[0;36mnumpy.random._bounded_integers._rand_int64\u001B[0;34m()\u001B[0m\n",
      "\u001B[0;31mValueError\u001B[0m: high is out of bounds for int64"
     ]
    }
   ],
   "source": [
    "# Generate 1000 patterns\n",
    "patterns = []\n",
    "for i in range(1000):\n",
    "    patterns.append(sample(df))"
   ]
  },
  {
   "cell_type": "code",
   "execution_count": null,
   "id": "7e4575f32b69d056",
   "metadata": {
    "collapsed": false
   },
   "outputs": [],
   "source": [
    "# Plot the pattern length distribution\n",
    "pattern_len = [len(pattern) for pattern in patterns]\n",
    "plt.xlabel('Pattern length')\n",
    "plt.ylabel('Frequency')\n",
    "# Add the mean len of transaction to the plot\n",
    "plt.axvline(np.mean(pattern_len), color='red', linestyle='dashed', linewidth=1)\n",
    "plt.hist(pattern_len, bins=20)"
   ]
  },
  {
   "cell_type": "code",
   "execution_count": null,
   "id": "d5e8a4da3d5da343",
   "metadata": {
    "collapsed": false
   },
   "outputs": [],
   "source": [
    "# Compute and plot support of 1000 patterns\n",
    "supports = []\n",
    "for pattern in patterns:\n",
    "    support = df['items'].apply(lambda x: set(pattern).issubset(set(x))).sum()\n",
    "    supports.append(support)\n",
    "plt.xlabel('Support')\n",
    "plt.ylabel('Frequency')\n",
    "# Add the mean support of transaction to the plot\n",
    "plt.axvline(np.mean(supports), color='red', linestyle='dashed', linewidth=1)\n",
    "plt.hist(supports, bins=20)\n",
    "# Add the transactions len distribution to the plot in red with an alpha of 0.5\n",
    "plt.hist(df['len'], bins=20, color='red', alpha=0.5)"
   ]
  },
  {
   "cell_type": "code",
   "execution_count": 1,
   "id": "7b2b345001147347",
   "metadata": {
    "ExecuteTime": {
     "end_time": "2023-10-27T21:41:29.681999075Z",
     "start_time": "2023-10-27T21:41:29.606845592Z"
    },
    "collapsed": false
   },
   "outputs": [
    {
     "ename": "NameError",
     "evalue": "name 'patterns' is not defined",
     "output_type": "error",
     "traceback": [
      "\u001B[0;31m---------------------------------------------------------------------------\u001B[0m",
      "\u001B[0;31mNameError\u001B[0m                                 Traceback (most recent call last)",
      "Cell \u001B[0;32mIn[1], line 2\u001B[0m\n\u001B[1;32m      1\u001B[0m \u001B[38;5;66;03m# Show the first 10 patterns\u001B[39;00m\n\u001B[0;32m----> 2\u001B[0m \u001B[43mpatterns\u001B[49m[:\u001B[38;5;241m10\u001B[39m]\n",
      "\u001B[0;31mNameError\u001B[0m: name 'patterns' is not defined"
     ]
    }
   ],
   "source": [
    "# Show the first 10 patterns\n",
    "patterns[:10]\n"
   ]
  },
  {
   "cell_type": "code",
   "execution_count": null,
   "id": "a5c244727c2c15db",
   "metadata": {
    "collapsed": false
   },
   "outputs": [],
   "source": [
    "# Sample one pattern and compute its support\n",
    "pattern = sample(df)"
   ]
  },
  {
   "cell_type": "code",
   "execution_count": null,
   "id": "ff7ecdadd74a138f",
   "metadata": {
    "collapsed": false
   },
   "outputs": [],
   "source": [
    "# Compute the support of the pattern\n",
    "support = df['items'].apply(lambda x: set(pattern).issubset(set(x))).sum()"
   ]
  },
  {
   "cell_type": "code",
   "execution_count": null,
   "id": "c5b695ed17171855",
   "metadata": {
    "collapsed": false
   },
   "outputs": [],
   "source": [
    "# Reset the dataframe by removing the weight and cumweight columns\n",
    "df = df.drop(['weight', 'cumweight'], axis=1)"
   ]
  },
  {
   "cell_type": "markdown",
   "id": "da75323beaff6402",
   "metadata": {
    "collapsed": false
   },
   "source": [
    "## Frequent pattern sampling with length constraint"
   ]
  },
  {
   "cell_type": "code",
   "execution_count": 7,
   "id": "27412a33f060309f",
   "metadata": {
    "collapsed": false,
    "ExecuteTime": {
     "end_time": "2023-10-29T16:09:33.003825401Z",
     "start_time": "2023-10-29T16:09:32.985168868Z"
    }
   },
   "outputs": [],
   "source": [
    "def factorial(n):\n",
    "    if n < 0:\n",
    "        raise ValueError('n must be positive')\n",
    "    if n == 0:\n",
    "        return 1\n",
    "    else:\n",
    "        return n * factorial(n - 1)\n",
    "\n",
    "def combination(n, k):\n",
    "    return factorial(n) / (factorial(k) * factorial(n - k))"
   ]
  },
  {
   "cell_type": "code",
   "execution_count": null,
   "id": "ccd22a73552dc467",
   "metadata": {
    "collapsed": false
   },
   "outputs": [],
   "source": [
    "# Add weight to df\n",
    "def add_weight(df, min_len, max_len):\n",
    "    df['weight'] = df['len'].apply(lambda x: np.array([combination(x,k) for k in range(min_len, max_len)]).sum())\n",
    "    df['cumweight'] = df['weight'].cumsum()\n",
    "    return df"
   ]
  },
  {
   "cell_type": "code",
   "execution_count": null,
   "id": "fe604352ae5a1971",
   "metadata": {
    "collapsed": false
   },
   "outputs": [],
   "source": [
    "df = add_weight(df, MIN_LEN, MAX_LEN)"
   ]
  },
  {
   "cell_type": "markdown",
   "source": [
    "# High utility pattern sampling with QPlus\n"
   ],
   "metadata": {
    "collapsed": false
   },
   "id": "a0e8655489db041a"
  },
  {
   "cell_type": "code",
   "execution_count": 1,
   "outputs": [
    {
     "ename": "NameError",
     "evalue": "name 'pd' is not defined",
     "output_type": "error",
     "traceback": [
      "\u001B[0;31m---------------------------------------------------------------------------\u001B[0m",
      "\u001B[0;31mNameError\u001B[0m                                 Traceback (most recent call last)",
      "Cell \u001B[0;32mIn[1], line 2\u001B[0m\n\u001B[1;32m      1\u001B[0m \u001B[38;5;66;03m# Load metadata\u001B[39;00m\n\u001B[0;32m----> 2\u001B[0m df_meta \u001B[38;5;241m=\u001B[39m \u001B[43mpd\u001B[49m\u001B[38;5;241m.\u001B[39mread_csv(\u001B[38;5;124m'\u001B[39m\u001B[38;5;124m../data/meta_Sports_and_Outdoors.csv\u001B[39m\u001B[38;5;124m'\u001B[39m)\n\u001B[1;32m      3\u001B[0m df_meta \u001B[38;5;241m=\u001B[39m df_meta[[\u001B[38;5;124m'\u001B[39m\u001B[38;5;124masin\u001B[39m\u001B[38;5;124m'\u001B[39m, \u001B[38;5;124m'\u001B[39m\u001B[38;5;124mprice\u001B[39m\u001B[38;5;124m'\u001B[39m]]\n\u001B[1;32m      4\u001B[0m df_meta \u001B[38;5;241m=\u001B[39m df_meta\u001B[38;5;241m.\u001B[39mdropna()\n",
      "\u001B[0;31mNameError\u001B[0m: name 'pd' is not defined"
     ]
    }
   ],
   "source": [
    "# Load metadata\n",
    "df_meta = pd.read_csv('drive/MyDrive/meta_Sports_and_Outdoors.csv')\n",
    "df_meta = df_meta[['asin', 'price', 'brand']]\n",
    "df_meta = df_meta.dropna()\n",
    "df_meta = df_meta.drop_duplicates()\n",
    "# Remove $ sign\n",
    "def is_price(x):\n",
    "    try:\n",
    "        float(x)\n",
    "        return True\n",
    "    except:\n",
    "        return False\n",
    "def remove_dollar(x):\n",
    "    \"\"\"\n",
    "    Parse price column to float\n",
    "    :param x: \n",
    "    :return: \n",
    "    \"\"\"\n",
    "    x = x.replace('$', '')\n",
    "    # Remove space \n",
    "    x = x.replace(' ', '')\n",
    "    # If x contains a range, take the mean\n",
    "    try:\n",
    "        if '-' in x:\n",
    "            x = x.split('-')\n",
    "\n",
    "            return (float(x[0]) + float(x[1])) / 2\n",
    "        return float(x)\n",
    "    except:\n",
    "        print(x)\n",
    "        return 0\n",
    "df_meta['price'] = df_meta['price'].apply(remove_dollar)\n",
    "# Count number of 0\n",
    "print('Number of 0 in price column: {}'.format(df_meta['price'].apply(lambda x: x == 0).sum()))\n",
    "\n",
    "# For all items in the same brand, replace 0 by the mean of the dataframe prices\n",
    "mean_price = df_meta[df_meta['price'] != 0]['price'].mean()\n",
    "df_meta['price'] = df_meta['price'].apply(lambda x: mean_price if x == 0 else x)\n",
    "\n",
    "print('Number of 0 in price column: {}'.format(df_meta['price'].apply(lambda x: x == 0).sum()))"
   ],
   "metadata": {
    "collapsed": false,
    "ExecuteTime": {
     "end_time": "2023-10-31T09:45:46.555909661Z",
     "start_time": "2023-10-31T09:45:46.478644030Z"
    }
   },
   "id": "351507f2208d2e8a"
  },
  {
   "cell_type": "code",
   "execution_count": null,
   "outputs": [],
   "source": [
    "# Load data\n",
    "df = pd.read_csv('../data/Sports_and_Outdoors_5_2016_2018.csv')\n",
    "df = df.dropna()\n",
    "df = df[['reviewerID', 'asin', 'overall']]\n",
    "df = df.drop_duplicates()\n",
    "# Group by reviewerID and build a list of (asin, overall) tuples\n",
    "df = df.groupby('reviewerID')[['asin', 'overall']].apply(lambda x: list(zip(x['asin'], x['overall']))).reset_index(name='items')\n",
    "df['items'] = df['items'].apply(lambda x: list(set(x)))\n",
    "df = df.head(100000)\n"
   ],
   "metadata": {
    "collapsed": false
   },
   "id": "b1f92c099dec4096"
  },
  {
   "cell_type": "code",
   "execution_count": null,
   "outputs": [],
   "source": [
    "def get_profit(item, profit_db):\n",
    "    \"\"\"\n",
    "    Get the profit of an item\n",
    "    :param item: \n",
    "    :param profit_db: dictionary of profit\n",
    "    :return: \n",
    "    \"\"\"\n",
    "    if item in profit_db:\n",
    "        return profit_db[item]\n",
    "    else:\n",
    "        print('Item {} not found'.format(item))\n",
    "        return 0\n",
    "    return profit_db[item] if item in profit_db else 0"
   ],
   "metadata": {
    "collapsed": false
   },
   "id": "4c39af80d802f019"
  },
  {
   "cell_type": "code",
   "execution_count": null,
   "outputs": [],
   "source": [
    "def u(pattern, transaction, profit_db):\n",
    "    \"\"\"\n",
    "    Compute the utility of a pattern in a transaction\n",
    "    :param pattern: \n",
    "    :param transaction: \n",
    "    :return: \n",
    "    \"\"\"\n",
    "    utility = 0\n",
    "    for item in pattern:\n",
    "        for i in range(len(transaction)):\n",
    "            if item == transaction[i][0]:\n",
    "                profit = profit_db[profit_db['asin'] == item]['price'].values[0]\n",
    "                quantity = transaction[i][1]\n",
    "                utility += quantity * profit\n",
    "    return utility\n",
    "                "
   ],
   "metadata": {
    "collapsed": false
   },
   "id": "2898f49b39c7377f"
  },
  {
   "cell_type": "code",
   "execution_count": null,
   "outputs": [],
   "source": [
    "def U(pattern, transactions, profit_db):\n",
    "    \"\"\"\n",
    "    Compute the utility of a pattern in a transaction\n",
    "    :param pattern: \n",
    "    :param transaction: \n",
    "    :return: \n",
    "    \"\"\"\n",
    "    utility = 0\n",
    "    for transaction in transactions:\n",
    "        utility += u(pattern, transaction, profit_db)\n",
    "    return utility"
   ],
   "metadata": {
    "collapsed": false
   },
   "id": "46f33e7b44a23c0e"
  },
  {
   "cell_type": "code",
   "execution_count": null,
   "outputs": [],
   "source": [
    "def v(l, i, transaction, profit_db):\n",
    "    if l == 1:\n",
    "        v = 0\n",
    "        for j in range(i):\n",
    "            w = transaction[j][1] * profit_db[transaction[j][0]]\n",
    "            v+= w\n",
    "    else:\n",
    "        return combination(i-1, l-1) * v(1, i)\n",
    "    \n",
    "def f(l, nu, M):\n",
    "    return 1 / (M - nu + 1)"
   ],
   "metadata": {
    "collapsed": false
   },
   "id": "9928aaae1ddf1836"
  },
  {
   "cell_type": "code",
   "execution_count": null,
   "outputs": [],
   "source": [
    "# Build a profit dictionary\n",
    "profit_db = {}\n",
    "for id, row in df_meta.iterrows():\n",
    "    profit_db[row['asin']] = row['price']"
   ],
   "metadata": {
    "collapsed": false
   },
   "id": "eb6e3469270bdc4e"
  },
  {
   "cell_type": "code",
   "execution_count": null,
   "outputs": [],
   "source": [
    "# Preprocessing of QPlus, assigning weight to transaction, once it's done we can perform as sampling as we need\n",
    "import time\n",
    "def preprocessing(transaction, nu,M, profit_db):\n",
    "    w = 0\n",
    "        # if l is inf\n",
    "    if M == np.inf:\n",
    "        return 2**(len(transaction)-1) * sum([item[1]* profit_db[item[0]] for item in transaction])\n",
    "    else:\n",
    "        v_1_i = v(1, len(transaction), transaction, profit_db)\n",
    "        for l in range(nu, M):\n",
    "            v_l_i = combination(len(transaction)-1, l-1) * v_1_i\n",
    "            w += v_l_i * f(l , nu, M)\n",
    "        return w\n",
    "\n",
    "start = time.time()\n",
    "weights = []\n",
    "for transaction in tqdm(df['items']):\n",
    "    weights.append(preprocessing(transaction, 1, 3, df_meta))\n",
    "df['weight'] = weights\n",
    "end = time.time()\n",
    "print('Time elapsed: {}'.format(end - start))\n",
    "df['cumweight'] = df['weight'].cumsum()"
   ],
   "metadata": {
    "collapsed": false
   },
   "id": "88d83e16b8c03a76"
  },
  {
   "cell_type": "code",
   "execution_count": null,
   "outputs": [],
   "source": [
    "def qplus(df, nu, M, profit_db):\n",
    "    \"\"\"\n",
    "    Sample a pattern from the transactional database according to its utility\n",
    "    :param df:\n",
    "    :param nu:\n",
    "    :param M:\n",
    "    :return:\n",
    "    \"\"\"\n",
    "\n",
    "    # Sample pattern\n",
    "    # Draw a transaction t from df proportionally to its weight\n",
    "    random = Decimal(np.random.random()) * df['weight'].sum()\n",
    "    index = binary_search(df['cumweight'].tolist(), random)\n",
    "    transaction = df['items'][index]\n",
    "    # Draw integer l from nu to M<with a probaility equals to\n",
    "    length_weight = [v(l, len(transaction), transaction, profit_db) * f(l , nu, M) / df['weight'][index] for l in range(nu, M)]\n",
    "    print(length_weight)\n",
    "    # Normalize length_weight\n",
    "    length_weight = [w / sum(length_weight) for w in length_weight]\n",
    "    l = np.random.choice(range(nu, M), p=length_weight)\n",
    "    pattern = []\n",
    "    j = len(transaction)\n",
    "    while l > 0:\n",
    "        pattern_utility = U(pattern, transaction, profit_db)\n",
    "        alpha = np.random.random() * v(l,j, transaction, profit_db) +combination(j-1, l-1) * pattern_utility\n",
    "        i = 1\n",
    "        binf =v(l, i-1, transaction, profit_db) + combination(i-1, l) * pattern_utility\n",
    "        bsup = v(l, i, transaction, profit_db) + combination(i, l) * pattern_utility\n",
    "        i = jump_dichotomic_search(alpha, l, pattern_utility, transaction, profit_db, binf, bsup)\n",
    "        pattern.append(transaction[i])\n",
    "        l -= 1\n",
    "        j = i\n",
    "    return pattern\n",
    "pattern = qplus(df, 3, 5, df_meta)"
   ],
   "metadata": {
    "collapsed": false
   },
   "id": "6817b064e008632e"
  },
  {
   "cell_type": "code",
   "execution_count": null,
   "outputs": [],
   "source": [
    "# Print pattern utility\n",
    "U(pattern, df['items'], profit_db)"
   ],
   "metadata": {
    "collapsed": false
   },
   "id": "84513f5e7a60edcd"
  }
 ],
 "metadata": {
  "kernelspec": {
   "display_name": "Python 3 (ipykernel)",
   "language": "python",
   "name": "python3"
  },
  "language_info": {
   "codemirror_mode": {
    "name": "ipython",
    "version": 3
   },
   "file_extension": ".py",
   "mimetype": "text/x-python",
   "name": "python",
   "nbconvert_exporter": "python",
   "pygments_lexer": "ipython3",
   "version": "3.10.12"
  }
 },
 "nbformat": 4,
 "nbformat_minor": 5
}
