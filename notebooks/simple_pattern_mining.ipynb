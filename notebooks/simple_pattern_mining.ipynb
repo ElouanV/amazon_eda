{
 "cells": [
  {
   "cell_type": "code",
   "execution_count": 1,
   "id": "12d11146f973e41",
   "metadata": {
    "collapsed": false,
    "ExecuteTime": {
     "end_time": "2023-10-27T12:22:40.386962499Z",
     "start_time": "2023-10-27T12:22:40.032874661Z"
    }
   },
   "outputs": [],
   "source": [
    "import sys\n",
    "sys.path.append('../src')\n",
    "import pandas as pd\n",
    "from tqdm import tqdm\n",
    "DATA_DIR = '../../data'"
   ]
  },
  {
   "cell_type": "code",
   "execution_count": 2,
   "id": "initial_id",
   "metadata": {
    "collapsed": false,
    "ExecuteTime": {
     "end_time": "2023-10-27T12:22:43.560636790Z",
     "start_time": "2023-10-27T12:22:40.389317086Z"
    }
   },
   "outputs": [
    {
     "data": {
      "text/plain": "       reviewerID        asin\n0   ASAE9FBGAJQAH  0899332757\n1  A1TAW91SQSU2AH  0899332757\n2  A1SVGO4GMEOXQ0  0899332757\n3  A36QT6N7N0GF3O  0899332757\n4   AJGZDX7KC5TVQ  0899332757",
      "text/html": "<div>\n<style scoped>\n    .dataframe tbody tr th:only-of-type {\n        vertical-align: middle;\n    }\n\n    .dataframe tbody tr th {\n        vertical-align: top;\n    }\n\n    .dataframe thead th {\n        text-align: right;\n    }\n</style>\n<table border=\"1\" class=\"dataframe\">\n  <thead>\n    <tr style=\"text-align: right;\">\n      <th></th>\n      <th>reviewerID</th>\n      <th>asin</th>\n    </tr>\n  </thead>\n  <tbody>\n    <tr>\n      <th>0</th>\n      <td>ASAE9FBGAJQAH</td>\n      <td>0899332757</td>\n    </tr>\n    <tr>\n      <th>1</th>\n      <td>A1TAW91SQSU2AH</td>\n      <td>0899332757</td>\n    </tr>\n    <tr>\n      <th>2</th>\n      <td>A1SVGO4GMEOXQ0</td>\n      <td>0899332757</td>\n    </tr>\n    <tr>\n      <th>3</th>\n      <td>A36QT6N7N0GF3O</td>\n      <td>0899332757</td>\n    </tr>\n    <tr>\n      <th>4</th>\n      <td>AJGZDX7KC5TVQ</td>\n      <td>0899332757</td>\n    </tr>\n  </tbody>\n</table>\n</div>"
     },
     "execution_count": 2,
     "metadata": {},
     "output_type": "execute_result"
    }
   ],
   "source": [
    "df = pd.read_csv(f'{DATA_DIR}/Sports_and_Outdoors_5_2016_2018.csv')\n",
    "df = df[['reviewerID', 'asin']]\n",
    "df = df.drop_duplicates()\n",
    "df.head()"
   ]
  },
  {
   "cell_type": "code",
   "execution_count": 3,
   "id": "669e7f0ba518bd39",
   "metadata": {
    "collapsed": false,
    "ExecuteTime": {
     "end_time": "2023-10-27T12:22:43.827012049Z",
     "start_time": "2023-10-27T12:22:43.817955635Z"
    }
   },
   "outputs": [
    {
     "name": "stdout",
     "output_type": "stream",
     "text": [
      "<class 'pandas.core.frame.DataFrame'>\n",
      "Int64Index: 1315215 entries, 0 to 1366264\n",
      "Data columns (total 2 columns):\n",
      " #   Column      Non-Null Count    Dtype \n",
      "---  ------      --------------    ----- \n",
      " 0   reviewerID  1315215 non-null  object\n",
      " 1   asin        1315215 non-null  object\n",
      "dtypes: object(2)\n",
      "memory usage: 30.1+ MB\n"
     ]
    }
   ],
   "source": [
    "df.info()"
   ]
  },
  {
   "cell_type": "code",
   "execution_count": 4,
   "id": "ce47e397c7e963f5",
   "metadata": {
    "collapsed": false,
    "ExecuteTime": {
     "end_time": "2023-10-27T12:22:48.948506612Z",
     "start_time": "2023-10-27T12:22:43.846374734Z"
    }
   },
   "outputs": [
    {
     "data": {
      "text/plain": "                  reviewerID  \\\n0       A0001528BGUBOEVR6T5U   \n1       A0024836TBQJ1WBE4VDY   \n2       A0029274J35Q1MYNKUWO   \n3       A0036244LFNO78OM4135   \n4       A0065811S4ANKB4TYHII   \n...                      ...   \n262080         AZZW780H8VJ8N   \n262081         AZZYI1EW1WY3M   \n262082         AZZYVIRS854I7   \n262083         AZZYW4YOE1B6E   \n262084         AZZZJJPHNUQ1T   \n\n                                                    items  \n0                                            [B012ZIGVXE]  \n1       [B001CXFHKC, B00AU67NEA, B0179XHY3Q, B00E2217I...  \n2       [B000LC5S18, B00HTN4R6O, B000N8LMWY, B000N8MUR...  \n3       [B001N3MKT2, B002SK0Y0G, B003BLP0I2, B01BE07ZK...  \n4                    [B0002IMP94, B00OHJDDPY, B004R5V47C]  \n...                                                   ...  \n262080  [B01AAGVWJG, B001O2PKGM, B000O57MPW, B01E4YVCO...  \n262081  [B00DDZGCOW, B00T2V9ONW, B000MBNPHC, B00CPJ546...  \n262082   [B006NZ65L4, B0159JSKYE, B00ZK4ZU1U, B00318CLTG]  \n262083   [B002WN91Q2, B00HN47G1M, B013CVSXF2, B005YPK9SY]  \n262084  [B003BR96CC, B00AGZEOT2, B0002BTNJQ, B005N7Y81...  \n\n[262085 rows x 2 columns]",
      "text/html": "<div>\n<style scoped>\n    .dataframe tbody tr th:only-of-type {\n        vertical-align: middle;\n    }\n\n    .dataframe tbody tr th {\n        vertical-align: top;\n    }\n\n    .dataframe thead th {\n        text-align: right;\n    }\n</style>\n<table border=\"1\" class=\"dataframe\">\n  <thead>\n    <tr style=\"text-align: right;\">\n      <th></th>\n      <th>reviewerID</th>\n      <th>items</th>\n    </tr>\n  </thead>\n  <tbody>\n    <tr>\n      <th>0</th>\n      <td>A0001528BGUBOEVR6T5U</td>\n      <td>[B012ZIGVXE]</td>\n    </tr>\n    <tr>\n      <th>1</th>\n      <td>A0024836TBQJ1WBE4VDY</td>\n      <td>[B001CXFHKC, B00AU67NEA, B0179XHY3Q, B00E2217I...</td>\n    </tr>\n    <tr>\n      <th>2</th>\n      <td>A0029274J35Q1MYNKUWO</td>\n      <td>[B000LC5S18, B00HTN4R6O, B000N8LMWY, B000N8MUR...</td>\n    </tr>\n    <tr>\n      <th>3</th>\n      <td>A0036244LFNO78OM4135</td>\n      <td>[B001N3MKT2, B002SK0Y0G, B003BLP0I2, B01BE07ZK...</td>\n    </tr>\n    <tr>\n      <th>4</th>\n      <td>A0065811S4ANKB4TYHII</td>\n      <td>[B0002IMP94, B00OHJDDPY, B004R5V47C]</td>\n    </tr>\n    <tr>\n      <th>...</th>\n      <td>...</td>\n      <td>...</td>\n    </tr>\n    <tr>\n      <th>262080</th>\n      <td>AZZW780H8VJ8N</td>\n      <td>[B01AAGVWJG, B001O2PKGM, B000O57MPW, B01E4YVCO...</td>\n    </tr>\n    <tr>\n      <th>262081</th>\n      <td>AZZYI1EW1WY3M</td>\n      <td>[B00DDZGCOW, B00T2V9ONW, B000MBNPHC, B00CPJ546...</td>\n    </tr>\n    <tr>\n      <th>262082</th>\n      <td>AZZYVIRS854I7</td>\n      <td>[B006NZ65L4, B0159JSKYE, B00ZK4ZU1U, B00318CLTG]</td>\n    </tr>\n    <tr>\n      <th>262083</th>\n      <td>AZZYW4YOE1B6E</td>\n      <td>[B002WN91Q2, B00HN47G1M, B013CVSXF2, B005YPK9SY]</td>\n    </tr>\n    <tr>\n      <th>262084</th>\n      <td>AZZZJJPHNUQ1T</td>\n      <td>[B003BR96CC, B00AGZEOT2, B0002BTNJQ, B005N7Y81...</td>\n    </tr>\n  </tbody>\n</table>\n<p>262085 rows × 2 columns</p>\n</div>"
     },
     "execution_count": 4,
     "metadata": {},
     "output_type": "execute_result"
    }
   ],
   "source": [
    "# Transform the dataframe to a transactional dataframe\n",
    "df = df.groupby('reviewerID')['asin'].apply(list).reset_index(name='items')\n",
    "df['items'] = df['items'].apply(lambda x: list(set(x)))\n",
    "df"
   ]
  },
  {
   "cell_type": "code",
   "execution_count": 5,
   "id": "3276d3fedd32f90",
   "metadata": {
    "collapsed": false,
    "ExecuteTime": {
     "end_time": "2023-10-27T12:22:48.952843363Z",
     "start_time": "2023-10-27T12:22:48.949319740Z"
    }
   },
   "outputs": [],
   "source": [
    "df = df.head(100000)"
   ]
  },
  {
   "cell_type": "code",
   "execution_count": 6,
   "id": "49c37c628248e537",
   "metadata": {
    "collapsed": false,
    "ExecuteTime": {
     "end_time": "2023-10-27T12:22:49.018469719Z",
     "start_time": "2023-10-27T12:22:48.953100620Z"
    }
   },
   "outputs": [
    {
     "data": {
      "text/plain": "100000"
     },
     "execution_count": 6,
     "metadata": {},
     "output_type": "execute_result"
    }
   ],
   "source": [
    "# Count number of unique reviewers\n",
    "reviewers = df['reviewerID'].unique()\n",
    "len(reviewers)"
   ]
  },
  {
   "cell_type": "code",
   "execution_count": 7,
   "id": "23099e32a746c355",
   "metadata": {
    "collapsed": false,
    "ExecuteTime": {
     "end_time": "2023-10-27T12:22:49.398884920Z",
     "start_time": "2023-10-27T12:22:49.029230999Z"
    }
   },
   "outputs": [],
   "source": [
    "from mlxtend.preprocessing import TransactionEncoder\n",
    "from mlxtend.frequent_patterns import apriori, association_rules\n",
    "import pandas as pd"
   ]
  },
  {
   "cell_type": "code",
   "execution_count": 8,
   "id": "5b7b0e0d0db7d82e",
   "metadata": {
    "collapsed": false,
    "ExecuteTime": {
     "end_time": "2023-10-27T12:22:50.623664621Z",
     "start_time": "2023-10-27T12:22:49.426054712Z"
    }
   },
   "outputs": [
    {
     "data": {
      "text/plain": "       0899332757  0899333257  0971100764  1926644425  3843518912  7245456275  \\\n0           False       False       False       False       False       False   \n1           False       False       False       False       False       False   \n2           False       False       False       False       False       False   \n3           False       False       False       False       False       False   \n4           False       False       False       False       False       False   \n...           ...         ...         ...         ...         ...         ...   \n99995       False       False       False       False       False       False   \n99996       False       False       False       False       False       False   \n99997       False       False       False       False       False       False   \n99998       False       False       False       False       False       False   \n99999       False       False       False       False       False       False   \n\n       7245456313  9877000490  B000002NUS  B000002NUT  ...  B01HJ4DN08  \\\n0           False       False       False       False  ...       False   \n1           False       False       False       False  ...       False   \n2           False       False       False       False  ...       False   \n3           False       False       False       False  ...       False   \n4           False       False       False       False  ...       False   \n...           ...         ...         ...         ...  ...         ...   \n99995       False       False       False       False  ...       False   \n99996       False       False       False       False  ...       False   \n99997       False       False       False       False  ...       False   \n99998       False       False       False       False  ...       False   \n99999       False       False       False       False  ...       False   \n\n       B01HJ4EYS8  B01HJ8YC0Y  B01HJA241G  B01HJA7KWE  B01HJDGJ1E  B01HJDHNX2  \\\n0           False       False       False       False       False       False   \n1           False       False       False       False       False       False   \n2           False       False       False       False       False       False   \n3           False       False       False       False       False       False   \n4           False       False       False       False       False       False   \n...           ...         ...         ...         ...         ...         ...   \n99995       False       False       False       False       False       False   \n99996       False       False       False       False       False       False   \n99997       False       False       False       False       False       False   \n99998       False       False       False       False       False       False   \n99999       False       False       False       False       False       False   \n\n       B01HJDZ34I  B01HJGAJ9O  B01HJHHBHG  \n0           False       False       False  \n1           False       False       False  \n2           False       False       False  \n3           False       False       False  \n4           False       False       False  \n...           ...         ...         ...  \n99995       False       False       False  \n99996       False       False       False  \n99997       False       False       False  \n99998       False       False       False  \n99999       False       False       False  \n\n[100000 rows x 79230 columns]",
      "text/html": "<div>\n<style scoped>\n    .dataframe tbody tr th:only-of-type {\n        vertical-align: middle;\n    }\n\n    .dataframe tbody tr th {\n        vertical-align: top;\n    }\n\n    .dataframe thead th {\n        text-align: right;\n    }\n</style>\n<table border=\"1\" class=\"dataframe\">\n  <thead>\n    <tr style=\"text-align: right;\">\n      <th></th>\n      <th>0899332757</th>\n      <th>0899333257</th>\n      <th>0971100764</th>\n      <th>1926644425</th>\n      <th>3843518912</th>\n      <th>7245456275</th>\n      <th>7245456313</th>\n      <th>9877000490</th>\n      <th>B000002NUS</th>\n      <th>B000002NUT</th>\n      <th>...</th>\n      <th>B01HJ4DN08</th>\n      <th>B01HJ4EYS8</th>\n      <th>B01HJ8YC0Y</th>\n      <th>B01HJA241G</th>\n      <th>B01HJA7KWE</th>\n      <th>B01HJDGJ1E</th>\n      <th>B01HJDHNX2</th>\n      <th>B01HJDZ34I</th>\n      <th>B01HJGAJ9O</th>\n      <th>B01HJHHBHG</th>\n    </tr>\n  </thead>\n  <tbody>\n    <tr>\n      <th>0</th>\n      <td>False</td>\n      <td>False</td>\n      <td>False</td>\n      <td>False</td>\n      <td>False</td>\n      <td>False</td>\n      <td>False</td>\n      <td>False</td>\n      <td>False</td>\n      <td>False</td>\n      <td>...</td>\n      <td>False</td>\n      <td>False</td>\n      <td>False</td>\n      <td>False</td>\n      <td>False</td>\n      <td>False</td>\n      <td>False</td>\n      <td>False</td>\n      <td>False</td>\n      <td>False</td>\n    </tr>\n    <tr>\n      <th>1</th>\n      <td>False</td>\n      <td>False</td>\n      <td>False</td>\n      <td>False</td>\n      <td>False</td>\n      <td>False</td>\n      <td>False</td>\n      <td>False</td>\n      <td>False</td>\n      <td>False</td>\n      <td>...</td>\n      <td>False</td>\n      <td>False</td>\n      <td>False</td>\n      <td>False</td>\n      <td>False</td>\n      <td>False</td>\n      <td>False</td>\n      <td>False</td>\n      <td>False</td>\n      <td>False</td>\n    </tr>\n    <tr>\n      <th>2</th>\n      <td>False</td>\n      <td>False</td>\n      <td>False</td>\n      <td>False</td>\n      <td>False</td>\n      <td>False</td>\n      <td>False</td>\n      <td>False</td>\n      <td>False</td>\n      <td>False</td>\n      <td>...</td>\n      <td>False</td>\n      <td>False</td>\n      <td>False</td>\n      <td>False</td>\n      <td>False</td>\n      <td>False</td>\n      <td>False</td>\n      <td>False</td>\n      <td>False</td>\n      <td>False</td>\n    </tr>\n    <tr>\n      <th>3</th>\n      <td>False</td>\n      <td>False</td>\n      <td>False</td>\n      <td>False</td>\n      <td>False</td>\n      <td>False</td>\n      <td>False</td>\n      <td>False</td>\n      <td>False</td>\n      <td>False</td>\n      <td>...</td>\n      <td>False</td>\n      <td>False</td>\n      <td>False</td>\n      <td>False</td>\n      <td>False</td>\n      <td>False</td>\n      <td>False</td>\n      <td>False</td>\n      <td>False</td>\n      <td>False</td>\n    </tr>\n    <tr>\n      <th>4</th>\n      <td>False</td>\n      <td>False</td>\n      <td>False</td>\n      <td>False</td>\n      <td>False</td>\n      <td>False</td>\n      <td>False</td>\n      <td>False</td>\n      <td>False</td>\n      <td>False</td>\n      <td>...</td>\n      <td>False</td>\n      <td>False</td>\n      <td>False</td>\n      <td>False</td>\n      <td>False</td>\n      <td>False</td>\n      <td>False</td>\n      <td>False</td>\n      <td>False</td>\n      <td>False</td>\n    </tr>\n    <tr>\n      <th>...</th>\n      <td>...</td>\n      <td>...</td>\n      <td>...</td>\n      <td>...</td>\n      <td>...</td>\n      <td>...</td>\n      <td>...</td>\n      <td>...</td>\n      <td>...</td>\n      <td>...</td>\n      <td>...</td>\n      <td>...</td>\n      <td>...</td>\n      <td>...</td>\n      <td>...</td>\n      <td>...</td>\n      <td>...</td>\n      <td>...</td>\n      <td>...</td>\n      <td>...</td>\n      <td>...</td>\n    </tr>\n    <tr>\n      <th>99995</th>\n      <td>False</td>\n      <td>False</td>\n      <td>False</td>\n      <td>False</td>\n      <td>False</td>\n      <td>False</td>\n      <td>False</td>\n      <td>False</td>\n      <td>False</td>\n      <td>False</td>\n      <td>...</td>\n      <td>False</td>\n      <td>False</td>\n      <td>False</td>\n      <td>False</td>\n      <td>False</td>\n      <td>False</td>\n      <td>False</td>\n      <td>False</td>\n      <td>False</td>\n      <td>False</td>\n    </tr>\n    <tr>\n      <th>99996</th>\n      <td>False</td>\n      <td>False</td>\n      <td>False</td>\n      <td>False</td>\n      <td>False</td>\n      <td>False</td>\n      <td>False</td>\n      <td>False</td>\n      <td>False</td>\n      <td>False</td>\n      <td>...</td>\n      <td>False</td>\n      <td>False</td>\n      <td>False</td>\n      <td>False</td>\n      <td>False</td>\n      <td>False</td>\n      <td>False</td>\n      <td>False</td>\n      <td>False</td>\n      <td>False</td>\n    </tr>\n    <tr>\n      <th>99997</th>\n      <td>False</td>\n      <td>False</td>\n      <td>False</td>\n      <td>False</td>\n      <td>False</td>\n      <td>False</td>\n      <td>False</td>\n      <td>False</td>\n      <td>False</td>\n      <td>False</td>\n      <td>...</td>\n      <td>False</td>\n      <td>False</td>\n      <td>False</td>\n      <td>False</td>\n      <td>False</td>\n      <td>False</td>\n      <td>False</td>\n      <td>False</td>\n      <td>False</td>\n      <td>False</td>\n    </tr>\n    <tr>\n      <th>99998</th>\n      <td>False</td>\n      <td>False</td>\n      <td>False</td>\n      <td>False</td>\n      <td>False</td>\n      <td>False</td>\n      <td>False</td>\n      <td>False</td>\n      <td>False</td>\n      <td>False</td>\n      <td>...</td>\n      <td>False</td>\n      <td>False</td>\n      <td>False</td>\n      <td>False</td>\n      <td>False</td>\n      <td>False</td>\n      <td>False</td>\n      <td>False</td>\n      <td>False</td>\n      <td>False</td>\n    </tr>\n    <tr>\n      <th>99999</th>\n      <td>False</td>\n      <td>False</td>\n      <td>False</td>\n      <td>False</td>\n      <td>False</td>\n      <td>False</td>\n      <td>False</td>\n      <td>False</td>\n      <td>False</td>\n      <td>False</td>\n      <td>...</td>\n      <td>False</td>\n      <td>False</td>\n      <td>False</td>\n      <td>False</td>\n      <td>False</td>\n      <td>False</td>\n      <td>False</td>\n      <td>False</td>\n      <td>False</td>\n      <td>False</td>\n    </tr>\n  </tbody>\n</table>\n<p>100000 rows × 79230 columns</p>\n</div>"
     },
     "execution_count": 8,
     "metadata": {},
     "output_type": "execute_result"
    }
   ],
   "source": [
    "# Use the transaction encoder to transform the dataframe to a one-hot encoded boolean dataframe\n",
    "te = TransactionEncoder()\n",
    "te_ary = te.fit(df['items']).transform(df['items'])\n",
    "df_transactions = pd.DataFrame(te_ary, columns=te.columns_)\n",
    "df_transactions"
   ]
  },
  {
   "cell_type": "code",
   "execution_count": 9,
   "id": "2e366f69-bce7-43d4-b355-5b5e954e3e25",
   "metadata": {
    "ExecuteTime": {
     "end_time": "2023-10-27T12:22:50.632753186Z",
     "start_time": "2023-10-27T12:22:50.625033335Z"
    }
   },
   "outputs": [],
   "source": [
    "# Save df as transactions.csv\n",
    "# df_transactions.to_csv(f'{DATA_DIR}/transactions.csv', index=False)"
   ]
  },
  {
   "cell_type": "code",
   "execution_count": 10,
   "id": "9dea692651ed5c0d",
   "metadata": {
    "collapsed": false,
    "ExecuteTime": {
     "end_time": "2023-10-27T12:23:06.378487667Z",
     "start_time": "2023-10-27T12:22:50.642536129Z"
    }
   },
   "outputs": [
    {
     "name": "stdout",
     "output_type": "stream",
     "text": [
      "Apriori took 15.742182970046997 seconds\n"
     ]
    },
    {
     "data": {
      "text/plain": "     support                                           itemsets\n0    0.00457                                       (B00079ULA8)\n1    0.00320                                       (B000MF63M2)\n2    0.00508                                       (B000VAPCU2)\n3    0.00258                                       (B0012Q2S4W)\n4    0.00461                                       (B00136X6VU)\n..       ...                                                ...\n140  0.00214   (B00VHX8G5A, B00N3XXXCS, B016UQXB5I, B016UQXB26)\n141  0.00214   (B00PD8JOTW, B016UQXB26, B016UQXB5I, B00VHX8G5A)\n142  0.00515   (B00TZ900I4, B00RM8I0LE, B00SI9UB7M, B00SK74C5Y)\n143  0.00507  (B000VAPCU2, B00RM8I0LE, B00SK74C5Y, B00TZ900I...\n144  0.00214  (B00PD8JOTW, B00VHX8G5A, B00N3XXXCS, B016UQXB2...\n\n[145 rows x 2 columns]",
      "text/html": "<div>\n<style scoped>\n    .dataframe tbody tr th:only-of-type {\n        vertical-align: middle;\n    }\n\n    .dataframe tbody tr th {\n        vertical-align: top;\n    }\n\n    .dataframe thead th {\n        text-align: right;\n    }\n</style>\n<table border=\"1\" class=\"dataframe\">\n  <thead>\n    <tr style=\"text-align: right;\">\n      <th></th>\n      <th>support</th>\n      <th>itemsets</th>\n    </tr>\n  </thead>\n  <tbody>\n    <tr>\n      <th>0</th>\n      <td>0.00457</td>\n      <td>(B00079ULA8)</td>\n    </tr>\n    <tr>\n      <th>1</th>\n      <td>0.00320</td>\n      <td>(B000MF63M2)</td>\n    </tr>\n    <tr>\n      <th>2</th>\n      <td>0.00508</td>\n      <td>(B000VAPCU2)</td>\n    </tr>\n    <tr>\n      <th>3</th>\n      <td>0.00258</td>\n      <td>(B0012Q2S4W)</td>\n    </tr>\n    <tr>\n      <th>4</th>\n      <td>0.00461</td>\n      <td>(B00136X6VU)</td>\n    </tr>\n    <tr>\n      <th>...</th>\n      <td>...</td>\n      <td>...</td>\n    </tr>\n    <tr>\n      <th>140</th>\n      <td>0.00214</td>\n      <td>(B00VHX8G5A, B00N3XXXCS, B016UQXB5I, B016UQXB26)</td>\n    </tr>\n    <tr>\n      <th>141</th>\n      <td>0.00214</td>\n      <td>(B00PD8JOTW, B016UQXB26, B016UQXB5I, B00VHX8G5A)</td>\n    </tr>\n    <tr>\n      <th>142</th>\n      <td>0.00515</td>\n      <td>(B00TZ900I4, B00RM8I0LE, B00SI9UB7M, B00SK74C5Y)</td>\n    </tr>\n    <tr>\n      <th>143</th>\n      <td>0.00507</td>\n      <td>(B000VAPCU2, B00RM8I0LE, B00SK74C5Y, B00TZ900I...</td>\n    </tr>\n    <tr>\n      <th>144</th>\n      <td>0.00214</td>\n      <td>(B00PD8JOTW, B00VHX8G5A, B00N3XXXCS, B016UQXB2...</td>\n    </tr>\n  </tbody>\n</table>\n<p>145 rows × 2 columns</p>\n</div>"
     },
     "execution_count": 10,
     "metadata": {},
     "output_type": "execute_result"
    }
   ],
   "source": [
    "# Time the apriori algorithm\n",
    "import time\n",
    "start = time.time()\n",
    "frequent_itemsets = apriori(df_transactions, min_support=0.002, use_colnames=True)\n",
    "end = time.time()\n",
    "print(f'Apriori took {end - start} seconds')\n",
    "# Save frequent itemsets as frequent_itemsets_apriori.csv\n",
    "frequent_itemsets.to_csv(f'{DATA_DIR}/frequent_itemsets_apriori.csv', index=False)\n",
    "frequent_itemsets"
   ]
  },
  {
   "cell_type": "code",
   "execution_count": 11,
   "id": "4e9a840f609475d3",
   "metadata": {
    "collapsed": false,
    "ExecuteTime": {
     "end_time": "2023-10-27T12:23:06.998536846Z",
     "start_time": "2023-10-27T12:23:06.382509834Z"
    }
   },
   "outputs": [
    {
     "data": {
      "text/plain": "<Axes: >"
     },
     "execution_count": 11,
     "metadata": {},
     "output_type": "execute_result"
    },
    {
     "data": {
      "text/plain": "<Figure size 640x480 with 1 Axes>",
      "image/png": "[encoded data removed]"
     },
     "metadata": {},
     "output_type": "display_data"
    }
   ],
   "source": [
    "# Plot distribution of length of frequent itemsets\n",
    "frequent_itemsets['length'] = frequent_itemsets['itemsets'].apply(lambda x: len(x))\n",
    "frequent_itemsets['length'].value_counts().plot.bar()"
   ]
  },
  {
   "cell_type": "code",
   "execution_count": 12,
   "id": "0d33c15f-fdbd-4432-885a-bdfdeafe9ab5",
   "metadata": {
    "ExecuteTime": {
     "end_time": "2023-10-27T12:23:08.973376737Z",
     "start_time": "2023-10-27T12:23:07.004542735Z"
    }
   },
   "outputs": [],
   "source": [
    "# Transform df to row series\n",
    "reviewed_series = df['items'].explode()\n",
    "reviewed_series = reviewed_series.groupby(reviewed_series.index).apply(list)"
   ]
  },
  {
   "cell_type": "code",
   "execution_count": 13,
   "id": "b299ed39-a2e2-4b34-9f0d-ed33a48f0fdb",
   "metadata": {
    "ExecuteTime": {
     "end_time": "2023-10-27T12:23:08.986261764Z",
     "start_time": "2023-10-27T12:23:08.976639361Z"
    }
   },
   "outputs": [],
   "source": [
    "from skmine.itemsets import LCM"
   ]
  },
  {
   "cell_type": "code",
   "execution_count": 14,
   "id": "dcd9d410-6b24-4c37-b71c-8850a79afca6",
   "metadata": {
    "ExecuteTime": {
     "end_time": "2023-10-27T12:23:09.408627743Z",
     "start_time": "2023-10-27T12:23:09.020567231Z"
    }
   },
   "outputs": [
    {
     "name": "stdout",
     "output_type": "stream",
     "text": [
      "Minimum support: 200\n",
      "LCM took 0.33078527450561523 seconds\n"
     ]
    },
    {
     "data": {
      "text/plain": "                                              itemset  support\n0    [B00RM8I0LE, B00SI9UB7M, B00SK74C5Y, B00TZ900I4]      515\n1                                        [B001T7QJ9O]      508\n2                                        [B000VAPCU2]      508\n3   [B000VAPCU2, B00RM8I0LE, B00SI9UB7M, B00SK74C5...      507\n4                [B00136X6VU, B0015LT03G, B0015LY0DG]      461\n..                                                ...      ...\n59                           [B00WQCP6GS, B014W9SY4I]      211\n60                                       [B0072T3X38]      208\n61                                       [B003WU9VKK]      201\n62                                       [B00KQSVRF8]      200\n63                                       [B00UFOYFR0]      200\n\n[64 rows x 2 columns]",
      "text/html": "<div>\n<style scoped>\n    .dataframe tbody tr th:only-of-type {\n        vertical-align: middle;\n    }\n\n    .dataframe tbody tr th {\n        vertical-align: top;\n    }\n\n    .dataframe thead th {\n        text-align: right;\n    }\n</style>\n<table border=\"1\" class=\"dataframe\">\n  <thead>\n    <tr style=\"text-align: right;\">\n      <th></th>\n      <th>itemset</th>\n      <th>support</th>\n    </tr>\n  </thead>\n  <tbody>\n    <tr>\n      <th>0</th>\n      <td>[B00RM8I0LE, B00SI9UB7M, B00SK74C5Y, B00TZ900I4]</td>\n      <td>515</td>\n    </tr>\n    <tr>\n      <th>1</th>\n      <td>[B001T7QJ9O]</td>\n      <td>508</td>\n    </tr>\n    <tr>\n      <th>2</th>\n      <td>[B000VAPCU2]</td>\n      <td>508</td>\n    </tr>\n    <tr>\n      <th>3</th>\n      <td>[B000VAPCU2, B00RM8I0LE, B00SI9UB7M, B00SK74C5...</td>\n      <td>507</td>\n    </tr>\n    <tr>\n      <th>4</th>\n      <td>[B00136X6VU, B0015LT03G, B0015LY0DG]</td>\n      <td>461</td>\n    </tr>\n    <tr>\n      <th>...</th>\n      <td>...</td>\n      <td>...</td>\n    </tr>\n    <tr>\n      <th>59</th>\n      <td>[B00WQCP6GS, B014W9SY4I]</td>\n      <td>211</td>\n    </tr>\n    <tr>\n      <th>60</th>\n      <td>[B0072T3X38]</td>\n      <td>208</td>\n    </tr>\n    <tr>\n      <th>61</th>\n      <td>[B003WU9VKK]</td>\n      <td>201</td>\n    </tr>\n    <tr>\n      <th>62</th>\n      <td>[B00KQSVRF8]</td>\n      <td>200</td>\n    </tr>\n    <tr>\n      <th>63</th>\n      <td>[B00UFOYFR0]</td>\n      <td>200</td>\n    </tr>\n  </tbody>\n</table>\n<p>64 rows × 2 columns</p>\n</div>"
     },
     "execution_count": 14,
     "metadata": {},
     "output_type": "execute_result"
    }
   ],
   "source": [
    "n = len(reviewed_series)\n",
    "ratio = 0.002\n",
    "min_supp = int(n * ratio)\n",
    "\n",
    "print(f'Minimum support: {min_supp}')\n",
    "lcm = LCM(min_supp=min_supp)\n",
    "start = time.time()\n",
    "closed_pattern = lcm.fit_transform(reviewed_series)\n",
    "end = time.time()\n",
    "print(f'LCM took {end - start} seconds')\n",
    "closed_pattern.to_csv(f'{DATA_DIR}/closed_pattern_LCM.csv', index=False)\n",
    "closed_pattern"
   ]
  },
  {
   "cell_type": "code",
   "execution_count": 15,
   "id": "9b69136e-f76d-40a2-9630-a7808fd34d7b",
   "metadata": {
    "ExecuteTime": {
     "end_time": "2023-10-27T12:23:09.514708216Z",
     "start_time": "2023-10-27T12:23:09.372608791Z"
    }
   },
   "outputs": [
    {
     "data": {
      "text/plain": "<Axes: >"
     },
     "execution_count": 15,
     "metadata": {},
     "output_type": "execute_result"
    },
    {
     "data": {
      "text/plain": "<Figure size 640x480 with 1 Axes>",
      "image/png": "[encoded data removed]"
     },
     "metadata": {},
     "output_type": "display_data"
    }
   ],
   "source": [
    "# Plot distribution of length of closed itemsets\n",
    "closed_pattern['length'] = closed_pattern['itemset'].apply(lambda x: len(x))\n",
    "closed_pattern['length'].value_counts().plot.bar()"
   ]
  },
  {
   "cell_type": "code",
   "execution_count": 16,
   "id": "3aa4f2fd-70c7-430b-b110-9fde388f1d77",
   "metadata": {
    "ExecuteTime": {
     "end_time": "2023-10-27T12:23:09.515332921Z",
     "start_time": "2023-10-27T12:23:09.509322867Z"
    }
   },
   "outputs": [
    {
     "data": {
      "text/plain": "      antecedents                                       consequents  \\\n0    (B00136X6VU)                                      (B00079ULA8)   \n1    (B00079ULA8)                                      (B00136X6VU)   \n2    (B0015LT03G)                                      (B00079ULA8)   \n3    (B00079ULA8)                                      (B0015LT03G)   \n4    (B0015LY0DG)                                      (B00079ULA8)   \n..            ...                                               ...   \n465  (B00PD8JOTW)  (B00N3XXXCS, B016UQXB26, B016UQXB5I, B00VHX8G5A)   \n466  (B00VHX8G5A)  (B00PD8JOTW, B016UQXB26, B016UQXB5I, B00N3XXXCS)   \n467  (B00N3XXXCS)  (B00PD8JOTW, B016UQXB26, B016UQXB5I, B00VHX8G5A)   \n468  (B016UQXB26)  (B00PD8JOTW, B00N3XXXCS, B016UQXB5I, B00VHX8G5A)   \n469  (B016UQXB5I)  (B00PD8JOTW, B00N3XXXCS, B016UQXB26, B00VHX8G5A)   \n\n     antecedent support  consequent support  support  confidence        lift  \\\n0               0.00461             0.00457  0.00457    0.991323  216.919740   \n1               0.00457             0.00461  0.00457    1.000000  216.919740   \n2               0.00461             0.00457  0.00457    0.991323  216.919740   \n3               0.00457             0.00461  0.00457    1.000000  216.919740   \n4               0.00461             0.00457  0.00457    0.991323  216.919740   \n..                  ...                 ...      ...         ...         ...   \n465             0.00214             0.00214  0.00214    1.000000  467.289720   \n466             0.00215             0.00214  0.00214    0.995349  465.116279   \n467             0.00214             0.00214  0.00214    1.000000  467.289720   \n468             0.00215             0.00214  0.00214    0.995349  465.116279   \n469             0.00215             0.00214  0.00214    0.995349  465.116279   \n\n     leverage  conviction  zhangs_metric  \n0    0.004549  114.723307        1.00000  \n1    0.004549         inf        0.99996  \n2    0.004549  114.723307        1.00000  \n3    0.004549         inf        0.99996  \n4    0.004549  114.723307        1.00000  \n..        ...         ...            ...  \n465  0.002135         inf        1.00000  \n466  0.002135  214.539900        1.00000  \n467  0.002135         inf        1.00000  \n468  0.002135  214.539900        1.00000  \n469  0.002135  214.539900        1.00000  \n\n[470 rows x 10 columns]",
      "text/html": "<div>\n<style scoped>\n    .dataframe tbody tr th:only-of-type {\n        vertical-align: middle;\n    }\n\n    .dataframe tbody tr th {\n        vertical-align: top;\n    }\n\n    .dataframe thead th {\n        text-align: right;\n    }\n</style>\n<table border=\"1\" class=\"dataframe\">\n  <thead>\n    <tr style=\"text-align: right;\">\n      <th></th>\n      <th>antecedents</th>\n      <th>consequents</th>\n      <th>antecedent support</th>\n      <th>consequent support</th>\n      <th>support</th>\n      <th>confidence</th>\n      <th>lift</th>\n      <th>leverage</th>\n      <th>conviction</th>\n      <th>zhangs_metric</th>\n    </tr>\n  </thead>\n  <tbody>\n    <tr>\n      <th>0</th>\n      <td>(B00136X6VU)</td>\n      <td>(B00079ULA8)</td>\n      <td>0.00461</td>\n      <td>0.00457</td>\n      <td>0.00457</td>\n      <td>0.991323</td>\n      <td>216.919740</td>\n      <td>0.004549</td>\n      <td>114.723307</td>\n      <td>1.00000</td>\n    </tr>\n    <tr>\n      <th>1</th>\n      <td>(B00079ULA8)</td>\n      <td>(B00136X6VU)</td>\n      <td>0.00457</td>\n      <td>0.00461</td>\n      <td>0.00457</td>\n      <td>1.000000</td>\n      <td>216.919740</td>\n      <td>0.004549</td>\n      <td>inf</td>\n      <td>0.99996</td>\n    </tr>\n    <tr>\n      <th>2</th>\n      <td>(B0015LT03G)</td>\n      <td>(B00079ULA8)</td>\n      <td>0.00461</td>\n      <td>0.00457</td>\n      <td>0.00457</td>\n      <td>0.991323</td>\n      <td>216.919740</td>\n      <td>0.004549</td>\n      <td>114.723307</td>\n      <td>1.00000</td>\n    </tr>\n    <tr>\n      <th>3</th>\n      <td>(B00079ULA8)</td>\n      <td>(B0015LT03G)</td>\n      <td>0.00457</td>\n      <td>0.00461</td>\n      <td>0.00457</td>\n      <td>1.000000</td>\n      <td>216.919740</td>\n      <td>0.004549</td>\n      <td>inf</td>\n      <td>0.99996</td>\n    </tr>\n    <tr>\n      <th>4</th>\n      <td>(B0015LY0DG)</td>\n      <td>(B00079ULA8)</td>\n      <td>0.00461</td>\n      <td>0.00457</td>\n      <td>0.00457</td>\n      <td>0.991323</td>\n      <td>216.919740</td>\n      <td>0.004549</td>\n      <td>114.723307</td>\n      <td>1.00000</td>\n    </tr>\n    <tr>\n      <th>...</th>\n      <td>...</td>\n      <td>...</td>\n      <td>...</td>\n      <td>...</td>\n      <td>...</td>\n      <td>...</td>\n      <td>...</td>\n      <td>...</td>\n      <td>...</td>\n      <td>...</td>\n    </tr>\n    <tr>\n      <th>465</th>\n      <td>(B00PD8JOTW)</td>\n      <td>(B00N3XXXCS, B016UQXB26, B016UQXB5I, B00VHX8G5A)</td>\n      <td>0.00214</td>\n      <td>0.00214</td>\n      <td>0.00214</td>\n      <td>1.000000</td>\n      <td>467.289720</td>\n      <td>0.002135</td>\n      <td>inf</td>\n      <td>1.00000</td>\n    </tr>\n    <tr>\n      <th>466</th>\n      <td>(B00VHX8G5A)</td>\n      <td>(B00PD8JOTW, B016UQXB26, B016UQXB5I, B00N3XXXCS)</td>\n      <td>0.00215</td>\n      <td>0.00214</td>\n      <td>0.00214</td>\n      <td>0.995349</td>\n      <td>465.116279</td>\n      <td>0.002135</td>\n      <td>214.539900</td>\n      <td>1.00000</td>\n    </tr>\n    <tr>\n      <th>467</th>\n      <td>(B00N3XXXCS)</td>\n      <td>(B00PD8JOTW, B016UQXB26, B016UQXB5I, B00VHX8G5A)</td>\n      <td>0.00214</td>\n      <td>0.00214</td>\n      <td>0.00214</td>\n      <td>1.000000</td>\n      <td>467.289720</td>\n      <td>0.002135</td>\n      <td>inf</td>\n      <td>1.00000</td>\n    </tr>\n    <tr>\n      <th>468</th>\n      <td>(B016UQXB26)</td>\n      <td>(B00PD8JOTW, B00N3XXXCS, B016UQXB5I, B00VHX8G5A)</td>\n      <td>0.00215</td>\n      <td>0.00214</td>\n      <td>0.00214</td>\n      <td>0.995349</td>\n      <td>465.116279</td>\n      <td>0.002135</td>\n      <td>214.539900</td>\n      <td>1.00000</td>\n    </tr>\n    <tr>\n      <th>469</th>\n      <td>(B016UQXB5I)</td>\n      <td>(B00PD8JOTW, B00N3XXXCS, B016UQXB26, B00VHX8G5A)</td>\n      <td>0.00215</td>\n      <td>0.00214</td>\n      <td>0.00214</td>\n      <td>0.995349</td>\n      <td>465.116279</td>\n      <td>0.002135</td>\n      <td>214.539900</td>\n      <td>1.00000</td>\n    </tr>\n  </tbody>\n</table>\n<p>470 rows × 10 columns</p>\n</div>"
     },
     "execution_count": 16,
     "metadata": {},
     "output_type": "execute_result"
    }
   ],
   "source": [
    "# Extract association rules from the dataframe\n",
    "rules = association_rules(frequent_itemsets, metric=\"confidence\", min_threshold=0.5)\n",
    "rules"
   ]
  },
  {
   "cell_type": "code",
   "execution_count": 17,
   "id": "925ff09c-bf68-4808-abab-3d01d1a64c9e",
   "metadata": {
    "ExecuteTime": {
     "end_time": "2023-10-27T12:23:09.515750443Z",
     "start_time": "2023-10-27T12:23:09.509616875Z"
    }
   },
   "outputs": [
    {
     "data": {
      "text/plain": "                                             itemsets  support  length\n0    [B00RM8I0LE, B00SI9UB7M, B00SK74C5Y, B00TZ900I4]  0.00515       4\n1                                        [B001T7QJ9O]  0.00508       1\n2                                        [B000VAPCU2]  0.00508       1\n3   [B000VAPCU2, B00RM8I0LE, B00SI9UB7M, B00SK74C5...  0.00507       5\n4                [B00136X6VU, B0015LT03G, B0015LY0DG]  0.00461       3\n..                                                ...      ...     ...\n59                           [B00WQCP6GS, B014W9SY4I]  0.00211       2\n60                                       [B0072T3X38]  0.00208       1\n61                                       [B003WU9VKK]  0.00201       1\n62                                       [B00KQSVRF8]  0.00200       1\n63                                       [B00UFOYFR0]  0.00200       1\n\n[64 rows x 3 columns]",
      "text/html": "<div>\n<style scoped>\n    .dataframe tbody tr th:only-of-type {\n        vertical-align: middle;\n    }\n\n    .dataframe tbody tr th {\n        vertical-align: top;\n    }\n\n    .dataframe thead th {\n        text-align: right;\n    }\n</style>\n<table border=\"1\" class=\"dataframe\">\n  <thead>\n    <tr style=\"text-align: right;\">\n      <th></th>\n      <th>itemsets</th>\n      <th>support</th>\n      <th>length</th>\n    </tr>\n  </thead>\n  <tbody>\n    <tr>\n      <th>0</th>\n      <td>[B00RM8I0LE, B00SI9UB7M, B00SK74C5Y, B00TZ900I4]</td>\n      <td>0.00515</td>\n      <td>4</td>\n    </tr>\n    <tr>\n      <th>1</th>\n      <td>[B001T7QJ9O]</td>\n      <td>0.00508</td>\n      <td>1</td>\n    </tr>\n    <tr>\n      <th>2</th>\n      <td>[B000VAPCU2]</td>\n      <td>0.00508</td>\n      <td>1</td>\n    </tr>\n    <tr>\n      <th>3</th>\n      <td>[B000VAPCU2, B00RM8I0LE, B00SI9UB7M, B00SK74C5...</td>\n      <td>0.00507</td>\n      <td>5</td>\n    </tr>\n    <tr>\n      <th>4</th>\n      <td>[B00136X6VU, B0015LT03G, B0015LY0DG]</td>\n      <td>0.00461</td>\n      <td>3</td>\n    </tr>\n    <tr>\n      <th>...</th>\n      <td>...</td>\n      <td>...</td>\n      <td>...</td>\n    </tr>\n    <tr>\n      <th>59</th>\n      <td>[B00WQCP6GS, B014W9SY4I]</td>\n      <td>0.00211</td>\n      <td>2</td>\n    </tr>\n    <tr>\n      <th>60</th>\n      <td>[B0072T3X38]</td>\n      <td>0.00208</td>\n      <td>1</td>\n    </tr>\n    <tr>\n      <th>61</th>\n      <td>[B003WU9VKK]</td>\n      <td>0.00201</td>\n      <td>1</td>\n    </tr>\n    <tr>\n      <th>62</th>\n      <td>[B00KQSVRF8]</td>\n      <td>0.00200</td>\n      <td>1</td>\n    </tr>\n    <tr>\n      <th>63</th>\n      <td>[B00UFOYFR0]</td>\n      <td>0.00200</td>\n      <td>1</td>\n    </tr>\n  </tbody>\n</table>\n<p>64 rows × 3 columns</p>\n</div>"
     },
     "execution_count": 17,
     "metadata": {},
     "output_type": "execute_result"
    }
   ],
   "source": [
    "# Rename the column itemset to itemsets in closed pattern dataframe\n",
    "closed_pattern = closed_pattern.rename(columns={'itemset': 'itemsets'})\n",
    "closed_pattern['support'] = closed_pattern['support'] / len(df)\n",
    "closed_pattern"
   ]
  },
  {
   "cell_type": "code",
   "execution_count": 18,
   "id": "bfc1bd72-63f7-4d24-9a8f-5dad6e762390",
   "metadata": {
    "ExecuteTime": {
     "end_time": "2023-10-27T12:23:09.519492038Z",
     "start_time": "2023-10-27T12:23:09.516208718Z"
    }
   },
   "outputs": [
    {
     "data": {
      "text/plain": "                              antecedents  \\\n0    (B00RM8I0LE, B00TZ900I4, B00SI9UB7M)   \n1    (B00RM8I0LE, B00TZ900I4, B00SK74C5Y)   \n2    (B00TZ900I4, B00SI9UB7M, B00SK74C5Y)   \n3    (B00RM8I0LE, B00SI9UB7M, B00SK74C5Y)   \n4                (B00RM8I0LE, B00TZ900I4)   \n..                                    ...   \n129                          (B016UQXB26)   \n130                          (B00N3XXXCS)   \n131                          (B016UQXB5I)   \n132                          (B014W9SY4I)   \n133                          (B00WQCP6GS)   \n\n                                          consequents  antecedent support  \\\n0                                        (B00SK74C5Y)                 NaN   \n1                                        (B00SI9UB7M)                 NaN   \n2                                        (B00RM8I0LE)                 NaN   \n3                                        (B00TZ900I4)                 NaN   \n4                            (B00SI9UB7M, B00SK74C5Y)                 NaN   \n..                                                ...                 ...   \n129  (B00PD8JOTW, B00N3XXXCS, B016UQXB5I, B00VHX8G5A)                 NaN   \n130  (B00PD8JOTW, B016UQXB26, B016UQXB5I, B00VHX8G5A)                 NaN   \n131  (B00PD8JOTW, B00N3XXXCS, B016UQXB26, B00VHX8G5A)                 NaN   \n132                                      (B00WQCP6GS)                 NaN   \n133                                      (B014W9SY4I)                 NaN   \n\n     consequent support  support  confidence  lift  leverage  conviction  \\\n0                   NaN  0.00515         NaN   NaN       NaN         NaN   \n1                   NaN  0.00515         NaN   NaN       NaN         NaN   \n2                   NaN  0.00515         NaN   NaN       NaN         NaN   \n3                   NaN  0.00515         NaN   NaN       NaN         NaN   \n4                   NaN  0.00515         NaN   NaN       NaN         NaN   \n..                  ...      ...         ...   ...       ...         ...   \n129                 NaN  0.00214         NaN   NaN       NaN         NaN   \n130                 NaN  0.00214         NaN   NaN       NaN         NaN   \n131                 NaN  0.00214         NaN   NaN       NaN         NaN   \n132                 NaN  0.00211         NaN   NaN       NaN         NaN   \n133                 NaN  0.00211         NaN   NaN       NaN         NaN   \n\n     zhangs_metric  \n0              NaN  \n1              NaN  \n2              NaN  \n3              NaN  \n4              NaN  \n..             ...  \n129            NaN  \n130            NaN  \n131            NaN  \n132            NaN  \n133            NaN  \n\n[134 rows x 10 columns]",
      "text/html": "<div>\n<style scoped>\n    .dataframe tbody tr th:only-of-type {\n        vertical-align: middle;\n    }\n\n    .dataframe tbody tr th {\n        vertical-align: top;\n    }\n\n    .dataframe thead th {\n        text-align: right;\n    }\n</style>\n<table border=\"1\" class=\"dataframe\">\n  <thead>\n    <tr style=\"text-align: right;\">\n      <th></th>\n      <th>antecedents</th>\n      <th>consequents</th>\n      <th>antecedent support</th>\n      <th>consequent support</th>\n      <th>support</th>\n      <th>confidence</th>\n      <th>lift</th>\n      <th>leverage</th>\n      <th>conviction</th>\n      <th>zhangs_metric</th>\n    </tr>\n  </thead>\n  <tbody>\n    <tr>\n      <th>0</th>\n      <td>(B00RM8I0LE, B00TZ900I4, B00SI9UB7M)</td>\n      <td>(B00SK74C5Y)</td>\n      <td>NaN</td>\n      <td>NaN</td>\n      <td>0.00515</td>\n      <td>NaN</td>\n      <td>NaN</td>\n      <td>NaN</td>\n      <td>NaN</td>\n      <td>NaN</td>\n    </tr>\n    <tr>\n      <th>1</th>\n      <td>(B00RM8I0LE, B00TZ900I4, B00SK74C5Y)</td>\n      <td>(B00SI9UB7M)</td>\n      <td>NaN</td>\n      <td>NaN</td>\n      <td>0.00515</td>\n      <td>NaN</td>\n      <td>NaN</td>\n      <td>NaN</td>\n      <td>NaN</td>\n      <td>NaN</td>\n    </tr>\n    <tr>\n      <th>2</th>\n      <td>(B00TZ900I4, B00SI9UB7M, B00SK74C5Y)</td>\n      <td>(B00RM8I0LE)</td>\n      <td>NaN</td>\n      <td>NaN</td>\n      <td>0.00515</td>\n      <td>NaN</td>\n      <td>NaN</td>\n      <td>NaN</td>\n      <td>NaN</td>\n      <td>NaN</td>\n    </tr>\n    <tr>\n      <th>3</th>\n      <td>(B00RM8I0LE, B00SI9UB7M, B00SK74C5Y)</td>\n      <td>(B00TZ900I4)</td>\n      <td>NaN</td>\n      <td>NaN</td>\n      <td>0.00515</td>\n      <td>NaN</td>\n      <td>NaN</td>\n      <td>NaN</td>\n      <td>NaN</td>\n      <td>NaN</td>\n    </tr>\n    <tr>\n      <th>4</th>\n      <td>(B00RM8I0LE, B00TZ900I4)</td>\n      <td>(B00SI9UB7M, B00SK74C5Y)</td>\n      <td>NaN</td>\n      <td>NaN</td>\n      <td>0.00515</td>\n      <td>NaN</td>\n      <td>NaN</td>\n      <td>NaN</td>\n      <td>NaN</td>\n      <td>NaN</td>\n    </tr>\n    <tr>\n      <th>...</th>\n      <td>...</td>\n      <td>...</td>\n      <td>...</td>\n      <td>...</td>\n      <td>...</td>\n      <td>...</td>\n      <td>...</td>\n      <td>...</td>\n      <td>...</td>\n      <td>...</td>\n    </tr>\n    <tr>\n      <th>129</th>\n      <td>(B016UQXB26)</td>\n      <td>(B00PD8JOTW, B00N3XXXCS, B016UQXB5I, B00VHX8G5A)</td>\n      <td>NaN</td>\n      <td>NaN</td>\n      <td>0.00214</td>\n      <td>NaN</td>\n      <td>NaN</td>\n      <td>NaN</td>\n      <td>NaN</td>\n      <td>NaN</td>\n    </tr>\n    <tr>\n      <th>130</th>\n      <td>(B00N3XXXCS)</td>\n      <td>(B00PD8JOTW, B016UQXB26, B016UQXB5I, B00VHX8G5A)</td>\n      <td>NaN</td>\n      <td>NaN</td>\n      <td>0.00214</td>\n      <td>NaN</td>\n      <td>NaN</td>\n      <td>NaN</td>\n      <td>NaN</td>\n      <td>NaN</td>\n    </tr>\n    <tr>\n      <th>131</th>\n      <td>(B016UQXB5I)</td>\n      <td>(B00PD8JOTW, B00N3XXXCS, B016UQXB26, B00VHX8G5A)</td>\n      <td>NaN</td>\n      <td>NaN</td>\n      <td>0.00214</td>\n      <td>NaN</td>\n      <td>NaN</td>\n      <td>NaN</td>\n      <td>NaN</td>\n      <td>NaN</td>\n    </tr>\n    <tr>\n      <th>132</th>\n      <td>(B014W9SY4I)</td>\n      <td>(B00WQCP6GS)</td>\n      <td>NaN</td>\n      <td>NaN</td>\n      <td>0.00211</td>\n      <td>NaN</td>\n      <td>NaN</td>\n      <td>NaN</td>\n      <td>NaN</td>\n      <td>NaN</td>\n    </tr>\n    <tr>\n      <th>133</th>\n      <td>(B00WQCP6GS)</td>\n      <td>(B014W9SY4I)</td>\n      <td>NaN</td>\n      <td>NaN</td>\n      <td>0.00211</td>\n      <td>NaN</td>\n      <td>NaN</td>\n      <td>NaN</td>\n      <td>NaN</td>\n      <td>NaN</td>\n    </tr>\n  </tbody>\n</table>\n<p>134 rows × 10 columns</p>\n</div>"
     },
     "execution_count": 18,
     "metadata": {},
     "output_type": "execute_result"
    }
   ],
   "source": [
    "# Extract association rules from closed pattern dataframe\n",
    "rules = association_rules(closed_pattern, metric=\"confidence\", min_threshold=0.001, support_only=True)\n",
    "rules"
   ]
  },
  {
   "cell_type": "code",
   "execution_count": 19,
   "id": "7535c90a-6517-46e9-8f9a-0d85ceaab457",
   "metadata": {
    "ExecuteTime": {
     "end_time": "2023-10-27T12:23:09.632883669Z",
     "start_time": "2023-10-27T12:23:09.522571999Z"
    }
   },
   "outputs": [],
   "source": [
    "# Change the rules['antecedents'] and rules['consequents'] columns to lists\n",
    "rules['antecedents'] = rules['antecedents'].apply(lambda x: list(x))\n",
    "rules['consequents'] = rules['consequents'].apply(lambda x: list(x))"
   ]
  },
  {
   "cell_type": "code",
   "execution_count": 20,
   "id": "cadeb6b5-cfc2-4ee2-8587-983dcfbc9931",
   "metadata": {
    "ExecuteTime": {
     "end_time": "2023-10-27T12:23:09.633560709Z",
     "start_time": "2023-10-27T12:23:09.569280440Z"
    }
   },
   "outputs": [
    {
     "data": {
      "text/plain": "Empty DataFrame\nColumns: [antecedents, consequents, antecedent support, consequent support, support, confidence, lift, leverage, conviction, zhangs_metric]\nIndex: []",
      "text/html": "<div>\n<style scoped>\n    .dataframe tbody tr th:only-of-type {\n        vertical-align: middle;\n    }\n\n    .dataframe tbody tr th {\n        vertical-align: top;\n    }\n\n    .dataframe thead th {\n        text-align: right;\n    }\n</style>\n<table border=\"1\" class=\"dataframe\">\n  <thead>\n    <tr style=\"text-align: right;\">\n      <th></th>\n      <th>antecedents</th>\n      <th>consequents</th>\n      <th>antecedent support</th>\n      <th>consequent support</th>\n      <th>support</th>\n      <th>confidence</th>\n      <th>lift</th>\n      <th>leverage</th>\n      <th>conviction</th>\n      <th>zhangs_metric</th>\n    </tr>\n  </thead>\n  <tbody>\n  </tbody>\n</table>\n</div>"
     },
     "execution_count": 20,
     "metadata": {},
     "output_type": "execute_result"
    }
   ],
   "source": [
    "rules[rules['confidence'] >= 1]"
   ]
  },
  {
   "cell_type": "code",
   "execution_count": 21,
   "id": "8410b20a-674a-47a1-b250-ca4419c21170",
   "metadata": {
    "ExecuteTime": {
     "end_time": "2023-10-27T12:23:21.107976622Z",
     "start_time": "2023-10-27T12:23:09.569435566Z"
    }
   },
   "outputs": [
    {
     "name": "stdout",
     "output_type": "stream",
     "text": [
      "Number of anteriors:  0\n"
     ]
    },
    {
     "name": "stderr",
     "output_type": "stream",
     "text": [
      "100%|██████████| 100000/100000 [00:11<00:00, 8795.64it/s]\n"
     ]
    },
    {
     "name": "stdout",
     "output_type": "stream",
     "text": [
      "Number of items compressed: 0\n",
      "Compression ratio: 0.0\n",
      "<class 'pandas.core.frame.DataFrame'>\n",
      "RangeIndex: 100000 entries, 0 to 99999\n",
      "Data columns (total 2 columns):\n",
      " #   Column      Non-Null Count   Dtype \n",
      "---  ------      --------------   ----- \n",
      " 0   reviewerID  100000 non-null  object\n",
      " 1   items       100000 non-null  object\n",
      "dtypes: object(2)\n",
      "memory usage: 1.5+ MB\n",
      "Original database information: None\n",
      "<class 'pandas.core.frame.DataFrame'>\n",
      "RangeIndex: 100000 entries, 0 to 99999\n",
      "Data columns (total 2 columns):\n",
      " #   Column      Non-Null Count   Dtype \n",
      "---  ------      --------------   ----- \n",
      " 0   reviewerID  100000 non-null  object\n",
      " 1   items       100000 non-null  object\n",
      "dtypes: object(2)\n",
      "memory usage: 1.5+ MB\n",
      "Compressed database information: None\n"
     ]
    },
    {
     "data": {
      "text/plain": "                 reviewerID                                              items\n0      A0001528BGUBOEVR6T5U                                       [B012ZIGVXE]\n1      A0024836TBQJ1WBE4VDY  [B001CXFHKC, B00AU67NEA, B0179XHY3Q, B00E2217I...\n2      A0029274J35Q1MYNKUWO  [B000LC5S18, B00HTN4R6O, B000N8LMWY, B000N8MUR...\n3      A0036244LFNO78OM4135  [B001N3MKT2, B002SK0Y0G, B003BLP0I2, B01BE07ZK...\n4      A0065811S4ANKB4TYHII               [B0002IMP94, B00OHJDDPY, B004R5V47C]\n...                     ...                                                ...\n99995        A2G8JSI5SSVQR3  [B00BMPT8E6, B001EYHLOE, B01ADBBW52, B003GSUM5...\n99996        A2G8KEZ4TPRPQL  [B00KWKA3L4, B01H7X5YYY, B00ZPCWM3G, B010ULN8Y...\n99997        A2G8KZPYCK3Z7V                                       [B004E2C20Q]\n99998        A2G8LCN8AH7S78                           [B00O3YNZME, B014IEHPYC]\n99999        A2G8M47KDMKR4S                                       [B00SOUKFLW]\n\n[100000 rows x 2 columns]",
      "text/html": "<div>\n<style scoped>\n    .dataframe tbody tr th:only-of-type {\n        vertical-align: middle;\n    }\n\n    .dataframe tbody tr th {\n        vertical-align: top;\n    }\n\n    .dataframe thead th {\n        text-align: right;\n    }\n</style>\n<table border=\"1\" class=\"dataframe\">\n  <thead>\n    <tr style=\"text-align: right;\">\n      <th></th>\n      <th>reviewerID</th>\n      <th>items</th>\n    </tr>\n  </thead>\n  <tbody>\n    <tr>\n      <th>0</th>\n      <td>A0001528BGUBOEVR6T5U</td>\n      <td>[B012ZIGVXE]</td>\n    </tr>\n    <tr>\n      <th>1</th>\n      <td>A0024836TBQJ1WBE4VDY</td>\n      <td>[B001CXFHKC, B00AU67NEA, B0179XHY3Q, B00E2217I...</td>\n    </tr>\n    <tr>\n      <th>2</th>\n      <td>A0029274J35Q1MYNKUWO</td>\n      <td>[B000LC5S18, B00HTN4R6O, B000N8LMWY, B000N8MUR...</td>\n    </tr>\n    <tr>\n      <th>3</th>\n      <td>A0036244LFNO78OM4135</td>\n      <td>[B001N3MKT2, B002SK0Y0G, B003BLP0I2, B01BE07ZK...</td>\n    </tr>\n    <tr>\n      <th>4</th>\n      <td>A0065811S4ANKB4TYHII</td>\n      <td>[B0002IMP94, B00OHJDDPY, B004R5V47C]</td>\n    </tr>\n    <tr>\n      <th>...</th>\n      <td>...</td>\n      <td>...</td>\n    </tr>\n    <tr>\n      <th>99995</th>\n      <td>A2G8JSI5SSVQR3</td>\n      <td>[B00BMPT8E6, B001EYHLOE, B01ADBBW52, B003GSUM5...</td>\n    </tr>\n    <tr>\n      <th>99996</th>\n      <td>A2G8KEZ4TPRPQL</td>\n      <td>[B00KWKA3L4, B01H7X5YYY, B00ZPCWM3G, B010ULN8Y...</td>\n    </tr>\n    <tr>\n      <th>99997</th>\n      <td>A2G8KZPYCK3Z7V</td>\n      <td>[B004E2C20Q]</td>\n    </tr>\n    <tr>\n      <th>99998</th>\n      <td>A2G8LCN8AH7S78</td>\n      <td>[B00O3YNZME, B014IEHPYC]</td>\n    </tr>\n    <tr>\n      <th>99999</th>\n      <td>A2G8M47KDMKR4S</td>\n      <td>[B00SOUKFLW]</td>\n    </tr>\n  </tbody>\n</table>\n<p>100000 rows × 2 columns</p>\n</div>"
     },
     "execution_count": 21,
     "metadata": {},
     "output_type": "execute_result"
    }
   ],
   "source": [
    "# Compress the data using associations rules\n",
    "def compress_data(database, association_rules, threshold=0.7):\n",
    "    \"\"\"\n",
    "    Compress the database using association rules.\n",
    "    :param database: pandas.DataFrame: the database to compress\n",
    "    :param association_rules: pandas.DataFrame: the association rules\n",
    "    :param threshold: float: the minimum confidence threshold\n",
    "    :return: pandas.DataFrame: the compressed database\n",
    "    \"\"\"\n",
    "    compressed_data = []\n",
    "    # Keep only rules with confidence above threshold\n",
    "    association_rules = association_rules[association_rules['confidence'] > threshold]\n",
    "    anteriors = association_rules['antecedents'].apply(lambda x: list(x)).tolist()\n",
    "    consequents = association_rules['consequents'].apply(lambda x: list(x)).tolist()\n",
    "    print(f'Number of anteriors:  {len(anteriors)}')\n",
    "\n",
    "    nb_items_compressed = 0\n",
    "    # Iterate over transactions without header\n",
    "    for i in tqdm(range(0, len(database))):\n",
    "        transaction = database.iloc[i, :].dropna().tolist()\n",
    "        user = transaction[0]\n",
    "        items = transaction[1]\n",
    "        compressed_transaction = []\n",
    "\n",
    "        # Check if an itemset is in the transaction\n",
    "        for (anterior, consequent) in zip(anteriors, consequents):\n",
    "            pattern = anterior + consequent\n",
    "            if all(item in items for item in pattern):\n",
    "                compressed_transaction.extend(anterior)\n",
    "                items = [item for item in items if item not in pattern]\n",
    "                nb_items_compressed += len(pattern)\n",
    "        compressed_transaction.extend(items)\n",
    "\n",
    "        compressed_data.append([user, compressed_transaction])\n",
    "    print(f'Number of items compressed: {nb_items_compressed}')\n",
    "    print(f'Compression ratio: {nb_items_compressed / len(database)}')\n",
    "    print(f'Original database information: {database.info()}')\n",
    "    compressed_data = pd.DataFrame(compressed_data, columns=['reviewerID', 'items'])\n",
    "    print(f'Compressed database information: {compressed_data.info()}')\n",
    "\n",
    "    return compressed_data\n",
    "\n",
    "compressed_data = compress_data(df, rules)\n",
    "compressed_data"
   ]
  }
 ],
 "metadata": {
  "kernelspec": {
   "display_name": "Python 3 (ipykernel)",
   "language": "python",
   "name": "python3"
  },
  "language_info": {
   "codemirror_mode": {
    "name": "ipython",
    "version": 3
   },
   "file_extension": ".py",
   "mimetype": "text/x-python",
   "name": "python",
   "nbconvert_exporter": "python",
   "pygments_lexer": "ipython3",
   "version": "3.10.12"
  }
 },
 "nbformat": 4,
 "nbformat_minor": 5
}
