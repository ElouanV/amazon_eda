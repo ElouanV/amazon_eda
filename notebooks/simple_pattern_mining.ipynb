{
 "cells": [
  {
   "cell_type": "code",
   "execution_count": 1,
   "id": "12d11146f973e41",
   "metadata": {
    "collapsed": false,
    "ExecuteTime": {
     "end_time": "2023-11-01T13:07:11.474241281Z",
     "start_time": "2023-11-01T13:07:10.986729938Z"
    }
   },
   "outputs": [],
   "source": [
    "import sys\n",
    "sys.path.append('../src')\n",
    "import pandas as pd\n",
    "from tqdm import tqdm\n",
    "DATA_DIR = '../../data'"
   ]
  },
  {
   "cell_type": "code",
   "execution_count": 2,
   "id": "initial_id",
   "metadata": {
    "collapsed": false,
    "ExecuteTime": {
     "end_time": "2023-11-01T13:07:13.354758207Z",
     "start_time": "2023-11-01T13:07:11.475098660Z"
    }
   },
   "outputs": [
    {
     "data": {
      "text/plain": "       reviewerID        asin\n0   ASAE9FBGAJQAH  0899332757\n1  A1TAW91SQSU2AH  0899332757\n2  A1SVGO4GMEOXQ0  0899332757\n3  A36QT6N7N0GF3O  0899332757\n4   AJGZDX7KC5TVQ  0899332757",
      "text/html": "<div>\n<style scoped>\n    .dataframe tbody tr th:only-of-type {\n        vertical-align: middle;\n    }\n\n    .dataframe tbody tr th {\n        vertical-align: top;\n    }\n\n    .dataframe thead th {\n        text-align: right;\n    }\n</style>\n<table border=\"1\" class=\"dataframe\">\n  <thead>\n    <tr style=\"text-align: right;\">\n      <th></th>\n      <th>reviewerID</th>\n      <th>asin</th>\n    </tr>\n  </thead>\n  <tbody>\n    <tr>\n      <th>0</th>\n      <td>ASAE9FBGAJQAH</td>\n      <td>0899332757</td>\n    </tr>\n    <tr>\n      <th>1</th>\n      <td>A1TAW91SQSU2AH</td>\n      <td>0899332757</td>\n    </tr>\n    <tr>\n      <th>2</th>\n      <td>A1SVGO4GMEOXQ0</td>\n      <td>0899332757</td>\n    </tr>\n    <tr>\n      <th>3</th>\n      <td>A36QT6N7N0GF3O</td>\n      <td>0899332757</td>\n    </tr>\n    <tr>\n      <th>4</th>\n      <td>AJGZDX7KC5TVQ</td>\n      <td>0899332757</td>\n    </tr>\n  </tbody>\n</table>\n</div>"
     },
     "execution_count": 2,
     "metadata": {},
     "output_type": "execute_result"
    }
   ],
   "source": [
    "df = pd.read_csv(f'{DATA_DIR}/Sports_and_Outdoors_5_2016_2018.csv', usecols=['reviewerID', 'asin'])\n",
    "df = df.drop_duplicates()\n",
    "df.head()"
   ]
  },
  {
   "cell_type": "code",
   "execution_count": 3,
   "id": "669e7f0ba518bd39",
   "metadata": {
    "collapsed": false,
    "ExecuteTime": {
     "end_time": "2023-11-01T13:07:13.658097902Z",
     "start_time": "2023-11-01T13:07:13.645841085Z"
    }
   },
   "outputs": [
    {
     "name": "stdout",
     "output_type": "stream",
     "text": [
      "<class 'pandas.core.frame.DataFrame'>\n",
      "Int64Index: 1315215 entries, 0 to 1366264\n",
      "Data columns (total 2 columns):\n",
      " #   Column      Non-Null Count    Dtype \n",
      "---  ------      --------------    ----- \n",
      " 0   reviewerID  1315215 non-null  object\n",
      " 1   asin        1315215 non-null  object\n",
      "dtypes: object(2)\n",
      "memory usage: 30.1+ MB\n"
     ]
    }
   ],
   "source": [
    "df.info()"
   ]
  },
  {
   "cell_type": "code",
   "execution_count": 4,
   "id": "ce47e397c7e963f5",
   "metadata": {
    "collapsed": false,
    "ExecuteTime": {
     "end_time": "2023-11-01T13:07:18.972468268Z",
     "start_time": "2023-11-01T13:07:13.711477404Z"
    }
   },
   "outputs": [
    {
     "data": {
      "text/plain": "                  reviewerID  \\\n0       A0001528BGUBOEVR6T5U   \n1       A0024836TBQJ1WBE4VDY   \n2       A0029274J35Q1MYNKUWO   \n3       A0036244LFNO78OM4135   \n4       A0065811S4ANKB4TYHII   \n...                      ...   \n262080         AZZW780H8VJ8N   \n262081         AZZYI1EW1WY3M   \n262082         AZZYVIRS854I7   \n262083         AZZYW4YOE1B6E   \n262084         AZZZJJPHNUQ1T   \n\n                                                    items  \n0                                            [B012ZIGVXE]  \n1       [B00E2217I6, B001GH4WD2, B01A8NH5ZG, B00PRVLMK...  \n2       [B000PD6QJ6, B00162LR6W, B00HTN4R6O, B00162POP...  \n3       [B00R7AGTKG, B001N3MKT2, B01BE07ZKW, B003BLP0I...  \n4                    [B0002IMP94, B00OHJDDPY, B004R5V47C]  \n...                                                   ...  \n262080  [B000O57MPW, B001O2PKGM, B01E4YVCOA, B01AAGVWJ...  \n262081  [B00ZCEP9G4, B00LUMKP34, B00CPJ5464, B01489QOO...  \n262082   [B00ZK4ZU1U, B00318CLTG, B0159JSKYE, B006NZ65L4]  \n262083   [B00HN47G1M, B013CVSXF2, B005YPK9SY, B002WN91Q2]  \n262084  [B003BR96CC, B004LY6LL8, B004LSBBS2, B005N7Y81...  \n\n[262085 rows x 2 columns]",
      "text/html": "<div>\n<style scoped>\n    .dataframe tbody tr th:only-of-type {\n        vertical-align: middle;\n    }\n\n    .dataframe tbody tr th {\n        vertical-align: top;\n    }\n\n    .dataframe thead th {\n        text-align: right;\n    }\n</style>\n<table border=\"1\" class=\"dataframe\">\n  <thead>\n    <tr style=\"text-align: right;\">\n      <th></th>\n      <th>reviewerID</th>\n      <th>items</th>\n    </tr>\n  </thead>\n  <tbody>\n    <tr>\n      <th>0</th>\n      <td>A0001528BGUBOEVR6T5U</td>\n      <td>[B012ZIGVXE]</td>\n    </tr>\n    <tr>\n      <th>1</th>\n      <td>A0024836TBQJ1WBE4VDY</td>\n      <td>[B00E2217I6, B001GH4WD2, B01A8NH5ZG, B00PRVLMK...</td>\n    </tr>\n    <tr>\n      <th>2</th>\n      <td>A0029274J35Q1MYNKUWO</td>\n      <td>[B000PD6QJ6, B00162LR6W, B00HTN4R6O, B00162POP...</td>\n    </tr>\n    <tr>\n      <th>3</th>\n      <td>A0036244LFNO78OM4135</td>\n      <td>[B00R7AGTKG, B001N3MKT2, B01BE07ZKW, B003BLP0I...</td>\n    </tr>\n    <tr>\n      <th>4</th>\n      <td>A0065811S4ANKB4TYHII</td>\n      <td>[B0002IMP94, B00OHJDDPY, B004R5V47C]</td>\n    </tr>\n    <tr>\n      <th>...</th>\n      <td>...</td>\n      <td>...</td>\n    </tr>\n    <tr>\n      <th>262080</th>\n      <td>AZZW780H8VJ8N</td>\n      <td>[B000O57MPW, B001O2PKGM, B01E4YVCOA, B01AAGVWJ...</td>\n    </tr>\n    <tr>\n      <th>262081</th>\n      <td>AZZYI1EW1WY3M</td>\n      <td>[B00ZCEP9G4, B00LUMKP34, B00CPJ5464, B01489QOO...</td>\n    </tr>\n    <tr>\n      <th>262082</th>\n      <td>AZZYVIRS854I7</td>\n      <td>[B00ZK4ZU1U, B00318CLTG, B0159JSKYE, B006NZ65L4]</td>\n    </tr>\n    <tr>\n      <th>262083</th>\n      <td>AZZYW4YOE1B6E</td>\n      <td>[B00HN47G1M, B013CVSXF2, B005YPK9SY, B002WN91Q2]</td>\n    </tr>\n    <tr>\n      <th>262084</th>\n      <td>AZZZJJPHNUQ1T</td>\n      <td>[B003BR96CC, B004LY6LL8, B004LSBBS2, B005N7Y81...</td>\n    </tr>\n  </tbody>\n</table>\n<p>262085 rows × 2 columns</p>\n</div>"
     },
     "execution_count": 4,
     "metadata": {},
     "output_type": "execute_result"
    }
   ],
   "source": [
    "# Transform the dataframe to a transactional dataframe\n",
    "df = df.groupby('reviewerID')['asin'].apply(list).reset_index(name='items')\n",
    "df['items'] = df['items'].apply(lambda x: list(set(x)))\n",
    "df"
   ]
  },
  {
   "cell_type": "code",
   "execution_count": 5,
   "id": "3276d3fedd32f90",
   "metadata": {
    "collapsed": false,
    "ExecuteTime": {
     "end_time": "2023-11-01T13:07:19.004177507Z",
     "start_time": "2023-11-01T13:07:18.972248633Z"
    }
   },
   "outputs": [],
   "source": [
    "df = df.head(150000)"
   ]
  },
  {
   "cell_type": "code",
   "execution_count": 6,
   "id": "49c37c628248e537",
   "metadata": {
    "collapsed": false,
    "ExecuteTime": {
     "end_time": "2023-11-01T13:07:19.061865283Z",
     "start_time": "2023-11-01T13:07:18.991199839Z"
    }
   },
   "outputs": [
    {
     "data": {
      "text/plain": "150000"
     },
     "execution_count": 6,
     "metadata": {},
     "output_type": "execute_result"
    }
   ],
   "source": [
    "# Count number of unique reviewers\n",
    "reviewers = df['reviewerID'].unique()\n",
    "len(reviewers)"
   ]
  },
  {
   "cell_type": "code",
   "execution_count": 7,
   "id": "23099e32a746c355",
   "metadata": {
    "collapsed": false,
    "ExecuteTime": {
     "end_time": "2023-11-01T13:07:19.516735225Z",
     "start_time": "2023-11-01T13:07:19.062949938Z"
    }
   },
   "outputs": [],
   "source": [
    "from mlxtend.preprocessing import TransactionEncoder\n",
    "from mlxtend.frequent_patterns import apriori, association_rules\n",
    "import pandas as pd"
   ]
  },
  {
   "cell_type": "code",
   "execution_count": 8,
   "id": "5b7b0e0d0db7d82e",
   "metadata": {
    "collapsed": false,
    "ExecuteTime": {
     "end_time": "2023-11-01T13:07:21.209902702Z",
     "start_time": "2023-11-01T13:07:19.533045701Z"
    }
   },
   "outputs": [
    {
     "data": {
      "text/plain": "        0899332757  0899333257  0971100764  1926644425  3843518912  \\\n0            False       False       False       False       False   \n1            False       False       False       False       False   \n2            False       False       False       False       False   \n3            False       False       False       False       False   \n4            False       False       False       False       False   \n...            ...         ...         ...         ...         ...   \n149995       False       False       False       False       False   \n149996       False       False       False       False       False   \n149997       False       False       False       False       False   \n149998       False       False       False       False       False   \n149999       False       False       False       False       False   \n\n        7245456275  7245456313  9877000490  B000002NUS  B000002NUT  ...  \\\n0            False       False       False       False       False  ...   \n1            False       False       False       False       False  ...   \n2            False       False       False       False       False  ...   \n3            False       False       False       False       False  ...   \n4            False       False       False       False       False  ...   \n...            ...         ...         ...         ...         ...  ...   \n149995       False       False       False       False       False  ...   \n149996       False       False       False       False       False  ...   \n149997       False       False       False       False       False  ...   \n149998       False       False       False       False       False  ...   \n149999       False       False       False       False       False  ...   \n\n        B01HJ4DN08  B01HJ4EYS8  B01HJ8YC0Y  B01HJA241G  B01HJA7KWE  \\\n0            False       False       False       False       False   \n1            False       False       False       False       False   \n2            False       False       False       False       False   \n3            False       False       False       False       False   \n4            False       False       False       False       False   \n...            ...         ...         ...         ...         ...   \n149995       False       False       False       False       False   \n149996       False       False       False       False       False   \n149997       False       False       False       False       False   \n149998       False       False       False       False       False   \n149999       False       False       False       False       False   \n\n        B01HJDGJ1E  B01HJDHNX2  B01HJDZ34I  B01HJGAJ9O  B01HJHHBHG  \n0            False       False       False       False       False  \n1            False       False       False       False       False  \n2            False       False       False       False       False  \n3            False       False       False       False       False  \n4            False       False       False       False       False  \n...            ...         ...         ...         ...         ...  \n149995       False       False       False       False       False  \n149996       False       False       False       False       False  \n149997       False       False       False       False       False  \n149998       False       False       False       False       False  \n149999       False       False       False       False       False  \n\n[150000 rows x 86439 columns]",
      "text/html": "<div>\n<style scoped>\n    .dataframe tbody tr th:only-of-type {\n        vertical-align: middle;\n    }\n\n    .dataframe tbody tr th {\n        vertical-align: top;\n    }\n\n    .dataframe thead th {\n        text-align: right;\n    }\n</style>\n<table border=\"1\" class=\"dataframe\">\n  <thead>\n    <tr style=\"text-align: right;\">\n      <th></th>\n      <th>0899332757</th>\n      <th>0899333257</th>\n      <th>0971100764</th>\n      <th>1926644425</th>\n      <th>3843518912</th>\n      <th>7245456275</th>\n      <th>7245456313</th>\n      <th>9877000490</th>\n      <th>B000002NUS</th>\n      <th>B000002NUT</th>\n      <th>...</th>\n      <th>B01HJ4DN08</th>\n      <th>B01HJ4EYS8</th>\n      <th>B01HJ8YC0Y</th>\n      <th>B01HJA241G</th>\n      <th>B01HJA7KWE</th>\n      <th>B01HJDGJ1E</th>\n      <th>B01HJDHNX2</th>\n      <th>B01HJDZ34I</th>\n      <th>B01HJGAJ9O</th>\n      <th>B01HJHHBHG</th>\n    </tr>\n  </thead>\n  <tbody>\n    <tr>\n      <th>0</th>\n      <td>False</td>\n      <td>False</td>\n      <td>False</td>\n      <td>False</td>\n      <td>False</td>\n      <td>False</td>\n      <td>False</td>\n      <td>False</td>\n      <td>False</td>\n      <td>False</td>\n      <td>...</td>\n      <td>False</td>\n      <td>False</td>\n      <td>False</td>\n      <td>False</td>\n      <td>False</td>\n      <td>False</td>\n      <td>False</td>\n      <td>False</td>\n      <td>False</td>\n      <td>False</td>\n    </tr>\n    <tr>\n      <th>1</th>\n      <td>False</td>\n      <td>False</td>\n      <td>False</td>\n      <td>False</td>\n      <td>False</td>\n      <td>False</td>\n      <td>False</td>\n      <td>False</td>\n      <td>False</td>\n      <td>False</td>\n      <td>...</td>\n      <td>False</td>\n      <td>False</td>\n      <td>False</td>\n      <td>False</td>\n      <td>False</td>\n      <td>False</td>\n      <td>False</td>\n      <td>False</td>\n      <td>False</td>\n      <td>False</td>\n    </tr>\n    <tr>\n      <th>2</th>\n      <td>False</td>\n      <td>False</td>\n      <td>False</td>\n      <td>False</td>\n      <td>False</td>\n      <td>False</td>\n      <td>False</td>\n      <td>False</td>\n      <td>False</td>\n      <td>False</td>\n      <td>...</td>\n      <td>False</td>\n      <td>False</td>\n      <td>False</td>\n      <td>False</td>\n      <td>False</td>\n      <td>False</td>\n      <td>False</td>\n      <td>False</td>\n      <td>False</td>\n      <td>False</td>\n    </tr>\n    <tr>\n      <th>3</th>\n      <td>False</td>\n      <td>False</td>\n      <td>False</td>\n      <td>False</td>\n      <td>False</td>\n      <td>False</td>\n      <td>False</td>\n      <td>False</td>\n      <td>False</td>\n      <td>False</td>\n      <td>...</td>\n      <td>False</td>\n      <td>False</td>\n      <td>False</td>\n      <td>False</td>\n      <td>False</td>\n      <td>False</td>\n      <td>False</td>\n      <td>False</td>\n      <td>False</td>\n      <td>False</td>\n    </tr>\n    <tr>\n      <th>4</th>\n      <td>False</td>\n      <td>False</td>\n      <td>False</td>\n      <td>False</td>\n      <td>False</td>\n      <td>False</td>\n      <td>False</td>\n      <td>False</td>\n      <td>False</td>\n      <td>False</td>\n      <td>...</td>\n      <td>False</td>\n      <td>False</td>\n      <td>False</td>\n      <td>False</td>\n      <td>False</td>\n      <td>False</td>\n      <td>False</td>\n      <td>False</td>\n      <td>False</td>\n      <td>False</td>\n    </tr>\n    <tr>\n      <th>...</th>\n      <td>...</td>\n      <td>...</td>\n      <td>...</td>\n      <td>...</td>\n      <td>...</td>\n      <td>...</td>\n      <td>...</td>\n      <td>...</td>\n      <td>...</td>\n      <td>...</td>\n      <td>...</td>\n      <td>...</td>\n      <td>...</td>\n      <td>...</td>\n      <td>...</td>\n      <td>...</td>\n      <td>...</td>\n      <td>...</td>\n      <td>...</td>\n      <td>...</td>\n      <td>...</td>\n    </tr>\n    <tr>\n      <th>149995</th>\n      <td>False</td>\n      <td>False</td>\n      <td>False</td>\n      <td>False</td>\n      <td>False</td>\n      <td>False</td>\n      <td>False</td>\n      <td>False</td>\n      <td>False</td>\n      <td>False</td>\n      <td>...</td>\n      <td>False</td>\n      <td>False</td>\n      <td>False</td>\n      <td>False</td>\n      <td>False</td>\n      <td>False</td>\n      <td>False</td>\n      <td>False</td>\n      <td>False</td>\n      <td>False</td>\n    </tr>\n    <tr>\n      <th>149996</th>\n      <td>False</td>\n      <td>False</td>\n      <td>False</td>\n      <td>False</td>\n      <td>False</td>\n      <td>False</td>\n      <td>False</td>\n      <td>False</td>\n      <td>False</td>\n      <td>False</td>\n      <td>...</td>\n      <td>False</td>\n      <td>False</td>\n      <td>False</td>\n      <td>False</td>\n      <td>False</td>\n      <td>False</td>\n      <td>False</td>\n      <td>False</td>\n      <td>False</td>\n      <td>False</td>\n    </tr>\n    <tr>\n      <th>149997</th>\n      <td>False</td>\n      <td>False</td>\n      <td>False</td>\n      <td>False</td>\n      <td>False</td>\n      <td>False</td>\n      <td>False</td>\n      <td>False</td>\n      <td>False</td>\n      <td>False</td>\n      <td>...</td>\n      <td>False</td>\n      <td>False</td>\n      <td>False</td>\n      <td>False</td>\n      <td>False</td>\n      <td>False</td>\n      <td>False</td>\n      <td>False</td>\n      <td>False</td>\n      <td>False</td>\n    </tr>\n    <tr>\n      <th>149998</th>\n      <td>False</td>\n      <td>False</td>\n      <td>False</td>\n      <td>False</td>\n      <td>False</td>\n      <td>False</td>\n      <td>False</td>\n      <td>False</td>\n      <td>False</td>\n      <td>False</td>\n      <td>...</td>\n      <td>False</td>\n      <td>False</td>\n      <td>False</td>\n      <td>False</td>\n      <td>False</td>\n      <td>False</td>\n      <td>False</td>\n      <td>False</td>\n      <td>False</td>\n      <td>False</td>\n    </tr>\n    <tr>\n      <th>149999</th>\n      <td>False</td>\n      <td>False</td>\n      <td>False</td>\n      <td>False</td>\n      <td>False</td>\n      <td>False</td>\n      <td>False</td>\n      <td>False</td>\n      <td>False</td>\n      <td>False</td>\n      <td>...</td>\n      <td>False</td>\n      <td>False</td>\n      <td>False</td>\n      <td>False</td>\n      <td>False</td>\n      <td>False</td>\n      <td>False</td>\n      <td>False</td>\n      <td>False</td>\n      <td>False</td>\n    </tr>\n  </tbody>\n</table>\n<p>150000 rows × 86439 columns</p>\n</div>"
     },
     "execution_count": 8,
     "metadata": {},
     "output_type": "execute_result"
    }
   ],
   "source": [
    "# Use the transaction encoder to transform the dataframe to a one-hot encoded boolean dataframe\n",
    "te = TransactionEncoder()\n",
    "te_ary = te.fit(df['items']).transform(df['items'])\n",
    "df_transactions = pd.DataFrame(te_ary, columns=te.columns_)\n",
    "df_transactions"
   ]
  },
  {
   "cell_type": "code",
   "execution_count": 9,
   "id": "2e366f69-bce7-43d4-b355-5b5e954e3e25",
   "metadata": {
    "ExecuteTime": {
     "end_time": "2023-11-01T13:07:21.211564525Z",
     "start_time": "2023-11-01T13:07:21.207957866Z"
    }
   },
   "outputs": [],
   "source": [
    "# Save df as transactions.csv\n",
    "# df_transactions.to_csv(f'{DATA_DIR}/transactions.csv', index=False)"
   ]
  },
  {
   "cell_type": "code",
   "execution_count": 10,
   "id": "9dea692651ed5c0d",
   "metadata": {
    "collapsed": false,
    "ExecuteTime": {
     "end_time": "2023-11-01T13:07:49.476112378Z",
     "start_time": "2023-11-01T13:07:21.232080576Z"
    }
   },
   "outputs": [
    {
     "name": "stdout",
     "output_type": "stream",
     "text": [
      "Apriori took 28.24906849861145 seconds\n"
     ]
    },
    {
     "data": {
      "text/plain": "      support                                           itemsets\n0    0.004393                                       (B00079ULA8)\n1    0.002947                                       (B000MF63M2)\n2    0.002060                                       (B000OTG7FE)\n3    0.004873                                       (B000VAPCU2)\n4    0.002473                                       (B0012Q2S4W)\n..        ...                                                ...\n146  0.002160   (B016UQXB5I, B016UQXB26, B00N3XXXCS, B00VHX8G5A)\n147  0.002160   (B016UQXB5I, B016UQXB26, B00PD8JOTW, B00VHX8G5A)\n148  0.004953   (B00RM8I0LE, B00TZ900I4, B00SI9UB7M, B00SK74C5Y)\n149  0.004867  (B00RM8I0LE, B00TZ900I4, B00SI9UB7M, B000VAPCU...\n150  0.002160  (B00PD8JOTW, B00N3XXXCS, B016UQXB5I, B016UQXB2...\n\n[151 rows x 2 columns]",
      "text/html": "<div>\n<style scoped>\n    .dataframe tbody tr th:only-of-type {\n        vertical-align: middle;\n    }\n\n    .dataframe tbody tr th {\n        vertical-align: top;\n    }\n\n    .dataframe thead th {\n        text-align: right;\n    }\n</style>\n<table border=\"1\" class=\"dataframe\">\n  <thead>\n    <tr style=\"text-align: right;\">\n      <th></th>\n      <th>support</th>\n      <th>itemsets</th>\n    </tr>\n  </thead>\n  <tbody>\n    <tr>\n      <th>0</th>\n      <td>0.004393</td>\n      <td>(B00079ULA8)</td>\n    </tr>\n    <tr>\n      <th>1</th>\n      <td>0.002947</td>\n      <td>(B000MF63M2)</td>\n    </tr>\n    <tr>\n      <th>2</th>\n      <td>0.002060</td>\n      <td>(B000OTG7FE)</td>\n    </tr>\n    <tr>\n      <th>3</th>\n      <td>0.004873</td>\n      <td>(B000VAPCU2)</td>\n    </tr>\n    <tr>\n      <th>4</th>\n      <td>0.002473</td>\n      <td>(B0012Q2S4W)</td>\n    </tr>\n    <tr>\n      <th>...</th>\n      <td>...</td>\n      <td>...</td>\n    </tr>\n    <tr>\n      <th>146</th>\n      <td>0.002160</td>\n      <td>(B016UQXB5I, B016UQXB26, B00N3XXXCS, B00VHX8G5A)</td>\n    </tr>\n    <tr>\n      <th>147</th>\n      <td>0.002160</td>\n      <td>(B016UQXB5I, B016UQXB26, B00PD8JOTW, B00VHX8G5A)</td>\n    </tr>\n    <tr>\n      <th>148</th>\n      <td>0.004953</td>\n      <td>(B00RM8I0LE, B00TZ900I4, B00SI9UB7M, B00SK74C5Y)</td>\n    </tr>\n    <tr>\n      <th>149</th>\n      <td>0.004867</td>\n      <td>(B00RM8I0LE, B00TZ900I4, B00SI9UB7M, B000VAPCU...</td>\n    </tr>\n    <tr>\n      <th>150</th>\n      <td>0.002160</td>\n      <td>(B00PD8JOTW, B00N3XXXCS, B016UQXB5I, B016UQXB2...</td>\n    </tr>\n  </tbody>\n</table>\n<p>151 rows × 2 columns</p>\n</div>"
     },
     "execution_count": 10,
     "metadata": {},
     "output_type": "execute_result"
    }
   ],
   "source": [
    "# Time the apriori algorithm\n",
    "import time\n",
    "start = time.time()\n",
    "frequent_itemsets = apriori(df_transactions, min_support=0.002, use_colnames=True)\n",
    "end = time.time()\n",
    "print(f'Apriori took {end - start} seconds')\n",
    "# Save frequent itemsets as frequent_itemsets_apriori.csv\n",
    "frequent_itemsets.to_csv(f'{DATA_DIR}/frequent_itemsets_apriori.csv', index=False)\n",
    "frequent_itemsets"
   ]
  },
  {
   "cell_type": "code",
   "execution_count": 11,
   "id": "4e9a840f609475d3",
   "metadata": {
    "collapsed": false,
    "ExecuteTime": {
     "end_time": "2023-11-01T13:07:50.008621387Z",
     "start_time": "2023-11-01T13:07:49.476605607Z"
    }
   },
   "outputs": [
    {
     "data": {
      "text/plain": "<Axes: >"
     },
     "execution_count": 11,
     "metadata": {},
     "output_type": "execute_result"
    },
    {
     "data": {
      "text/plain": "<Figure size 640x480 with 1 Axes>",
      "image/png": "[encoded data removed]"
     },
     "metadata": {},
     "output_type": "display_data"
    }
   ],
   "source": [
    "# Plot distribution of length of frequent itemsets\n",
    "frequent_itemsets['length'] = frequent_itemsets['itemsets'].apply(lambda x: len(x))\n",
    "frequent_itemsets['length'].value_counts().plot.bar()"
   ]
  },
  {
   "cell_type": "code",
   "execution_count": 12,
   "id": "0d33c15f-fdbd-4432-885a-bdfdeafe9ab5",
   "metadata": {
    "ExecuteTime": {
     "end_time": "2023-11-01T13:07:52.799724082Z",
     "start_time": "2023-11-01T13:07:50.009483686Z"
    }
   },
   "outputs": [],
   "source": [
    "# Transform df to row series\n",
    "reviewed_series = df['items'].explode()\n",
    "reviewed_series = reviewed_series.groupby(reviewed_series.index).apply(list)"
   ]
  },
  {
   "cell_type": "code",
   "execution_count": 13,
   "id": "b299ed39-a2e2-4b34-9f0d-ed33a48f0fdb",
   "metadata": {
    "ExecuteTime": {
     "end_time": "2023-11-01T13:07:52.813690528Z",
     "start_time": "2023-11-01T13:07:52.800097891Z"
    }
   },
   "outputs": [],
   "source": [
    "from skmine.itemsets import LCM"
   ]
  },
  {
   "cell_type": "code",
   "execution_count": 14,
   "id": "dcd9d410-6b24-4c37-b71c-8850a79afca6",
   "metadata": {
    "ExecuteTime": {
     "end_time": "2023-11-01T13:07:53.186035577Z",
     "start_time": "2023-11-01T13:07:52.823490637Z"
    }
   },
   "outputs": [
    {
     "name": "stdout",
     "output_type": "stream",
     "text": [
      "Minimum support: 300\n",
      "LCM took 0.3631415367126465 seconds\n"
     ]
    },
    {
     "data": {
      "text/plain": "                                              itemset  support\n0                                        [B001T7QJ9O]      767\n1    [B00RM8I0LE, B00SI9UB7M, B00SK74C5Y, B00TZ900I4]      743\n2                                        [B000VAPCU2]      731\n3   [B000VAPCU2, B00RM8I0LE, B00SI9UB7M, B00SK74C5...      730\n4                [B00136X6VU, B0015LT03G, B0015LY0DG]      666\n..                                                ...      ...\n66                                       [B00FO9ZRYQ]      306\n67                                       [B00E2217I6]      304\n68                                       [B010B7Q40G]      302\n69                                       [B0013R67A6]      302\n70                                       [B01BY6UFWQ]      302\n\n[71 rows x 2 columns]",
      "text/html": "<div>\n<style scoped>\n    .dataframe tbody tr th:only-of-type {\n        vertical-align: middle;\n    }\n\n    .dataframe tbody tr th {\n        vertical-align: top;\n    }\n\n    .dataframe thead th {\n        text-align: right;\n    }\n</style>\n<table border=\"1\" class=\"dataframe\">\n  <thead>\n    <tr style=\"text-align: right;\">\n      <th></th>\n      <th>itemset</th>\n      <th>support</th>\n    </tr>\n  </thead>\n  <tbody>\n    <tr>\n      <th>0</th>\n      <td>[B001T7QJ9O]</td>\n      <td>767</td>\n    </tr>\n    <tr>\n      <th>1</th>\n      <td>[B00RM8I0LE, B00SI9UB7M, B00SK74C5Y, B00TZ900I4]</td>\n      <td>743</td>\n    </tr>\n    <tr>\n      <th>2</th>\n      <td>[B000VAPCU2]</td>\n      <td>731</td>\n    </tr>\n    <tr>\n      <th>3</th>\n      <td>[B000VAPCU2, B00RM8I0LE, B00SI9UB7M, B00SK74C5...</td>\n      <td>730</td>\n    </tr>\n    <tr>\n      <th>4</th>\n      <td>[B00136X6VU, B0015LT03G, B0015LY0DG]</td>\n      <td>666</td>\n    </tr>\n    <tr>\n      <th>...</th>\n      <td>...</td>\n      <td>...</td>\n    </tr>\n    <tr>\n      <th>66</th>\n      <td>[B00FO9ZRYQ]</td>\n      <td>306</td>\n    </tr>\n    <tr>\n      <th>67</th>\n      <td>[B00E2217I6]</td>\n      <td>304</td>\n    </tr>\n    <tr>\n      <th>68</th>\n      <td>[B010B7Q40G]</td>\n      <td>302</td>\n    </tr>\n    <tr>\n      <th>69</th>\n      <td>[B0013R67A6]</td>\n      <td>302</td>\n    </tr>\n    <tr>\n      <th>70</th>\n      <td>[B01BY6UFWQ]</td>\n      <td>302</td>\n    </tr>\n  </tbody>\n</table>\n<p>71 rows × 2 columns</p>\n</div>"
     },
     "execution_count": 14,
     "metadata": {},
     "output_type": "execute_result"
    }
   ],
   "source": [
    "n = len(reviewed_series)\n",
    "ratio = 0.002\n",
    "min_supp = int(n * ratio)\n",
    "\n",
    "print(f'Minimum support: {min_supp}')\n",
    "lcm = LCM(min_supp=min_supp)\n",
    "start = time.time()\n",
    "closed_pattern = lcm.fit_transform(reviewed_series)\n",
    "end = time.time()\n",
    "print(f'LCM took {end - start} seconds')\n",
    "closed_pattern.to_csv(f'{DATA_DIR}/closed_pattern_LCM.csv', index=False)\n",
    "closed_pattern"
   ]
  },
  {
   "cell_type": "code",
   "execution_count": 15,
   "id": "9b69136e-f76d-40a2-9630-a7808fd34d7b",
   "metadata": {
    "ExecuteTime": {
     "end_time": "2023-11-01T13:07:53.432949125Z",
     "start_time": "2023-11-01T13:07:53.186323060Z"
    }
   },
   "outputs": [
    {
     "data": {
      "text/plain": "<Axes: >"
     },
     "execution_count": 15,
     "metadata": {},
     "output_type": "execute_result"
    },
    {
     "data": {
      "text/plain": "<Figure size 640x480 with 1 Axes>",
      "image/png": "[encoded data removed]"
     },
     "metadata": {},
     "output_type": "display_data"
    }
   ],
   "source": [
    "# Plot distribution of length of closed itemsets\n",
    "closed_pattern['length'] = closed_pattern['itemset'].apply(lambda x: len(x))\n",
    "closed_pattern['length'].value_counts().plot.bar()"
   ]
  },
  {
   "cell_type": "code",
   "execution_count": 16,
   "id": "3aa4f2fd-70c7-430b-b110-9fde388f1d77",
   "metadata": {
    "ExecuteTime": {
     "end_time": "2023-11-01T13:07:53.434423573Z",
     "start_time": "2023-11-01T13:07:53.383362206Z"
    }
   },
   "outputs": [
    {
     "data": {
      "text/plain": "      antecedents                                       consequents  \\\n0    (B00079ULA8)                                      (B00136X6VU)   \n1    (B00136X6VU)                                      (B00079ULA8)   \n2    (B00079ULA8)                                      (B0015LT03G)   \n3    (B0015LT03G)                                      (B00079ULA8)   \n4    (B00079ULA8)                                      (B0015LY0DG)   \n..            ...                                               ...   \n467  (B00PD8JOTW)  (B016UQXB5I, B00VHX8G5A, B00N3XXXCS, B016UQXB26)   \n468  (B00N3XXXCS)  (B016UQXB5I, B016UQXB26, B00PD8JOTW, B00VHX8G5A)   \n469  (B016UQXB5I)  (B00VHX8G5A, B00N3XXXCS, B00PD8JOTW, B016UQXB26)   \n470  (B016UQXB26)  (B016UQXB5I, B00N3XXXCS, B00PD8JOTW, B00VHX8G5A)   \n471  (B00VHX8G5A)  (B016UQXB5I, B00N3XXXCS, B00PD8JOTW, B016UQXB26)   \n\n     antecedent support  consequent support   support  confidence        lift  \\\n0              0.004393            0.004440  0.004393    1.000000  225.225225   \n1              0.004440            0.004393  0.004393    0.989489  225.225225   \n2              0.004393            0.004440  0.004393    1.000000  225.225225   \n3              0.004440            0.004393  0.004393    0.989489  225.225225   \n4              0.004393            0.004440  0.004393    1.000000  225.225225   \n..                  ...                 ...       ...         ...         ...   \n467            0.002160            0.002160  0.002160    1.000000  462.962963   \n468            0.002160            0.002160  0.002160    1.000000  462.962963   \n469            0.002167            0.002160  0.002160    0.996923  461.538462   \n470            0.002167            0.002160  0.002160    0.996923  461.538462   \n471            0.002167            0.002160  0.002160    0.996923  461.538462   \n\n     leverage  conviction  zhangs_metric  \n0    0.004374         inf       0.999953  \n1    0.004374   94.724863       1.000000  \n2    0.004374         inf       0.999953  \n3    0.004374   94.724863       1.000000  \n4    0.004374         inf       0.999953  \n..        ...         ...            ...  \n467  0.002155         inf       1.000000  \n468  0.002155         inf       1.000000  \n469  0.002155  324.298000       1.000000  \n470  0.002155  324.298000       1.000000  \n471  0.002155  324.298000       1.000000  \n\n[472 rows x 10 columns]",
      "text/html": "<div>\n<style scoped>\n    .dataframe tbody tr th:only-of-type {\n        vertical-align: middle;\n    }\n\n    .dataframe tbody tr th {\n        vertical-align: top;\n    }\n\n    .dataframe thead th {\n        text-align: right;\n    }\n</style>\n<table border=\"1\" class=\"dataframe\">\n  <thead>\n    <tr style=\"text-align: right;\">\n      <th></th>\n      <th>antecedents</th>\n      <th>consequents</th>\n      <th>antecedent support</th>\n      <th>consequent support</th>\n      <th>support</th>\n      <th>confidence</th>\n      <th>lift</th>\n      <th>leverage</th>\n      <th>conviction</th>\n      <th>zhangs_metric</th>\n    </tr>\n  </thead>\n  <tbody>\n    <tr>\n      <th>0</th>\n      <td>(B00079ULA8)</td>\n      <td>(B00136X6VU)</td>\n      <td>0.004393</td>\n      <td>0.004440</td>\n      <td>0.004393</td>\n      <td>1.000000</td>\n      <td>225.225225</td>\n      <td>0.004374</td>\n      <td>inf</td>\n      <td>0.999953</td>\n    </tr>\n    <tr>\n      <th>1</th>\n      <td>(B00136X6VU)</td>\n      <td>(B00079ULA8)</td>\n      <td>0.004440</td>\n      <td>0.004393</td>\n      <td>0.004393</td>\n      <td>0.989489</td>\n      <td>225.225225</td>\n      <td>0.004374</td>\n      <td>94.724863</td>\n      <td>1.000000</td>\n    </tr>\n    <tr>\n      <th>2</th>\n      <td>(B00079ULA8)</td>\n      <td>(B0015LT03G)</td>\n      <td>0.004393</td>\n      <td>0.004440</td>\n      <td>0.004393</td>\n      <td>1.000000</td>\n      <td>225.225225</td>\n      <td>0.004374</td>\n      <td>inf</td>\n      <td>0.999953</td>\n    </tr>\n    <tr>\n      <th>3</th>\n      <td>(B0015LT03G)</td>\n      <td>(B00079ULA8)</td>\n      <td>0.004440</td>\n      <td>0.004393</td>\n      <td>0.004393</td>\n      <td>0.989489</td>\n      <td>225.225225</td>\n      <td>0.004374</td>\n      <td>94.724863</td>\n      <td>1.000000</td>\n    </tr>\n    <tr>\n      <th>4</th>\n      <td>(B00079ULA8)</td>\n      <td>(B0015LY0DG)</td>\n      <td>0.004393</td>\n      <td>0.004440</td>\n      <td>0.004393</td>\n      <td>1.000000</td>\n      <td>225.225225</td>\n      <td>0.004374</td>\n      <td>inf</td>\n      <td>0.999953</td>\n    </tr>\n    <tr>\n      <th>...</th>\n      <td>...</td>\n      <td>...</td>\n      <td>...</td>\n      <td>...</td>\n      <td>...</td>\n      <td>...</td>\n      <td>...</td>\n      <td>...</td>\n      <td>...</td>\n      <td>...</td>\n    </tr>\n    <tr>\n      <th>467</th>\n      <td>(B00PD8JOTW)</td>\n      <td>(B016UQXB5I, B00VHX8G5A, B00N3XXXCS, B016UQXB26)</td>\n      <td>0.002160</td>\n      <td>0.002160</td>\n      <td>0.002160</td>\n      <td>1.000000</td>\n      <td>462.962963</td>\n      <td>0.002155</td>\n      <td>inf</td>\n      <td>1.000000</td>\n    </tr>\n    <tr>\n      <th>468</th>\n      <td>(B00N3XXXCS)</td>\n      <td>(B016UQXB5I, B016UQXB26, B00PD8JOTW, B00VHX8G5A)</td>\n      <td>0.002160</td>\n      <td>0.002160</td>\n      <td>0.002160</td>\n      <td>1.000000</td>\n      <td>462.962963</td>\n      <td>0.002155</td>\n      <td>inf</td>\n      <td>1.000000</td>\n    </tr>\n    <tr>\n      <th>469</th>\n      <td>(B016UQXB5I)</td>\n      <td>(B00VHX8G5A, B00N3XXXCS, B00PD8JOTW, B016UQXB26)</td>\n      <td>0.002167</td>\n      <td>0.002160</td>\n      <td>0.002160</td>\n      <td>0.996923</td>\n      <td>461.538462</td>\n      <td>0.002155</td>\n      <td>324.298000</td>\n      <td>1.000000</td>\n    </tr>\n    <tr>\n      <th>470</th>\n      <td>(B016UQXB26)</td>\n      <td>(B016UQXB5I, B00N3XXXCS, B00PD8JOTW, B00VHX8G5A)</td>\n      <td>0.002167</td>\n      <td>0.002160</td>\n      <td>0.002160</td>\n      <td>0.996923</td>\n      <td>461.538462</td>\n      <td>0.002155</td>\n      <td>324.298000</td>\n      <td>1.000000</td>\n    </tr>\n    <tr>\n      <th>471</th>\n      <td>(B00VHX8G5A)</td>\n      <td>(B016UQXB5I, B00N3XXXCS, B00PD8JOTW, B016UQXB26)</td>\n      <td>0.002167</td>\n      <td>0.002160</td>\n      <td>0.002160</td>\n      <td>0.996923</td>\n      <td>461.538462</td>\n      <td>0.002155</td>\n      <td>324.298000</td>\n      <td>1.000000</td>\n    </tr>\n  </tbody>\n</table>\n<p>472 rows × 10 columns</p>\n</div>"
     },
     "execution_count": 16,
     "metadata": {},
     "output_type": "execute_result"
    }
   ],
   "source": [
    "# Extract association rules from the dataframe\n",
    "rules = association_rules(frequent_itemsets, metric=\"confidence\", min_threshold=0.5)\n",
    "rules"
   ]
  },
  {
   "cell_type": "code",
   "execution_count": 17,
   "id": "925ff09c-bf68-4808-abab-3d01d1a64c9e",
   "metadata": {
    "ExecuteTime": {
     "end_time": "2023-11-01T13:07:53.437706593Z",
     "start_time": "2023-11-01T13:07:53.426662338Z"
    }
   },
   "outputs": [
    {
     "data": {
      "text/plain": "                                             itemsets   support  length\n0                                        [B001T7QJ9O]  0.005113       1\n1    [B00RM8I0LE, B00SI9UB7M, B00SK74C5Y, B00TZ900I4]  0.004953       4\n2                                        [B000VAPCU2]  0.004873       1\n3   [B000VAPCU2, B00RM8I0LE, B00SI9UB7M, B00SK74C5...  0.004867       5\n4                [B00136X6VU, B0015LT03G, B0015LY0DG]  0.004440       3\n..                                                ...       ...     ...\n66                                       [B00FO9ZRYQ]  0.002040       1\n67                                       [B00E2217I6]  0.002027       1\n68                                       [B010B7Q40G]  0.002013       1\n69                                       [B0013R67A6]  0.002013       1\n70                                       [B01BY6UFWQ]  0.002013       1\n\n[71 rows x 3 columns]",
      "text/html": "<div>\n<style scoped>\n    .dataframe tbody tr th:only-of-type {\n        vertical-align: middle;\n    }\n\n    .dataframe tbody tr th {\n        vertical-align: top;\n    }\n\n    .dataframe thead th {\n        text-align: right;\n    }\n</style>\n<table border=\"1\" class=\"dataframe\">\n  <thead>\n    <tr style=\"text-align: right;\">\n      <th></th>\n      <th>itemsets</th>\n      <th>support</th>\n      <th>length</th>\n    </tr>\n  </thead>\n  <tbody>\n    <tr>\n      <th>0</th>\n      <td>[B001T7QJ9O]</td>\n      <td>0.005113</td>\n      <td>1</td>\n    </tr>\n    <tr>\n      <th>1</th>\n      <td>[B00RM8I0LE, B00SI9UB7M, B00SK74C5Y, B00TZ900I4]</td>\n      <td>0.004953</td>\n      <td>4</td>\n    </tr>\n    <tr>\n      <th>2</th>\n      <td>[B000VAPCU2]</td>\n      <td>0.004873</td>\n      <td>1</td>\n    </tr>\n    <tr>\n      <th>3</th>\n      <td>[B000VAPCU2, B00RM8I0LE, B00SI9UB7M, B00SK74C5...</td>\n      <td>0.004867</td>\n      <td>5</td>\n    </tr>\n    <tr>\n      <th>4</th>\n      <td>[B00136X6VU, B0015LT03G, B0015LY0DG]</td>\n      <td>0.004440</td>\n      <td>3</td>\n    </tr>\n    <tr>\n      <th>...</th>\n      <td>...</td>\n      <td>...</td>\n      <td>...</td>\n    </tr>\n    <tr>\n      <th>66</th>\n      <td>[B00FO9ZRYQ]</td>\n      <td>0.002040</td>\n      <td>1</td>\n    </tr>\n    <tr>\n      <th>67</th>\n      <td>[B00E2217I6]</td>\n      <td>0.002027</td>\n      <td>1</td>\n    </tr>\n    <tr>\n      <th>68</th>\n      <td>[B010B7Q40G]</td>\n      <td>0.002013</td>\n      <td>1</td>\n    </tr>\n    <tr>\n      <th>69</th>\n      <td>[B0013R67A6]</td>\n      <td>0.002013</td>\n      <td>1</td>\n    </tr>\n    <tr>\n      <th>70</th>\n      <td>[B01BY6UFWQ]</td>\n      <td>0.002013</td>\n      <td>1</td>\n    </tr>\n  </tbody>\n</table>\n<p>71 rows × 3 columns</p>\n</div>"
     },
     "execution_count": 17,
     "metadata": {},
     "output_type": "execute_result"
    }
   ],
   "source": [
    "# Rename the column itemset to itemsets in closed pattern dataframe\n",
    "closed_pattern = closed_pattern.rename(columns={'itemset': 'itemsets'})\n",
    "closed_pattern['support'] = closed_pattern['support'] / len(df)\n",
    "closed_pattern"
   ]
  },
  {
   "cell_type": "code",
   "execution_count": 18,
   "id": "bfc1bd72-63f7-4d24-9a8f-5dad6e762390",
   "metadata": {
    "ExecuteTime": {
     "end_time": "2023-11-01T13:07:53.454609815Z",
     "start_time": "2023-11-01T13:07:53.427608451Z"
    }
   },
   "outputs": [
    {
     "data": {
      "text/plain": "                              antecedents  \\\n0    (B00RM8I0LE, B00SI9UB7M, B00TZ900I4)   \n1    (B00RM8I0LE, B00SI9UB7M, B00SK74C5Y)   \n2    (B00RM8I0LE, B00TZ900I4, B00SK74C5Y)   \n3    (B00SK74C5Y, B00SI9UB7M, B00TZ900I4)   \n4                (B00RM8I0LE, B00SI9UB7M)   \n..                                    ...   \n133                          (B00VHX8G5A)   \n134                          (B014W9SY4I)   \n135                          (B00WQCP6GS)   \n136                          (B000OTG7FE)   \n137                          (B002E6V3KY)   \n\n                                          consequents  antecedent support  \\\n0                                        (B00SK74C5Y)                 NaN   \n1                                        (B00TZ900I4)                 NaN   \n2                                        (B00SI9UB7M)                 NaN   \n3                                        (B00RM8I0LE)                 NaN   \n4                            (B00TZ900I4, B00SK74C5Y)                 NaN   \n..                                                ...                 ...   \n133  (B016UQXB5I, B00N3XXXCS, B00PD8JOTW, B016UQXB26)                 NaN   \n134                                      (B00WQCP6GS)                 NaN   \n135                                      (B014W9SY4I)                 NaN   \n136                                      (B002E6V3KY)                 NaN   \n137                                      (B000OTG7FE)                 NaN   \n\n     consequent support   support  confidence  lift  leverage  conviction  \\\n0                   NaN  0.004953         NaN   NaN       NaN         NaN   \n1                   NaN  0.004953         NaN   NaN       NaN         NaN   \n2                   NaN  0.004953         NaN   NaN       NaN         NaN   \n3                   NaN  0.004953         NaN   NaN       NaN         NaN   \n4                   NaN  0.004953         NaN   NaN       NaN         NaN   \n..                  ...       ...         ...   ...       ...         ...   \n133                 NaN  0.002160         NaN   NaN       NaN         NaN   \n134                 NaN  0.002127         NaN   NaN       NaN         NaN   \n135                 NaN  0.002127         NaN   NaN       NaN         NaN   \n136                 NaN  0.002060         NaN   NaN       NaN         NaN   \n137                 NaN  0.002060         NaN   NaN       NaN         NaN   \n\n     zhangs_metric  \n0              NaN  \n1              NaN  \n2              NaN  \n3              NaN  \n4              NaN  \n..             ...  \n133            NaN  \n134            NaN  \n135            NaN  \n136            NaN  \n137            NaN  \n\n[138 rows x 10 columns]",
      "text/html": "<div>\n<style scoped>\n    .dataframe tbody tr th:only-of-type {\n        vertical-align: middle;\n    }\n\n    .dataframe tbody tr th {\n        vertical-align: top;\n    }\n\n    .dataframe thead th {\n        text-align: right;\n    }\n</style>\n<table border=\"1\" class=\"dataframe\">\n  <thead>\n    <tr style=\"text-align: right;\">\n      <th></th>\n      <th>antecedents</th>\n      <th>consequents</th>\n      <th>antecedent support</th>\n      <th>consequent support</th>\n      <th>support</th>\n      <th>confidence</th>\n      <th>lift</th>\n      <th>leverage</th>\n      <th>conviction</th>\n      <th>zhangs_metric</th>\n    </tr>\n  </thead>\n  <tbody>\n    <tr>\n      <th>0</th>\n      <td>(B00RM8I0LE, B00SI9UB7M, B00TZ900I4)</td>\n      <td>(B00SK74C5Y)</td>\n      <td>NaN</td>\n      <td>NaN</td>\n      <td>0.004953</td>\n      <td>NaN</td>\n      <td>NaN</td>\n      <td>NaN</td>\n      <td>NaN</td>\n      <td>NaN</td>\n    </tr>\n    <tr>\n      <th>1</th>\n      <td>(B00RM8I0LE, B00SI9UB7M, B00SK74C5Y)</td>\n      <td>(B00TZ900I4)</td>\n      <td>NaN</td>\n      <td>NaN</td>\n      <td>0.004953</td>\n      <td>NaN</td>\n      <td>NaN</td>\n      <td>NaN</td>\n      <td>NaN</td>\n      <td>NaN</td>\n    </tr>\n    <tr>\n      <th>2</th>\n      <td>(B00RM8I0LE, B00TZ900I4, B00SK74C5Y)</td>\n      <td>(B00SI9UB7M)</td>\n      <td>NaN</td>\n      <td>NaN</td>\n      <td>0.004953</td>\n      <td>NaN</td>\n      <td>NaN</td>\n      <td>NaN</td>\n      <td>NaN</td>\n      <td>NaN</td>\n    </tr>\n    <tr>\n      <th>3</th>\n      <td>(B00SK74C5Y, B00SI9UB7M, B00TZ900I4)</td>\n      <td>(B00RM8I0LE)</td>\n      <td>NaN</td>\n      <td>NaN</td>\n      <td>0.004953</td>\n      <td>NaN</td>\n      <td>NaN</td>\n      <td>NaN</td>\n      <td>NaN</td>\n      <td>NaN</td>\n    </tr>\n    <tr>\n      <th>4</th>\n      <td>(B00RM8I0LE, B00SI9UB7M)</td>\n      <td>(B00TZ900I4, B00SK74C5Y)</td>\n      <td>NaN</td>\n      <td>NaN</td>\n      <td>0.004953</td>\n      <td>NaN</td>\n      <td>NaN</td>\n      <td>NaN</td>\n      <td>NaN</td>\n      <td>NaN</td>\n    </tr>\n    <tr>\n      <th>...</th>\n      <td>...</td>\n      <td>...</td>\n      <td>...</td>\n      <td>...</td>\n      <td>...</td>\n      <td>...</td>\n      <td>...</td>\n      <td>...</td>\n      <td>...</td>\n      <td>...</td>\n    </tr>\n    <tr>\n      <th>133</th>\n      <td>(B00VHX8G5A)</td>\n      <td>(B016UQXB5I, B00N3XXXCS, B00PD8JOTW, B016UQXB26)</td>\n      <td>NaN</td>\n      <td>NaN</td>\n      <td>0.002160</td>\n      <td>NaN</td>\n      <td>NaN</td>\n      <td>NaN</td>\n      <td>NaN</td>\n      <td>NaN</td>\n    </tr>\n    <tr>\n      <th>134</th>\n      <td>(B014W9SY4I)</td>\n      <td>(B00WQCP6GS)</td>\n      <td>NaN</td>\n      <td>NaN</td>\n      <td>0.002127</td>\n      <td>NaN</td>\n      <td>NaN</td>\n      <td>NaN</td>\n      <td>NaN</td>\n      <td>NaN</td>\n    </tr>\n    <tr>\n      <th>135</th>\n      <td>(B00WQCP6GS)</td>\n      <td>(B014W9SY4I)</td>\n      <td>NaN</td>\n      <td>NaN</td>\n      <td>0.002127</td>\n      <td>NaN</td>\n      <td>NaN</td>\n      <td>NaN</td>\n      <td>NaN</td>\n      <td>NaN</td>\n    </tr>\n    <tr>\n      <th>136</th>\n      <td>(B000OTG7FE)</td>\n      <td>(B002E6V3KY)</td>\n      <td>NaN</td>\n      <td>NaN</td>\n      <td>0.002060</td>\n      <td>NaN</td>\n      <td>NaN</td>\n      <td>NaN</td>\n      <td>NaN</td>\n      <td>NaN</td>\n    </tr>\n    <tr>\n      <th>137</th>\n      <td>(B002E6V3KY)</td>\n      <td>(B000OTG7FE)</td>\n      <td>NaN</td>\n      <td>NaN</td>\n      <td>0.002060</td>\n      <td>NaN</td>\n      <td>NaN</td>\n      <td>NaN</td>\n      <td>NaN</td>\n      <td>NaN</td>\n    </tr>\n  </tbody>\n</table>\n<p>138 rows × 10 columns</p>\n</div>"
     },
     "execution_count": 18,
     "metadata": {},
     "output_type": "execute_result"
    }
   ],
   "source": [
    "# Extract association rules from closed pattern dataframe\n",
    "rules = association_rules(closed_pattern, metric=\"confidence\", min_threshold=0.001, support_only=True)\n",
    "rules"
   ]
  },
  {
   "cell_type": "code",
   "execution_count": 19,
   "id": "7535c90a-6517-46e9-8f9a-0d85ceaab457",
   "metadata": {
    "ExecuteTime": {
     "end_time": "2023-11-01T13:07:53.455019222Z",
     "start_time": "2023-11-01T13:07:53.428325105Z"
    }
   },
   "outputs": [],
   "source": [
    "# Change the rules['antecedents'] and rules['consequents'] columns to lists\n",
    "rules['antecedents'] = rules['antecedents'].apply(lambda x: list(x))\n",
    "rules['consequents'] = rules['consequents'].apply(lambda x: list(x))"
   ]
  },
  {
   "cell_type": "code",
   "execution_count": 20,
   "id": "cadeb6b5-cfc2-4ee2-8587-983dcfbc9931",
   "metadata": {
    "ExecuteTime": {
     "end_time": "2023-11-01T13:07:53.456308870Z",
     "start_time": "2023-11-01T13:07:53.428593568Z"
    }
   },
   "outputs": [
    {
     "data": {
      "text/plain": "Empty DataFrame\nColumns: [antecedents, consequents, antecedent support, consequent support, support, confidence, lift, leverage, conviction, zhangs_metric]\nIndex: []",
      "text/html": "<div>\n<style scoped>\n    .dataframe tbody tr th:only-of-type {\n        vertical-align: middle;\n    }\n\n    .dataframe tbody tr th {\n        vertical-align: top;\n    }\n\n    .dataframe thead th {\n        text-align: right;\n    }\n</style>\n<table border=\"1\" class=\"dataframe\">\n  <thead>\n    <tr style=\"text-align: right;\">\n      <th></th>\n      <th>antecedents</th>\n      <th>consequents</th>\n      <th>antecedent support</th>\n      <th>consequent support</th>\n      <th>support</th>\n      <th>confidence</th>\n      <th>lift</th>\n      <th>leverage</th>\n      <th>conviction</th>\n      <th>zhangs_metric</th>\n    </tr>\n  </thead>\n  <tbody>\n  </tbody>\n</table>\n</div>"
     },
     "execution_count": 20,
     "metadata": {},
     "output_type": "execute_result"
    }
   ],
   "source": [
    "rules[rules['confidence'] >= 1]"
   ]
  },
  {
   "cell_type": "code",
   "execution_count": 21,
   "id": "8410b20a-674a-47a1-b250-ca4419c21170",
   "metadata": {
    "ExecuteTime": {
     "end_time": "2023-11-01T13:08:14.324556342Z",
     "start_time": "2023-11-01T13:07:53.469610798Z"
    }
   },
   "outputs": [
    {
     "name": "stdout",
     "output_type": "stream",
     "text": [
      "Number of anteriors:  0\n"
     ]
    },
    {
     "name": "stderr",
     "output_type": "stream",
     "text": [
      "100%|██████████| 150000/150000 [00:20<00:00, 7290.76it/s]\n"
     ]
    },
    {
     "name": "stdout",
     "output_type": "stream",
     "text": [
      "Number of items compressed: 0\n",
      "Compression ratio: 0.0\n",
      "<class 'pandas.core.frame.DataFrame'>\n",
      "RangeIndex: 150000 entries, 0 to 149999\n",
      "Data columns (total 2 columns):\n",
      " #   Column      Non-Null Count   Dtype \n",
      "---  ------      --------------   ----- \n",
      " 0   reviewerID  150000 non-null  object\n",
      " 1   items       150000 non-null  object\n",
      "dtypes: object(2)\n",
      "memory usage: 2.3+ MB\n",
      "Original database information: None\n",
      "<class 'pandas.core.frame.DataFrame'>\n",
      "RangeIndex: 150000 entries, 0 to 149999\n",
      "Data columns (total 2 columns):\n",
      " #   Column      Non-Null Count   Dtype \n",
      "---  ------      --------------   ----- \n",
      " 0   reviewerID  150000 non-null  object\n",
      " 1   items       150000 non-null  object\n",
      "dtypes: object(2)\n",
      "memory usage: 2.3+ MB\n",
      "Compressed database information: None\n"
     ]
    },
    {
     "data": {
      "text/plain": "                  reviewerID  \\\n0       A0001528BGUBOEVR6T5U   \n1       A0024836TBQJ1WBE4VDY   \n2       A0029274J35Q1MYNKUWO   \n3       A0036244LFNO78OM4135   \n4       A0065811S4ANKB4TYHII   \n...                      ...   \n149995        A367ZMOPN1SH3H   \n149996        A36819UAE7ICCD   \n149997        A3682L8IOXI39U   \n149998        A3682XY0PFAF6A   \n149999        A3685XD0QGIJRY   \n\n                                                    items  \n0                                            [B012ZIGVXE]  \n1       [B00E2217I6, B001GH4WD2, B01A8NH5ZG, B00PRVLMK...  \n2       [B000PD6QJ6, B00162LR6W, B00HTN4R6O, B00162POP...  \n3       [B00R7AGTKG, B001N3MKT2, B01BE07ZKW, B003BLP0I...  \n4                    [B0002IMP94, B00OHJDDPY, B004R5V47C]  \n...                                                   ...  \n149995  [B00C2DWE0W, B002ZJ1364, B004LJNUY4, B00BOEEUP...  \n149996  [B000F630II, B003C6M4TY, B013DKZXAA, B0151RQAX...  \n149997  [B001P4B6DU, B003HOPDB2, B007D0I9NU, B0078FPDR...  \n149998                           [B0100Y70AS, B00J06V4EG]  \n149999  [B00004YTMV, B004C5RDQS, B00598KU7Q, B0039HYIK...  \n\n[150000 rows x 2 columns]",
      "text/html": "<div>\n<style scoped>\n    .dataframe tbody tr th:only-of-type {\n        vertical-align: middle;\n    }\n\n    .dataframe tbody tr th {\n        vertical-align: top;\n    }\n\n    .dataframe thead th {\n        text-align: right;\n    }\n</style>\n<table border=\"1\" class=\"dataframe\">\n  <thead>\n    <tr style=\"text-align: right;\">\n      <th></th>\n      <th>reviewerID</th>\n      <th>items</th>\n    </tr>\n  </thead>\n  <tbody>\n    <tr>\n      <th>0</th>\n      <td>A0001528BGUBOEVR6T5U</td>\n      <td>[B012ZIGVXE]</td>\n    </tr>\n    <tr>\n      <th>1</th>\n      <td>A0024836TBQJ1WBE4VDY</td>\n      <td>[B00E2217I6, B001GH4WD2, B01A8NH5ZG, B00PRVLMK...</td>\n    </tr>\n    <tr>\n      <th>2</th>\n      <td>A0029274J35Q1MYNKUWO</td>\n      <td>[B000PD6QJ6, B00162LR6W, B00HTN4R6O, B00162POP...</td>\n    </tr>\n    <tr>\n      <th>3</th>\n      <td>A0036244LFNO78OM4135</td>\n      <td>[B00R7AGTKG, B001N3MKT2, B01BE07ZKW, B003BLP0I...</td>\n    </tr>\n    <tr>\n      <th>4</th>\n      <td>A0065811S4ANKB4TYHII</td>\n      <td>[B0002IMP94, B00OHJDDPY, B004R5V47C]</td>\n    </tr>\n    <tr>\n      <th>...</th>\n      <td>...</td>\n      <td>...</td>\n    </tr>\n    <tr>\n      <th>149995</th>\n      <td>A367ZMOPN1SH3H</td>\n      <td>[B00C2DWE0W, B002ZJ1364, B004LJNUY4, B00BOEEUP...</td>\n    </tr>\n    <tr>\n      <th>149996</th>\n      <td>A36819UAE7ICCD</td>\n      <td>[B000F630II, B003C6M4TY, B013DKZXAA, B0151RQAX...</td>\n    </tr>\n    <tr>\n      <th>149997</th>\n      <td>A3682L8IOXI39U</td>\n      <td>[B001P4B6DU, B003HOPDB2, B007D0I9NU, B0078FPDR...</td>\n    </tr>\n    <tr>\n      <th>149998</th>\n      <td>A3682XY0PFAF6A</td>\n      <td>[B0100Y70AS, B00J06V4EG]</td>\n    </tr>\n    <tr>\n      <th>149999</th>\n      <td>A3685XD0QGIJRY</td>\n      <td>[B00004YTMV, B004C5RDQS, B00598KU7Q, B0039HYIK...</td>\n    </tr>\n  </tbody>\n</table>\n<p>150000 rows × 2 columns</p>\n</div>"
     },
     "execution_count": 21,
     "metadata": {},
     "output_type": "execute_result"
    }
   ],
   "source": [
    "# Compress the data using associations rules\n",
    "def compress_data(database, association_rules, threshold=0.7):\n",
    "    \"\"\"\n",
    "    Compress the database using association rules.\n",
    "    :param database: pandas.DataFrame: the database to compress\n",
    "    :param association_rules: pandas.DataFrame: the association rules\n",
    "    :param threshold: float: the minimum confidence threshold\n",
    "    :return: pandas.DataFrame: the compressed database\n",
    "    \"\"\"\n",
    "    compressed_data = []\n",
    "    # Keep only rules with confidence above threshold\n",
    "    association_rules = association_rules[association_rules['confidence'] > threshold]\n",
    "    anteriors = association_rules['antecedents'].apply(lambda x: list(x)).tolist()\n",
    "    consequents = association_rules['consequents'].apply(lambda x: list(x)).tolist()\n",
    "    print(f'Number of anteriors:  {len(anteriors)}')\n",
    "\n",
    "    nb_items_compressed = 0\n",
    "    # Iterate over transactions without header\n",
    "    for i in tqdm(range(0, len(database))):\n",
    "        transaction = database.iloc[i, :].dropna().tolist()\n",
    "        user = transaction[0]\n",
    "        items = transaction[1]\n",
    "        compressed_transaction = []\n",
    "\n",
    "        # Check if an itemset is in the transaction\n",
    "        for (anterior, consequent) in zip(anteriors, consequents):\n",
    "            pattern = anterior + consequent\n",
    "            if all(item in items for item in pattern):\n",
    "                compressed_transaction.extend(anterior)\n",
    "                items = [item for item in items if item not in pattern]\n",
    "                nb_items_compressed += len(pattern)\n",
    "        compressed_transaction.extend(items)\n",
    "\n",
    "        compressed_data.append([user, compressed_transaction])\n",
    "    print(f'Number of items compressed: {nb_items_compressed}')\n",
    "    print(f'Compression ratio: {nb_items_compressed / len(database)}')\n",
    "    print(f'Original database information: {database.info()}')\n",
    "    compressed_data = pd.DataFrame(compressed_data, columns=['reviewerID', 'items'])\n",
    "    print(f'Compressed database information: {compressed_data.info()}')\n",
    "\n",
    "    return compressed_data\n",
    "\n",
    "compressed_data = compress_data(df, rules)\n",
    "compressed_data"
   ]
  }
 ],
 "metadata": {
  "kernelspec": {
   "display_name": "Python 3 (ipykernel)",
   "language": "python",
   "name": "python3"
  },
  "language_info": {
   "codemirror_mode": {
    "name": "ipython",
    "version": 3
   },
   "file_extension": ".py",
   "mimetype": "text/x-python",
   "name": "python",
   "nbconvert_exporter": "python",
   "pygments_lexer": "ipython3",
   "version": "3.10.12"
  }
 },
 "nbformat": 4,
 "nbformat_minor": 5
}
