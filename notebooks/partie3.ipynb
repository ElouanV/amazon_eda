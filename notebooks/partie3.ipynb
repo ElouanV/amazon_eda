{
 "cells": [
  {
   "cell_type": "code",
   "execution_count": 69,
   "metadata": {},
   "outputs": [],
   "source": [
    "import json\n",
    "import pandas as pd\n",
    "import gzip\n",
    "import sys\n",
    "sys.path.append('../src')\n",
    "from utils import *\n",
    "import numpy as np\n",
    "from itertools import combinations, product"
   ]
  },
  {
   "cell_type": "code",
   "execution_count": 2,
   "metadata": {},
   "outputs": [],
   "source": [
    "\n",
    "meta = getDF('../../project/meta_Sports_and_Outdoors.json', save=False)\n",
    "df = pd.read_csv('../../project/Sports_and_Outdoors_5_2016_2018.csv')"
   ]
  },
  {
   "cell_type": "code",
   "execution_count": 3,
   "metadata": {},
   "outputs": [
    {
     "name": "stderr",
     "output_type": "stream",
     "text": [
      "C:\\Users\\aurav\\AppData\\Local\\Temp\\ipykernel_12588\\3759937403.py:1: FutureWarning: The default value of regex will change from True to False in a future version. In addition, single character regular expressions will *not* be treated as literal strings when regex=True.\n",
      "  meta['price'] = meta['price'].str.replace('$', '')\n"
     ]
    }
   ],
   "source": [
    "meta['price'] = meta['price'].str.replace('$', '')\n",
    "meta['price'] = meta['price'].replace('nan', 0).replace('', 0)\n",
    "meta['price'] = meta['price'].apply(pd.to_numeric, errors='coerce').fillna(0)\n",
    "\n",
    "meta['also_buy'] = meta['also_buy'].fillna('[]').apply(lambda x: len(x))\n",
    "meta['also_view'] = meta['also_view'].fillna('[]').apply(lambda x: len(x))\n",
    "\n",
    "meta = meta.drop(['tech2', 'tech1', 'fit', 'date', 'details', 'imageURL', 'imageURLHighRes', 'rank', 'similar_item', 'description', 'feature'], axis=1)"
   ]
  },
  {
   "cell_type": "markdown",
   "metadata": {},
   "source": [
    "# group definition\n",
    "\n",
    "g1<average order price, main category order,order frequency>"
   ]
  },
  {
   "cell_type": "code",
   "execution_count": 4,
   "metadata": {},
   "outputs": [
    {
     "data": {
      "text/html": [
       "<div>\n",
       "<style scoped>\n",
       "    .dataframe tbody tr th:only-of-type {\n",
       "        vertical-align: middle;\n",
       "    }\n",
       "\n",
       "    .dataframe tbody tr th {\n",
       "        vertical-align: top;\n",
       "    }\n",
       "\n",
       "    .dataframe thead th {\n",
       "        text-align: right;\n",
       "    }\n",
       "</style>\n",
       "<table border=\"1\" class=\"dataframe\">\n",
       "  <thead>\n",
       "    <tr style=\"text-align: right;\">\n",
       "      <th></th>\n",
       "      <th>overall</th>\n",
       "      <th>reviewTime</th>\n",
       "      <th>reviewerID</th>\n",
       "      <th>asin</th>\n",
       "      <th>reviewText</th>\n",
       "      <th>unixReviewTime</th>\n",
       "      <th>category</th>\n",
       "      <th>title</th>\n",
       "      <th>also_buy</th>\n",
       "      <th>brand</th>\n",
       "      <th>also_view</th>\n",
       "      <th>main_cat</th>\n",
       "      <th>price</th>\n",
       "      <th>nb_order</th>\n",
       "      <th>avg_price</th>\n",
       "    </tr>\n",
       "  </thead>\n",
       "  <tbody>\n",
       "    <tr>\n",
       "      <th>0</th>\n",
       "      <td>5.0</td>\n",
       "      <td>2016-12-27</td>\n",
       "      <td>ASAE9FBGAJQAH</td>\n",
       "      <td>0899332757</td>\n",
       "      <td>Arrived on time.  Nice Atlas - Easy to read.</td>\n",
       "      <td>1482796800</td>\n",
       "      <td>[Sports &amp; Outdoors, Outdoor Recreation, Campin...</td>\n",
       "      <td>Delorme New York State Atlas &amp;amp; Gazetteer</td>\n",
       "      <td>78.0</td>\n",
       "      <td>Garmin</td>\n",
       "      <td>38.0</td>\n",
       "      <td>Office Products</td>\n",
       "      <td>19.95</td>\n",
       "      <td>11</td>\n",
       "      <td>21.160909</td>\n",
       "    </tr>\n",
       "    <tr>\n",
       "      <th>1</th>\n",
       "      <td>3.0</td>\n",
       "      <td>2016-12-12</td>\n",
       "      <td>A1TAW91SQSU2AH</td>\n",
       "      <td>0899332757</td>\n",
       "      <td>More of a road map than a useful topographical...</td>\n",
       "      <td>1481500800</td>\n",
       "      <td>[Sports &amp; Outdoors, Outdoor Recreation, Campin...</td>\n",
       "      <td>Delorme New York State Atlas &amp;amp; Gazetteer</td>\n",
       "      <td>78.0</td>\n",
       "      <td>Garmin</td>\n",
       "      <td>38.0</td>\n",
       "      <td>Office Products</td>\n",
       "      <td>19.95</td>\n",
       "      <td>4</td>\n",
       "      <td>9.585000</td>\n",
       "    </tr>\n",
       "    <tr>\n",
       "      <th>2</th>\n",
       "      <td>5.0</td>\n",
       "      <td>2016-08-13</td>\n",
       "      <td>A1SVGO4GMEOXQ0</td>\n",
       "      <td>0899332757</td>\n",
       "      <td>Comprehensive atlas. Very happy with how much ...</td>\n",
       "      <td>1471046400</td>\n",
       "      <td>[Sports &amp; Outdoors, Outdoor Recreation, Campin...</td>\n",
       "      <td>Delorme New York State Atlas &amp;amp; Gazetteer</td>\n",
       "      <td>78.0</td>\n",
       "      <td>Garmin</td>\n",
       "      <td>38.0</td>\n",
       "      <td>Office Products</td>\n",
       "      <td>19.95</td>\n",
       "      <td>4</td>\n",
       "      <td>9.065000</td>\n",
       "    </tr>\n",
       "    <tr>\n",
       "      <th>3</th>\n",
       "      <td>5.0</td>\n",
       "      <td>2016-08-02</td>\n",
       "      <td>A36QT6N7N0GF3O</td>\n",
       "      <td>0899332757</td>\n",
       "      <td>Delorme has always made the best book maps in ...</td>\n",
       "      <td>1470096000</td>\n",
       "      <td>[Sports &amp; Outdoors, Outdoor Recreation, Campin...</td>\n",
       "      <td>Delorme New York State Atlas &amp;amp; Gazetteer</td>\n",
       "      <td>78.0</td>\n",
       "      <td>Garmin</td>\n",
       "      <td>38.0</td>\n",
       "      <td>Office Products</td>\n",
       "      <td>19.95</td>\n",
       "      <td>7</td>\n",
       "      <td>10.232857</td>\n",
       "    </tr>\n",
       "    <tr>\n",
       "      <th>4</th>\n",
       "      <td>5.0</td>\n",
       "      <td>2016-07-14</td>\n",
       "      <td>AJGZDX7KC5TVQ</td>\n",
       "      <td>0899332757</td>\n",
       "      <td>worked great on the trip around ny</td>\n",
       "      <td>1468454400</td>\n",
       "      <td>[Sports &amp; Outdoors, Outdoor Recreation, Campin...</td>\n",
       "      <td>Delorme New York State Atlas &amp;amp; Gazetteer</td>\n",
       "      <td>78.0</td>\n",
       "      <td>Garmin</td>\n",
       "      <td>38.0</td>\n",
       "      <td>Office Products</td>\n",
       "      <td>19.95</td>\n",
       "      <td>5</td>\n",
       "      <td>39.394000</td>\n",
       "    </tr>\n",
       "  </tbody>\n",
       "</table>\n",
       "</div>"
      ],
      "text/plain": [
       "   overall  reviewTime      reviewerID        asin  \\\n",
       "0      5.0  2016-12-27   ASAE9FBGAJQAH  0899332757   \n",
       "1      3.0  2016-12-12  A1TAW91SQSU2AH  0899332757   \n",
       "2      5.0  2016-08-13  A1SVGO4GMEOXQ0  0899332757   \n",
       "3      5.0  2016-08-02  A36QT6N7N0GF3O  0899332757   \n",
       "4      5.0  2016-07-14   AJGZDX7KC5TVQ  0899332757   \n",
       "\n",
       "                                          reviewText  unixReviewTime  \\\n",
       "0       Arrived on time.  Nice Atlas - Easy to read.      1482796800   \n",
       "1  More of a road map than a useful topographical...      1481500800   \n",
       "2  Comprehensive atlas. Very happy with how much ...      1471046400   \n",
       "3  Delorme has always made the best book maps in ...      1470096000   \n",
       "4                 worked great on the trip around ny      1468454400   \n",
       "\n",
       "                                            category  \\\n",
       "0  [Sports & Outdoors, Outdoor Recreation, Campin...   \n",
       "1  [Sports & Outdoors, Outdoor Recreation, Campin...   \n",
       "2  [Sports & Outdoors, Outdoor Recreation, Campin...   \n",
       "3  [Sports & Outdoors, Outdoor Recreation, Campin...   \n",
       "4  [Sports & Outdoors, Outdoor Recreation, Campin...   \n",
       "\n",
       "                                          title  also_buy   brand  also_view  \\\n",
       "0  Delorme New York State Atlas &amp; Gazetteer      78.0  Garmin       38.0   \n",
       "1  Delorme New York State Atlas &amp; Gazetteer      78.0  Garmin       38.0   \n",
       "2  Delorme New York State Atlas &amp; Gazetteer      78.0  Garmin       38.0   \n",
       "3  Delorme New York State Atlas &amp; Gazetteer      78.0  Garmin       38.0   \n",
       "4  Delorme New York State Atlas &amp; Gazetteer      78.0  Garmin       38.0   \n",
       "\n",
       "          main_cat  price  nb_order  avg_price  \n",
       "0  Office Products  19.95        11  21.160909  \n",
       "1  Office Products  19.95         4   9.585000  \n",
       "2  Office Products  19.95         4   9.065000  \n",
       "3  Office Products  19.95         7  10.232857  \n",
       "4  Office Products  19.95         5  39.394000  "
      ]
     },
     "execution_count": 4,
     "metadata": {},
     "output_type": "execute_result"
    }
   ],
   "source": [
    "# count number of order for each reviewer\n",
    "df = df.join(meta.set_index('asin'), on='asin')\n",
    "df['nb_order'] = df.groupby('reviewerID')['reviewerID'].transform('count')\n",
    "# make average price for each reviewer\n",
    "df['avg_price'] = df.groupby('reviewerID')['price'].transform('mean')\n",
    "df.head()"
   ]
  },
  {
   "cell_type": "code",
   "execution_count": 5,
   "metadata": {},
   "outputs": [
    {
     "data": {
      "text/html": [
       "<div>\n",
       "<style scoped>\n",
       "    .dataframe tbody tr th:only-of-type {\n",
       "        vertical-align: middle;\n",
       "    }\n",
       "\n",
       "    .dataframe tbody tr th {\n",
       "        vertical-align: top;\n",
       "    }\n",
       "\n",
       "    .dataframe thead th {\n",
       "        text-align: right;\n",
       "    }\n",
       "</style>\n",
       "<table border=\"1\" class=\"dataframe\">\n",
       "  <thead>\n",
       "    <tr style=\"text-align: right;\">\n",
       "      <th></th>\n",
       "      <th>reviewerID</th>\n",
       "      <th>nb_order</th>\n",
       "      <th>avg_price</th>\n",
       "      <th>main_cat</th>\n",
       "    </tr>\n",
       "  </thead>\n",
       "  <tbody>\n",
       "    <tr>\n",
       "      <th>0</th>\n",
       "      <td>ASAE9FBGAJQAH</td>\n",
       "      <td>11</td>\n",
       "      <td>21.160909</td>\n",
       "      <td>Sports &amp; Outdoors</td>\n",
       "    </tr>\n",
       "    <tr>\n",
       "      <th>1</th>\n",
       "      <td>A1TAW91SQSU2AH</td>\n",
       "      <td>4</td>\n",
       "      <td>9.585000</td>\n",
       "      <td>Sports &amp; Outdoors</td>\n",
       "    </tr>\n",
       "    <tr>\n",
       "      <th>2</th>\n",
       "      <td>A1SVGO4GMEOXQ0</td>\n",
       "      <td>4</td>\n",
       "      <td>9.065000</td>\n",
       "      <td>Sports &amp; Outdoors</td>\n",
       "    </tr>\n",
       "    <tr>\n",
       "      <th>3</th>\n",
       "      <td>A36QT6N7N0GF3O</td>\n",
       "      <td>7</td>\n",
       "      <td>10.232857</td>\n",
       "      <td>Sports &amp; Outdoors</td>\n",
       "    </tr>\n",
       "    <tr>\n",
       "      <th>4</th>\n",
       "      <td>AJGZDX7KC5TVQ</td>\n",
       "      <td>5</td>\n",
       "      <td>39.394000</td>\n",
       "      <td>Tools &amp; Home Improvement</td>\n",
       "    </tr>\n",
       "  </tbody>\n",
       "</table>\n",
       "</div>"
      ],
      "text/plain": [
       "       reviewerID  nb_order  avg_price                  main_cat\n",
       "0   ASAE9FBGAJQAH        11  21.160909         Sports & Outdoors\n",
       "1  A1TAW91SQSU2AH         4   9.585000         Sports & Outdoors\n",
       "2  A1SVGO4GMEOXQ0         4   9.065000         Sports & Outdoors\n",
       "3  A36QT6N7N0GF3O         7  10.232857         Sports & Outdoors\n",
       "4   AJGZDX7KC5TVQ         5  39.394000  Tools & Home Improvement"
      ]
     },
     "execution_count": 5,
     "metadata": {},
     "output_type": "execute_result"
    }
   ],
   "source": [
    "# for each reviewer, count number of order by main_cat in a df2 who have just the reviewerID and the main_cat\n",
    "df2 = df[['reviewerID', 'main_cat']]\n",
    "#group by reviewerID and main_cat and count the number of order\n",
    "df2 = df2.groupby(['reviewerID', 'main_cat']).size().reset_index(name='nb_order_main_cat')\n",
    "df2 = df2.drop_duplicates()\n",
    "df2 = df2.loc[df2.groupby('reviewerID')['nb_order_main_cat'].idxmax()]\n",
    "\n",
    "df2 = df2.rename(columns={'main_cat':'main_cat2'})\n",
    "df = df.join(df2.set_index('reviewerID'), on='reviewerID')\n",
    "df1 = df[['reviewerID', 'nb_order', 'avg_price', 'main_cat2']] \n",
    "df1 = df1.rename(columns={'main_cat2':'main_cat'})\n",
    "\n",
    "# drop '' and '[]' in main_cat\n",
    "df1 = df1[df1.main_cat != '']\n",
    "\n",
    "df1.head()"
   ]
  },
  {
   "cell_type": "code",
   "execution_count": 6,
   "metadata": {},
   "outputs": [
    {
     "data": {
      "text/plain": [
       "<Axes: >"
      ]
     },
     "execution_count": 6,
     "metadata": {},
     "output_type": "execute_result"
    },
    {
     "data": {
      "image/png": "[encoded data removed]",
      "text/plain": [
       "<Figure size 640x480 with 1 Axes>"
      ]
     },
     "metadata": {},
     "output_type": "display_data"
    }
   ],
   "source": [
    "df1 = df1[df1['avg_price'] < 100]\n",
    "df1 = df1[df1['avg_price'] > 0]\n",
    "df1['avg_price'].hist(bins=100)"
   ]
  },
  {
   "cell_type": "code",
   "execution_count": 7,
   "metadata": {},
   "outputs": [
    {
     "data": {
      "text/plain": [
       "<Axes: >"
      ]
     },
     "execution_count": 7,
     "metadata": {},
     "output_type": "execute_result"
    },
    {
     "data": {
      "image/png": "[encoded data removed]",
      "text/plain": [
       "<Figure size 640x480 with 1 Axes>"
      ]
     },
     "metadata": {},
     "output_type": "display_data"
    }
   ],
   "source": [
    "df1['spender'] = np.where(df1['avg_price'] > df1['avg_price'].median(), 'high', 'low')\n",
    "df1['spender'].hist()"
   ]
  },
  {
   "cell_type": "code",
   "execution_count": 8,
   "metadata": {},
   "outputs": [
    {
     "data": {
      "text/plain": [
       "<Axes: >"
      ]
     },
     "execution_count": 8,
     "metadata": {},
     "output_type": "execute_result"
    },
    {
     "data": {
      "image/png": "[encoded data removed]",
      "text/plain": [
       "<Figure size 640x480 with 1 Axes>"
      ]
     },
     "metadata": {},
     "output_type": "display_data"
    }
   ],
   "source": [
    "df1 = df1[df1['nb_order'] < 100]\n",
    "df1['nb_order'].hist(bins=100)"
   ]
  },
  {
   "cell_type": "code",
   "execution_count": 9,
   "metadata": {},
   "outputs": [
    {
     "data": {
      "text/plain": [
       "<Axes: >"
      ]
     },
     "execution_count": 9,
     "metadata": {},
     "output_type": "execute_result"
    },
    {
     "data": {
      "image/png": "[encoded data removed]",
      "text/plain": [
       "<Figure size 640x480 with 1 Axes>"
      ]
     },
     "metadata": {},
     "output_type": "display_data"
    }
   ],
   "source": [
    "df1['order'] = np.where(df1['nb_order'] > 10, 'frequent', np.where(df1['nb_order'] > 3, 'normal', 'rare'))\n",
    "df1['order'].hist()"
   ]
  },
  {
   "cell_type": "code",
   "execution_count": 10,
   "metadata": {},
   "outputs": [],
   "source": [
    "df1['main_cat'] = df1['main_cat'].astype(str)\n",
    "df1 = df1[~df1['main_cat'].str.startswith('<')]\n",
    "df1['main_cat'].value_counts()\n",
    "\n",
    "df2 = df[['reviewerID', 'overall']]\n",
    "df2 = df2.groupby('reviewerID')['overall'].mean().reset_index()\n",
    "df2 = df2.rename(columns={'overall':'avg_rating'})\n",
    "df1 = df1.join(df2.set_index('reviewerID'), on='reviewerID')"
   ]
  },
  {
   "cell_type": "code",
   "execution_count": 11,
   "metadata": {},
   "outputs": [
    {
     "data": {
      "text/html": [
       "<div>\n",
       "<style scoped>\n",
       "    .dataframe tbody tr th:only-of-type {\n",
       "        vertical-align: middle;\n",
       "    }\n",
       "\n",
       "    .dataframe tbody tr th {\n",
       "        vertical-align: top;\n",
       "    }\n",
       "\n",
       "    .dataframe thead th {\n",
       "        text-align: right;\n",
       "    }\n",
       "</style>\n",
       "<table border=\"1\" class=\"dataframe\">\n",
       "  <thead>\n",
       "    <tr style=\"text-align: right;\">\n",
       "      <th></th>\n",
       "      <th>reviewerID</th>\n",
       "      <th>nb_order</th>\n",
       "      <th>avg_price</th>\n",
       "      <th>main_cat</th>\n",
       "      <th>spender</th>\n",
       "      <th>order</th>\n",
       "      <th>avg_rating</th>\n",
       "      <th>group</th>\n",
       "    </tr>\n",
       "  </thead>\n",
       "  <tbody>\n",
       "    <tr>\n",
       "      <th>0</th>\n",
       "      <td>ASAE9FBGAJQAH</td>\n",
       "      <td>11</td>\n",
       "      <td>21.160909</td>\n",
       "      <td>Sports &amp; Outdoors</td>\n",
       "      <td>high</td>\n",
       "      <td>frequent</td>\n",
       "      <td>4.272727</td>\n",
       "      <td>&lt;frequent,high,Sports &amp; Outdoors&gt;</td>\n",
       "    </tr>\n",
       "    <tr>\n",
       "      <th>1</th>\n",
       "      <td>A1TAW91SQSU2AH</td>\n",
       "      <td>4</td>\n",
       "      <td>9.585000</td>\n",
       "      <td>Sports &amp; Outdoors</td>\n",
       "      <td>low</td>\n",
       "      <td>normal</td>\n",
       "      <td>4.250000</td>\n",
       "      <td>&lt;normal,low,Sports &amp; Outdoors&gt;</td>\n",
       "    </tr>\n",
       "    <tr>\n",
       "      <th>2</th>\n",
       "      <td>A1SVGO4GMEOXQ0</td>\n",
       "      <td>4</td>\n",
       "      <td>9.065000</td>\n",
       "      <td>Sports &amp; Outdoors</td>\n",
       "      <td>low</td>\n",
       "      <td>normal</td>\n",
       "      <td>4.500000</td>\n",
       "      <td>&lt;normal,low,Sports &amp; Outdoors&gt;</td>\n",
       "    </tr>\n",
       "    <tr>\n",
       "      <th>3</th>\n",
       "      <td>A36QT6N7N0GF3O</td>\n",
       "      <td>7</td>\n",
       "      <td>10.232857</td>\n",
       "      <td>Sports &amp; Outdoors</td>\n",
       "      <td>low</td>\n",
       "      <td>normal</td>\n",
       "      <td>4.857143</td>\n",
       "      <td>&lt;normal,low,Sports &amp; Outdoors&gt;</td>\n",
       "    </tr>\n",
       "    <tr>\n",
       "      <th>4</th>\n",
       "      <td>AJGZDX7KC5TVQ</td>\n",
       "      <td>5</td>\n",
       "      <td>39.394000</td>\n",
       "      <td>Tools &amp; Home Improvement</td>\n",
       "      <td>high</td>\n",
       "      <td>normal</td>\n",
       "      <td>5.000000</td>\n",
       "      <td>&lt;normal,high,Tools &amp; Home Improvement&gt;</td>\n",
       "    </tr>\n",
       "  </tbody>\n",
       "</table>\n",
       "</div>"
      ],
      "text/plain": [
       "       reviewerID  nb_order  avg_price                  main_cat spender  \\\n",
       "0   ASAE9FBGAJQAH        11  21.160909         Sports & Outdoors    high   \n",
       "1  A1TAW91SQSU2AH         4   9.585000         Sports & Outdoors     low   \n",
       "2  A1SVGO4GMEOXQ0         4   9.065000         Sports & Outdoors     low   \n",
       "3  A36QT6N7N0GF3O         7  10.232857         Sports & Outdoors     low   \n",
       "4   AJGZDX7KC5TVQ         5  39.394000  Tools & Home Improvement    high   \n",
       "\n",
       "      order  avg_rating                                   group  \n",
       "0  frequent    4.272727       <frequent,high,Sports & Outdoors>  \n",
       "1    normal    4.250000          <normal,low,Sports & Outdoors>  \n",
       "2    normal    4.500000          <normal,low,Sports & Outdoors>  \n",
       "3    normal    4.857143          <normal,low,Sports & Outdoors>  \n",
       "4    normal    5.000000  <normal,high,Tools & Home Improvement>  "
      ]
     },
     "execution_count": 11,
     "metadata": {},
     "output_type": "execute_result"
    }
   ],
   "source": [
    "df1['group'] = '<' + df1['order'] + ',' + df1['spender'] + ',' + df1['main_cat'] + '>'\n",
    "df1.head()"
   ]
  },
  {
   "cell_type": "code",
   "execution_count": 12,
   "metadata": {},
   "outputs": [],
   "source": [
    "# make a list with all different groups\n",
    "main_cat = df1['main_cat'].unique().tolist()\n",
    "spender = df1['spender'].unique().tolist()\n",
    "order = df1['order'].unique().tolist()"
   ]
  },
  {
   "cell_type": "code",
   "execution_count": 13,
   "metadata": {},
   "outputs": [
    {
     "data": {
      "text/plain": [
       "['frequent', 'normal', 'rare']"
      ]
     },
     "execution_count": 13,
     "metadata": {},
     "output_type": "execute_result"
    }
   ],
   "source": [
    "# remove column group\n",
    "df1['order'].unique().tolist()"
   ]
  },
  {
   "cell_type": "code",
   "execution_count": 14,
   "metadata": {},
   "outputs": [
    {
     "data": {
      "text/plain": [
       "0.3769143259927283"
      ]
     },
     "execution_count": 14,
     "metadata": {},
     "output_type": "execute_result"
    }
   ],
   "source": [
    "# compute the coverage for each group, a group is list\n",
    "def coverage(df, groups):\n",
    "    \"\"\"\n",
    "    Calculate the coverage for a list of groups\n",
    "\n",
    "    Args:\n",
    "        df (dataframe): dataframe with the data\n",
    "        groups (list): list of groups, each group is a dictionary with the keys 'order', 'spender', 'main_cat\n",
    "\n",
    "    Returns:\n",
    "        float: coverage\n",
    "    \"\"\"\n",
    "\n",
    "    cover = 0\n",
    "    for group in groups:\n",
    "        customers = df.query('spender == @group[\"spender\"]' if 'spender' in group.keys() else 'spender == spender') \\\n",
    "            .query('order == @group[\"order\"]' if 'order' in group.keys() else 'order == order') \\\n",
    "            .query('main_cat == @group[\"main_cat\"]' if 'main_cat' in group.keys() else 'main_cat == main_cat').index\n",
    "        cover += len(customers)\n",
    "    return cover / len(df.index)\n",
    "    \n",
    "\n",
    "coverage(df1, [{'order': 'rare', 'spender': 'low', 'main_cat': 'Sports & Outdoors'}, {'order': 'normal', 'spender': 'low', 'main_cat': 'Sports & Outdoors'}])"
   ]
  },
  {
   "cell_type": "code",
   "execution_count": 15,
   "metadata": {},
   "outputs": [
    {
     "data": {
      "text/plain": [
       "0.8680962824946544"
      ]
     },
     "execution_count": 15,
     "metadata": {},
     "output_type": "execute_result"
    }
   ],
   "source": [
    "def diversity(df, groups):\n",
    "    \"\"\"\n",
    "    Calculate the diversity of a set of groups, that measures how distinct groups in group-set groups are from each other\n",
    "\n",
    "    Args:\n",
    "        df (dataframe): dataframe with the data\n",
    "        groups (list): list of groups, each group is a dictionary with the keys 'order', 'spender', 'main_cat\n",
    "\n",
    "    Returns:\n",
    "        float: diversity\n",
    "    \"\"\"\n",
    "    div = 1\n",
    "    for group1, group2 in itertools.combinations(groups, 2):\n",
    "        customers1 = df.query('spender == @group1[\"spender\"]' if 'spender' in group1.keys() else 'spender == spender') \\\n",
    "            .query('order == @group1[\"order\"]' if 'order' in group1.keys() else 'order == order') \\\n",
    "            .query('main_cat == @group1[\"main_cat\"]' if 'main_cat' in group1.keys() else 'main_cat == main_cat').index\n",
    "        customers2 = df.query('spender == @group2[\"spender\"]' if 'spender' in group2.keys() else 'spender == spender') \\\n",
    "            .query('order == @group2[\"order\"]' if 'order' in group2.keys() else 'order == order') \\\n",
    "            .query('main_cat == @group2[\"main_cat\"]' if 'main_cat' in group2.keys() else 'main_cat == main_cat').index\n",
    "        \n",
    "        overlapping_propotion = len(customers1.intersection(customers2)) / len(customers1.union(customers2)) \n",
    "        div += overlapping_propotion\n",
    "    return 1 / div\n",
    "\n",
    "\n",
    "diversity(df1, [{'main_cat': 'Sports & Outdoors'}, {'order': 'frequent', 'spender': 'high'}])"
   ]
  },
  {
   "cell_type": "code",
   "execution_count": 20,
   "metadata": {},
   "outputs": [
    {
     "data": {
      "text/plain": [
       "4.0"
      ]
     },
     "execution_count": 20,
     "metadata": {},
     "output_type": "execute_result"
    }
   ],
   "source": [
    "def diameter(df, groups):\n",
    "    \"\"\"\n",
    "    Calculate the diameter of a set of groups, that measures how similar customers in the same group are to each other\n",
    "\n",
    "    Args:\n",
    "        df (dataframe): dataframe with the data\n",
    "        groups (list): list of groups, each group is a dictionary with the keys 'order', 'spender', 'main_cat\n",
    "\n",
    "    Returns:\n",
    "        float: diameter\n",
    "    \"\"\"\n",
    "    diam = 0\n",
    "    for group in groups:\n",
    "        customers = df.query('spender == @group[\"spender\"]' if 'spender' in group.keys() else 'spender == spender') \\\n",
    "            .query('order == @group[\"order\"]' if 'order' in group.keys() else 'order == order') \\\n",
    "            .query('main_cat == @group[\"main_cat\"]' if 'main_cat' in group.keys() else 'main_cat == main_cat').index\n",
    "        if len(customers) > 1:\n",
    "            diam += df.loc[customers, 'avg_rating'].max() - df.loc[customers, 'avg_rating'].min()\n",
    "    return diam / len(groups)\n",
    "\n",
    "diameter(df1, [{'main_cat': 'Sports & Outdoors'}, {'order': 'frequent', 'spender': 'high'}])"
   ]
  },
  {
   "cell_type": "code",
   "execution_count": 23,
   "metadata": {},
   "outputs": [
    {
     "data": {
      "text/plain": [
       "({'order': 'frequent', 'spender': 'high'}, 0.15184237673109027, 1.0, 4.0)"
      ]
     },
     "execution_count": 23,
     "metadata": {},
     "output_type": "execute_result"
    }
   ],
   "source": [
    "def construct_plan(df, group):\n",
    "    \"\"\"\n",
    "    Construct a plan from a list of groups\n",
    "\n",
    "    Args:\n",
    "        df (dataframe): dataframe with the data\n",
    "        group (object): list of groups, each group is a dictionary with the keys 'order', 'spender', 'main_cat\n",
    "\n",
    "    Returns:\n",
    "        float: diameter\n",
    "    \"\"\"\n",
    "    diam = diameter(df, [group])\n",
    "    div = diversity(df, [group])\n",
    "    cov = coverage(df, [group])\n",
    "    return (group, cov, div, diam)\n",
    "\n",
    "construct_plan(df1, {'order': 'frequent', 'spender': 'high'})"
   ]
  },
  {
   "cell_type": "code",
   "execution_count": 61,
   "metadata": {},
   "outputs": [],
   "source": [
    "def alpha_dominated(p1, p2, alpha):\n",
    "    \"\"\"\n",
    "    Check if plan p1 is alpha-dominated by plan p2\n",
    "\n",
    "    Args:\n",
    "        p1 (tuple): plan 1\n",
    "        p2 (tuple): plan 2\n",
    "        alpha (float): alpha\n",
    "\n",
    "    Returns:\n",
    "        bool: True if p1 is alpha-dominated by p2, False otherwise\n",
    "    \"\"\"\n",
    "    return p1[1] >= p2[1] * alpha and p1[2] >= p2[2] * alpha and p1[3] >= p2[3] * alpha\n",
    "\n",
    "def not_any_alpha_dominated(p1, Pg, alpha):\n",
    "    \"\"\"\n",
    "    Check if plan p1 is alpha-dominated by any plan in Pg\n",
    "\n",
    "    Args:\n",
    "        p1 (tuple): plan 1\n",
    "        Pg (list): list of plans\n",
    "        alpha (float): alpha\n",
    "\n",
    "    Returns:\n",
    "        bool: True if p1 is alpha-dominated by any plan in Pg, False otherwise\n",
    "    \"\"\"\n",
    "    for p2 in Pg:\n",
    "        if alpha_dominated(p1, p2, alpha):\n",
    "            return False\n",
    "    return True"
   ]
  },
  {
   "cell_type": "code",
   "execution_count": 96,
   "metadata": {},
   "outputs": [],
   "source": [
    "def rename_list(list, name):\n",
    "    for k in range(len(list)):\n",
    "        list[k] = (name, list[k])\n",
    "    return list\n",
    "\n",
    "def combi_size(list1, list2, list3, size):\n",
    "    combinations_list = []\n",
    "    a = combinations([list1, list2, list3], size)\n",
    "    for ele in a:\n",
    "        l = product(*ele[0:size])\n",
    "        for e in l:\n",
    "            dic = {}\n",
    "            for i in e:\n",
    "                dic.update({i[0]: i[1]})\n",
    "            combinations_list.append(dic)\n",
    "    return combinations_list\n",
    "def combi(list1, list2, list3):\n",
    "    # genere toutes les combinaisons possibles de 3 listes de taille 1, 2 et 3\n",
    "    combinations_list = []\n",
    "    for size in range(1, 4):\n",
    "        combinations_list += combi_size(list1, list2, list3, size)\n",
    "    return combinations_list"
   ]
  },
  {
   "cell_type": "code",
   "execution_count": 97,
   "metadata": {},
   "outputs": [
    {
     "name": "stderr",
     "output_type": "stream",
     "text": [
      " 10%|█         | 29/287 [00:59<16:27,  3.83s/it]"
     ]
    }
   ],
   "source": [
    "from tqdm import tqdm\n",
    "\n",
    "def alpha_approximation_MOMRI(k, alpha, df):\n",
    "    Pa = []\n",
    "    main_cat = rename_list(df['main_cat'].unique().tolist(), 'main_cat')\n",
    "    spender = rename_list(df['spender'].unique().tolist(), 'spender')\n",
    "    order = rename_list(df['order'].unique().tolist(), 'order')\n",
    "    combination_list = combi(main_cat, spender, order)\n",
    " \n",
    "    for group in tqdm(combination_list):\n",
    "        Pg = construct_plan(df, group)\n",
    "        if not_any_alpha_dominated(Pg, Pa, alpha):\n",
    "            Pa.append(Pg)\n",
    "    \n",
    "    for n in range(2, k + 1):\n",
    "        for group in combi_size(main_cat, spender, order, n):\n",
    "            Pg = construct_plan(df, group)\n",
    "            if not_any_alpha_dominated(Pg, Pa, alpha):\n",
    "                Pa.append(Pg)\n",
    "    return Pa\n",
    "\n",
    "\n",
    "\n",
    "for k in [1,2,3,4]:\n",
    "    for alpha in [1,1.2,1.5,2]:\n",
    "        Pa = alpha_approximation_MOMRI(k, alpha, df1)\n",
    "        print('k =', k, 'alpha =', alpha, 'size =', len(Pa), 'Pa =', Pa)"
   ]
  }
 ],
 "metadata": {
  "kernelspec": {
   "display_name": "Python 3",
   "language": "python",
   "name": "python3"
  },
  "language_info": {
   "codemirror_mode": {
    "name": "ipython",
    "version": 3
   },
   "file_extension": ".py",
   "mimetype": "text/x-python",
   "name": "python",
   "nbconvert_exporter": "python",
   "pygments_lexer": "ipython3",
   "version": "3.10.9"
  }
 },
 "nbformat": 4,
 "nbformat_minor": 2
}
