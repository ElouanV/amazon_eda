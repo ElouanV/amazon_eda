{
 "cells": [
  {
   "cell_type": "code",
   "execution_count": 2,
   "metadata": {},
   "outputs": [],
   "source": [
    "import json\n",
    "import pandas as pd\n",
    "import gzip\n",
    "import sys\n",
    "sys.path.append('../src')\n",
    "from utils import *\n",
    "import numpy as np"
   ]
  },
  {
   "cell_type": "code",
   "execution_count": 80,
   "metadata": {},
   "outputs": [],
   "source": [
    "\n",
    "meta = getDF('../../project/meta_Sports_and_Outdoors.json', save=False)\n",
    "df = pd.read_csv('../../project/Sports_and_Outdoors_5_2016_2018.csv')"
   ]
  },
  {
   "cell_type": "code",
   "execution_count": 81,
   "metadata": {},
   "outputs": [
    {
     "name": "stderr",
     "output_type": "stream",
     "text": [
      "C:\\Users\\aurav\\AppData\\Local\\Temp\\ipykernel_14400\\3759937403.py:1: FutureWarning: The default value of regex will change from True to False in a future version. In addition, single character regular expressions will *not* be treated as literal strings when regex=True.\n",
      "  meta['price'] = meta['price'].str.replace('$', '')\n"
     ]
    }
   ],
   "source": [
    "meta['price'] = meta['price'].str.replace('$', '')\n",
    "meta['price'] = meta['price'].replace('nan', 0).replace('', 0)\n",
    "meta['price'] = meta['price'].apply(pd.to_numeric, errors='coerce').fillna(0)\n",
    "\n",
    "meta['also_buy'] = meta['also_buy'].fillna('[]').apply(lambda x: len(x))\n",
    "meta['also_view'] = meta['also_view'].fillna('[]').apply(lambda x: len(x))\n",
    "\n",
    "meta = meta.drop(['tech2', 'tech1', 'fit', 'date', 'details', 'imageURL', 'imageURLHighRes', 'rank', 'similar_item', 'description', 'feature'], axis=1)"
   ]
  },
  {
   "cell_type": "markdown",
   "metadata": {},
   "source": [
    "# group definition\n",
    "\n",
    "g1<average order price, main category order,order frequency>"
   ]
  },
  {
   "cell_type": "code",
   "execution_count": 82,
   "metadata": {},
   "outputs": [
    {
     "data": {
      "text/html": [
       "<div>\n",
       "<style scoped>\n",
       "    .dataframe tbody tr th:only-of-type {\n",
       "        vertical-align: middle;\n",
       "    }\n",
       "\n",
       "    .dataframe tbody tr th {\n",
       "        vertical-align: top;\n",
       "    }\n",
       "\n",
       "    .dataframe thead th {\n",
       "        text-align: right;\n",
       "    }\n",
       "</style>\n",
       "<table border=\"1\" class=\"dataframe\">\n",
       "  <thead>\n",
       "    <tr style=\"text-align: right;\">\n",
       "      <th></th>\n",
       "      <th>overall</th>\n",
       "      <th>reviewTime</th>\n",
       "      <th>reviewerID</th>\n",
       "      <th>asin</th>\n",
       "      <th>reviewText</th>\n",
       "      <th>unixReviewTime</th>\n",
       "      <th>category</th>\n",
       "      <th>title</th>\n",
       "      <th>also_buy</th>\n",
       "      <th>brand</th>\n",
       "      <th>also_view</th>\n",
       "      <th>main_cat</th>\n",
       "      <th>price</th>\n",
       "      <th>nb_order</th>\n",
       "      <th>avg_price</th>\n",
       "    </tr>\n",
       "  </thead>\n",
       "  <tbody>\n",
       "    <tr>\n",
       "      <th>0</th>\n",
       "      <td>5.0</td>\n",
       "      <td>2016-12-27</td>\n",
       "      <td>ASAE9FBGAJQAH</td>\n",
       "      <td>0899332757</td>\n",
       "      <td>Arrived on time.  Nice Atlas - Easy to read.</td>\n",
       "      <td>1482796800</td>\n",
       "      <td>[Sports &amp; Outdoors, Outdoor Recreation, Campin...</td>\n",
       "      <td>Delorme New York State Atlas &amp;amp; Gazetteer</td>\n",
       "      <td>78.0</td>\n",
       "      <td>Garmin</td>\n",
       "      <td>38.0</td>\n",
       "      <td>Office Products</td>\n",
       "      <td>19.95</td>\n",
       "      <td>11</td>\n",
       "      <td>21.160909</td>\n",
       "    </tr>\n",
       "    <tr>\n",
       "      <th>1</th>\n",
       "      <td>3.0</td>\n",
       "      <td>2016-12-12</td>\n",
       "      <td>A1TAW91SQSU2AH</td>\n",
       "      <td>0899332757</td>\n",
       "      <td>More of a road map than a useful topographical...</td>\n",
       "      <td>1481500800</td>\n",
       "      <td>[Sports &amp; Outdoors, Outdoor Recreation, Campin...</td>\n",
       "      <td>Delorme New York State Atlas &amp;amp; Gazetteer</td>\n",
       "      <td>78.0</td>\n",
       "      <td>Garmin</td>\n",
       "      <td>38.0</td>\n",
       "      <td>Office Products</td>\n",
       "      <td>19.95</td>\n",
       "      <td>4</td>\n",
       "      <td>9.585000</td>\n",
       "    </tr>\n",
       "    <tr>\n",
       "      <th>2</th>\n",
       "      <td>5.0</td>\n",
       "      <td>2016-08-13</td>\n",
       "      <td>A1SVGO4GMEOXQ0</td>\n",
       "      <td>0899332757</td>\n",
       "      <td>Comprehensive atlas. Very happy with how much ...</td>\n",
       "      <td>1471046400</td>\n",
       "      <td>[Sports &amp; Outdoors, Outdoor Recreation, Campin...</td>\n",
       "      <td>Delorme New York State Atlas &amp;amp; Gazetteer</td>\n",
       "      <td>78.0</td>\n",
       "      <td>Garmin</td>\n",
       "      <td>38.0</td>\n",
       "      <td>Office Products</td>\n",
       "      <td>19.95</td>\n",
       "      <td>4</td>\n",
       "      <td>9.065000</td>\n",
       "    </tr>\n",
       "    <tr>\n",
       "      <th>3</th>\n",
       "      <td>5.0</td>\n",
       "      <td>2016-08-02</td>\n",
       "      <td>A36QT6N7N0GF3O</td>\n",
       "      <td>0899332757</td>\n",
       "      <td>Delorme has always made the best book maps in ...</td>\n",
       "      <td>1470096000</td>\n",
       "      <td>[Sports &amp; Outdoors, Outdoor Recreation, Campin...</td>\n",
       "      <td>Delorme New York State Atlas &amp;amp; Gazetteer</td>\n",
       "      <td>78.0</td>\n",
       "      <td>Garmin</td>\n",
       "      <td>38.0</td>\n",
       "      <td>Office Products</td>\n",
       "      <td>19.95</td>\n",
       "      <td>7</td>\n",
       "      <td>10.232857</td>\n",
       "    </tr>\n",
       "    <tr>\n",
       "      <th>4</th>\n",
       "      <td>5.0</td>\n",
       "      <td>2016-07-14</td>\n",
       "      <td>AJGZDX7KC5TVQ</td>\n",
       "      <td>0899332757</td>\n",
       "      <td>worked great on the trip around ny</td>\n",
       "      <td>1468454400</td>\n",
       "      <td>[Sports &amp; Outdoors, Outdoor Recreation, Campin...</td>\n",
       "      <td>Delorme New York State Atlas &amp;amp; Gazetteer</td>\n",
       "      <td>78.0</td>\n",
       "      <td>Garmin</td>\n",
       "      <td>38.0</td>\n",
       "      <td>Office Products</td>\n",
       "      <td>19.95</td>\n",
       "      <td>5</td>\n",
       "      <td>39.394000</td>\n",
       "    </tr>\n",
       "  </tbody>\n",
       "</table>\n",
       "</div>"
      ],
      "text/plain": [
       "   overall  reviewTime      reviewerID        asin  \\\n",
       "0      5.0  2016-12-27   ASAE9FBGAJQAH  0899332757   \n",
       "1      3.0  2016-12-12  A1TAW91SQSU2AH  0899332757   \n",
       "2      5.0  2016-08-13  A1SVGO4GMEOXQ0  0899332757   \n",
       "3      5.0  2016-08-02  A36QT6N7N0GF3O  0899332757   \n",
       "4      5.0  2016-07-14   AJGZDX7KC5TVQ  0899332757   \n",
       "\n",
       "                                          reviewText  unixReviewTime  \\\n",
       "0       Arrived on time.  Nice Atlas - Easy to read.      1482796800   \n",
       "1  More of a road map than a useful topographical...      1481500800   \n",
       "2  Comprehensive atlas. Very happy with how much ...      1471046400   \n",
       "3  Delorme has always made the best book maps in ...      1470096000   \n",
       "4                 worked great on the trip around ny      1468454400   \n",
       "\n",
       "                                            category  \\\n",
       "0  [Sports & Outdoors, Outdoor Recreation, Campin...   \n",
       "1  [Sports & Outdoors, Outdoor Recreation, Campin...   \n",
       "2  [Sports & Outdoors, Outdoor Recreation, Campin...   \n",
       "3  [Sports & Outdoors, Outdoor Recreation, Campin...   \n",
       "4  [Sports & Outdoors, Outdoor Recreation, Campin...   \n",
       "\n",
       "                                          title  also_buy   brand  also_view  \\\n",
       "0  Delorme New York State Atlas &amp; Gazetteer      78.0  Garmin       38.0   \n",
       "1  Delorme New York State Atlas &amp; Gazetteer      78.0  Garmin       38.0   \n",
       "2  Delorme New York State Atlas &amp; Gazetteer      78.0  Garmin       38.0   \n",
       "3  Delorme New York State Atlas &amp; Gazetteer      78.0  Garmin       38.0   \n",
       "4  Delorme New York State Atlas &amp; Gazetteer      78.0  Garmin       38.0   \n",
       "\n",
       "          main_cat  price  nb_order  avg_price  \n",
       "0  Office Products  19.95        11  21.160909  \n",
       "1  Office Products  19.95         4   9.585000  \n",
       "2  Office Products  19.95         4   9.065000  \n",
       "3  Office Products  19.95         7  10.232857  \n",
       "4  Office Products  19.95         5  39.394000  "
      ]
     },
     "execution_count": 82,
     "metadata": {},
     "output_type": "execute_result"
    }
   ],
   "source": [
    "# count number of order for each reviewer\n",
    "df = df.join(meta.set_index('asin'), on='asin')\n",
    "df['nb_order'] = df.groupby('reviewerID')['reviewerID'].transform('count')\n",
    "# make average price for each reviewer\n",
    "df['avg_price'] = df.groupby('reviewerID')['price'].transform('mean')\n",
    "df.head()"
   ]
  },
  {
   "cell_type": "code",
   "execution_count": 83,
   "metadata": {},
   "outputs": [
    {
     "data": {
      "text/html": [
       "<div>\n",
       "<style scoped>\n",
       "    .dataframe tbody tr th:only-of-type {\n",
       "        vertical-align: middle;\n",
       "    }\n",
       "\n",
       "    .dataframe tbody tr th {\n",
       "        vertical-align: top;\n",
       "    }\n",
       "\n",
       "    .dataframe thead th {\n",
       "        text-align: right;\n",
       "    }\n",
       "</style>\n",
       "<table border=\"1\" class=\"dataframe\">\n",
       "  <thead>\n",
       "    <tr style=\"text-align: right;\">\n",
       "      <th></th>\n",
       "      <th>reviewerID</th>\n",
       "      <th>nb_order</th>\n",
       "      <th>avg_price</th>\n",
       "      <th>main_cat</th>\n",
       "    </tr>\n",
       "  </thead>\n",
       "  <tbody>\n",
       "    <tr>\n",
       "      <th>0</th>\n",
       "      <td>ASAE9FBGAJQAH</td>\n",
       "      <td>11</td>\n",
       "      <td>21.160909</td>\n",
       "      <td>Sports &amp; Outdoors</td>\n",
       "    </tr>\n",
       "    <tr>\n",
       "      <th>1</th>\n",
       "      <td>A1TAW91SQSU2AH</td>\n",
       "      <td>4</td>\n",
       "      <td>9.585000</td>\n",
       "      <td>Sports &amp; Outdoors</td>\n",
       "    </tr>\n",
       "    <tr>\n",
       "      <th>2</th>\n",
       "      <td>A1SVGO4GMEOXQ0</td>\n",
       "      <td>4</td>\n",
       "      <td>9.065000</td>\n",
       "      <td>Sports &amp; Outdoors</td>\n",
       "    </tr>\n",
       "    <tr>\n",
       "      <th>3</th>\n",
       "      <td>A36QT6N7N0GF3O</td>\n",
       "      <td>7</td>\n",
       "      <td>10.232857</td>\n",
       "      <td>Sports &amp; Outdoors</td>\n",
       "    </tr>\n",
       "    <tr>\n",
       "      <th>4</th>\n",
       "      <td>AJGZDX7KC5TVQ</td>\n",
       "      <td>5</td>\n",
       "      <td>39.394000</td>\n",
       "      <td>Tools &amp; Home Improvement</td>\n",
       "    </tr>\n",
       "  </tbody>\n",
       "</table>\n",
       "</div>"
      ],
      "text/plain": [
       "       reviewerID  nb_order  avg_price                  main_cat\n",
       "0   ASAE9FBGAJQAH        11  21.160909         Sports & Outdoors\n",
       "1  A1TAW91SQSU2AH         4   9.585000         Sports & Outdoors\n",
       "2  A1SVGO4GMEOXQ0         4   9.065000         Sports & Outdoors\n",
       "3  A36QT6N7N0GF3O         7  10.232857         Sports & Outdoors\n",
       "4   AJGZDX7KC5TVQ         5  39.394000  Tools & Home Improvement"
      ]
     },
     "execution_count": 83,
     "metadata": {},
     "output_type": "execute_result"
    }
   ],
   "source": [
    "# for each reviewer, count number of order by main_cat in a df2 who have just the reviewerID and the main_cat\n",
    "df2 = df[['reviewerID', 'main_cat']]\n",
    "#group by reviewerID and main_cat and count the number of order\n",
    "df2 = df2.groupby(['reviewerID', 'main_cat']).size().reset_index(name='nb_order_main_cat')\n",
    "df2 = df2.drop_duplicates()\n",
    "df2 = df2.loc[df2.groupby('reviewerID')['nb_order_main_cat'].idxmax()]\n",
    "\n",
    "df2 = df2.rename(columns={'main_cat':'main_cat2'})\n",
    "df = df.join(df2.set_index('reviewerID'), on='reviewerID')\n",
    "df1 = df[['reviewerID', 'nb_order', 'avg_price', 'main_cat2']] \n",
    "df1 = df1.rename(columns={'main_cat2':'main_cat'})\n",
    "\n",
    "df1.head()"
   ]
  },
  {
   "cell_type": "code",
   "execution_count": 84,
   "metadata": {},
   "outputs": [
    {
     "data": {
      "text/plain": [
       "<Axes: >"
      ]
     },
     "execution_count": 84,
     "metadata": {},
     "output_type": "execute_result"
    },
    {
     "data": {
      "image/png": "[encoded data removed]",
      "text/plain": [
       "<Figure size 640x480 with 1 Axes>"
      ]
     },
     "metadata": {},
     "output_type": "display_data"
    }
   ],
   "source": [
    "df1 = df1[df1['avg_price'] < 100]\n",
    "df1 = df1[df1['avg_price'] > 0]\n",
    "df1['avg_price'].hist(bins=100)"
   ]
  },
  {
   "cell_type": "code",
   "execution_count": 85,
   "metadata": {},
   "outputs": [
    {
     "data": {
      "text/plain": [
       "<Axes: >"
      ]
     },
     "execution_count": 85,
     "metadata": {},
     "output_type": "execute_result"
    },
    {
     "data": {
      "image/png": "[encoded data removed]",
      "text/plain": [
       "<Figure size 640x480 with 1 Axes>"
      ]
     },
     "metadata": {},
     "output_type": "display_data"
    }
   ],
   "source": [
    "df1['spender'] = np.where(df1['avg_price'] > df1['avg_price'].median(), 'high', 'low')\n",
    "df1['spender'].hist()"
   ]
  },
  {
   "cell_type": "code",
   "execution_count": 86,
   "metadata": {},
   "outputs": [
    {
     "data": {
      "text/plain": [
       "<Axes: >"
      ]
     },
     "execution_count": 86,
     "metadata": {},
     "output_type": "execute_result"
    },
    {
     "data": {
      "image/png": "[encoded data removed]",
      "text/plain": [
       "<Figure size 640x480 with 1 Axes>"
      ]
     },
     "metadata": {},
     "output_type": "display_data"
    }
   ],
   "source": [
    "df1 = df1[df1['nb_order'] < 100]\n",
    "df1['nb_order'].hist(bins=100)"
   ]
  },
  {
   "cell_type": "code",
   "execution_count": 87,
   "metadata": {},
   "outputs": [
    {
     "data": {
      "text/plain": [
       "<Axes: >"
      ]
     },
     "execution_count": 87,
     "metadata": {},
     "output_type": "execute_result"
    },
    {
     "data": {
      "image/png": "[encoded data removed]",
      "text/plain": [
       "<Figure size 640x480 with 1 Axes>"
      ]
     },
     "metadata": {},
     "output_type": "display_data"
    }
   ],
   "source": [
    "df1['order'] = np.where(df1['nb_order'] > 10, 'frequent', np.where(df1['nb_order'] > 3, 'normal', 'rare'))\n",
    "df1['order'].hist()"
   ]
  },
  {
   "cell_type": "code",
   "execution_count": 88,
   "metadata": {},
   "outputs": [],
   "source": [
    "df1['main_cat'] = df1['main_cat'].astype(str)\n",
    "df1 = df1[~df1['main_cat'].str.startswith('<')]\n",
    "df1['main_cat'].value_counts()\n",
    "\n",
    "df2 = df[['reviewerID', 'overall']]\n",
    "df2 = df2.groupby('reviewerID')['overall'].mean().reset_index()\n",
    "df2 = df2.rename(columns={'overall':'avg_rating'})\n",
    "df1 = df1.join(df2.set_index('reviewerID'), on='reviewerID')"
   ]
  },
  {
   "cell_type": "code",
   "execution_count": 89,
   "metadata": {},
   "outputs": [
    {
     "data": {
      "text/html": [
       "<div>\n",
       "<style scoped>\n",
       "    .dataframe tbody tr th:only-of-type {\n",
       "        vertical-align: middle;\n",
       "    }\n",
       "\n",
       "    .dataframe tbody tr th {\n",
       "        vertical-align: top;\n",
       "    }\n",
       "\n",
       "    .dataframe thead th {\n",
       "        text-align: right;\n",
       "    }\n",
       "</style>\n",
       "<table border=\"1\" class=\"dataframe\">\n",
       "  <thead>\n",
       "    <tr style=\"text-align: right;\">\n",
       "      <th></th>\n",
       "      <th>reviewerID</th>\n",
       "      <th>nb_order</th>\n",
       "      <th>avg_price</th>\n",
       "      <th>main_cat</th>\n",
       "      <th>spender</th>\n",
       "      <th>order</th>\n",
       "      <th>avg_rating</th>\n",
       "      <th>group</th>\n",
       "    </tr>\n",
       "  </thead>\n",
       "  <tbody>\n",
       "    <tr>\n",
       "      <th>0</th>\n",
       "      <td>ASAE9FBGAJQAH</td>\n",
       "      <td>11</td>\n",
       "      <td>21.160909</td>\n",
       "      <td>Sports &amp; Outdoors</td>\n",
       "      <td>high</td>\n",
       "      <td>frequent</td>\n",
       "      <td>4.272727</td>\n",
       "      <td>&lt;frequent,high,Sports &amp; Outdoors&gt;</td>\n",
       "    </tr>\n",
       "    <tr>\n",
       "      <th>1</th>\n",
       "      <td>A1TAW91SQSU2AH</td>\n",
       "      <td>4</td>\n",
       "      <td>9.585000</td>\n",
       "      <td>Sports &amp; Outdoors</td>\n",
       "      <td>low</td>\n",
       "      <td>normal</td>\n",
       "      <td>4.250000</td>\n",
       "      <td>&lt;normal,low,Sports &amp; Outdoors&gt;</td>\n",
       "    </tr>\n",
       "    <tr>\n",
       "      <th>2</th>\n",
       "      <td>A1SVGO4GMEOXQ0</td>\n",
       "      <td>4</td>\n",
       "      <td>9.065000</td>\n",
       "      <td>Sports &amp; Outdoors</td>\n",
       "      <td>low</td>\n",
       "      <td>normal</td>\n",
       "      <td>4.500000</td>\n",
       "      <td>&lt;normal,low,Sports &amp; Outdoors&gt;</td>\n",
       "    </tr>\n",
       "    <tr>\n",
       "      <th>3</th>\n",
       "      <td>A36QT6N7N0GF3O</td>\n",
       "      <td>7</td>\n",
       "      <td>10.232857</td>\n",
       "      <td>Sports &amp; Outdoors</td>\n",
       "      <td>low</td>\n",
       "      <td>normal</td>\n",
       "      <td>4.857143</td>\n",
       "      <td>&lt;normal,low,Sports &amp; Outdoors&gt;</td>\n",
       "    </tr>\n",
       "    <tr>\n",
       "      <th>4</th>\n",
       "      <td>AJGZDX7KC5TVQ</td>\n",
       "      <td>5</td>\n",
       "      <td>39.394000</td>\n",
       "      <td>Tools &amp; Home Improvement</td>\n",
       "      <td>high</td>\n",
       "      <td>normal</td>\n",
       "      <td>5.000000</td>\n",
       "      <td>&lt;normal,high,Tools &amp; Home Improvement&gt;</td>\n",
       "    </tr>\n",
       "  </tbody>\n",
       "</table>\n",
       "</div>"
      ],
      "text/plain": [
       "       reviewerID  nb_order  avg_price                  main_cat spender  \\\n",
       "0   ASAE9FBGAJQAH        11  21.160909         Sports & Outdoors    high   \n",
       "1  A1TAW91SQSU2AH         4   9.585000         Sports & Outdoors     low   \n",
       "2  A1SVGO4GMEOXQ0         4   9.065000         Sports & Outdoors     low   \n",
       "3  A36QT6N7N0GF3O         7  10.232857         Sports & Outdoors     low   \n",
       "4   AJGZDX7KC5TVQ         5  39.394000  Tools & Home Improvement    high   \n",
       "\n",
       "      order  avg_rating                                   group  \n",
       "0  frequent    4.272727       <frequent,high,Sports & Outdoors>  \n",
       "1    normal    4.250000          <normal,low,Sports & Outdoors>  \n",
       "2    normal    4.500000          <normal,low,Sports & Outdoors>  \n",
       "3    normal    4.857143          <normal,low,Sports & Outdoors>  \n",
       "4    normal    5.000000  <normal,high,Tools & Home Improvement>  "
      ]
     },
     "execution_count": 89,
     "metadata": {},
     "output_type": "execute_result"
    }
   ],
   "source": [
    "df1['group'] = '<' + df1['order'] + ',' + df1['spender'] + ',' + df1['main_cat'] + '>'\n",
    "df1.head()"
   ]
  },
  {
   "cell_type": "code",
   "execution_count": 90,
   "metadata": {},
   "outputs": [
    {
     "data": {
      "text/plain": [
       "88"
      ]
     },
     "execution_count": 90,
     "metadata": {},
     "output_type": "execute_result"
    }
   ],
   "source": [
    "# make a list with all different groups\n",
    "groups = df1['group'].unique().tolist()\n",
    "len(groups)"
   ]
  },
  {
   "cell_type": "code",
   "execution_count": 91,
   "metadata": {},
   "outputs": [],
   "source": [
    "# compute the diversity of each group diversity(G, R) = 1/(1 + Σg1,g2∈G|r ∈ R, r l g1 ∧ r l g2|)\n",
    "diversity = []\n"
   ]
  }
 ],
 "metadata": {
  "kernelspec": {
   "display_name": "Python 3",
   "language": "python",
   "name": "python3"
  },
  "language_info": {
   "codemirror_mode": {
    "name": "ipython",
    "version": 3
   },
   "file_extension": ".py",
   "mimetype": "text/x-python",
   "name": "python",
   "nbconvert_exporter": "python",
   "pygments_lexer": "ipython3",
   "version": "3.10.9"
  }
 },
 "nbformat": 4,
 "nbformat_minor": 2
}
