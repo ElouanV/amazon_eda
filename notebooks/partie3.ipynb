{
 "cells": [
  {
   "cell_type": "code",
   "execution_count": 45,
   "metadata": {},
   "outputs": [],
   "source": [
    "import json\n",
    "import pandas as pd\n",
    "import gzip\n",
    "import sys\n",
    "sys.path.append('../src')\n",
    "from utils import *\n",
    "import numpy as np"
   ]
  },
  {
   "cell_type": "code",
   "execution_count": null,
   "metadata": {},
   "outputs": [],
   "source": [
    "\n",
    "meta = getDF('../../project/meta_Sports_and_Outdoors.json', save=False)\n",
    "df = pd.read_csv('../../project/Sports_and_Outdoors_5_2016_2018.csv')"
   ]
  },
  {
   "cell_type": "code",
   "execution_count": 38,
   "metadata": {},
   "outputs": [
    {
     "name": "stderr",
     "output_type": "stream",
     "text": [
      "C:\\Users\\aurav\\AppData\\Local\\Temp\\ipykernel_22320\\3759937403.py:1: FutureWarning: The default value of regex will change from True to False in a future version. In addition, single character regular expressions will *not* be treated as literal strings when regex=True.\n",
      "  meta['price'] = meta['price'].str.replace('$', '')\n"
     ]
    }
   ],
   "source": [
    "meta['price'] = meta['price'].str.replace('$', '')\n",
    "meta['price'] = meta['price'].replace('nan', 0).replace('', 0)\n",
    "meta['price'] = meta['price'].apply(pd.to_numeric, errors='coerce').fillna(0)\n",
    "\n",
    "meta['also_buy'] = meta['also_buy'].fillna('[]').apply(lambda x: len(x))\n",
    "meta['also_view'] = meta['also_view'].fillna('[]').apply(lambda x: len(x))\n",
    "\n",
    "meta = meta.drop(['tech2', 'tech1', 'fit', 'date', 'details', 'imageURL', 'imageURLHighRes', 'rank', 'similar_item', 'description', 'feature'], axis=1)"
   ]
  },
  {
   "cell_type": "code",
   "execution_count": 39,
   "metadata": {},
   "outputs": [
    {
     "data": {
      "text/html": [
       "<div>\n",
       "<style scoped>\n",
       "    .dataframe tbody tr th:only-of-type {\n",
       "        vertical-align: middle;\n",
       "    }\n",
       "\n",
       "    .dataframe tbody tr th {\n",
       "        vertical-align: top;\n",
       "    }\n",
       "\n",
       "    .dataframe thead th {\n",
       "        text-align: right;\n",
       "    }\n",
       "</style>\n",
       "<table border=\"1\" class=\"dataframe\">\n",
       "  <thead>\n",
       "    <tr style=\"text-align: right;\">\n",
       "      <th></th>\n",
       "      <th>category</th>\n",
       "      <th>title</th>\n",
       "      <th>also_buy</th>\n",
       "      <th>brand</th>\n",
       "      <th>also_view</th>\n",
       "      <th>main_cat</th>\n",
       "      <th>price</th>\n",
       "      <th>asin</th>\n",
       "    </tr>\n",
       "  </thead>\n",
       "  <tbody>\n",
       "    <tr>\n",
       "      <th>0</th>\n",
       "      <td>[Sports &amp; Outdoors, Sports &amp; Fitness, Other Sp...</td>\n",
       "      <td>Adult Tutu Assorted Colors (Turquoise)</td>\n",
       "      <td>0</td>\n",
       "      <td>BubuBibi</td>\n",
       "      <td>59</td>\n",
       "      <td>&lt;img src=\"https://images-na.ssl-images-amazon....</td>\n",
       "      <td>11.80</td>\n",
       "      <td>0000032042</td>\n",
       "    </tr>\n",
       "    <tr>\n",
       "      <th>1</th>\n",
       "      <td>[Sports &amp; Outdoors, Sports &amp; Fitness, Other Sp...</td>\n",
       "      <td>Bububibi Adult Ballet Tutu Cheetah Pink</td>\n",
       "      <td>0</td>\n",
       "      <td>BubuBibi</td>\n",
       "      <td>0</td>\n",
       "      <td>&lt;img src=\"https://images-na.ssl-images-amazon....</td>\n",
       "      <td>11.97</td>\n",
       "      <td>0000032069</td>\n",
       "    </tr>\n",
       "    <tr>\n",
       "      <th>2</th>\n",
       "      <td>[Sports &amp; Outdoors, Sports &amp; Fitness, Other Sp...</td>\n",
       "      <td>Girls Ballet Tutu Neon Orange</td>\n",
       "      <td>1</td>\n",
       "      <td>Unknown</td>\n",
       "      <td>33</td>\n",
       "      <td>Toys &amp; Games</td>\n",
       "      <td>5.70</td>\n",
       "      <td>0000031860</td>\n",
       "    </tr>\n",
       "    <tr>\n",
       "      <th>3</th>\n",
       "      <td>[Sports &amp; Outdoors, Sports &amp; Fitness, Other Sp...</td>\n",
       "      <td>Girls Ballet Tutu Zebra Hot Pink</td>\n",
       "      <td>0</td>\n",
       "      <td>Tutu</td>\n",
       "      <td>1</td>\n",
       "      <td>Sports &amp; Outdoors</td>\n",
       "      <td>7.50</td>\n",
       "      <td>0000031852</td>\n",
       "    </tr>\n",
       "    <tr>\n",
       "      <th>4</th>\n",
       "      <td>[Sports &amp; Outdoors, Sports &amp; Fitness, Other Sp...</td>\n",
       "      <td>Girls Ballet Tutu Neon Blue</td>\n",
       "      <td>70</td>\n",
       "      <td>Bububibi</td>\n",
       "      <td>50</td>\n",
       "      <td>Toys &amp; Games</td>\n",
       "      <td>6.54</td>\n",
       "      <td>0000031895</td>\n",
       "    </tr>\n",
       "  </tbody>\n",
       "</table>\n",
       "</div>"
      ],
      "text/plain": [
       "                                            category  \\\n",
       "0  [Sports & Outdoors, Sports & Fitness, Other Sp...   \n",
       "1  [Sports & Outdoors, Sports & Fitness, Other Sp...   \n",
       "2  [Sports & Outdoors, Sports & Fitness, Other Sp...   \n",
       "3  [Sports & Outdoors, Sports & Fitness, Other Sp...   \n",
       "4  [Sports & Outdoors, Sports & Fitness, Other Sp...   \n",
       "\n",
       "                                     title  also_buy     brand  also_view  \\\n",
       "0   Adult Tutu Assorted Colors (Turquoise)         0  BubuBibi         59   \n",
       "1  Bububibi Adult Ballet Tutu Cheetah Pink         0  BubuBibi          0   \n",
       "2            Girls Ballet Tutu Neon Orange         1   Unknown         33   \n",
       "3         Girls Ballet Tutu Zebra Hot Pink         0      Tutu          1   \n",
       "4              Girls Ballet Tutu Neon Blue        70  Bububibi         50   \n",
       "\n",
       "                                            main_cat  price        asin  \n",
       "0  <img src=\"https://images-na.ssl-images-amazon....  11.80  0000032042  \n",
       "1  <img src=\"https://images-na.ssl-images-amazon....  11.97  0000032069  \n",
       "2                                       Toys & Games   5.70  0000031860  \n",
       "3                                  Sports & Outdoors   7.50  0000031852  \n",
       "4                                       Toys & Games   6.54  0000031895  "
      ]
     },
     "execution_count": 39,
     "metadata": {},
     "output_type": "execute_result"
    }
   ],
   "source": [
    "meta.head()"
   ]
  },
  {
   "cell_type": "code",
   "execution_count": 40,
   "metadata": {},
   "outputs": [
    {
     "data": {
      "text/html": [
       "<div>\n",
       "<style scoped>\n",
       "    .dataframe tbody tr th:only-of-type {\n",
       "        vertical-align: middle;\n",
       "    }\n",
       "\n",
       "    .dataframe tbody tr th {\n",
       "        vertical-align: top;\n",
       "    }\n",
       "\n",
       "    .dataframe thead th {\n",
       "        text-align: right;\n",
       "    }\n",
       "</style>\n",
       "<table border=\"1\" class=\"dataframe\">\n",
       "  <thead>\n",
       "    <tr style=\"text-align: right;\">\n",
       "      <th></th>\n",
       "      <th>overall</th>\n",
       "      <th>reviewTime</th>\n",
       "      <th>reviewerID</th>\n",
       "      <th>asin</th>\n",
       "      <th>reviewText</th>\n",
       "      <th>unixReviewTime</th>\n",
       "    </tr>\n",
       "  </thead>\n",
       "  <tbody>\n",
       "    <tr>\n",
       "      <th>0</th>\n",
       "      <td>5.0</td>\n",
       "      <td>2016-12-27</td>\n",
       "      <td>ASAE9FBGAJQAH</td>\n",
       "      <td>0899332757</td>\n",
       "      <td>Arrived on time.  Nice Atlas - Easy to read.</td>\n",
       "      <td>1482796800</td>\n",
       "    </tr>\n",
       "    <tr>\n",
       "      <th>1</th>\n",
       "      <td>3.0</td>\n",
       "      <td>2016-12-12</td>\n",
       "      <td>A1TAW91SQSU2AH</td>\n",
       "      <td>0899332757</td>\n",
       "      <td>More of a road map than a useful topographical...</td>\n",
       "      <td>1481500800</td>\n",
       "    </tr>\n",
       "    <tr>\n",
       "      <th>2</th>\n",
       "      <td>5.0</td>\n",
       "      <td>2016-08-13</td>\n",
       "      <td>A1SVGO4GMEOXQ0</td>\n",
       "      <td>0899332757</td>\n",
       "      <td>Comprehensive atlas. Very happy with how much ...</td>\n",
       "      <td>1471046400</td>\n",
       "    </tr>\n",
       "    <tr>\n",
       "      <th>3</th>\n",
       "      <td>5.0</td>\n",
       "      <td>2016-08-02</td>\n",
       "      <td>A36QT6N7N0GF3O</td>\n",
       "      <td>0899332757</td>\n",
       "      <td>Delorme has always made the best book maps in ...</td>\n",
       "      <td>1470096000</td>\n",
       "    </tr>\n",
       "    <tr>\n",
       "      <th>4</th>\n",
       "      <td>5.0</td>\n",
       "      <td>2016-07-14</td>\n",
       "      <td>AJGZDX7KC5TVQ</td>\n",
       "      <td>0899332757</td>\n",
       "      <td>worked great on the trip around ny</td>\n",
       "      <td>1468454400</td>\n",
       "    </tr>\n",
       "  </tbody>\n",
       "</table>\n",
       "</div>"
      ],
      "text/plain": [
       "   overall  reviewTime      reviewerID        asin  \\\n",
       "0      5.0  2016-12-27   ASAE9FBGAJQAH  0899332757   \n",
       "1      3.0  2016-12-12  A1TAW91SQSU2AH  0899332757   \n",
       "2      5.0  2016-08-13  A1SVGO4GMEOXQ0  0899332757   \n",
       "3      5.0  2016-08-02  A36QT6N7N0GF3O  0899332757   \n",
       "4      5.0  2016-07-14   AJGZDX7KC5TVQ  0899332757   \n",
       "\n",
       "                                          reviewText  unixReviewTime  \n",
       "0       Arrived on time.  Nice Atlas - Easy to read.      1482796800  \n",
       "1  More of a road map than a useful topographical...      1481500800  \n",
       "2  Comprehensive atlas. Very happy with how much ...      1471046400  \n",
       "3  Delorme has always made the best book maps in ...      1470096000  \n",
       "4                 worked great on the trip around ny      1468454400  "
      ]
     },
     "execution_count": 40,
     "metadata": {},
     "output_type": "execute_result"
    }
   ],
   "source": [
    "df.head()"
   ]
  },
  {
   "cell_type": "markdown",
   "metadata": {},
   "source": [
    "# group definition\n",
    "\n",
    "g1<average order price (5$ by 5$), category>"
   ]
  },
  {
   "cell_type": "code",
   "execution_count": 41,
   "metadata": {},
   "outputs": [
    {
     "data": {
      "text/html": [
       "<div>\n",
       "<style scoped>\n",
       "    .dataframe tbody tr th:only-of-type {\n",
       "        vertical-align: middle;\n",
       "    }\n",
       "\n",
       "    .dataframe tbody tr th {\n",
       "        vertical-align: top;\n",
       "    }\n",
       "\n",
       "    .dataframe thead th {\n",
       "        text-align: right;\n",
       "    }\n",
       "</style>\n",
       "<table border=\"1\" class=\"dataframe\">\n",
       "  <thead>\n",
       "    <tr style=\"text-align: right;\">\n",
       "      <th></th>\n",
       "      <th>overall</th>\n",
       "      <th>reviewTime</th>\n",
       "      <th>reviewerID</th>\n",
       "      <th>asin</th>\n",
       "      <th>reviewText</th>\n",
       "      <th>unixReviewTime</th>\n",
       "      <th>category</th>\n",
       "      <th>title</th>\n",
       "      <th>also_buy</th>\n",
       "      <th>brand</th>\n",
       "      <th>also_view</th>\n",
       "      <th>main_cat</th>\n",
       "      <th>price</th>\n",
       "      <th>nb_order</th>\n",
       "      <th>avg_price</th>\n",
       "    </tr>\n",
       "  </thead>\n",
       "  <tbody>\n",
       "    <tr>\n",
       "      <th>0</th>\n",
       "      <td>5.0</td>\n",
       "      <td>2016-12-27</td>\n",
       "      <td>ASAE9FBGAJQAH</td>\n",
       "      <td>0899332757</td>\n",
       "      <td>Arrived on time.  Nice Atlas - Easy to read.</td>\n",
       "      <td>1482796800</td>\n",
       "      <td>[Sports &amp; Outdoors, Outdoor Recreation, Campin...</td>\n",
       "      <td>Delorme New York State Atlas &amp;amp; Gazetteer</td>\n",
       "      <td>78.0</td>\n",
       "      <td>Garmin</td>\n",
       "      <td>38.0</td>\n",
       "      <td>Office Products</td>\n",
       "      <td>19.95</td>\n",
       "      <td>11</td>\n",
       "      <td>21.160909</td>\n",
       "    </tr>\n",
       "    <tr>\n",
       "      <th>1</th>\n",
       "      <td>3.0</td>\n",
       "      <td>2016-12-12</td>\n",
       "      <td>A1TAW91SQSU2AH</td>\n",
       "      <td>0899332757</td>\n",
       "      <td>More of a road map than a useful topographical...</td>\n",
       "      <td>1481500800</td>\n",
       "      <td>[Sports &amp; Outdoors, Outdoor Recreation, Campin...</td>\n",
       "      <td>Delorme New York State Atlas &amp;amp; Gazetteer</td>\n",
       "      <td>78.0</td>\n",
       "      <td>Garmin</td>\n",
       "      <td>38.0</td>\n",
       "      <td>Office Products</td>\n",
       "      <td>19.95</td>\n",
       "      <td>4</td>\n",
       "      <td>9.585000</td>\n",
       "    </tr>\n",
       "    <tr>\n",
       "      <th>2</th>\n",
       "      <td>5.0</td>\n",
       "      <td>2016-08-13</td>\n",
       "      <td>A1SVGO4GMEOXQ0</td>\n",
       "      <td>0899332757</td>\n",
       "      <td>Comprehensive atlas. Very happy with how much ...</td>\n",
       "      <td>1471046400</td>\n",
       "      <td>[Sports &amp; Outdoors, Outdoor Recreation, Campin...</td>\n",
       "      <td>Delorme New York State Atlas &amp;amp; Gazetteer</td>\n",
       "      <td>78.0</td>\n",
       "      <td>Garmin</td>\n",
       "      <td>38.0</td>\n",
       "      <td>Office Products</td>\n",
       "      <td>19.95</td>\n",
       "      <td>4</td>\n",
       "      <td>9.065000</td>\n",
       "    </tr>\n",
       "    <tr>\n",
       "      <th>3</th>\n",
       "      <td>5.0</td>\n",
       "      <td>2016-08-02</td>\n",
       "      <td>A36QT6N7N0GF3O</td>\n",
       "      <td>0899332757</td>\n",
       "      <td>Delorme has always made the best book maps in ...</td>\n",
       "      <td>1470096000</td>\n",
       "      <td>[Sports &amp; Outdoors, Outdoor Recreation, Campin...</td>\n",
       "      <td>Delorme New York State Atlas &amp;amp; Gazetteer</td>\n",
       "      <td>78.0</td>\n",
       "      <td>Garmin</td>\n",
       "      <td>38.0</td>\n",
       "      <td>Office Products</td>\n",
       "      <td>19.95</td>\n",
       "      <td>7</td>\n",
       "      <td>10.232857</td>\n",
       "    </tr>\n",
       "    <tr>\n",
       "      <th>4</th>\n",
       "      <td>5.0</td>\n",
       "      <td>2016-07-14</td>\n",
       "      <td>AJGZDX7KC5TVQ</td>\n",
       "      <td>0899332757</td>\n",
       "      <td>worked great on the trip around ny</td>\n",
       "      <td>1468454400</td>\n",
       "      <td>[Sports &amp; Outdoors, Outdoor Recreation, Campin...</td>\n",
       "      <td>Delorme New York State Atlas &amp;amp; Gazetteer</td>\n",
       "      <td>78.0</td>\n",
       "      <td>Garmin</td>\n",
       "      <td>38.0</td>\n",
       "      <td>Office Products</td>\n",
       "      <td>19.95</td>\n",
       "      <td>5</td>\n",
       "      <td>39.394000</td>\n",
       "    </tr>\n",
       "  </tbody>\n",
       "</table>\n",
       "</div>"
      ],
      "text/plain": [
       "   overall  reviewTime      reviewerID        asin  \\\n",
       "0      5.0  2016-12-27   ASAE9FBGAJQAH  0899332757   \n",
       "1      3.0  2016-12-12  A1TAW91SQSU2AH  0899332757   \n",
       "2      5.0  2016-08-13  A1SVGO4GMEOXQ0  0899332757   \n",
       "3      5.0  2016-08-02  A36QT6N7N0GF3O  0899332757   \n",
       "4      5.0  2016-07-14   AJGZDX7KC5TVQ  0899332757   \n",
       "\n",
       "                                          reviewText  unixReviewTime  \\\n",
       "0       Arrived on time.  Nice Atlas - Easy to read.      1482796800   \n",
       "1  More of a road map than a useful topographical...      1481500800   \n",
       "2  Comprehensive atlas. Very happy with how much ...      1471046400   \n",
       "3  Delorme has always made the best book maps in ...      1470096000   \n",
       "4                 worked great on the trip around ny      1468454400   \n",
       "\n",
       "                                            category  \\\n",
       "0  [Sports & Outdoors, Outdoor Recreation, Campin...   \n",
       "1  [Sports & Outdoors, Outdoor Recreation, Campin...   \n",
       "2  [Sports & Outdoors, Outdoor Recreation, Campin...   \n",
       "3  [Sports & Outdoors, Outdoor Recreation, Campin...   \n",
       "4  [Sports & Outdoors, Outdoor Recreation, Campin...   \n",
       "\n",
       "                                          title  also_buy   brand  also_view  \\\n",
       "0  Delorme New York State Atlas &amp; Gazetteer      78.0  Garmin       38.0   \n",
       "1  Delorme New York State Atlas &amp; Gazetteer      78.0  Garmin       38.0   \n",
       "2  Delorme New York State Atlas &amp; Gazetteer      78.0  Garmin       38.0   \n",
       "3  Delorme New York State Atlas &amp; Gazetteer      78.0  Garmin       38.0   \n",
       "4  Delorme New York State Atlas &amp; Gazetteer      78.0  Garmin       38.0   \n",
       "\n",
       "          main_cat  price  nb_order  avg_price  \n",
       "0  Office Products  19.95        11  21.160909  \n",
       "1  Office Products  19.95         4   9.585000  \n",
       "2  Office Products  19.95         4   9.065000  \n",
       "3  Office Products  19.95         7  10.232857  \n",
       "4  Office Products  19.95         5  39.394000  "
      ]
     },
     "execution_count": 41,
     "metadata": {},
     "output_type": "execute_result"
    }
   ],
   "source": [
    "# count number of order for each reviewer\n",
    "df = df.join(meta.set_index('asin'), on='asin')\n",
    "df['nb_order'] = df.groupby('reviewerID')['reviewerID'].transform('count')\n",
    "# make average price for each reviewer\n",
    "df['avg_price'] = df.groupby('reviewerID')['price'].transform('mean')\n",
    "df.head()"
   ]
  },
  {
   "cell_type": "code",
   "execution_count": 43,
   "metadata": {},
   "outputs": [
    {
     "data": {
      "text/html": [
       "<div>\n",
       "<style scoped>\n",
       "    .dataframe tbody tr th:only-of-type {\n",
       "        vertical-align: middle;\n",
       "    }\n",
       "\n",
       "    .dataframe tbody tr th {\n",
       "        vertical-align: top;\n",
       "    }\n",
       "\n",
       "    .dataframe thead th {\n",
       "        text-align: right;\n",
       "    }\n",
       "</style>\n",
       "<table border=\"1\" class=\"dataframe\">\n",
       "  <thead>\n",
       "    <tr style=\"text-align: right;\">\n",
       "      <th></th>\n",
       "      <th>reviewerID</th>\n",
       "      <th>avg_price</th>\n",
       "      <th>main_cat</th>\n",
       "      <th>nb_order</th>\n",
       "    </tr>\n",
       "  </thead>\n",
       "  <tbody>\n",
       "    <tr>\n",
       "      <th>0</th>\n",
       "      <td>ASAE9FBGAJQAH</td>\n",
       "      <td>21.160909</td>\n",
       "      <td>Office Products</td>\n",
       "      <td>11</td>\n",
       "    </tr>\n",
       "    <tr>\n",
       "      <th>1</th>\n",
       "      <td>A1TAW91SQSU2AH</td>\n",
       "      <td>9.585000</td>\n",
       "      <td>Office Products</td>\n",
       "      <td>4</td>\n",
       "    </tr>\n",
       "    <tr>\n",
       "      <th>2</th>\n",
       "      <td>A1SVGO4GMEOXQ0</td>\n",
       "      <td>9.065000</td>\n",
       "      <td>Office Products</td>\n",
       "      <td>4</td>\n",
       "    </tr>\n",
       "    <tr>\n",
       "      <th>3</th>\n",
       "      <td>A36QT6N7N0GF3O</td>\n",
       "      <td>10.232857</td>\n",
       "      <td>Office Products</td>\n",
       "      <td>7</td>\n",
       "    </tr>\n",
       "    <tr>\n",
       "      <th>4</th>\n",
       "      <td>AJGZDX7KC5TVQ</td>\n",
       "      <td>39.394000</td>\n",
       "      <td>Office Products</td>\n",
       "      <td>5</td>\n",
       "    </tr>\n",
       "  </tbody>\n",
       "</table>\n",
       "</div>"
      ],
      "text/plain": [
       "       reviewerID  avg_price         main_cat  nb_order\n",
       "0   ASAE9FBGAJQAH  21.160909  Office Products        11\n",
       "1  A1TAW91SQSU2AH   9.585000  Office Products         4\n",
       "2  A1SVGO4GMEOXQ0   9.065000  Office Products         4\n",
       "3  A36QT6N7N0GF3O  10.232857  Office Products         7\n",
       "4   AJGZDX7KC5TVQ  39.394000  Office Products         5"
      ]
     },
     "execution_count": 43,
     "metadata": {},
     "output_type": "execute_result"
    }
   ],
   "source": [
    "# make a dataframe with the revviwerId, average price of order, main_cat, number of order\n",
    "df1 = df[['reviewerID', 'avg_price', 'main_cat', 'nb_order']].drop_duplicates()\n",
    "df1.head()"
   ]
  },
  {
   "cell_type": "code",
   "execution_count": 55,
   "metadata": {},
   "outputs": [
    {
     "data": {
      "text/plain": [
       "<Axes: >"
      ]
     },
     "execution_count": 55,
     "metadata": {},
     "output_type": "execute_result"
    },
    {
     "data": {
      "image/png": "[encoded data removed]",
      "text/plain": [
       "<Figure size 640x480 with 1 Axes>"
      ]
     },
     "metadata": {},
     "output_type": "display_data"
    }
   ],
   "source": [
    "# keep between 0 and 100\n",
    "df1 = df1[df1['avg_price'] < 100]\n",
    "df1 = df1[df1['avg_price'] > 0]\n",
    "df1['avg_price'].hist(bins=100)"
   ]
  },
  {
   "cell_type": "code",
   "execution_count": 65,
   "metadata": {},
   "outputs": [
    {
     "data": {
      "text/plain": [
       "<Axes: >"
      ]
     },
     "execution_count": 65,
     "metadata": {},
     "output_type": "execute_result"
    },
    {
     "data": {
      "image/png": "[encoded data removed]",
      "text/plain": [
       "<Figure size 640x480 with 1 Axes>"
      ]
     },
     "metadata": {},
     "output_type": "display_data"
    }
   ],
   "source": [
    "#make 2 category of reviewer, low and high spender based on the average price of order the cut is 10\n",
    "df1['spender'] = np.where(df1['avg_price'] > df1['avg_price'].median(), 'high', 'low')\n",
    "#make histogram who count number of reviewer for each category\n",
    "df1['spender'].hist()"
   ]
  },
  {
   "cell_type": "code",
   "execution_count": 68,
   "metadata": {},
   "outputs": [
    {
     "data": {
      "text/plain": [
       "<Axes: >"
      ]
     },
     "execution_count": 68,
     "metadata": {},
     "output_type": "execute_result"
    },
    {
     "data": {
      "image/png": "[encoded data removed]",
      "text/plain": [
       "<Figure size 640x480 with 1 Axes>"
      ]
     },
     "metadata": {},
     "output_type": "display_data"
    }
   ],
   "source": [
    "df1 = df1[df1['nb_order'] < 100]\n",
    "df1['nb_order'].hist(bins=100)"
   ]
  },
  {
   "cell_type": "code",
   "execution_count": 70,
   "metadata": {},
   "outputs": [
    {
     "data": {
      "text/plain": [
       "<Axes: >"
      ]
     },
     "execution_count": 70,
     "metadata": {},
     "output_type": "execute_result"
    },
    {
     "data": {
      "image/png": "[encoded data removed]",
      "text/plain": [
       "<Figure size 640x480 with 1 Axes>"
      ]
     },
     "metadata": {},
     "output_type": "display_data"
    }
   ],
   "source": [
    "# make 3 category of reviewer, rare, normal and frequent based on the number of order the cut is 2, 10\n",
    "df1['order'] = np.where(df1['nb_order'] > 10, 'frequent', np.where(df1['nb_order'] > 3, 'normal', 'rare'))\n",
    "#make histogram who count number of reviewer for each category\n",
    "df1['order'].hist()"
   ]
  },
  {
   "cell_type": "code",
   "execution_count": null,
   "metadata": {},
   "outputs": [],
   "source": [
    "def alpha_momri(k, alpha, R):\n",
    "    \"\"\"\n",
    "    Implements the alpha-approximation MOMRI algorithm.\n",
    "\n",
    "    Args:\n",
    "        k: The number of user groups.\n",
    "        alpha: The alpha parameter.\n",
    "        R: The resource matrix.\n",
    "\n",
    "    Returns:\n",
    "        A list of Pareto-optimal plans.\n",
    "    \"\"\"\n",
    "     \n",
    "    P_alpha = []\n",
    "\n",
    "    # Construct the plan for each user group.\n",
    "    for g in range(k):\n",
    "        pg = construct_plan(g, R)\n",
    "        if not is_alpha_dominated(pg, P_alpha):\n",
    "            P_alpha.append(pg)\n",
    "\n",
    "    # Construct the plans for all group sets of size n.\n",
    "    for n in range(2, k + 1):\n",
    "        for G in itertools.combinations(range(k), n):\n",
    "            pG = construct_plan(G, R)\n",
    "            if not is_alpha_dominated(pG, P_alpha):\n",
    "                P_alpha.append(pG)\n",
    "\n",
    "    return P_alpha\n",
    "    \n",
    "def construct_plan(G, R):\n",
    "    \"\"\"\n",
    "    Constructs a plan for a given user group.\n",
    "\n",
    "    Args:\n",
    "        G: The user group.\n",
    "        R: The resource matrix.\n",
    "\n",
    "    Returns:\n",
    "        The plan for the user group.\n",
    "    \"\"\"\n",
    "\n",
    "    plan = np.zeros(R.shape[1])\n",
    "    for i in range(R.shape[1]):\n",
    "        plan[i] = max(0, R[i] - )"
   ]
  }
 ],
 "metadata": {
  "kernelspec": {
   "display_name": "Python 3",
   "language": "python",
   "name": "python3"
  },
  "language_info": {
   "codemirror_mode": {
    "name": "ipython",
    "version": 3
   },
   "file_extension": ".py",
   "mimetype": "text/x-python",
   "name": "python",
   "nbconvert_exporter": "python",
   "pygments_lexer": "ipython3",
   "version": "3.10.9"
  }
 },
 "nbformat": 4,
 "nbformat_minor": 2
}
