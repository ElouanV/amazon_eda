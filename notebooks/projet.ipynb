{
 "cells": [
  {
   "cell_type": "markdown",
   "source": [
    "# Projet - EDA"
   ],
   "metadata": {
    "collapsed": false
   },
   "id": "5649af6cfd205adb"
  },
  {
   "cell_type": "code",
   "execution_count": 1,
   "id": "initial_id",
   "metadata": {
    "collapsed": true,
    "ExecuteTime": {
     "end_time": "2023-09-29T12:51:26.075608688Z",
     "start_time": "2023-09-29T12:50:41.242905011Z"
    }
   },
   "outputs": [],
   "source": [
    "import json\n",
    "import pandas as pd\n",
    "import gzip\n",
    "\n",
    "def parse(path):\n",
    "  g = gzip.open(path, 'rb')\n",
    "  for l in g:\n",
    "    yield json.loads(l)\n",
    "\n",
    "def getDF(path):\n",
    "  i = 0\n",
    "  df = {}\n",
    "  for d in parse(path):\n",
    "    df[i] = d\n",
    "    i += 1\n",
    "  return pd.DataFrame.from_dict(df, orient='index')\n",
    "\n",
    "df = getDF('Sports_and_Outdoors_5.json.gz')\n",
    "\n",
    "# Garder seulement les 100 premières lignes\n",
    "df = df.head(100)"
   ]
  },
  {
   "cell_type": "code",
   "execution_count": 2,
   "outputs": [
    {
     "data": {
      "text/plain": "   overall  verified   reviewTime      reviewerID        asin    reviewerName  \\\n0      5.0      True   06 3, 2015  A180LQZBUWVOLF  0000032034      Michelle A   \n1      1.0      True   04 1, 2015   ATMFGKU5SVEYY  0000032034       Crystal R   \n2      5.0      True  01 13, 2015  A1QE70QBJ8U6ZG  0000032034  darla Landreth   \n3      5.0      True  12 23, 2014  A22CP6Z73MZTYU  0000032034        L. Huynh   \n4      4.0      True  12 15, 2014  A22L28G8NRNLLN  0000032034         McKenna   \n\n                                          reviewText  \\\n0            What a spectacular tutu! Very slimming.   \n1  What the heck? Is this a tutu for nuns? I know...   \n2                  Exactly what we were looking for!   \n3  I used this skirt for a Halloween costume and ...   \n4  This is thick enough that you can't see throug...   \n\n                                             summary  unixReviewTime style  \\\n0                                         Five Stars      1433289600   NaN   \n1                          Is this a tutu for nuns?!      1427846400   NaN   \n2                                         Five Stars      1421107200   NaN   \n3  I liked that the elastic waist didn't dig in (...      1419292800   NaN   \n4  This is thick enough that you can't see throug...      1418601600   NaN   \n\n  vote image  \n0  NaN   NaN  \n1  NaN   NaN  \n2  NaN   NaN  \n3  NaN   NaN  \n4  NaN   NaN  ",
      "text/html": "<div>\n<style scoped>\n    .dataframe tbody tr th:only-of-type {\n        vertical-align: middle;\n    }\n\n    .dataframe tbody tr th {\n        vertical-align: top;\n    }\n\n    .dataframe thead th {\n        text-align: right;\n    }\n</style>\n<table border=\"1\" class=\"dataframe\">\n  <thead>\n    <tr style=\"text-align: right;\">\n      <th></th>\n      <th>overall</th>\n      <th>verified</th>\n      <th>reviewTime</th>\n      <th>reviewerID</th>\n      <th>asin</th>\n      <th>reviewerName</th>\n      <th>reviewText</th>\n      <th>summary</th>\n      <th>unixReviewTime</th>\n      <th>style</th>\n      <th>vote</th>\n      <th>image</th>\n    </tr>\n  </thead>\n  <tbody>\n    <tr>\n      <th>0</th>\n      <td>5.0</td>\n      <td>True</td>\n      <td>06 3, 2015</td>\n      <td>A180LQZBUWVOLF</td>\n      <td>0000032034</td>\n      <td>Michelle A</td>\n      <td>What a spectacular tutu! Very slimming.</td>\n      <td>Five Stars</td>\n      <td>1433289600</td>\n      <td>NaN</td>\n      <td>NaN</td>\n      <td>NaN</td>\n    </tr>\n    <tr>\n      <th>1</th>\n      <td>1.0</td>\n      <td>True</td>\n      <td>04 1, 2015</td>\n      <td>ATMFGKU5SVEYY</td>\n      <td>0000032034</td>\n      <td>Crystal R</td>\n      <td>What the heck? Is this a tutu for nuns? I know...</td>\n      <td>Is this a tutu for nuns?!</td>\n      <td>1427846400</td>\n      <td>NaN</td>\n      <td>NaN</td>\n      <td>NaN</td>\n    </tr>\n    <tr>\n      <th>2</th>\n      <td>5.0</td>\n      <td>True</td>\n      <td>01 13, 2015</td>\n      <td>A1QE70QBJ8U6ZG</td>\n      <td>0000032034</td>\n      <td>darla Landreth</td>\n      <td>Exactly what we were looking for!</td>\n      <td>Five Stars</td>\n      <td>1421107200</td>\n      <td>NaN</td>\n      <td>NaN</td>\n      <td>NaN</td>\n    </tr>\n    <tr>\n      <th>3</th>\n      <td>5.0</td>\n      <td>True</td>\n      <td>12 23, 2014</td>\n      <td>A22CP6Z73MZTYU</td>\n      <td>0000032034</td>\n      <td>L. Huynh</td>\n      <td>I used this skirt for a Halloween costume and ...</td>\n      <td>I liked that the elastic waist didn't dig in (...</td>\n      <td>1419292800</td>\n      <td>NaN</td>\n      <td>NaN</td>\n      <td>NaN</td>\n    </tr>\n    <tr>\n      <th>4</th>\n      <td>4.0</td>\n      <td>True</td>\n      <td>12 15, 2014</td>\n      <td>A22L28G8NRNLLN</td>\n      <td>0000032034</td>\n      <td>McKenna</td>\n      <td>This is thick enough that you can't see throug...</td>\n      <td>This is thick enough that you can't see throug...</td>\n      <td>1418601600</td>\n      <td>NaN</td>\n      <td>NaN</td>\n      <td>NaN</td>\n    </tr>\n  </tbody>\n</table>\n</div>"
     },
     "execution_count": 2,
     "metadata": {},
     "output_type": "execute_result"
    }
   ],
   "source": [
    "df.head()"
   ],
   "metadata": {
    "collapsed": false,
    "ExecuteTime": {
     "end_time": "2023-09-29T12:51:26.113264501Z",
     "start_time": "2023-09-29T12:51:26.087886670Z"
    }
   },
   "id": "5ba8478cb422a5cb"
  },
  {
   "cell_type": "code",
   "execution_count": 3,
   "outputs": [
    {
     "name": "stderr",
     "output_type": "stream",
     "text": [
      "/tmp/ipykernel_17398/3065830421.py:9: SettingWithCopyWarning: \n",
      "A value is trying to be set on a copy of a slice from a DataFrame.\n",
      "Try using .loc[row_indexer,col_indexer] = value instead\n",
      "\n",
      "See the caveats in the documentation: https://pandas.pydata.org/pandas-docs/stable/user_guide/indexing.html#returning-a-view-versus-a-copy\n",
      "  df_cleaned['reviewerID_encoded'] = label_encoder.fit_transform(df_cleaned['reviewerID'])\n",
      "/tmp/ipykernel_17398/3065830421.py:10: SettingWithCopyWarning: \n",
      "A value is trying to be set on a copy of a slice from a DataFrame.\n",
      "Try using .loc[row_indexer,col_indexer] = value instead\n",
      "\n",
      "See the caveats in the documentation: https://pandas.pydata.org/pandas-docs/stable/user_guide/indexing.html#returning-a-view-versus-a-copy\n",
      "  df_cleaned['asin_encoded'] = label_encoder.fit_transform(df_cleaned['asin'])\n",
      "/tmp/ipykernel_17398/3065830421.py:13: SettingWithCopyWarning: \n",
      "A value is trying to be set on a copy of a slice from a DataFrame.\n",
      "Try using .loc[row_indexer,col_indexer] = value instead\n",
      "\n",
      "See the caveats in the documentation: https://pandas.pydata.org/pandas-docs/stable/user_guide/indexing.html#returning-a-view-versus-a-copy\n",
      "  df_cleaned['occurrence'] = 1\n"
     ]
    }
   ],
   "source": [
    "from mlxtend.frequent_patterns import apriori, association_rules, fpmax\n",
    "from sklearn.preprocessing import LabelEncoder\n",
    "\n",
    "# Nettoyage des données\n",
    "df_cleaned = df[['reviewerID', 'asin']]\n",
    "\n",
    "# Encodage des données\n",
    "label_encoder = LabelEncoder()\n",
    "df_cleaned['reviewerID_encoded'] = label_encoder.fit_transform(df_cleaned['reviewerID'])\n",
    "df_cleaned['asin_encoded'] = label_encoder.fit_transform(df_cleaned['asin'])\n",
    "\n",
    "# Créer une colonne pour les occurrences\n",
    "df_cleaned['occurrence'] = 1\n",
    "\n",
    "# Pivoter la table pour avoir les occurrences par utilisateur et produit\n",
    "pivoted_df = df_cleaned.pivot_table(index='reviewerID_encoded', columns='asin_encoded', values='occurrence', fill_value=0)\n",
    "\n",
    "# Transformer les valeurs en binaire\n",
    "binary_df = (pivoted_df > 0).astype(int) # Changer le seuil"
   ],
   "metadata": {
    "collapsed": false,
    "ExecuteTime": {
     "end_time": "2023-09-29T12:51:26.667664649Z",
     "start_time": "2023-09-29T12:51:26.102126009Z"
    }
   },
   "id": "4f07f2f0946b6e4f"
  },
  {
   "cell_type": "code",
   "execution_count": 4,
   "outputs": [
    {
     "name": "stdout",
     "output_type": "stream",
     "text": [
      "Motifs fréquents :\n",
      "    support itemsets\n",
      "0  0.051546      (0)\n",
      "1  0.226804      (1)\n",
      "2  0.432990      (2)\n",
      "3  0.134021      (3)\n",
      "4  0.134021      (4)\n",
      "5  0.030928      (5)\n",
      "6  0.010309   (1, 2)\n"
     ]
    },
    {
     "name": "stderr",
     "output_type": "stream",
     "text": [
      "/usr/lib/python3.10/site-packages/mlxtend/frequent_patterns/fpcommon.py:110: DeprecationWarning: DataFrames with non-bool types result in worse computationalperformance and their support might be discontinued in the future.Please use a DataFrame with bool type\n",
      "  warnings.warn(\n"
     ]
    }
   ],
   "source": [
    "# Extraction des motifs fréquents\n",
    "frequent_itemsets = apriori(binary_df, min_support=0.01, use_colnames=True)\n",
    "\n",
    "# Afficher les motifs fréquents\n",
    "print(\"Motifs fréquents :\")\n",
    "print(frequent_itemsets)"
   ],
   "metadata": {
    "collapsed": false,
    "ExecuteTime": {
     "end_time": "2023-09-29T12:51:26.679223566Z",
     "start_time": "2023-09-29T12:51:26.670585910Z"
    }
   },
   "id": "174cfe85777a1283"
  },
  {
   "cell_type": "code",
   "execution_count": 5,
   "outputs": [
    {
     "name": "stdout",
     "output_type": "stream",
     "text": [
      "Motifs fermés :\n",
      "    support itemsets\n",
      "0  0.030928      (5)\n",
      "1  0.051546      (0)\n",
      "2  0.134021      (3)\n",
      "3  0.134021      (4)\n",
      "4  0.010309   (1, 2)\n"
     ]
    },
    {
     "name": "stderr",
     "output_type": "stream",
     "text": [
      "/usr/lib/python3.10/site-packages/mlxtend/frequent_patterns/fpcommon.py:110: DeprecationWarning: DataFrames with non-bool types result in worse computationalperformance and their support might be discontinued in the future.Please use a DataFrame with bool type\n",
      "  warnings.warn(\n"
     ]
    }
   ],
   "source": [
    "# Extraction des motifs fermés\n",
    "closed_itemsets = fpmax(binary_df, min_support=0.01, use_colnames=True)\n",
    "\n",
    "# Afficher les motifs fermés\n",
    "print(\"Motifs fermés :\")\n",
    "print(closed_itemsets)"
   ],
   "metadata": {
    "collapsed": false,
    "ExecuteTime": {
     "end_time": "2023-09-29T12:51:26.759341192Z",
     "start_time": "2023-09-29T12:51:26.685716448Z"
    }
   },
   "id": "70a4483a9d03c0f9"
  },
  {
   "cell_type": "code",
   "execution_count": 6,
   "outputs": [
    {
     "name": "stdout",
     "output_type": "stream",
     "text": [
      "Règles d'association les plus confiantes :\n",
      "Empty DataFrame\n",
      "Columns: [antecedents, consequents, antecedent support, consequent support, support, confidence, lift, leverage, conviction, zhangs_metric]\n",
      "Index: []\n"
     ]
    }
   ],
   "source": [
    "# Extraction des règles d'association\n",
    "association_rules_df = association_rules(frequent_itemsets, metric=\"lift\", min_threshold=1.0)\n",
    "\n",
    "# Afficher les règles d'association\n",
    "print(\"Règles d'association les plus confiantes :\")\n",
    "print(association_rules_df.sort_values(by='confidence', ascending=False))"
   ],
   "metadata": {
    "collapsed": false,
    "ExecuteTime": {
     "end_time": "2023-09-29T12:51:26.761941540Z",
     "start_time": "2023-09-29T12:51:26.693399177Z"
    }
   },
   "id": "7468da483043099f"
  },
  {
   "cell_type": "code",
   "execution_count": 7,
   "outputs": [
    {
     "name": "stdout",
     "output_type": "stream",
     "text": [
      "Motifs fréquents pour la sous-population spécifique :\n",
      "Empty DataFrame\n",
      "Columns: [support, itemsets]\n",
      "Index: []\n"
     ]
    },
    {
     "name": "stderr",
     "output_type": "stream",
     "text": [
      "/usr/lib/python3.10/site-packages/mlxtend/frequent_patterns/apriori.py:231: RuntimeWarning: invalid value encountered in divide\n",
      "  out = np.sum(_x, axis=0) / _n_rows\n"
     ]
    }
   ],
   "source": [
    "# Analyse des sous-populations\n",
    "subpopulation_id = 'ID_DE_LA_SOUS_POPULATION' # Remplacer par l'ID de la sous-population qu'on souhaite analyser\n",
    "subpopulation = df_cleaned[df_cleaned['reviewerID'] == subpopulation_id]\n",
    "subpopulation_frequent_itemsets = apriori(subpopulation.drop(['reviewerID', 'asin'], axis=1), min_support=0.01, use_colnames=True)\n",
    "\n",
    "# Afficher les motifs fréquents pour la sous-population\n",
    "print(\"Motifs fréquents pour la sous-population spécifique :\")\n",
    "print(subpopulation_frequent_itemsets)"
   ],
   "metadata": {
    "collapsed": false,
    "ExecuteTime": {
     "end_time": "2023-09-29T12:51:26.762633204Z",
     "start_time": "2023-09-29T12:51:26.736200618Z"
    }
   },
   "id": "c2369ce4a597bc1a"
  },
  {
   "cell_type": "code",
   "execution_count": 8,
   "outputs": [
    {
     "name": "stdout",
     "output_type": "stream",
     "text": [
      "Composantes principales de la compression des données :\n",
      "[[ 0.9999858   0.00532993  0.        ]\n",
      " [-0.00532993  0.9999858   0.        ]]\n"
     ]
    }
   ],
   "source": [
    "# Motifs de compression des données\n",
    "from sklearn.decomposition import PCA\n",
    "pca = PCA(n_components=2)\n",
    "compressed_data = pca.fit_transform(df_cleaned.drop(['reviewerID', 'asin'], axis=1))\n",
    "\n",
    "# Afficher les motifs de compression des données\n",
    "print(\"Composantes principales de la compression des données :\")\n",
    "print(pca.components_)"
   ],
   "metadata": {
    "collapsed": false,
    "ExecuteTime": {
     "end_time": "2023-09-29T12:51:26.856422314Z",
     "start_time": "2023-09-29T12:51:26.736452761Z"
    }
   },
   "id": "699493e1d6e3fec7"
  },
  {
   "cell_type": "code",
   "execution_count": 8,
   "outputs": [],
   "source": [],
   "metadata": {
    "collapsed": false,
    "ExecuteTime": {
     "end_time": "2023-09-29T12:51:26.858809181Z",
     "start_time": "2023-09-29T12:51:26.799878459Z"
    }
   },
   "id": "e47ba46930bcc62b"
  }
 ],
 "metadata": {
  "kernelspec": {
   "display_name": "Python 3",
   "language": "python",
   "name": "python3"
  },
  "language_info": {
   "codemirror_mode": {
    "name": "ipython",
    "version": 2
   },
   "file_extension": ".py",
   "mimetype": "text/x-python",
   "name": "python",
   "nbconvert_exporter": "python",
   "pygments_lexer": "ipython2",
   "version": "2.7.6"
  }
 },
 "nbformat": 4,
 "nbformat_minor": 5
}
