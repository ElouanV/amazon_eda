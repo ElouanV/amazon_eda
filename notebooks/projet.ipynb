{
 "cells": [
  {
   "cell_type": "markdown",
   "source": [
    "# Projet - EDA"
   ],
   "metadata": {
    "collapsed": false
   },
   "id": "5649af6cfd205adb"
  },
  {
   "cell_type": "code",
   "execution_count": 2,
   "id": "initial_id",
   "metadata": {
    "collapsed": true,
    "ExecuteTime": {
     "end_time": "2023-10-12T14:45:17.496517470Z",
     "start_time": "2023-10-12T14:44:44.452240295Z"
    }
   },
   "outputs": [],
   "source": [
    "import sys\n",
    "sys.path.append('../src')\n",
    "from utils import *\n",
    "\n",
    "df = getDF('../data/Sports_and_Outdoors_5.json.gz')\n",
    "\n",
    "# Garder seulement les 100 premières lignes\n",
    "df = df.head(100)"
   ]
  },
  {
   "cell_type": "code",
   "execution_count": 3,
   "outputs": [
    {
     "data": {
      "text/plain": "   overall  verified   reviewTime      reviewerID        asin    reviewerName  \\\n0      5.0      True   06 3, 2015  A180LQZBUWVOLF  0000032034      Michelle A   \n1      1.0      True   04 1, 2015   ATMFGKU5SVEYY  0000032034       Crystal R   \n2      5.0      True  01 13, 2015  A1QE70QBJ8U6ZG  0000032034  darla Landreth   \n3      5.0      True  12 23, 2014  A22CP6Z73MZTYU  0000032034        L. Huynh   \n4      4.0      True  12 15, 2014  A22L28G8NRNLLN  0000032034         McKenna   \n\n                                          reviewText  \\\n0            What a spectacular tutu! Very slimming.   \n1  What the heck? Is this a tutu for nuns? I know...   \n2                  Exactly what we were looking for!   \n3  I used this skirt for a Halloween costume and ...   \n4  This is thick enough that you can't see throug...   \n\n                                             summary  unixReviewTime style  \\\n0                                         Five Stars      1433289600   NaN   \n1                          Is this a tutu for nuns?!      1427846400   NaN   \n2                                         Five Stars      1421107200   NaN   \n3  I liked that the elastic waist didn't dig in (...      1419292800   NaN   \n4  This is thick enough that you can't see throug...      1418601600   NaN   \n\n  vote image  \n0  NaN   NaN  \n1  NaN   NaN  \n2  NaN   NaN  \n3  NaN   NaN  \n4  NaN   NaN  ",
      "text/html": "<div>\n<style scoped>\n    .dataframe tbody tr th:only-of-type {\n        vertical-align: middle;\n    }\n\n    .dataframe tbody tr th {\n        vertical-align: top;\n    }\n\n    .dataframe thead th {\n        text-align: right;\n    }\n</style>\n<table border=\"1\" class=\"dataframe\">\n  <thead>\n    <tr style=\"text-align: right;\">\n      <th></th>\n      <th>overall</th>\n      <th>verified</th>\n      <th>reviewTime</th>\n      <th>reviewerID</th>\n      <th>asin</th>\n      <th>reviewerName</th>\n      <th>reviewText</th>\n      <th>summary</th>\n      <th>unixReviewTime</th>\n      <th>style</th>\n      <th>vote</th>\n      <th>image</th>\n    </tr>\n  </thead>\n  <tbody>\n    <tr>\n      <th>0</th>\n      <td>5.0</td>\n      <td>True</td>\n      <td>06 3, 2015</td>\n      <td>A180LQZBUWVOLF</td>\n      <td>0000032034</td>\n      <td>Michelle A</td>\n      <td>What a spectacular tutu! Very slimming.</td>\n      <td>Five Stars</td>\n      <td>1433289600</td>\n      <td>NaN</td>\n      <td>NaN</td>\n      <td>NaN</td>\n    </tr>\n    <tr>\n      <th>1</th>\n      <td>1.0</td>\n      <td>True</td>\n      <td>04 1, 2015</td>\n      <td>ATMFGKU5SVEYY</td>\n      <td>0000032034</td>\n      <td>Crystal R</td>\n      <td>What the heck? Is this a tutu for nuns? I know...</td>\n      <td>Is this a tutu for nuns?!</td>\n      <td>1427846400</td>\n      <td>NaN</td>\n      <td>NaN</td>\n      <td>NaN</td>\n    </tr>\n    <tr>\n      <th>2</th>\n      <td>5.0</td>\n      <td>True</td>\n      <td>01 13, 2015</td>\n      <td>A1QE70QBJ8U6ZG</td>\n      <td>0000032034</td>\n      <td>darla Landreth</td>\n      <td>Exactly what we were looking for!</td>\n      <td>Five Stars</td>\n      <td>1421107200</td>\n      <td>NaN</td>\n      <td>NaN</td>\n      <td>NaN</td>\n    </tr>\n    <tr>\n      <th>3</th>\n      <td>5.0</td>\n      <td>True</td>\n      <td>12 23, 2014</td>\n      <td>A22CP6Z73MZTYU</td>\n      <td>0000032034</td>\n      <td>L. Huynh</td>\n      <td>I used this skirt for a Halloween costume and ...</td>\n      <td>I liked that the elastic waist didn't dig in (...</td>\n      <td>1419292800</td>\n      <td>NaN</td>\n      <td>NaN</td>\n      <td>NaN</td>\n    </tr>\n    <tr>\n      <th>4</th>\n      <td>4.0</td>\n      <td>True</td>\n      <td>12 15, 2014</td>\n      <td>A22L28G8NRNLLN</td>\n      <td>0000032034</td>\n      <td>McKenna</td>\n      <td>This is thick enough that you can't see throug...</td>\n      <td>This is thick enough that you can't see throug...</td>\n      <td>1418601600</td>\n      <td>NaN</td>\n      <td>NaN</td>\n      <td>NaN</td>\n    </tr>\n  </tbody>\n</table>\n</div>"
     },
     "execution_count": 3,
     "metadata": {},
     "output_type": "execute_result"
    }
   ],
   "source": [
    "df.head()"
   ],
   "metadata": {
    "collapsed": false,
    "ExecuteTime": {
     "end_time": "2023-10-12T14:45:17.539883702Z",
     "start_time": "2023-10-12T14:45:17.537733737Z"
    }
   },
   "id": "5ba8478cb422a5cb"
  },
  {
   "cell_type": "code",
   "execution_count": 10,
   "outputs": [
    {
     "name": "stdout",
     "output_type": "stream",
     "text": [
      "       reviewerID        asin  reviewerID_encoded  asin_encoded  occurrence\n",
      "0  A180LQZBUWVOLF  0000032034                   4             0           1\n",
      "1   ATMFGKU5SVEYY  0000032034                  91             0           1\n",
      "2  A1QE70QBJ8U6ZG  0000032034                  21             0           1\n",
      "3  A22CP6Z73MZTYU  0000032034                  31             0           1\n",
      "4  A22L28G8NRNLLN  0000032034                  32             0           1\n"
     ]
    },
    {
     "name": "stderr",
     "output_type": "stream",
     "text": [
      "/tmp/ipykernel_12530/1360007512.py:9: SettingWithCopyWarning: \n",
      "A value is trying to be set on a copy of a slice from a DataFrame.\n",
      "Try using .loc[row_indexer,col_indexer] = value instead\n",
      "\n",
      "See the caveats in the documentation: https://pandas.pydata.org/pandas-docs/stable/user_guide/indexing.html#returning-a-view-versus-a-copy\n",
      "  df_cleaned['reviewerID_encoded'] = label_encoder.fit_transform(df_cleaned['reviewerID'])\n",
      "/tmp/ipykernel_12530/1360007512.py:10: SettingWithCopyWarning: \n",
      "A value is trying to be set on a copy of a slice from a DataFrame.\n",
      "Try using .loc[row_indexer,col_indexer] = value instead\n",
      "\n",
      "See the caveats in the documentation: https://pandas.pydata.org/pandas-docs/stable/user_guide/indexing.html#returning-a-view-versus-a-copy\n",
      "  df_cleaned['asin_encoded'] = label_encoder.fit_transform(df_cleaned['asin'])\n",
      "/tmp/ipykernel_12530/1360007512.py:13: SettingWithCopyWarning: \n",
      "A value is trying to be set on a copy of a slice from a DataFrame.\n",
      "Try using .loc[row_indexer,col_indexer] = value instead\n",
      "\n",
      "See the caveats in the documentation: https://pandas.pydata.org/pandas-docs/stable/user_guide/indexing.html#returning-a-view-versus-a-copy\n",
      "  df_cleaned['occurrence'] = 1\n"
     ]
    },
    {
     "data": {
      "text/plain": "asin_encoded        0  1  2  3  4  5\nreviewerID_encoded                  \n0                   0  1  0  0  0  0\n1                   0  0  1  0  0  0\n2                   0  0  1  0  0  0\n3                   0  0  1  0  0  0\n4                   1  0  0  0  0  0",
      "text/html": "<div>\n<style scoped>\n    .dataframe tbody tr th:only-of-type {\n        vertical-align: middle;\n    }\n\n    .dataframe tbody tr th {\n        vertical-align: top;\n    }\n\n    .dataframe thead th {\n        text-align: right;\n    }\n</style>\n<table border=\"1\" class=\"dataframe\">\n  <thead>\n    <tr style=\"text-align: right;\">\n      <th>asin_encoded</th>\n      <th>0</th>\n      <th>1</th>\n      <th>2</th>\n      <th>3</th>\n      <th>4</th>\n      <th>5</th>\n    </tr>\n    <tr>\n      <th>reviewerID_encoded</th>\n      <th></th>\n      <th></th>\n      <th></th>\n      <th></th>\n      <th></th>\n      <th></th>\n    </tr>\n  </thead>\n  <tbody>\n    <tr>\n      <th>0</th>\n      <td>0</td>\n      <td>1</td>\n      <td>0</td>\n      <td>0</td>\n      <td>0</td>\n      <td>0</td>\n    </tr>\n    <tr>\n      <th>1</th>\n      <td>0</td>\n      <td>0</td>\n      <td>1</td>\n      <td>0</td>\n      <td>0</td>\n      <td>0</td>\n    </tr>\n    <tr>\n      <th>2</th>\n      <td>0</td>\n      <td>0</td>\n      <td>1</td>\n      <td>0</td>\n      <td>0</td>\n      <td>0</td>\n    </tr>\n    <tr>\n      <th>3</th>\n      <td>0</td>\n      <td>0</td>\n      <td>1</td>\n      <td>0</td>\n      <td>0</td>\n      <td>0</td>\n    </tr>\n    <tr>\n      <th>4</th>\n      <td>1</td>\n      <td>0</td>\n      <td>0</td>\n      <td>0</td>\n      <td>0</td>\n      <td>0</td>\n    </tr>\n  </tbody>\n</table>\n</div>"
     },
     "execution_count": 10,
     "metadata": {},
     "output_type": "execute_result"
    }
   ],
   "source": [
    "from mlxtend.frequent_patterns import apriori, association_rules, fpmax\n",
    "from sklearn.preprocessing import LabelEncoder\n",
    "\n",
    "# Nettoyage des données\n",
    "df_cleaned = df[['reviewerID', 'asin']]\n",
    "\n",
    "# Encodage des données\n",
    "label_encoder = LabelEncoder()\n",
    "df_cleaned['reviewerID_encoded'] = label_encoder.fit_transform(df_cleaned['reviewerID'])\n",
    "df_cleaned['asin_encoded'] = label_encoder.fit_transform(df_cleaned['asin'])\n",
    "\n",
    "# Créer une colonne pour les occurrences\n",
    "df_cleaned['occurrence'] = 1\n",
    "print(df_cleaned.head())\n",
    "# Pivoter la table pour avoir les occurrences par utilisateur et produit\n",
    "pivoted_df = df_cleaned.pivot_table(index='reviewerID_encoded', columns='asin_encoded', values='occurrence', fill_value=0)\n",
    "\n",
    "# Transformer les valeurs en binaire\n",
    "binary_df = (pivoted_df > 0).astype(int) # Changer le seuil\n",
    "binary_df.head()"
   ],
   "metadata": {
    "collapsed": false,
    "ExecuteTime": {
     "end_time": "2023-10-12T14:47:01.199203645Z",
     "start_time": "2023-10-12T14:47:01.178337445Z"
    }
   },
   "id": "4f07f2f0946b6e4f"
  },
  {
   "cell_type": "code",
   "execution_count": 5,
   "outputs": [
    {
     "name": "stdout",
     "output_type": "stream",
     "text": [
      "Motifs fréquents :\n",
      "    support itemsets\n",
      "0  0.051546      (0)\n",
      "1  0.226804      (1)\n",
      "2  0.432990      (2)\n",
      "3  0.134021      (3)\n",
      "4  0.134021      (4)\n",
      "5  0.030928      (5)\n",
      "6  0.010309   (1, 2)\n"
     ]
    },
    {
     "name": "stderr",
     "output_type": "stream",
     "text": [
      "/home/elouan/epita/sciag/EDA/venv/lib/python3.10/site-packages/mlxtend/frequent_patterns/fpcommon.py:110: DeprecationWarning: DataFrames with non-bool types result in worse computationalperformance and their support might be discontinued in the future.Please use a DataFrame with bool type\n",
      "  warnings.warn(\n"
     ]
    }
   ],
   "source": [
    "# Extraction des motifs fréquents\n",
    "frequent_itemsets = apriori(binary_df, min_support=0.01, use_colnames=True)\n",
    "\n",
    "# Afficher les motifs fréquents\n",
    "print(\"Motifs fréquents :\")\n",
    "print(frequent_itemsets)"
   ],
   "metadata": {
    "collapsed": false,
    "ExecuteTime": {
     "end_time": "2023-10-12T14:45:17.945958291Z",
     "start_time": "2023-10-12T14:45:17.930167611Z"
    }
   },
   "id": "174cfe85777a1283"
  },
  {
   "cell_type": "code",
   "execution_count": 6,
   "outputs": [
    {
     "name": "stdout",
     "output_type": "stream",
     "text": [
      "Motifs fermés :\n",
      "    support itemsets\n",
      "0  0.030928      (5)\n",
      "1  0.051546      (0)\n",
      "2  0.134021      (3)\n",
      "3  0.134021      (4)\n",
      "4  0.010309   (1, 2)\n"
     ]
    },
    {
     "name": "stderr",
     "output_type": "stream",
     "text": [
      "/home/elouan/epita/sciag/EDA/venv/lib/python3.10/site-packages/mlxtend/frequent_patterns/fpcommon.py:110: DeprecationWarning: DataFrames with non-bool types result in worse computationalperformance and their support might be discontinued in the future.Please use a DataFrame with bool type\n",
      "  warnings.warn(\n"
     ]
    }
   ],
   "source": [
    "# Extraction des motifs fermés\n",
    "closed_itemsets = fpmax(binary_df, min_support=0.01, use_colnames=True)\n",
    "\n",
    "# Afficher les motifs fermés\n",
    "print(\"Motifs fermés :\")\n",
    "print(closed_itemsets)"
   ],
   "metadata": {
    "collapsed": false,
    "ExecuteTime": {
     "end_time": "2023-10-12T14:45:17.995619280Z",
     "start_time": "2023-10-12T14:45:17.946375352Z"
    }
   },
   "id": "70a4483a9d03c0f9"
  },
  {
   "cell_type": "code",
   "execution_count": 7,
   "outputs": [
    {
     "ename": "TypeError",
     "evalue": "'int' object is not iterable",
     "output_type": "error",
     "traceback": [
      "\u001B[0;31m---------------------------------------------------------------------------\u001B[0m",
      "\u001B[0;31mTypeError\u001B[0m                                 Traceback (most recent call last)",
      "Cell \u001B[0;32mIn[7], line 4\u001B[0m\n\u001B[1;32m      1\u001B[0m \u001B[38;5;28;01mfrom\u001B[39;00m \u001B[38;5;21;01mpattern_mining\u001B[39;00m \u001B[38;5;28;01mimport\u001B[39;00m create_and_fit_lcm\n\u001B[1;32m      3\u001B[0m \u001B[38;5;66;03m# Extraction des motifs fréquents avec LCM\u001B[39;00m\n\u001B[0;32m----> 4\u001B[0m frequent_itemsets \u001B[38;5;241m=\u001B[39m \u001B[43mcreate_and_fit_lcm\u001B[49m\u001B[43m(\u001B[49m\u001B[43mbinary_df\u001B[49m\u001B[43m,\u001B[49m\u001B[43m \u001B[49m\u001B[43msupp_ratio\u001B[49m\u001B[38;5;241;43m=\u001B[39;49m\u001B[38;5;241;43m0.5\u001B[39;49m\u001B[43m)\u001B[49m\n\u001B[1;32m      5\u001B[0m frequent_itemsets \u001B[38;5;241m=\u001B[39m frequent_itemsets\u001B[38;5;241m.\u001B[39msort_values(by\u001B[38;5;241m=\u001B[39m\u001B[38;5;124m'\u001B[39m\u001B[38;5;124msupport\u001B[39m\u001B[38;5;124m'\u001B[39m, ascending\u001B[38;5;241m=\u001B[39m\u001B[38;5;28;01mFalse\u001B[39;00m)\n\u001B[1;32m      6\u001B[0m frequent_itemsets\n",
      "File \u001B[0;32m~/epita/sciag/EDA/amazon_eda/notebooks/../src/pattern_mining.py:13\u001B[0m, in \u001B[0;36mcreate_and_fit_lcm\u001B[0;34m(df, supp_ratio)\u001B[0m\n\u001B[1;32m     11\u001B[0m min_supp \u001B[38;5;241m=\u001B[39m \u001B[38;5;28mint\u001B[39m(supp_ratio \u001B[38;5;241m*\u001B[39m \u001B[38;5;28mlen\u001B[39m(df))\n\u001B[1;32m     12\u001B[0m lcm \u001B[38;5;241m=\u001B[39m LCM(min_supp\u001B[38;5;241m=\u001B[39mmin_supp)\n\u001B[0;32m---> 13\u001B[0m \u001B[43mlcm\u001B[49m\u001B[38;5;241;43m.\u001B[39;49m\u001B[43mfit\u001B[49m\u001B[43m(\u001B[49m\u001B[43mdf\u001B[49m\u001B[43m)\u001B[49m\n\u001B[1;32m     14\u001B[0m \u001B[38;5;28;01mreturn\u001B[39;00m lcm\n",
      "File \u001B[0;32m~/epita/sciag/EDA/venv/lib/python3.10/site-packages/skmine/itemsets/lcm.py:116\u001B[0m, in \u001B[0;36mLCM.fit\u001B[0;34m(self, D, y)\u001B[0m\n\u001B[1;32m    114\u001B[0m item_to_tids_ \u001B[38;5;241m=\u001B[39m defaultdict(Bitmap)\n\u001B[1;32m    115\u001B[0m \u001B[38;5;28;01mfor\u001B[39;00m transaction \u001B[38;5;129;01min\u001B[39;00m D:\n\u001B[0;32m--> 116\u001B[0m     \u001B[38;5;28;01mfor\u001B[39;00m item \u001B[38;5;129;01min\u001B[39;00m transaction:\n\u001B[1;32m    117\u001B[0m         item_to_tids_[item]\u001B[38;5;241m.\u001B[39madd(n_transactions_)\n\u001B[1;32m    118\u001B[0m     n_transactions_ \u001B[38;5;241m+\u001B[39m\u001B[38;5;241m=\u001B[39m \u001B[38;5;241m1\u001B[39m\n",
      "\u001B[0;31mTypeError\u001B[0m: 'int' object is not iterable"
     ]
    }
   ],
   "source": [
    "from pattern_mining import create_and_fit_lcm\n",
    "\n",
    "# Extraction des motifs fréquents avec LCM\n",
    "frequent_itemsets = create_and_fit_lcm(binary_df, supp_ratio=0.5)\n",
    "frequent_itemsets = frequent_itemsets.sort_values(by='support', ascending=False)\n",
    "frequent_itemsets"
   ],
   "metadata": {
    "collapsed": false,
    "ExecuteTime": {
     "end_time": "2023-10-12T14:45:18.092299593Z",
     "start_time": "2023-10-12T14:45:17.951938341Z"
    }
   },
   "id": "a9d0228826c9aef4"
  },
  {
   "cell_type": "code",
   "execution_count": null,
   "outputs": [],
   "source": [
    "# Extraction des règles d'association\n",
    "association_rules_df = association_rules(frequent_itemsets, metric=\"lift\", min_threshold=1.0)\n",
    "\n",
    "# Afficher les règles d'association\n",
    "print(\"Règles d'association les plus confiantes :\")\n",
    "print(association_rules_df.sort_values(by='confidence', ascending=False))"
   ],
   "metadata": {
    "collapsed": false,
    "ExecuteTime": {
     "start_time": "2023-10-12T14:45:18.089911162Z"
    }
   },
   "id": "7468da483043099f"
  },
  {
   "cell_type": "code",
   "execution_count": null,
   "outputs": [],
   "source": [
    "# Analyse des sous-populations\n",
    "subpopulation_id = 'ID_DE_LA_SOUS_POPULATION' # Remplacer par l'ID de la sous-population qu'on souhaite analyser\n",
    "subpopulation = df_cleaned[df_cleaned['reviewerID'] == subpopulation_id]\n",
    "subpopulation_frequent_itemsets = apriori(subpopulation.drop(['reviewerID', 'asin'], axis=1), min_support=0.01, use_colnames=True)\n",
    "\n",
    "# Afficher les motifs fréquents pour la sous-population\n",
    "print(\"Motifs fréquents pour la sous-population spécifique :\")\n",
    "print(subpopulation_frequent_itemsets)"
   ],
   "metadata": {
    "collapsed": false,
    "ExecuteTime": {
     "start_time": "2023-10-12T14:45:18.090213009Z"
    }
   },
   "id": "c2369ce4a597bc1a"
  },
  {
   "cell_type": "code",
   "execution_count": null,
   "outputs": [],
   "source": [
    "# Motifs de compression des données\n",
    "from sklearn.decomposition import PCA\n",
    "pca = PCA(n_components=2)\n",
    "compressed_data = pca.fit_transform(df_cleaned.drop(['reviewerID', 'asin'], axis=1))\n",
    "\n",
    "# Afficher les motifs de compression des données\n",
    "print(\"Composantes principales de la compression des données :\")\n",
    "print(pca.components_)"
   ],
   "metadata": {
    "collapsed": false,
    "ExecuteTime": {
     "start_time": "2023-10-12T14:45:18.090393683Z"
    }
   },
   "id": "699493e1d6e3fec7"
  },
  {
   "cell_type": "code",
   "execution_count": null,
   "outputs": [],
   "source": [],
   "metadata": {
    "collapsed": false,
    "ExecuteTime": {
     "start_time": "2023-10-12T14:45:18.090520162Z"
    }
   },
   "id": "e47ba46930bcc62b"
  }
 ],
 "metadata": {
  "kernelspec": {
   "display_name": "Python 3",
   "language": "python",
   "name": "python3"
  },
  "language_info": {
   "codemirror_mode": {
    "name": "ipython",
    "version": 2
   },
   "file_extension": ".py",
   "mimetype": "text/x-python",
   "name": "python",
   "nbconvert_exporter": "python",
   "pygments_lexer": "ipython2",
   "version": "2.7.6"
  }
 },
 "nbformat": 4,
 "nbformat_minor": 5
}
