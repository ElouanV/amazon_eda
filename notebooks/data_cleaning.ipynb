{
 "cells": [
  {
   "cell_type": "code",
   "execution_count": 5,
   "id": "initial_id",
   "metadata": {
    "ExecuteTime": {
     "end_time": "2023-10-21T11:43:49.343354138Z",
     "start_time": "2023-10-21T11:43:17.956775904Z"
    },
    "collapsed": true
   },
   "outputs": [],
   "source": [
    "import sys\n",
    "sys.path.append('../src')\n",
    "from utils import *\n",
    "import pandas as pd\n",
    "\n",
    "df = getDF('../../project/Sports_and_Outdoors_5.json')"
   ]
  },
  {
   "cell_type": "code",
   "execution_count": 6,
   "id": "5bc990e974949ea5",
   "metadata": {
    "ExecuteTime": {
     "end_time": "2023-10-21T11:43:49.396702657Z",
     "start_time": "2023-10-21T11:43:49.369371741Z"
    },
    "collapsed": false
   },
   "outputs": [
    {
     "data": {
      "text/plain": [
       "Index(['overall', 'verified', 'reviewTime', 'reviewerID', 'asin', 'name',\n",
       "       'reviewText', 'summary', 'unixReviewTime', 'style', 'vote', 'image'],\n",
       "      dtype='object')"
      ]
     },
     "execution_count": 6,
     "metadata": {},
     "output_type": "execute_result"
    }
   ],
   "source": [
    "df.columns"
   ]
  },
  {
   "cell_type": "code",
   "execution_count": 7,
   "id": "15f25ef730ece75",
   "metadata": {
    "ExecuteTime": {
     "end_time": "2023-10-21T11:43:49.486825232Z",
     "start_time": "2023-10-21T11:43:49.393235023Z"
    },
    "collapsed": false
   },
   "outputs": [
    {
     "data": {
      "text/plain": [
       "0    1433289600\n",
       "1    1427846400\n",
       "2    1421107200\n",
       "3    1419292800\n",
       "4    1418601600\n",
       "Name: unixReviewTime, dtype: int64"
      ]
     },
     "execution_count": 7,
     "metadata": {},
     "output_type": "execute_result"
    }
   ],
   "source": [
    "df.head() ['unixReviewTime']"
   ]
  },
  {
   "cell_type": "code",
   "execution_count": 8,
   "id": "c6ad475c93554c74",
   "metadata": {
    "ExecuteTime": {
     "end_time": "2023-10-21T11:43:49.548273726Z",
     "start_time": "2023-10-21T11:43:49.438172443Z"
    },
    "collapsed": false
   },
   "outputs": [
    {
     "data": {
      "text/plain": [
       "0         2015-06-03\n",
       "1         2015-04-01\n",
       "2         2015-01-13\n",
       "3         2014-12-23\n",
       "4         2014-12-15\n",
       "             ...    \n",
       "2839935   2018-04-05\n",
       "2839936   2018-03-01\n",
       "2839937   2018-03-17\n",
       "2839938   2017-10-28\n",
       "2839939   2017-06-11\n",
       "Name: reviewTime, Length: 2839940, dtype: datetime64[ns]"
      ]
     },
     "execution_count": 8,
     "metadata": {},
     "output_type": "execute_result"
    }
   ],
   "source": [
    "df['reviewTime'] = pd.to_datetime(df['unixReviewTime'], unit='s')\n",
    "df['reviewTime']"
   ]
  },
  {
   "cell_type": "code",
   "execution_count": 9,
   "id": "c2b737c6c0d108de",
   "metadata": {
    "ExecuteTime": {
     "end_time": "2023-10-21T11:43:49.643439963Z",
     "start_time": "2023-10-21T11:43:49.550932523Z"
    },
    "collapsed": false
   },
   "outputs": [
    {
     "data": {
      "text/plain": [
       "0          2015\n",
       "1          2015\n",
       "2          2015\n",
       "3          2014\n",
       "4          2014\n",
       "           ... \n",
       "2839935    2018\n",
       "2839936    2018\n",
       "2839937    2018\n",
       "2839938    2017\n",
       "2839939    2017\n",
       "Name: reviewTime, Length: 2839940, dtype: int64"
      ]
     },
     "execution_count": 9,
     "metadata": {},
     "output_type": "execute_result"
    }
   ],
   "source": [
    "df['reviewTime'].dt.year"
   ]
  },
  {
   "cell_type": "code",
   "execution_count": 10,
   "id": "e16b739f78ea6312",
   "metadata": {
    "ExecuteTime": {
     "end_time": "2023-10-21T11:43:49.862728905Z",
     "start_time": "2023-10-21T11:43:49.642590466Z"
    },
    "collapsed": false
   },
   "outputs": [
    {
     "data": {
      "text/plain": [
       "<Axes: >"
      ]
     },
     "execution_count": 10,
     "metadata": {},
     "output_type": "execute_result"
    },
    {
     "data": {
      "image/png": "[encoded data removed]",
      "text/plain": [
       "<Figure size 640x480 with 1 Axes>"
      ]
     },
     "metadata": {},
     "output_type": "display_data"
    }
   ],
   "source": [
    "# Plot distribution of dates    \n",
    "df['reviewTime'].dt.year.hist()"
   ]
  },
  {
   "cell_type": "code",
   "execution_count": 11,
   "id": "25db885499d650ab",
   "metadata": {
    "ExecuteTime": {
     "end_time": "2023-10-21T11:43:49.875215248Z",
     "start_time": "2023-10-21T11:43:49.850367139Z"
    },
    "collapsed": false
   },
   "outputs": [
    {
     "data": {
      "text/plain": [
       "2018"
      ]
     },
     "execution_count": 11,
     "metadata": {},
     "output_type": "execute_result"
    }
   ],
   "source": [
    "# Print max years\n",
    "df['reviewTime'].dt.year.max()"
   ]
  },
  {
   "cell_type": "code",
   "execution_count": 12,
   "id": "3e4e576ac62d8d40",
   "metadata": {
    "ExecuteTime": {
     "end_time": "2023-10-21T11:43:49.947174795Z",
     "start_time": "2023-10-21T11:43:49.870797752Z"
    },
    "collapsed": false
   },
   "outputs": [
    {
     "data": {
      "text/plain": [
       "2000         1\n",
       "2001         1\n",
       "2002         5\n",
       "2003        17\n",
       "2004        28\n",
       "2005       130\n",
       "2006       507\n",
       "2007      1805\n",
       "2008      4081\n",
       "2009      8038\n",
       "2010     16075\n",
       "2011     36521\n",
       "2012     77363\n",
       "2013    218023\n",
       "2014    389390\n",
       "2015    622804\n",
       "2016    739220\n",
       "2017    521759\n",
       "2018    204172\n",
       "Name: reviewTime, dtype: int64"
      ]
     },
     "execution_count": 12,
     "metadata": {},
     "output_type": "execute_result"
    }
   ],
   "source": [
    "# Count number of reviews per year\n",
    "count = df['reviewTime'].dt.year.value_counts()\n",
    "count.sort_index(inplace=True)\n",
    "count"
   ]
  },
  {
   "cell_type": "code",
   "execution_count": 13,
   "id": "223b12adf4c16692",
   "metadata": {
    "ExecuteTime": {
     "end_time": "2023-10-21T11:43:49.948556548Z",
     "start_time": "2023-10-21T11:43:49.944260767Z"
    },
    "collapsed": false
   },
   "outputs": [
    {
     "data": {
      "text/plain": [
       "1465151"
      ]
     },
     "execution_count": 13,
     "metadata": {},
     "output_type": "execute_result"
    }
   ],
   "source": [
    "# Sum the number of reviews for years 2016-2018\n",
    "count[-3:].sum()"
   ]
  },
  {
   "cell_type": "code",
   "execution_count": 14,
   "id": "f083274f9551f74b",
   "metadata": {
    "ExecuteTime": {
     "end_time": "2023-10-21T11:43:50.802974015Z",
     "start_time": "2023-10-21T11:43:49.949751950Z"
    },
    "collapsed": false
   },
   "outputs": [
    {
     "data": {
      "text/html": [
       "<div>\n",
       "<style scoped>\n",
       "    .dataframe tbody tr th:only-of-type {\n",
       "        vertical-align: middle;\n",
       "    }\n",
       "\n",
       "    .dataframe tbody tr th {\n",
       "        vertical-align: top;\n",
       "    }\n",
       "\n",
       "    .dataframe thead th {\n",
       "        text-align: right;\n",
       "    }\n",
       "</style>\n",
       "<table border=\"1\" class=\"dataframe\">\n",
       "  <thead>\n",
       "    <tr style=\"text-align: right;\">\n",
       "      <th></th>\n",
       "      <th>overall</th>\n",
       "      <th>verified</th>\n",
       "      <th>reviewTime</th>\n",
       "      <th>reviewerID</th>\n",
       "      <th>asin</th>\n",
       "      <th>name</th>\n",
       "      <th>reviewText</th>\n",
       "      <th>summary</th>\n",
       "      <th>unixReviewTime</th>\n",
       "      <th>style</th>\n",
       "      <th>vote</th>\n",
       "      <th>image</th>\n",
       "    </tr>\n",
       "  </thead>\n",
       "  <tbody>\n",
       "    <tr>\n",
       "      <th>6</th>\n",
       "      <td>5.0</td>\n",
       "      <td>False</td>\n",
       "      <td>2017-02-07</td>\n",
       "      <td>ANGLIGXJHXC6D</td>\n",
       "      <td>0899332757</td>\n",
       "      <td>Amazon Customer</td>\n",
       "      <td>So cool</td>\n",
       "      <td>So cool</td>\n",
       "      <td>1486425600</td>\n",
       "      <td>{'Format:': ' Paperback'}</td>\n",
       "      <td>NaN</td>\n",
       "      <td>NaN</td>\n",
       "    </tr>\n",
       "    <tr>\n",
       "      <th>7</th>\n",
       "      <td>5.0</td>\n",
       "      <td>True</td>\n",
       "      <td>2016-12-27</td>\n",
       "      <td>ASAE9FBGAJQAH</td>\n",
       "      <td>0899332757</td>\n",
       "      <td>Joseph Micallef</td>\n",
       "      <td>Arrived on time.  Nice Atlas - Easy to read.</td>\n",
       "      <td>Nice Atlas - Easy to read</td>\n",
       "      <td>1482796800</td>\n",
       "      <td>{'Format:': ' Paperback'}</td>\n",
       "      <td>NaN</td>\n",
       "      <td>NaN</td>\n",
       "    </tr>\n",
       "    <tr>\n",
       "      <th>8</th>\n",
       "      <td>3.0</td>\n",
       "      <td>True</td>\n",
       "      <td>2016-12-12</td>\n",
       "      <td>A1TAW91SQSU2AH</td>\n",
       "      <td>0899332757</td>\n",
       "      <td>jordan s moore</td>\n",
       "      <td>More of a road map than a useful topographical...</td>\n",
       "      <td>Mostly a road atlas.  Well layed out and organ...</td>\n",
       "      <td>1481500800</td>\n",
       "      <td>{'Format:': ' Paperback'}</td>\n",
       "      <td>NaN</td>\n",
       "      <td>NaN</td>\n",
       "    </tr>\n",
       "    <tr>\n",
       "      <th>9</th>\n",
       "      <td>5.0</td>\n",
       "      <td>True</td>\n",
       "      <td>2016-08-13</td>\n",
       "      <td>A1SVGO4GMEOXQ0</td>\n",
       "      <td>0899332757</td>\n",
       "      <td>Gregory Mahnken</td>\n",
       "      <td>Comprehensive atlas. Very happy with how much ...</td>\n",
       "      <td>Very happy with how much detail is in here</td>\n",
       "      <td>1471046400</td>\n",
       "      <td>{'Format:': ' Paperback'}</td>\n",
       "      <td>NaN</td>\n",
       "      <td>NaN</td>\n",
       "    </tr>\n",
       "    <tr>\n",
       "      <th>10</th>\n",
       "      <td>5.0</td>\n",
       "      <td>True</td>\n",
       "      <td>2016-08-02</td>\n",
       "      <td>A36QT6N7N0GF3O</td>\n",
       "      <td>0899332757</td>\n",
       "      <td>Love is all I have</td>\n",
       "      <td>Delorme has always made the best book maps in ...</td>\n",
       "      <td>Five Stars</td>\n",
       "      <td>1470096000</td>\n",
       "      <td>{'Format:': ' Paperback'}</td>\n",
       "      <td>NaN</td>\n",
       "      <td>NaN</td>\n",
       "    </tr>\n",
       "  </tbody>\n",
       "</table>\n",
       "</div>"
      ],
      "text/plain": [
       "    overall  verified reviewTime      reviewerID        asin  \\\n",
       "6       5.0     False 2017-02-07   ANGLIGXJHXC6D  0899332757   \n",
       "7       5.0      True 2016-12-27   ASAE9FBGAJQAH  0899332757   \n",
       "8       3.0      True 2016-12-12  A1TAW91SQSU2AH  0899332757   \n",
       "9       5.0      True 2016-08-13  A1SVGO4GMEOXQ0  0899332757   \n",
       "10      5.0      True 2016-08-02  A36QT6N7N0GF3O  0899332757   \n",
       "\n",
       "                  name                                         reviewText  \\\n",
       "6      Amazon Customer                                            So cool   \n",
       "7      Joseph Micallef       Arrived on time.  Nice Atlas - Easy to read.   \n",
       "8       jordan s moore  More of a road map than a useful topographical...   \n",
       "9      Gregory Mahnken  Comprehensive atlas. Very happy with how much ...   \n",
       "10  Love is all I have  Delorme has always made the best book maps in ...   \n",
       "\n",
       "                                              summary  unixReviewTime  \\\n",
       "6                                             So cool      1486425600   \n",
       "7                           Nice Atlas - Easy to read      1482796800   \n",
       "8   Mostly a road atlas.  Well layed out and organ...      1481500800   \n",
       "9          Very happy with how much detail is in here      1471046400   \n",
       "10                                         Five Stars      1470096000   \n",
       "\n",
       "                        style vote image  \n",
       "6   {'Format:': ' Paperback'}  NaN   NaN  \n",
       "7   {'Format:': ' Paperback'}  NaN   NaN  \n",
       "8   {'Format:': ' Paperback'}  NaN   NaN  \n",
       "9   {'Format:': ' Paperback'}  NaN   NaN  \n",
       "10  {'Format:': ' Paperback'}  NaN   NaN  "
      ]
     },
     "execution_count": 14,
     "metadata": {},
     "output_type": "execute_result"
    }
   ],
   "source": [
    "# From the data frame, keep only reviews from 2016-2018\n",
    "df = df[df['reviewTime'].dt.year >= 2016]\n",
    "df.head()"
   ]
  },
  {
   "cell_type": "code",
   "execution_count": 15,
   "id": "350203065acb8be6",
   "metadata": {
    "ExecuteTime": {
     "end_time": "2023-10-21T11:43:50.985696669Z",
     "start_time": "2023-10-21T11:43:50.789517165Z"
    },
    "collapsed": false
   },
   "outputs": [
    {
     "name": "stdout",
     "output_type": "stream",
     "text": [
      "True     1366265\n",
      "False      98886\n",
      "Name: verified, dtype: int64\n"
     ]
    },
    {
     "data": {
      "text/plain": [
       "<Axes: >"
      ]
     },
     "execution_count": 15,
     "metadata": {},
     "output_type": "execute_result"
    },
    {
     "data": {
      "image/png": "[encoded data removed]",
      "text/plain": [
       "<Figure size 640x480 with 1 Axes>"
      ]
     },
     "metadata": {},
     "output_type": "display_data"
    }
   ],
   "source": [
    "# Plot the proportion of 'verified' reviews\n",
    "print(df['verified'].value_counts())\n",
    "df['verified'].value_counts(normalize=True).plot(kind='bar')"
   ]
  },
  {
   "cell_type": "code",
   "execution_count": 16,
   "id": "ee714c53962b16",
   "metadata": {
    "ExecuteTime": {
     "end_time": "2023-10-21T11:43:51.421691979Z",
     "start_time": "2023-10-21T11:43:50.895369819Z"
    },
    "collapsed": false
   },
   "outputs": [
    {
     "name": "stdout",
     "output_type": "stream",
     "text": [
      "<class 'pandas.core.frame.DataFrame'>\n",
      "Int64Index: 1366265 entries, 7 to 2839939\n",
      "Data columns (total 12 columns):\n",
      " #   Column          Non-Null Count    Dtype         \n",
      "---  ------          --------------    -----         \n",
      " 0   overall         1366265 non-null  float64       \n",
      " 1   verified        1366265 non-null  bool          \n",
      " 2   reviewTime      1366265 non-null  datetime64[ns]\n",
      " 3   reviewerID      1366265 non-null  object        \n",
      " 4   asin            1366265 non-null  object        \n",
      " 5   name            1366157 non-null  object        \n",
      " 6   reviewText      1365428 non-null  object        \n",
      " 7   summary         1365836 non-null  object        \n",
      " 8   unixReviewTime  1366265 non-null  int64         \n",
      " 9   style           833105 non-null   object        \n",
      " 10  vote            130472 non-null   object        \n",
      " 11  image           34211 non-null    object        \n",
      "dtypes: bool(1), datetime64[ns](1), float64(1), int64(1), object(8)\n",
      "memory usage: 126.4+ MB\n"
     ]
    }
   ],
   "source": [
    "# Drop review that are not verified\n",
    "df = df[df['verified'] == True]\n",
    "df.info()"
   ]
  },
  {
   "cell_type": "code",
   "execution_count": 17,
   "id": "51ceb32082f62e12",
   "metadata": {
    "ExecuteTime": {
     "end_time": "2023-10-21T11:43:52.181044851Z",
     "start_time": "2023-10-21T11:43:52.104378286Z"
    },
    "collapsed": false
   },
   "outputs": [
    {
     "data": {
      "text/plain": [
       "ASWTGWOE7YB9T     186\n",
       "A2MR7JGGFD394J    155\n",
       "A2L5D2ZY6GVBFA    150\n",
       "AH7N6S0PXB918     129\n",
       "AV0B6NGGOAISO     123\n",
       "                 ... \n",
       "A314N4ZW9GM045      1\n",
       "A2RGIK8XN052ZT      1\n",
       "A284T8UWDFARD7      1\n",
       "A34VWX657LS4CS      1\n",
       "A3TN0U64HONOPB      1\n",
       "Name: reviewerID, Length: 262085, dtype: int64"
      ]
     },
     "execution_count": 17,
     "metadata": {},
     "output_type": "execute_result"
    }
   ],
   "source": [
    "# Count the number of reviews per reviewer\n",
    "reviewer_count = df['reviewerID'].value_counts()\n",
    "reviewer_count"
   ]
  },
  {
   "cell_type": "code",
   "execution_count": 18,
   "id": "4a45f94426b6c907",
   "metadata": {
    "ExecuteTime": {
     "end_time": "2023-10-21T11:43:52.430687244Z",
     "start_time": "2023-10-21T11:43:52.187036792Z"
    },
    "collapsed": false
   },
   "outputs": [
    {
     "data": {
      "image/png": "[encoded data removed]",
      "text/plain": [
       "<Figure size 640x480 with 1 Axes>"
      ]
     },
     "metadata": {},
     "output_type": "display_data"
    }
   ],
   "source": [
    "# Plot the distribution of the number of reviews per reviewer  log scale with matplotlib\n",
    "import matplotlib.pyplot as plt\n",
    "import numpy as np\n",
    "\n",
    "plt.hist(reviewer_count, bins=20)\n",
    "plt.xlabel('log10 of number of reviews per reviewer')\n",
    "plt.ylabel('Number of reviewers')\n",
    "plt.yscale('log')\n",
    "plt.show()\n"
   ]
  },
  {
   "cell_type": "code",
   "execution_count": 19,
   "id": "4819cfc33d21d89e",
   "metadata": {
    "ExecuteTime": {
     "end_time": "2023-10-21T11:43:52.620380411Z",
     "start_time": "2023-10-21T11:43:52.414437984Z"
    },
    "collapsed": false
   },
   "outputs": [
    {
     "data": {
      "text/html": [
       "<div>\n",
       "<style scoped>\n",
       "    .dataframe tbody tr th:only-of-type {\n",
       "        vertical-align: middle;\n",
       "    }\n",
       "\n",
       "    .dataframe tbody tr th {\n",
       "        vertical-align: top;\n",
       "    }\n",
       "\n",
       "    .dataframe thead th {\n",
       "        text-align: right;\n",
       "    }\n",
       "</style>\n",
       "<table border=\"1\" class=\"dataframe\">\n",
       "  <thead>\n",
       "    <tr style=\"text-align: right;\">\n",
       "      <th></th>\n",
       "      <th>overall</th>\n",
       "      <th>reviewTime</th>\n",
       "      <th>reviewerID</th>\n",
       "      <th>asin</th>\n",
       "      <th>reviewText</th>\n",
       "      <th>unixReviewTime</th>\n",
       "    </tr>\n",
       "  </thead>\n",
       "  <tbody>\n",
       "    <tr>\n",
       "      <th>7</th>\n",
       "      <td>5.0</td>\n",
       "      <td>2016-12-27</td>\n",
       "      <td>ASAE9FBGAJQAH</td>\n",
       "      <td>0899332757</td>\n",
       "      <td>Arrived on time.  Nice Atlas - Easy to read.</td>\n",
       "      <td>1482796800</td>\n",
       "    </tr>\n",
       "    <tr>\n",
       "      <th>8</th>\n",
       "      <td>3.0</td>\n",
       "      <td>2016-12-12</td>\n",
       "      <td>A1TAW91SQSU2AH</td>\n",
       "      <td>0899332757</td>\n",
       "      <td>More of a road map than a useful topographical...</td>\n",
       "      <td>1481500800</td>\n",
       "    </tr>\n",
       "    <tr>\n",
       "      <th>9</th>\n",
       "      <td>5.0</td>\n",
       "      <td>2016-08-13</td>\n",
       "      <td>A1SVGO4GMEOXQ0</td>\n",
       "      <td>0899332757</td>\n",
       "      <td>Comprehensive atlas. Very happy with how much ...</td>\n",
       "      <td>1471046400</td>\n",
       "    </tr>\n",
       "    <tr>\n",
       "      <th>10</th>\n",
       "      <td>5.0</td>\n",
       "      <td>2016-08-02</td>\n",
       "      <td>A36QT6N7N0GF3O</td>\n",
       "      <td>0899332757</td>\n",
       "      <td>Delorme has always made the best book maps in ...</td>\n",
       "      <td>1470096000</td>\n",
       "    </tr>\n",
       "    <tr>\n",
       "      <th>12</th>\n",
       "      <td>5.0</td>\n",
       "      <td>2016-07-14</td>\n",
       "      <td>AJGZDX7KC5TVQ</td>\n",
       "      <td>0899332757</td>\n",
       "      <td>worked great on the trip around ny</td>\n",
       "      <td>1468454400</td>\n",
       "    </tr>\n",
       "  </tbody>\n",
       "</table>\n",
       "</div>"
      ],
      "text/plain": [
       "    overall reviewTime      reviewerID        asin  \\\n",
       "7       5.0 2016-12-27   ASAE9FBGAJQAH  0899332757   \n",
       "8       3.0 2016-12-12  A1TAW91SQSU2AH  0899332757   \n",
       "9       5.0 2016-08-13  A1SVGO4GMEOXQ0  0899332757   \n",
       "10      5.0 2016-08-02  A36QT6N7N0GF3O  0899332757   \n",
       "12      5.0 2016-07-14   AJGZDX7KC5TVQ  0899332757   \n",
       "\n",
       "                                           reviewText  unixReviewTime  \n",
       "7        Arrived on time.  Nice Atlas - Easy to read.      1482796800  \n",
       "8   More of a road map than a useful topographical...      1481500800  \n",
       "9   Comprehensive atlas. Very happy with how much ...      1471046400  \n",
       "10  Delorme has always made the best book maps in ...      1470096000  \n",
       "12                 worked great on the trip around ny      1468454400  "
      ]
     },
     "execution_count": 19,
     "metadata": {},
     "output_type": "execute_result"
    }
   ],
   "source": [
    "# Drop image, vote, verified columns\n",
    "df.drop(['image', 'vote', 'verified', 'name', 'summary', 'style'], axis=1, inplace=True)\n",
    "df.head()"
   ]
  },
  {
   "cell_type": "code",
   "execution_count": 21,
   "id": "9b6965514ca56683",
   "metadata": {
    "ExecuteTime": {
     "end_time": "2023-10-21T11:43:56.855592774Z",
     "start_time": "2023-10-21T11:43:52.617950947Z"
    },
    "collapsed": false
   },
   "outputs": [],
   "source": [
    "# Save the data frame to a csv file\n",
    "df.to_csv('../../project/Sports_and_Outdoors_5_2016_2018.csv', index=False)"
   ]
  },
  {
   "cell_type": "code",
   "execution_count": null,
   "id": "6755a5e4c9019354",
   "metadata": {
    "ExecuteTime": {
     "end_time": "2023-10-21T11:43:56.868353386Z",
     "start_time": "2023-10-21T11:43:56.858174048Z"
    },
    "collapsed": false
   },
   "outputs": [],
   "source": []
  }
 ],
 "metadata": {
  "kernelspec": {
   "display_name": "Python 3",
   "language": "python",
   "name": "python3"
  },
  "language_info": {
   "codemirror_mode": {
    "name": "ipython",
    "version": 3
   },
   "file_extension": ".py",
   "mimetype": "text/x-python",
   "name": "python",
   "nbconvert_exporter": "python",
   "pygments_lexer": "ipython3",
   "version": "3.10.9"
  }
 },
 "nbformat": 4,
 "nbformat_minor": 5
}
