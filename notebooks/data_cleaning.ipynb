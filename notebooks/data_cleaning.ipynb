{
 "cells": [
  {
   "cell_type": "code",
   "execution_count": 19,
   "id": "initial_id",
   "metadata": {
    "collapsed": true,
    "ExecuteTime": {
     "end_time": "2023-10-21T11:43:49.343354138Z",
     "start_time": "2023-10-21T11:43:17.956775904Z"
    }
   },
   "outputs": [],
   "source": [
    "import sys\n",
    "sys.path.append('../src')\n",
    "from utils import *\n",
    "import pandas as pd\n",
    "\n",
    "df = getDF('../data/Sports_and_Outdoors_5.json')"
   ]
  },
  {
   "cell_type": "code",
   "execution_count": 20,
   "outputs": [
    {
     "data": {
      "text/plain": "Index(['overall', 'verified', 'reviewTime', 'reviewerID', 'asin', 'name',\n       'reviewText', 'summary', 'unixReviewTime', 'style', 'vote', 'image'],\n      dtype='object')"
     },
     "execution_count": 20,
     "metadata": {},
     "output_type": "execute_result"
    }
   ],
   "source": [
    "df.columns"
   ],
   "metadata": {
    "collapsed": false,
    "ExecuteTime": {
     "end_time": "2023-10-21T11:43:49.396702657Z",
     "start_time": "2023-10-21T11:43:49.369371741Z"
    }
   },
   "id": "5bc990e974949ea5"
  },
  {
   "cell_type": "code",
   "execution_count": 21,
   "outputs": [
    {
     "data": {
      "text/plain": "0    1433289600\n1    1427846400\n2    1421107200\n3    1419292800\n4    1418601600\nName: unixReviewTime, dtype: int64"
     },
     "execution_count": 21,
     "metadata": {},
     "output_type": "execute_result"
    }
   ],
   "source": [
    "df.head() ['unixReviewTime']"
   ],
   "metadata": {
    "collapsed": false,
    "ExecuteTime": {
     "end_time": "2023-10-21T11:43:49.486825232Z",
     "start_time": "2023-10-21T11:43:49.393235023Z"
    }
   },
   "id": "15f25ef730ece75"
  },
  {
   "cell_type": "code",
   "execution_count": 22,
   "outputs": [
    {
     "data": {
      "text/plain": "0         2015-06-03\n1         2015-04-01\n2         2015-01-13\n3         2014-12-23\n4         2014-12-15\n             ...    \n2839935   2018-04-05\n2839936   2018-03-01\n2839937   2018-03-17\n2839938   2017-10-28\n2839939   2017-06-11\nName: reviewTime, Length: 2839940, dtype: datetime64[ns]"
     },
     "execution_count": 22,
     "metadata": {},
     "output_type": "execute_result"
    }
   ],
   "source": [
    "df['reviewTime'] = pd.to_datetime(df['unixReviewTime'], unit='s')\n",
    "df['reviewTime']"
   ],
   "metadata": {
    "collapsed": false,
    "ExecuteTime": {
     "end_time": "2023-10-21T11:43:49.548273726Z",
     "start_time": "2023-10-21T11:43:49.438172443Z"
    }
   },
   "id": "c6ad475c93554c74"
  },
  {
   "cell_type": "code",
   "execution_count": 23,
   "outputs": [
    {
     "data": {
      "text/plain": "0          2015\n1          2015\n2          2015\n3          2014\n4          2014\n           ... \n2839935    2018\n2839936    2018\n2839937    2018\n2839938    2017\n2839939    2017\nName: reviewTime, Length: 2839940, dtype: int32"
     },
     "execution_count": 23,
     "metadata": {},
     "output_type": "execute_result"
    }
   ],
   "source": [
    "df['reviewTime'].dt.year"
   ],
   "metadata": {
    "collapsed": false,
    "ExecuteTime": {
     "end_time": "2023-10-21T11:43:49.643439963Z",
     "start_time": "2023-10-21T11:43:49.550932523Z"
    }
   },
   "id": "c2b737c6c0d108de"
  },
  {
   "cell_type": "code",
   "execution_count": 24,
   "outputs": [
    {
     "data": {
      "text/plain": "<Axes: >"
     },
     "execution_count": 24,
     "metadata": {},
     "output_type": "execute_result"
    },
    {
     "data": {
      "text/plain": "<Figure size 640x480 with 1 Axes>",
      "image/png": "[encoded data removed]"
     },
     "metadata": {},
     "output_type": "display_data"
    }
   ],
   "source": [
    "# Plot distribution of dates    \n",
    "df['reviewTime'].dt.year.hist()"
   ],
   "metadata": {
    "collapsed": false,
    "ExecuteTime": {
     "end_time": "2023-10-21T11:43:49.862728905Z",
     "start_time": "2023-10-21T11:43:49.642590466Z"
    }
   },
   "id": "e16b739f78ea6312"
  },
  {
   "cell_type": "code",
   "execution_count": 25,
   "outputs": [
    {
     "data": {
      "text/plain": "2018"
     },
     "execution_count": 25,
     "metadata": {},
     "output_type": "execute_result"
    }
   ],
   "source": [
    "# Print max years\n",
    "df['reviewTime'].dt.year.max()"
   ],
   "metadata": {
    "collapsed": false,
    "ExecuteTime": {
     "end_time": "2023-10-21T11:43:49.875215248Z",
     "start_time": "2023-10-21T11:43:49.850367139Z"
    }
   },
   "id": "25db885499d650ab"
  },
  {
   "cell_type": "code",
   "execution_count": 26,
   "outputs": [
    {
     "data": {
      "text/plain": "reviewTime\n2000         1\n2001         1\n2002         5\n2003        17\n2004        28\n2005       130\n2006       507\n2007      1805\n2008      4081\n2009      8038\n2010     16075\n2011     36521\n2012     77363\n2013    218023\n2014    389390\n2015    622804\n2016    739220\n2017    521759\n2018    204172\nName: count, dtype: int64"
     },
     "execution_count": 26,
     "metadata": {},
     "output_type": "execute_result"
    }
   ],
   "source": [
    "# Count number of reviews per year\n",
    "count = df['reviewTime'].dt.year.value_counts()\n",
    "count.sort_index(inplace=True)\n",
    "count"
   ],
   "metadata": {
    "collapsed": false,
    "ExecuteTime": {
     "end_time": "2023-10-21T11:43:49.947174795Z",
     "start_time": "2023-10-21T11:43:49.870797752Z"
    }
   },
   "id": "3e4e576ac62d8d40"
  },
  {
   "cell_type": "code",
   "execution_count": 27,
   "outputs": [
    {
     "data": {
      "text/plain": "1465151"
     },
     "execution_count": 27,
     "metadata": {},
     "output_type": "execute_result"
    }
   ],
   "source": [
    "# Sum the number of reviews for years 2016-2018\n",
    "count[-3:].sum()"
   ],
   "metadata": {
    "collapsed": false,
    "ExecuteTime": {
     "end_time": "2023-10-21T11:43:49.948556548Z",
     "start_time": "2023-10-21T11:43:49.944260767Z"
    }
   },
   "id": "223b12adf4c16692"
  },
  {
   "cell_type": "code",
   "execution_count": 28,
   "outputs": [
    {
     "data": {
      "text/plain": "    overall  verified reviewTime      reviewerID        asin  \\\n6       5.0     False 2017-02-07   ANGLIGXJHXC6D  0899332757   \n7       5.0      True 2016-12-27   ASAE9FBGAJQAH  0899332757   \n8       3.0      True 2016-12-12  A1TAW91SQSU2AH  0899332757   \n9       5.0      True 2016-08-13  A1SVGO4GMEOXQ0  0899332757   \n10      5.0      True 2016-08-02  A36QT6N7N0GF3O  0899332757   \n\n                  name                                         reviewText  \\\n6      Amazon Customer                                            So cool   \n7      Joseph Micallef       Arrived on time.  Nice Atlas - Easy to read.   \n8       jordan s moore  More of a road map than a useful topographical...   \n9      Gregory Mahnken  Comprehensive atlas. Very happy with how much ...   \n10  Love is all I have  Delorme has always made the best book maps in ...   \n\n                                              summary  unixReviewTime  \\\n6                                             So cool      1486425600   \n7                           Nice Atlas - Easy to read      1482796800   \n8   Mostly a road atlas.  Well layed out and organ...      1481500800   \n9          Very happy with how much detail is in here      1471046400   \n10                                         Five Stars      1470096000   \n\n                        style vote image  \n6   {'Format:': ' Paperback'}  NaN   NaN  \n7   {'Format:': ' Paperback'}  NaN   NaN  \n8   {'Format:': ' Paperback'}  NaN   NaN  \n9   {'Format:': ' Paperback'}  NaN   NaN  \n10  {'Format:': ' Paperback'}  NaN   NaN  ",
      "text/html": "<div>\n<style scoped>\n    .dataframe tbody tr th:only-of-type {\n        vertical-align: middle;\n    }\n\n    .dataframe tbody tr th {\n        vertical-align: top;\n    }\n\n    .dataframe thead th {\n        text-align: right;\n    }\n</style>\n<table border=\"1\" class=\"dataframe\">\n  <thead>\n    <tr style=\"text-align: right;\">\n      <th></th>\n      <th>overall</th>\n      <th>verified</th>\n      <th>reviewTime</th>\n      <th>reviewerID</th>\n      <th>asin</th>\n      <th>name</th>\n      <th>reviewText</th>\n      <th>summary</th>\n      <th>unixReviewTime</th>\n      <th>style</th>\n      <th>vote</th>\n      <th>image</th>\n    </tr>\n  </thead>\n  <tbody>\n    <tr>\n      <th>6</th>\n      <td>5.0</td>\n      <td>False</td>\n      <td>2017-02-07</td>\n      <td>ANGLIGXJHXC6D</td>\n      <td>0899332757</td>\n      <td>Amazon Customer</td>\n      <td>So cool</td>\n      <td>So cool</td>\n      <td>1486425600</td>\n      <td>{'Format:': ' Paperback'}</td>\n      <td>NaN</td>\n      <td>NaN</td>\n    </tr>\n    <tr>\n      <th>7</th>\n      <td>5.0</td>\n      <td>True</td>\n      <td>2016-12-27</td>\n      <td>ASAE9FBGAJQAH</td>\n      <td>0899332757</td>\n      <td>Joseph Micallef</td>\n      <td>Arrived on time.  Nice Atlas - Easy to read.</td>\n      <td>Nice Atlas - Easy to read</td>\n      <td>1482796800</td>\n      <td>{'Format:': ' Paperback'}</td>\n      <td>NaN</td>\n      <td>NaN</td>\n    </tr>\n    <tr>\n      <th>8</th>\n      <td>3.0</td>\n      <td>True</td>\n      <td>2016-12-12</td>\n      <td>A1TAW91SQSU2AH</td>\n      <td>0899332757</td>\n      <td>jordan s moore</td>\n      <td>More of a road map than a useful topographical...</td>\n      <td>Mostly a road atlas.  Well layed out and organ...</td>\n      <td>1481500800</td>\n      <td>{'Format:': ' Paperback'}</td>\n      <td>NaN</td>\n      <td>NaN</td>\n    </tr>\n    <tr>\n      <th>9</th>\n      <td>5.0</td>\n      <td>True</td>\n      <td>2016-08-13</td>\n      <td>A1SVGO4GMEOXQ0</td>\n      <td>0899332757</td>\n      <td>Gregory Mahnken</td>\n      <td>Comprehensive atlas. Very happy with how much ...</td>\n      <td>Very happy with how much detail is in here</td>\n      <td>1471046400</td>\n      <td>{'Format:': ' Paperback'}</td>\n      <td>NaN</td>\n      <td>NaN</td>\n    </tr>\n    <tr>\n      <th>10</th>\n      <td>5.0</td>\n      <td>True</td>\n      <td>2016-08-02</td>\n      <td>A36QT6N7N0GF3O</td>\n      <td>0899332757</td>\n      <td>Love is all I have</td>\n      <td>Delorme has always made the best book maps in ...</td>\n      <td>Five Stars</td>\n      <td>1470096000</td>\n      <td>{'Format:': ' Paperback'}</td>\n      <td>NaN</td>\n      <td>NaN</td>\n    </tr>\n  </tbody>\n</table>\n</div>"
     },
     "execution_count": 28,
     "metadata": {},
     "output_type": "execute_result"
    }
   ],
   "source": [
    "# From the data frame, keep only reviews from 2016-2018\n",
    "df = df[df['reviewTime'].dt.year >= 2016]\n",
    "df.head()"
   ],
   "metadata": {
    "collapsed": false,
    "ExecuteTime": {
     "end_time": "2023-10-21T11:43:50.802974015Z",
     "start_time": "2023-10-21T11:43:49.949751950Z"
    }
   },
   "id": "f083274f9551f74b"
  },
  {
   "cell_type": "code",
   "execution_count": 29,
   "outputs": [
    {
     "name": "stdout",
     "output_type": "stream",
     "text": [
      "verified\n",
      "True     1366265\n",
      "False      98886\n",
      "Name: count, dtype: int64\n"
     ]
    },
    {
     "data": {
      "text/plain": "<Axes: xlabel='verified'>"
     },
     "execution_count": 29,
     "metadata": {},
     "output_type": "execute_result"
    },
    {
     "data": {
      "text/plain": "<Figure size 640x480 with 1 Axes>",
      "image/png": "[encoded data removed]"
     },
     "metadata": {},
     "output_type": "display_data"
    }
   ],
   "source": [
    "# Plot the proportion of 'verified' reviews\n",
    "print(df['verified'].value_counts())\n",
    "df['verified'].value_counts(normalize=True).plot(kind='bar')"
   ],
   "metadata": {
    "collapsed": false,
    "ExecuteTime": {
     "end_time": "2023-10-21T11:43:50.985696669Z",
     "start_time": "2023-10-21T11:43:50.789517165Z"
    }
   },
   "id": "350203065acb8be6"
  },
  {
   "cell_type": "code",
   "execution_count": 30,
   "outputs": [
    {
     "name": "stdout",
     "output_type": "stream",
     "text": [
      "<class 'pandas.core.frame.DataFrame'>\n",
      "Index: 1366265 entries, 7 to 2839939\n",
      "Data columns (total 12 columns):\n",
      " #   Column          Non-Null Count    Dtype         \n",
      "---  ------          --------------    -----         \n",
      " 0   overall         1366265 non-null  float64       \n",
      " 1   verified        1366265 non-null  bool          \n",
      " 2   reviewTime      1366265 non-null  datetime64[ns]\n",
      " 3   reviewerID      1366265 non-null  object        \n",
      " 4   asin            1366265 non-null  object        \n",
      " 5   name            1366157 non-null  object        \n",
      " 6   reviewText      1365428 non-null  object        \n",
      " 7   summary         1365836 non-null  object        \n",
      " 8   unixReviewTime  1366265 non-null  int64         \n",
      " 9   style           833105 non-null   object        \n",
      " 10  vote            130472 non-null   object        \n",
      " 11  image           34211 non-null    object        \n",
      "dtypes: bool(1), datetime64[ns](1), float64(1), int64(1), object(8)\n",
      "memory usage: 126.4+ MB\n"
     ]
    }
   ],
   "source": [
    "# Drop review that are not verified\n",
    "df = df[df['verified'] == True]\n",
    "df.info()"
   ],
   "metadata": {
    "collapsed": false,
    "ExecuteTime": {
     "end_time": "2023-10-21T11:43:51.421691979Z",
     "start_time": "2023-10-21T11:43:50.895369819Z"
    }
   },
   "id": "ee714c53962b16"
  },
  {
   "cell_type": "code",
   "execution_count": 31,
   "outputs": [
    {
     "data": {
      "text/plain": "reviewerID\nASWTGWOE7YB9T     186\nA2MR7JGGFD394J    155\nA2L5D2ZY6GVBFA    150\nAH7N6S0PXB918     129\nAV0B6NGGOAISO     123\n                 ... \nA314N4ZW9GM045      1\nA2RGIK8XN052ZT      1\nA284T8UWDFARD7      1\nA34VWX657LS4CS      1\nA3TN0U64HONOPB      1\nName: count, Length: 262085, dtype: int64"
     },
     "execution_count": 31,
     "metadata": {},
     "output_type": "execute_result"
    }
   ],
   "source": [
    "# Count the number of reviews per reviewer\n",
    "reviewer_count = df['reviewerID'].value_counts()\n",
    "reviewer_count"
   ],
   "metadata": {
    "collapsed": false,
    "ExecuteTime": {
     "end_time": "2023-10-21T11:43:52.181044851Z",
     "start_time": "2023-10-21T11:43:52.104378286Z"
    }
   },
   "id": "51ceb32082f62e12"
  },
  {
   "cell_type": "code",
   "execution_count": 32,
   "outputs": [
    {
     "data": {
      "text/plain": "<Figure size 640x480 with 1 Axes>",
      "image/png": "[encoded data removed]"
     },
     "metadata": {},
     "output_type": "display_data"
    }
   ],
   "source": [
    "# Plot the distribution of the number of reviews per reviewer  log scale with matplotlib\n",
    "import matplotlib.pyplot as plt\n",
    "import numpy as np\n",
    "\n",
    "plt.hist(reviewer_count, bins=20)\n",
    "plt.xlabel('log10 of number of reviews per reviewer')\n",
    "plt.ylabel('Number of reviewers')\n",
    "plt.yscale('log')\n",
    "plt.show()\n"
   ],
   "metadata": {
    "collapsed": false,
    "ExecuteTime": {
     "end_time": "2023-10-21T11:43:52.430687244Z",
     "start_time": "2023-10-21T11:43:52.187036792Z"
    }
   },
   "id": "4a45f94426b6c907"
  },
  {
   "cell_type": "code",
   "execution_count": 33,
   "outputs": [
    {
     "data": {
      "text/plain": "    overall reviewTime      reviewerID        asin  \\\n7       5.0 2016-12-27   ASAE9FBGAJQAH  0899332757   \n8       3.0 2016-12-12  A1TAW91SQSU2AH  0899332757   \n9       5.0 2016-08-13  A1SVGO4GMEOXQ0  0899332757   \n10      5.0 2016-08-02  A36QT6N7N0GF3O  0899332757   \n12      5.0 2016-07-14   AJGZDX7KC5TVQ  0899332757   \n\n                                           reviewText  unixReviewTime  \n7        Arrived on time.  Nice Atlas - Easy to read.      1482796800  \n8   More of a road map than a useful topographical...      1481500800  \n9   Comprehensive atlas. Very happy with how much ...      1471046400  \n10  Delorme has always made the best book maps in ...      1470096000  \n12                 worked great on the trip around ny      1468454400  ",
      "text/html": "<div>\n<style scoped>\n    .dataframe tbody tr th:only-of-type {\n        vertical-align: middle;\n    }\n\n    .dataframe tbody tr th {\n        vertical-align: top;\n    }\n\n    .dataframe thead th {\n        text-align: right;\n    }\n</style>\n<table border=\"1\" class=\"dataframe\">\n  <thead>\n    <tr style=\"text-align: right;\">\n      <th></th>\n      <th>overall</th>\n      <th>reviewTime</th>\n      <th>reviewerID</th>\n      <th>asin</th>\n      <th>reviewText</th>\n      <th>unixReviewTime</th>\n    </tr>\n  </thead>\n  <tbody>\n    <tr>\n      <th>7</th>\n      <td>5.0</td>\n      <td>2016-12-27</td>\n      <td>ASAE9FBGAJQAH</td>\n      <td>0899332757</td>\n      <td>Arrived on time.  Nice Atlas - Easy to read.</td>\n      <td>1482796800</td>\n    </tr>\n    <tr>\n      <th>8</th>\n      <td>3.0</td>\n      <td>2016-12-12</td>\n      <td>A1TAW91SQSU2AH</td>\n      <td>0899332757</td>\n      <td>More of a road map than a useful topographical...</td>\n      <td>1481500800</td>\n    </tr>\n    <tr>\n      <th>9</th>\n      <td>5.0</td>\n      <td>2016-08-13</td>\n      <td>A1SVGO4GMEOXQ0</td>\n      <td>0899332757</td>\n      <td>Comprehensive atlas. Very happy with how much ...</td>\n      <td>1471046400</td>\n    </tr>\n    <tr>\n      <th>10</th>\n      <td>5.0</td>\n      <td>2016-08-02</td>\n      <td>A36QT6N7N0GF3O</td>\n      <td>0899332757</td>\n      <td>Delorme has always made the best book maps in ...</td>\n      <td>1470096000</td>\n    </tr>\n    <tr>\n      <th>12</th>\n      <td>5.0</td>\n      <td>2016-07-14</td>\n      <td>AJGZDX7KC5TVQ</td>\n      <td>0899332757</td>\n      <td>worked great on the trip around ny</td>\n      <td>1468454400</td>\n    </tr>\n  </tbody>\n</table>\n</div>"
     },
     "execution_count": 33,
     "metadata": {},
     "output_type": "execute_result"
    }
   ],
   "source": [
    "# Drop image, vote, verified columns\n",
    "df.drop(['image', 'vote', 'verified', 'name', 'summary', 'style'], axis=1, inplace=True)\n",
    "df.head()"
   ],
   "metadata": {
    "collapsed": false,
    "ExecuteTime": {
     "end_time": "2023-10-21T11:43:52.620380411Z",
     "start_time": "2023-10-21T11:43:52.414437984Z"
    }
   },
   "id": "4819cfc33d21d89e"
  },
  {
   "cell_type": "code",
   "execution_count": 34,
   "outputs": [],
   "source": [
    "# Save the data frame to a csv file\n",
    "df.to_csv('../data/Sports_and_Outdoors_5_2016_2018.csv', index=False)"
   ],
   "metadata": {
    "collapsed": false,
    "ExecuteTime": {
     "end_time": "2023-10-21T11:43:56.855592774Z",
     "start_time": "2023-10-21T11:43:52.617950947Z"
    }
   },
   "id": "9b6965514ca56683"
  },
  {
   "cell_type": "code",
   "execution_count": 34,
   "outputs": [],
   "source": [],
   "metadata": {
    "collapsed": false,
    "ExecuteTime": {
     "end_time": "2023-10-21T11:43:56.868353386Z",
     "start_time": "2023-10-21T11:43:56.858174048Z"
    }
   },
   "id": "6755a5e4c9019354"
  }
 ],
 "metadata": {
  "kernelspec": {
   "display_name": "Python 3",
   "language": "python",
   "name": "python3"
  },
  "language_info": {
   "codemirror_mode": {
    "name": "ipython",
    "version": 2
   },
   "file_extension": ".py",
   "mimetype": "text/x-python",
   "name": "python",
   "nbconvert_exporter": "python",
   "pygments_lexer": "ipython2",
   "version": "2.7.6"
  }
 },
 "nbformat": 4,
 "nbformat_minor": 5
}
